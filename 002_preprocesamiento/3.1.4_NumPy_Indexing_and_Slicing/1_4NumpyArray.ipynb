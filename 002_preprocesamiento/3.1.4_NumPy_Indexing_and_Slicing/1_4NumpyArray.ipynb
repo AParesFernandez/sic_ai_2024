{
  "nbformat": 4,
  "nbformat_minor": 0,
  "metadata": {
    "colab": {
      "private_outputs": true,
      "provenance": [],
      "toc_visible": true,
      "include_colab_link": true
    },
    "kernelspec": {
      "name": "python3",
      "display_name": "Python 3"
    },
    "language_info": {
      "name": "python"
    }
  },
  "cells": [
    {
      "cell_type": "markdown",
      "metadata": {
        "id": "view-in-github",
        "colab_type": "text"
      },
      "source": [
        "<a href=\"https://colab.research.google.com/github/Termitodecafe/sic_ai_2024/blob/main/1_4NumpyArray.ipynb\" target=\"_parent\"><img src=\"https://colab.research.google.com/assets/colab-badge.svg\" alt=\"Open In Colab\"/></a>"
      ]
    },
    {
      "cell_type": "markdown",
      "source": [
        "\n",
        "#Explicación Detallada\n",
        "\n",
        "#### Array Unidimensional:\n",
        "- `arr[0]`: Selecciona el primer elemento.\n",
        "- `arr[-1]`: Selecciona el último elemento.\n",
        "- `arr[1:4]`: Selecciona elementos desde el índice 1 hasta el 3 (excluyendo el 4).\n",
        "- `arr[:3]`: Selecciona los primeros tres elementos.\n",
        "- `arr[::2]`: Selecciona cada segundo elemento del array.\n",
        "\n",
        "#### Array con Condiciones:\n",
        "- `arr[arr > 30]`: Selecciona elementos mayores que 30.\n",
        "- `arr[indices]`: Selecciona elementos en los índices especificados.\n",
        "- `arr[arr % 2 == 0]`: Selecciona elementos pares.\n",
        "\n",
        "#### Array 2D:\n",
        "- `arr2D[1:, :2]`: Selecciona todas las filas a partir de la segunda, y las dos primeras columnas.\n",
        "- `array2D[:2]`: Selecciona las dos primeras filas.\n",
        "- `array2D[1, :2]`: Selecciona la segunda fila y las dos primeras columnas.\n",
        "\n",
        "#### Array con Strings:\n",
        "- `array2dS == 'abb'`: Crea una máscara booleana para elementos que son iguales a 'abb'.\n",
        "- `array2dS[array2dS == 'abb']`: Selecciona elementos que cumplen con la condición.\n",
        "\n",
        "#### Array 3D:\n",
        "- `array3D`: Crea un array 3D de ceros.\n",
        "- `array3D[i] = i`: Llena el array con valores en un ciclo.\n",
        "- `array3D[[4, 3, 2, 1]]`: Selecciona filas en el orden especificado.\n",
        "- `array3D[[-1, -2, -3, -4]]`: Selecciona filas en orden inverso.\n",
        "\n",
        "#### Máscaras Booleanas y Condiciones Combinadas:\n",
        "- `arrMask = (array2D % 5 == 0)`: Crea una máscara booleana para elementos divisibles por 5.\n",
        "- `array2D[arrMask]`: Selecciona elementos que cumplen con la máscara booleana.\n",
        "- `Mask1 = (array2D > 5)`: Máscara booleana para elementos mayores que 5.\n",
        "- `Mask2 = (array2D % 2 == 0)`: Máscara booleana para elementos pares.\n",
        "- `array2D[Mask1 & Mask2]`: Selecciona elementos que cumplen con ambas condiciones.\n",
        "\n"
      ],
      "metadata": {
        "id": "u8nsVhRBoTsN"
      }
    },
    {
      "cell_type": "code",
      "source": [
        "# Celda 1: Importar la biblioteca numpy\n",
        "import numpy as np"
      ],
      "metadata": {
        "id": "pE2V9G0Op4xU"
      },
      "execution_count": null,
      "outputs": []
    },
    {
      "cell_type": "code",
      "source": [
        "# Celda 2: Array Unidimensional\n",
        "# Crear un array unidimensional de ejemplo\n",
        "arr = np.array([1, 2, 3, 4, 5])\n",
        "print(\"--------------\") #separecion\n",
        "# Acceder al primer elemento del array (índice 0)\n",
        "print(arr[0])  # Imprime 1\n",
        "print(\"--------------\") #separecion\n",
        "# Acceder al último elemento del array usando un índice negativo (-1)\n",
        "print(arr[-1]) # Imprime 5\n",
        "print(\"--------------\") #separecion\n",
        "# Acceder a un rango de elementos del array (índices 1 a 3, excluyendo el 4)\n",
        "print(arr[1:4])  # Imprime [2, 3, 4]\n",
        "print(\"--------------\") #separecion\n",
        "# Acceder a todos los elementos desde el inicio hasta el índice 3 (excluyendo el 3)\n",
        "print(arr[:3])   # Imprime [1, 2, 3]\n",
        "print(\"--------------\") #separecion\n",
        "# Acceder a los elementos del array con un paso específico (cada 2 elementos)\n",
        "print(arr[::2])  # Imprime [1, 3, 5]\n",
        "print(\"--------------\") #separecion"
      ],
      "metadata": {
        "id": "-ED45wdRp7Es"
      },
      "execution_count": null,
      "outputs": []
    },
    {
      "cell_type": "code",
      "source": [
        "# Celda 3: Array con Condiciones\n",
        "# Crear otro array de ejemplo\n",
        "arr = np.array([10, 20, 30, 40, 50])\n",
        "print(\"--------------\") #separecion\n",
        "# Acceder a elementos que cumplen con una condición (elementos mayores que 30)\n",
        "print(arr[arr > 30])  # Imprime [40, 50]\n",
        "print(\"--------------\") #separecion\n",
        "# Crear un array con índices específicos\n",
        "indices = arr[1][3]\n",
        "print(arr[indices])  # Imprime [20, 40]\n",
        "print(\"--------------\") #separecion\n",
        "# Acceder a elementos que cumplen con una condición (números pares)\n",
        "print(arr[arr % 2 == 0])  # Imprime [10, 20, 30, 40, 50]\n",
        "print(\"--------------\") #separecion"
      ],
      "metadata": {
        "id": "JeIANv13p9Mb"
      },
      "execution_count": null,
      "outputs": []
    },
    {
      "cell_type": "code",
      "source": [
        "# Celda 4: Array 2D\n",
        "# Crear un array 2D de ejemplo\n",
        "arr2D = np.array([[1, 2, 3], [4, 5, 6], [7, 8, 9]])\n",
        "print(\"--------------\") #separecion\n",
        "# Acceder a una submatriz del array 2D (filas 1 y 2, columnas 0 y 1)\n",
        "print(arr2D[1:, :2])  # Imprime [[4, 5], [7, 8]]\n",
        "print(\"--------------\") #separecion\n",
        "# Acceder a todas las filas hasta la fila 2 (excluyendo la fila 2)\n",
        "print(arr2D[:2])      # Imprime [[1, 2, 3], [4, 5, 6]]\n",
        "print(\"--------------\") #separecion\n",
        "# Acceder a la segunda fila, columnas hasta la columna 2 (excluyendo la columna 2)\n",
        "print(arr2D[1, :2])  # Imprime [4, 5]\n",
        "print(\"--------------\") #separecion"
      ],
      "metadata": {
        "id": "ImJ4E5QUqAEm"
      },
      "execution_count": null,
      "outputs": []
    },
    {
      "cell_type": "code",
      "source": [
        "# Celda 5: Array con Strings\n",
        "# Crear un array con strings de ejemplo\n",
        "array2dS = np.array(['abb', 'bbb', 'abb', 'dbb', 'ebb'])\n",
        "\n",
        "# Imprimir el array completo\n",
        "print(array2dS)\n",
        "print(\"--------------\") #separecion\n",
        "# Crear una máscara booleana para elementos que son iguales a 'abb'\n",
        "array2dS_bool = array2dS == 'abb'\n",
        "print(array2dS_bool)  # Imprime la máscara booleana\n",
        "print(\"--------------\") #separecion\n",
        "# Seleccionar elementos usando la máscara booleana\n",
        "print(array2dS[array2dS == 'abb'])  # Imprime los elementos que son iguales a 'abb'\n",
        "print(\"--------------\") #separecion"
      ],
      "metadata": {
        "id": "dQDjnyJXqEwV"
      },
      "execution_count": null,
      "outputs": []
    },
    {
      "cell_type": "code",
      "source": [
        "# Celda 6: Array 3D\n",
        "# Crear un array 3D de ceros\n",
        "array3D = np.zeros((8, 4))\n",
        "print(array3D)  # Imprime el array 3D de ceros\n",
        "print(\"--------------\") #separecion\n",
        "# Llenar el array 3D con valores de 0 a 7 usando un ciclo for\n",
        "for i in range(8):\n",
        "    array3D[i] = i\n",
        "print(array3D)  # Imprime el array 3D lleno de valores\n",
        "print(\"--------------\") #separecion\n",
        "# Acceder a elementos con un índice específico usando fancy indexing\n",
        "print(array3D[[4, 3, 2, 1]])  # Imprime filas en el orden especificado\n",
        "print(\"--------------\") #separecion\n",
        "# Acceder a elementos con índices negativos usando fancy indexing\n",
        "print(array3D[[-1, -2, -3, -4]])  # Imprime filas en orden inverso\n",
        "print(\"--------------\") #separecion"
      ],
      "metadata": {
        "id": "2QIEIObJqHH9"
      },
      "execution_count": null,
      "outputs": []
    },
    {
      "cell_type": "code",
      "source": [
        "# Celda 7: Máscaras Booleanas y Condiciones Combinadas\n",
        "# Crear un array 2D de ejemplo\n",
        "array2D = np.arange(1, 10).reshape(3, 3)\n",
        "print(array2D)\n",
        "print(\"--------------\") #separecion\n",
        "# Crear una máscara booleana para elementos divisibles por 5\n",
        "arrMask = (array2D % 5 == 0)\n",
        "print(arrMask)  # Imprime la máscara booleana para elementos divisibles por 5\n",
        "print(\"--------------\") #separecion\n",
        "# Seleccionar elementos que cumplen con la máscara booleana\n",
        "print(array2D[arrMask])  # Imprime elementos que cumplen con la máscara booleana\n",
        "print(\"--------------\") #separecion\n",
        "# Crear una máscara booleana para elementos mayores que 5\n",
        "Mask1 = (array2D > 5)\n",
        "\n",
        "# Crear una máscara booleana para elementos pares\n",
        "Mask2 = (array2D % 2 == 0)\n",
        "\n",
        "# Seleccionar elementos que cumplen con ambas condiciones\n",
        "print(array2D[Mask1 & Mask2])  # Imprime elementos que cumplen con ambas condiciones\n",
        "print(\"--------------\") #separecion"
      ],
      "metadata": {
        "id": "mRzE9E3UqJOZ"
      },
      "execution_count": null,
      "outputs": []
    }
  ]
}