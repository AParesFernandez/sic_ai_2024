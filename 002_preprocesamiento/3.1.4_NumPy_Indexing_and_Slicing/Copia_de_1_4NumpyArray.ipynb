{
  "nbformat": 4,
  "nbformat_minor": 0,
  "metadata": {
    "colab": {
      "private_outputs": true,
      "provenance": []
    },
    "kernelspec": {
      "name": "python3",
      "display_name": "Python 3"
    },
    "language_info": {
      "name": "python"
    }
  },
  "cells": [
    {
      "cell_type": "code",
      "execution_count": null,
      "metadata": {
        "id": "EcKfIKchbVC9"
      },
      "outputs": [],
      "source": [
        "import numpy as np\n",
        "arr = np.array([1, 2, 3, 4, 5])\n",
        "print(arr[0])  # Imprime 1\n",
        "print(arr[-1]) # Imprime 5"
      ]
    },
    {
      "cell_type": "code",
      "source": [
        "arr = np.array([1, 2, 3, 4, 5])\n",
        "print(arr[1:4])  # Imprime [2, 3, 4]\n",
        "print(arr[:3])   # Imprime [1, 2, 3]\n",
        "print(arr[::2])  # Imprime [1, 3, 5]"
      ],
      "metadata": {
        "id": "twAN0j0MbaZF"
      },
      "execution_count": null,
      "outputs": []
    },
    {
      "cell_type": "code",
      "source": [
        "arr = np.array([1, 2, 3, 4, 5])\n",
        "print(arr[arr<=4])  # Imprime [1,2,3,4]"
      ],
      "metadata": {
        "id": "DvpVUSjybc6I"
      },
      "execution_count": null,
      "outputs": []
    },
    {
      "cell_type": "code",
      "source": [
        "arr = np.array([10, 20, 30, 40, 50])\n",
        "indices = [1, 3]\n",
        "print(arr[indices])  # Imprime [20, 40]"
      ],
      "metadata": {
        "id": "zWdWPG3Xbg6K"
      },
      "execution_count": null,
      "outputs": []
    },
    {
      "cell_type": "code",
      "source": [
        "arr = np.array([1, 2, 3, 4, 5])\n",
        "print(arr[arr % 2 == 0])  # Imprime [2, 4]"
      ],
      "metadata": {
        "id": "UQnPltxcbkGf"
      },
      "execution_count": null,
      "outputs": []
    },
    {
      "cell_type": "code",
      "source": [
        "arr = np.array([[1, 2, 3], [4, 5, 6], [7, 8, 9]])\n",
        "print(arr[1:, :2])  # Imprime [[4, 5], [7, 8]]"
      ],
      "metadata": {
        "id": "6qe2uznWblPs"
      },
      "execution_count": null,
      "outputs": []
    },
    {
      "cell_type": "code",
      "source": [
        "arr = np.array([10, 20, 30, 40, 50])\n",
        "indices = [0, 2, 4]\n",
        "print(arr[indices])  # Imprime [10, 30, 50]"
      ],
      "metadata": {
        "id": "CEBxnVaHboJp"
      },
      "execution_count": null,
      "outputs": []
    },
    {
      "cell_type": "code",
      "source": [
        "arr = np.array([10, 20, 30, 40, 50])\n",
        "boolean_idx = arr > 25\n",
        "print(arr[boolean_idx])  # Imprime [30, 40, 50]\n",
        "\n",
        "fancy_idx = np.array([0, 2, 4])\n",
        "print(arr[fancy_idx])  # Imprime [10, 30, 50]"
      ],
      "metadata": {
        "id": "8_5mTa2dbqxM"
      },
      "execution_count": null,
      "outputs": []
    },
    {
      "cell_type": "code",
      "source": [
        "# Crear un array de ejemplo\n",
        "array = np.array([10, 20, 30, 40, 50, 60, 70, 80, 90, 100])\n",
        "\n",
        "# Acceder a un rango de elementos\n",
        "subset = array[2:5]  # Selecciona los elementos desde el índice 2 hasta el 4 (5-1)\n",
        "\n",
        "print(\"Array original:\", array)\n",
        "print(\"Subconjunto (índices 2 a 4):\", subset)\n",
        "\n",
        "# Acceder a elementos desde un índice hasta el final\n",
        "subset_from_index = array[3:]  # Selecciona todos los elementos desde el índice 3 hasta el final\n",
        "\n",
        "print(\"Subconjunto (índices 3 hasta el final):\", subset_from_index)\n",
        "\n",
        "# Acceder a elementos desde el inicio hasta un índice específico\n",
        "subset_to_index = array[:4]  # Selecciona todos los elementos desde el inicio hasta el índice 3 (4-1)\n",
        "\n",
        "print(\"Subconjunto (inicio hasta el índice 3):\", subset_to_index)\n",
        "\n",
        "# Acceder a elementos con un paso específico\n",
        "subset_step = array[1:8:2]  # Selecciona elementos desde el índice 1 hasta el 7 (8-1) con un paso de 2\n",
        "\n",
        "print(\"Subconjunto (índices 1 a 7 con paso 2):\", subset_step)\n",
        "\n",
        "# Acceder a elementos con un paso negativo (reversa)\n",
        "reverse_subset = array[::-1]  # Selecciona todos los elementos en orden inverso\n",
        "\n",
        "print(\"Array en orden inverso:\", reverse_subset)"
      ],
      "metadata": {
        "id": "UNdfTKyCbtY6"
      },
      "execution_count": null,
      "outputs": []
    },
    {
      "cell_type": "code",
      "source": [
        "array2D = np.arange(1,10).reshape(3,3)\n",
        "print(array2D)"
      ],
      "metadata": {
        "id": "NGsXcAcGdXZp"
      },
      "execution_count": null,
      "outputs": []
    },
    {
      "cell_type": "code",
      "source": [
        "print(array2D[:2])"
      ],
      "metadata": {
        "id": "8yVd2qzXd4cj"
      },
      "execution_count": null,
      "outputs": []
    },
    {
      "cell_type": "code",
      "source": [
        "print(array2D[:1, 1:])"
      ],
      "metadata": {
        "id": "9m5k5esmd8-p"
      },
      "execution_count": null,
      "outputs": []
    },
    {
      "cell_type": "code",
      "source": [
        "print(array2D[1, :2])"
      ],
      "metadata": {
        "id": "twsJv2w_eMkk"
      },
      "execution_count": null,
      "outputs": []
    },
    {
      "cell_type": "code",
      "source": [
        "#Ahora creamos un array con string y ver booleanos\n",
        "array2dS = np.array(['abb', 'bbb', 'abb', 'dbb', 'ebb'])\n",
        "print(array2dS)"
      ],
      "metadata": {
        "id": "q7KuLSrIemej"
      },
      "execution_count": null,
      "outputs": []
    },
    {
      "cell_type": "code",
      "source": [
        "array2dS_bool = array2dS == 'abb'\n",
        "print(array2dS)\n",
        "print(array2dS_bool)"
      ],
      "metadata": {
        "id": "rN-AvzrBex5Y"
      },
      "execution_count": null,
      "outputs": []
    },
    {
      "cell_type": "code",
      "source": [
        "array2dS[array2dS=='abb']"
      ],
      "metadata": {
        "id": "4bJXtccTe8xN"
      },
      "execution_count": null,
      "outputs": []
    },
    {
      "cell_type": "code",
      "source": [
        "#llenados de arrays 3d con 0\n",
        "array3D = np.zeros((5,4))\n",
        "print(array3D)"
      ],
      "metadata": {
        "id": "CdBhG8K1fQhP"
      },
      "execution_count": null,
      "outputs": []
    },
    {
      "cell_type": "code",
      "source": [
        "#llenar el array anterior desde 1 a 8 con ciclo for\n",
        "for i in range(5):\n",
        "    for j in range(4):\n",
        "        array3D[i,j] = i+1\n",
        "print(array3D)"
      ],
      "metadata": {
        "id": "-ZeiMOFSfYvf"
      },
      "execution_count": null,
      "outputs": []
    },
    {
      "cell_type": "code",
      "source": [
        "for i in range(5):\n",
        "    for j in range(4):\n",
        "        print(int(array3D[i][j]), end = \" \")\n",
        "    print()"
      ],
      "metadata": {
        "id": "ZsEpV9MchlRY"
      },
      "execution_count": null,
      "outputs": []
    }
  ]
}