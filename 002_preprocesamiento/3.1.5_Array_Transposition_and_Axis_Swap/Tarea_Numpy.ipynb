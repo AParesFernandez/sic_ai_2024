{
  "nbformat": 4,
  "nbformat_minor": 0,
  "metadata": {
    "colab": {
      "provenance": [],
      "authorship_tag": "ABX9TyOvuqfH5PzIspoiQHsKgiAx",
      "include_colab_link": true
    },
    "kernelspec": {
      "name": "python3",
      "display_name": "Python 3"
    },
    "language_info": {
      "name": "python"
    }
  },
  "cells": [
    {
      "cell_type": "markdown",
      "metadata": {
        "id": "view-in-github",
        "colab_type": "text"
      },
      "source": [
        "<a href=\"https://colab.research.google.com/github/G0r3s170/sic_ai_2024/blob/main/Tarea_Numpy.ipynb\" target=\"_parent\"><img src=\"https://colab.research.google.com/assets/colab-badge.svg\" alt=\"Open In Colab\"/></a>"
      ]
    },
    {
      "cell_type": "code",
      "execution_count": 18,
      "metadata": {
        "colab": {
          "base_uri": "https://localhost:8080/"
        },
        "id": "MU0dJnQPWwDj",
        "outputId": "f7f5b17e-259b-48a0-e9cf-39d7f075459e"
      },
      "outputs": [
        {
          "output_type": "stream",
          "name": "stdout",
          "text": [
            "[[0 0 0 0 0 0 0 0 0 0 0 0]\n",
            " [0 0 0 0 0 0 0 0 0 0 0 0]\n",
            " [0 0 0 0 0 0 0 0 0 0 0 0]\n",
            " [0 0 0 0 0 0 0 0 0 0 0 0]\n",
            " [0 0 0 0 0 0 0 0 0 0 0 0]]\n",
            "\n",
            " [[0 0 0 0 0]\n",
            " [0 0 0 0 0]\n",
            " [0 0 0 0 0]\n",
            " [0 0 0 0 0]\n",
            " [0 0 0 0 0]\n",
            " [0 0 0 0 0]\n",
            " [0 0 0 0 0]\n",
            " [0 0 0 0 0]\n",
            " [0 0 0 0 0]\n",
            " [0 0 0 0 0]\n",
            " [0 0 0 0 0]\n",
            " [0 0 0 0 0]]\n",
            "\n",
            " [[[ 0  1  2  3]\n",
            "  [ 4  5  6  7]]\n",
            "\n",
            " [[ 8  9 10 11]\n",
            "  [12 13 14 15]]\n",
            "\n",
            " [[16 17 18 19]\n",
            "  [20 21 22 23]]]\n",
            "\n",
            " [[[ 0  1  2  3]\n",
            "  [ 4  5  6  7]]\n",
            "\n",
            " [[ 8  9 10 11]\n",
            "  [12 13 14 15]]\n",
            "\n",
            " [[16 17 18 19]\n",
            "  [20 21 22 23]]]\n",
            "\n",
            " [[[ 0  1  2  3]\n",
            "  [ 8  9 10 11]\n",
            "  [16 17 18 19]]\n",
            "\n",
            " [[ 4  5  6  7]\n",
            "  [12 13 14 15]\n",
            "  [20 21 22 23]]] \n",
            "\n",
            " [[[ 0  4]\n",
            "  [ 8 12]\n",
            "  [16 20]]\n",
            "\n",
            " [[ 1  5]\n",
            "  [ 9 13]\n",
            "  [17 21]]\n",
            "\n",
            " [[ 2  6]\n",
            "  [10 14]\n",
            "  [18 22]]\n",
            "\n",
            " [[ 3  7]\n",
            "  [11 15]\n",
            "  [19 23]]]\n"
          ]
        }
      ],
      "source": [
        "'''\n",
        "Buenos dias, tarde, noches\n",
        "Nuestro grupo le tocó trbajar con Transposición de Arrays e intercambios de ejes.\n",
        "Para esto primeros debemos importar la librería y utilizar los métodos \"transpose()\" o el método abreviado \"T\"\n",
        "'''\n",
        "import numpy as np\n",
        "\n",
        "Arreglo_base = np.zeros((60), dtype=np.int32).reshape(5,12)\n",
        "print(Arreglo_base)\n",
        "\n",
        "Arreglo_base_traspuesto = Arreglo_base.T\n",
        "print(f\"\\n {Arreglo_base_traspuesto}\")\n",
        "\n",
        "#utilizando el método transpose(), existe más fuerza para la ejecución.\n",
        "\n",
        "Arreglo_transpose = np.arange(24).reshape((3,2,4))\n",
        "print(f\"\\n {Arreglo_transpose}\")\n",
        "\n",
        "Arreglo_transpose_T1 = Arreglo_transpose.transpose((0,1,2))\n",
        "#x, y, z\n",
        "\n",
        "Arreglo_transpose_T2 = Arreglo_transpose.transpose((1,0,2))\n",
        "#y, x, z\n",
        "\n",
        "Arreglo_transpose_T3 = Arreglo_transpose.transpose((2,0,1))\n",
        "\n",
        "print(f\"\\n {Arreglo_transpose_T1}\\n\\n {Arreglo_transpose_T2} \\n\\n {Arreglo_transpose_T3}\")"
      ]
    },
    {
      "cell_type": "code",
      "source": [
        "'''\n",
        "Por otro lado para poder utilizar el Swapaxis(), método para cambio de ejes, se aplicaría en matrices de más de 2 dimensiones para cambiar eje x,y,z por eje y,x,z por ejemplo.\n",
        "Utilizando la misma matriz anterior \"Arreglo_transpose\" que guardaremos ahora como \"Arreglo_axes\"\n",
        "'''\n",
        "\n",
        "Arreglo_axes = Arreglo_transpose\n",
        "Arreglo_axes_swaped = Arreglo_axes.swapaxes(0,2)\n",
        "print(f\"Array Base\\n {Arreglo_axes}\\n\\nArray con ejes cambiados con 'swapaxes' \\n{Arreglo_axes_swaped}\")"
      ],
      "metadata": {
        "colab": {
          "base_uri": "https://localhost:8080/"
        },
        "id": "jtkir1NQeA_y",
        "outputId": "4e3d9801-fd75-46f3-b17f-78d02d90ef21"
      },
      "execution_count": 22,
      "outputs": [
        {
          "output_type": "stream",
          "name": "stdout",
          "text": [
            "Array Base\n",
            " [[[ 0  1  2  3]\n",
            "  [ 4  5  6  7]]\n",
            "\n",
            " [[ 8  9 10 11]\n",
            "  [12 13 14 15]]\n",
            "\n",
            " [[16 17 18 19]\n",
            "  [20 21 22 23]]]\n",
            "\n",
            "Array con ejes cambiados con 'swapaxes' \n",
            "[[[ 0  8 16]\n",
            "  [ 4 12 20]]\n",
            "\n",
            " [[ 1  9 17]\n",
            "  [ 5 13 21]]\n",
            "\n",
            " [[ 2 10 18]\n",
            "  [ 6 14 22]]\n",
            "\n",
            " [[ 3 11 19]\n",
            "  [ 7 15 23]]]\n"
          ]
        }
      ]
    },
    {
      "cell_type": "code",
      "source": [
        "!git add \"Tarea Numpy\".ipynb"
      ],
      "metadata": {
        "colab": {
          "base_uri": "https://localhost:8080/"
        },
        "id": "5srwBNw8o-BS",
        "outputId": "45d0cc3b-dfc5-46d9-ed93-9fd7af5cfaf4"
      },
      "execution_count": 28,
      "outputs": [
        {
          "output_type": "stream",
          "name": "stdout",
          "text": [
            "fatal: not a git repository (or any of the parent directories): .git\n"
          ]
        }
      ]
    }
  ]
}