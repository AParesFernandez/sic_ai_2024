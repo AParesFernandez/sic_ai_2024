{
 "cells": [
  {
   "cell_type": "markdown",
   "metadata": {},
   "source": [
    "Yael Hasson, Kiara Villarroel, Paulina Salinas, Mariela Ubilla"
   ]
  },
  {
   "cell_type": "code",
   "execution_count": 3,
   "metadata": {},
   "outputs": [],
   "source": [
    "import numpy as np"
   ]
  },
  {
   "cell_type": "code",
   "execution_count": 4,
   "metadata": {},
   "outputs": [
    {
     "data": {
      "text/plain": [
       "array([[0, 1],\n",
       "       [2, 3]])"
      ]
     },
     "execution_count": 4,
     "metadata": {},
     "output_type": "execute_result"
    }
   ],
   "source": [
    "A = np.array([0, 1, 2, 3]).reshape(2,2)\n",
    "A"
   ]
  },
  {
   "cell_type": "code",
   "execution_count": 2,
   "metadata": {},
   "outputs": [
    {
     "data": {
      "text/plain": [
       "array([[3, 2],\n",
       "       [0, 1]])"
      ]
     },
     "execution_count": 2,
     "metadata": {},
     "output_type": "execute_result"
    }
   ],
   "source": [
    "B = np.array([3, 2, 0, 1]).reshape(2,2)\n",
    "B"
   ]
  },
  {
   "cell_type": "code",
   "execution_count": 5,
   "metadata": {},
   "outputs": [
    {
     "data": {
      "text/plain": [
       "array([[0, 1],\n",
       "       [6, 7]])"
      ]
     },
     "execution_count": 5,
     "metadata": {},
     "output_type": "execute_result"
    }
   ],
   "source": [
    "#multiplicación\n",
    "A.dot(B)"
   ]
  },
  {
   "cell_type": "code",
   "execution_count": 6,
   "metadata": {},
   "outputs": [
    {
     "data": {
      "text/plain": [
       "array([[0, 2],\n",
       "       [1, 3]])"
      ]
     },
     "execution_count": 6,
     "metadata": {},
     "output_type": "execute_result"
    }
   ],
   "source": [
    "np.transpose(A)"
   ]
  },
  {
   "cell_type": "markdown",
   "metadata": {},
   "source": [
    "básicamente, se dan vuelta las columnas y filas, quedando convertida el 0 y 1 que eran psrte de la fila 1 cpnveridos en la columna 1, lo mismo con la segunda fila que se cambia a columna"
   ]
  },
  {
   "cell_type": "code",
   "execution_count": 7,
   "metadata": {},
   "outputs": [
    {
     "data": {
      "text/plain": [
       "array([[3, 0],\n",
       "       [2, 1]])"
      ]
     },
     "execution_count": 7,
     "metadata": {},
     "output_type": "execute_result"
    }
   ],
   "source": [
    "B.transpose()"
   ]
  },
  {
   "cell_type": "markdown",
   "metadata": {},
   "source": [
    "es otra forma de efectuar la misma acción que la anteriormente ejecutada, que es cambiar el orden dimensional de una ndarray"
   ]
  },
  {
   "cell_type": "code",
   "execution_count": 4,
   "metadata": {},
   "outputs": [],
   "source": [
    "arr=np.arange(15).reshape((3,5))"
   ]
  },
  {
   "cell_type": "code",
   "execution_count": 5,
   "metadata": {},
   "outputs": [
    {
     "data": {
      "text/plain": [
       "array([[ 0,  1,  2,  3,  4],\n",
       "       [ 5,  6,  7,  8,  9],\n",
       "       [10, 11, 12, 13, 14]])"
      ]
     },
     "execution_count": 5,
     "metadata": {},
     "output_type": "execute_result"
    }
   ],
   "source": [
    "arr"
   ]
  },
  {
   "cell_type": "code",
   "execution_count": 6,
   "metadata": {},
   "outputs": [
    {
     "data": {
      "text/plain": [
       "array([[ 0,  5, 10],\n",
       "       [ 1,  6, 11],\n",
       "       [ 2,  7, 12],\n",
       "       [ 3,  8, 13],\n",
       "       [ 4,  9, 14]])"
      ]
     },
     "execution_count": 6,
     "metadata": {},
     "output_type": "execute_result"
    }
   ],
   "source": [
    "arr.transpose()"
   ]
  },
  {
   "cell_type": "markdown",
   "metadata": {},
   "source": [
    "este es lo mismo pero una matriz más grande, es importante recordar que no se guarda encima del verdadero, por lo queal llamar al arr otra vez este sigue siendo el original"
   ]
  },
  {
   "cell_type": "code",
   "execution_count": 7,
   "metadata": {},
   "outputs": [
    {
     "data": {
      "text/plain": [
       "array([[ 0,  1,  2,  3,  4],\n",
       "       [ 5,  6,  7,  8,  9],\n",
       "       [10, 11, 12, 13, 14]])"
      ]
     },
     "execution_count": 7,
     "metadata": {},
     "output_type": "execute_result"
    }
   ],
   "source": [
    "arr"
   ]
  },
  {
   "cell_type": "code",
   "execution_count": 8,
   "metadata": {},
   "outputs": [
    {
     "data": {
      "text/plain": [
       "array([[ 0,  5, 10],\n",
       "       [ 1,  6, 11],\n",
       "       [ 2,  7, 12],\n",
       "       [ 3,  8, 13],\n",
       "       [ 4,  9, 14]])"
      ]
     },
     "execution_count": 8,
     "metadata": {},
     "output_type": "execute_result"
    }
   ],
   "source": [
    "arr.T"
   ]
  },
  {
   "cell_type": "code",
   "execution_count": 9,
   "metadata": {},
   "outputs": [],
   "source": [
    "arr=np.random.randn(6,3)"
   ]
  },
  {
   "cell_type": "markdown",
   "metadata": {},
   "source": [
    "se procede a generar un arreglo multidimensional con 6 filas y 3 columnas con datos aleatorios"
   ]
  },
  {
   "cell_type": "code",
   "execution_count": 10,
   "metadata": {},
   "outputs": [
    {
     "data": {
      "text/plain": [
       "array([[ 0.20696438, -0.55460035,  1.32901814],\n",
       "       [-1.31546587,  0.02442574, -0.2306903 ],\n",
       "       [ 0.52739925, -0.64800158, -0.69670533],\n",
       "       [-0.64255016, -0.44148198, -0.38922725],\n",
       "       [ 1.21553153, -1.57265639, -1.0810801 ],\n",
       "       [-0.6539582 ,  1.28005347, -0.04118134]])"
      ]
     },
     "execution_count": 10,
     "metadata": {},
     "output_type": "execute_result"
    }
   ],
   "source": [
    "arr"
   ]
  },
  {
   "cell_type": "code",
   "execution_count": 11,
   "metadata": {},
   "outputs": [
    {
     "data": {
      "text/plain": [
       "array([[ 0.20696438, -1.31546587,  0.52739925, -0.64255016,  1.21553153,\n",
       "        -0.6539582 ],\n",
       "       [-0.55460035,  0.02442574, -0.64800158, -0.44148198, -1.57265639,\n",
       "         1.28005347],\n",
       "       [ 1.32901814, -0.2306903 , -0.69670533, -0.38922725, -1.0810801 ,\n",
       "        -0.04118134]])"
      ]
     },
     "execution_count": 11,
     "metadata": {},
     "output_type": "execute_result"
    }
   ],
   "source": [
    "arr.T"
   ]
  },
  {
   "cell_type": "markdown",
   "metadata": {},
   "source": [
    "y con el uso de  .T ya podemos efectuar la transposición de filas por columnas"
   ]
  },
  {
   "cell_type": "code",
   "execution_count": 12,
   "metadata": {},
   "outputs": [
    {
     "data": {
      "text/plain": [
       "array([[ 4.36948362, -2.95370987, -0.82597528],\n",
       "       [-2.95370987,  5.03477556,  1.52804747],\n",
       "       [-0.82597528,  1.52804747,  3.62683348]])"
      ]
     },
     "execution_count": 12,
     "metadata": {},
     "output_type": "execute_result"
    }
   ],
   "source": [
    "np.dot(arr.T, arr)"
   ]
  },
  {
   "cell_type": "markdown",
   "metadata": {},
   "source": [
    "Función np.dot()\n",
    "La función np.dot de la biblioteca numpy en Python se utiliza para realizar productos de matrices y vectores de manera eficiente.\n",
    "\n",
    "Para entender cómo funciona np.dot, primero debemos comprender la multiplicación de matrices. La multiplicación de matrices es una operación que toma dos matrices y produce una nueva matriz. Esta operación se realiza combinando las filas de la primera matriz con las columnas de la segunda matriz.\n",
    "\n",
    "1. Seleccionar una fila de la primera matriz.\n",
    "2. Seleccionar una columna de la segunda matriz.\n",
    "3. Multiplicar los elementos correspondientes de la fila y la columna seleccionadas y luego sumar los productos obtenidos.\n",
    "4. Colocar el resultado en la posición correspondiente de la nueva matriz.\n",
    "5. Repetir este proceso para todas las combinaciones de filas y columnas."
   ]
  },
  {
   "cell_type": "markdown",
   "metadata": {},
   "source": [
    " link de imagen que explica la multiplicación de matrices: https://blogs.ugto.mx/rea/wp-content/uploads/sites/71/2021/11/Captura-de-Pantalla-2021-11-09-a-las-11.42.16.png"
   ]
  },
  {
   "cell_type": "markdown",
   "metadata": {},
   "source": [
    "En este caso utiliza la función numpy.arange para crear un arreglo con 12 valores numéricos en incremento"
   ]
  },
  {
   "cell_type": "code",
   "execution_count": 24,
   "metadata": {},
   "outputs": [
    {
     "data": {
      "text/plain": [
       "array([ 0,  1,  2,  3,  4,  5,  6,  7,  8,  9, 10, 11])"
      ]
     },
     "execution_count": 24,
     "metadata": {},
     "output_type": "execute_result"
    }
   ],
   "source": [
    "arr_1=np.arange(12)\n",
    "arr_1"
   ]
  },
  {
   "cell_type": "markdown",
   "metadata": {},
   "source": [
    "Nuevamente, vamos con el reshape que modifica la forma original del arreglo convirtiéndolo en la matriz de las dimensiones en el paréntesis que corresponde a 3 filas y 4 columnas"
   ]
  },
  {
   "cell_type": "code",
   "execution_count": 25,
   "metadata": {},
   "outputs": [],
   "source": [
    "arr_1=np.arange(12).reshape(3,4)"
   ]
  },
  {
   "cell_type": "code",
   "execution_count": 26,
   "metadata": {},
   "outputs": [
    {
     "data": {
      "text/plain": [
       "array([[ 0,  1,  2,  3],\n",
       "       [ 4,  5,  6,  7],\n",
       "       [ 8,  9, 10, 11]])"
      ]
     },
     "execution_count": 26,
     "metadata": {},
     "output_type": "execute_result"
    }
   ],
   "source": [
    "arr_1"
   ]
  },
  {
   "cell_type": "markdown",
   "metadata": {},
   "source": [
    "acá utilizando la función del reshape nuevamente cambia la forma de la matriz"
   ]
  },
  {
   "cell_type": "code",
   "execution_count": 15,
   "metadata": {},
   "outputs": [
    {
     "data": {
      "text/plain": [
       "array([[ 0,  1,  2],\n",
       "       [ 3,  4,  5],\n",
       "       [ 6,  7,  8],\n",
       "       [ 9, 10, 11]])"
      ]
     },
     "execution_count": 15,
     "metadata": {},
     "output_type": "execute_result"
    }
   ],
   "source": [
    "arr_1.reshape((4,3))"
   ]
  },
  {
   "cell_type": "code",
   "execution_count": 27,
   "metadata": {},
   "outputs": [
    {
     "data": {
      "text/plain": [
       "array([[ 0,  1,  2,  3],\n",
       "       [ 4,  5,  6,  7],\n",
       "       [ 8,  9, 10, 11]])"
      ]
     },
     "execution_count": 27,
     "metadata": {},
     "output_type": "execute_result"
    }
   ],
   "source": [
    "arr_1"
   ]
  },
  {
   "cell_type": "code",
   "execution_count": 28,
   "metadata": {},
   "outputs": [
    {
     "data": {
      "text/plain": [
       "array([[ 0,  1,  2,  3],\n",
       "       [ 4,  5,  6,  7],\n",
       "       [ 8,  9, 10, 11]])"
      ]
     },
     "execution_count": 28,
     "metadata": {},
     "output_type": "execute_result"
    }
   ],
   "source": [
    "arr_1.transpose((0,1))"
   ]
  },
  {
   "cell_type": "markdown",
   "metadata": {},
   "source": [
    "Ahora con el transpose cambia la forma y posición de columnas convirtiéndolas en filas y viceversa usando las axis del arreglo en 2 dimensiones en el orden 0,1, entonces la primera fila se vuelve la primersa columna y así sucesivamente. Esto sirve cuando se desea obtener un patrón  específico y obtener un orden de transposición determinado y la siguiente en orden."
   ]
  },
  {
   "cell_type": "code",
   "execution_count": 17,
   "metadata": {},
   "outputs": [
    {
     "data": {
      "text/plain": [
       "array([[ 0,  4,  8],\n",
       "       [ 1,  5,  9],\n",
       "       [ 2,  6, 10],\n",
       "       [ 3,  7, 11]])"
      ]
     },
     "execution_count": 17,
     "metadata": {},
     "output_type": "execute_result"
    }
   ],
   "source": [
    "arr_1.transpose((1,0))"
   ]
  },
  {
   "cell_type": "markdown",
   "metadata": {},
   "source": [
    " 1, 0, muestra que se efectuó un cambio, mientras que la primera permaneció igual al corresponder la primer axis con el 0 que es las filas. El orden siempre es filas(0)xcolumnas(1) al hacer este ejercicio de cambiar las axis."
   ]
  },
  {
   "cell_type": "markdown",
   "metadata": {},
   "source": [
    "El anterior es equivalente al arr_1.T, es decir, es igual a arr1_transpose((1,0)), que es la forma más comun de trasnponer una matriz o arreglo bidimensipnal"
   ]
  },
  {
   "cell_type": "code",
   "execution_count": 36,
   "metadata": {},
   "outputs": [
    {
     "data": {
      "text/plain": [
       "array([[ 0,  4,  8],\n",
       "       [ 1,  5,  9],\n",
       "       [ 2,  6, 10],\n",
       "       [ 3,  7, 11]])"
      ]
     },
     "execution_count": 36,
     "metadata": {},
     "output_type": "execute_result"
    }
   ],
   "source": [
    "arr_1.T"
   ]
  },
  {
   "cell_type": "markdown",
   "metadata": {},
   "source": [
    "Ahora, se procede a realizar lo mismo, pero con arreglos de 3 dimensiones. Primero, con el arange se hizo el conteo incremental hasta 16 elementos comenzando desde el indice 0 guardando en un arreglo. Primeramente a la variable \"arr\" se le indica un rango del 0 al 15 usando numpy."
   ]
  },
  {
   "cell_type": "code",
   "execution_count": 32,
   "metadata": {},
   "outputs": [],
   "source": [
    "arr=np.arange(16)"
   ]
  },
  {
   "cell_type": "code",
   "execution_count": 33,
   "metadata": {},
   "outputs": [
    {
     "data": {
      "text/plain": [
       "array([ 0,  1,  2,  3,  4,  5,  6,  7,  8,  9, 10, 11, 12, 13, 14, 15])"
      ]
     },
     "execution_count": 33,
     "metadata": {},
     "output_type": "execute_result"
    }
   ],
   "source": [
    "arr"
   ]
  },
  {
   "cell_type": "markdown",
   "metadata": {},
   "source": [
    "Después, con el comando reshape se específica que será un arreglo de tres dimensiones con 2 filas cada uno por 4 columnas. El uso del \"reshape\" indica que el formato (2, 2, 4) es:\n",
    "\n",
    "    El primer \"2\" es la cantidad de bloques que se van a generar.\n",
    "    El segundo \"2\" es la cantidad de filas que se van a generar.\n",
    "    El \"4\" es la cantidad de columnas que se van a generar.\n"
   ]
  },
  {
   "cell_type": "code",
   "execution_count": 34,
   "metadata": {},
   "outputs": [],
   "source": [
    "arr=np.arange(16).reshape((2,2,4))"
   ]
  },
  {
   "cell_type": "markdown",
   "metadata": {},
   "source": [
    "Primer valor indica la cantidad de bloques que habrá entre rango 1 a 15; segundo establece que tendrá 2 filas y será la misma cantidad por cada bloque, 4 es cuatro columnas. Descripción breve: .reshape((2, 2, 4)): Cambia la forma del array a 2 conjuntos, cada uno con 2 subconjuntos de 4 elementos."
   ]
  },
  {
   "cell_type": "code",
   "execution_count": 35,
   "metadata": {},
   "outputs": [
    {
     "data": {
      "text/plain": [
       "array([[[ 0,  1,  2,  3],\n",
       "        [ 4,  5,  6,  7]],\n",
       "\n",
       "       [[ 8,  9, 10, 11],\n",
       "        [12, 13, 14, 15]]])"
      ]
     },
     "execution_count": 35,
     "metadata": {},
     "output_type": "execute_result"
    }
   ],
   "source": [
    "arr"
   ]
  },
  {
   "cell_type": "markdown",
   "metadata": {},
   "source": [
    " Primer bloque o \"página\" ([[ 0, 1, 2, 3], [ 4, 5, 6, 7]]): Contiene los números del 0 al 7 distribuidos en 2 filas de 4 columnas cada una.\n",
    "\n",
    "Segundo bloque o \"página\" ([[ 8, 9, 10, 11], [12, 13, 14, 15]]): Contiene los números del 8 al 15, también distribuidos en 2 filas de 4 columnas cada una.\n"
   ]
  },
  {
   "cell_type": "markdown",
   "metadata": {},
   "source": [
    "Luego, con el comando transpose que specifica el patrón deseado, se mueve la pruimea fila del primero a la primera fila del segundo y la primera fila del segundo a la primera fila del primero dejando alas columnas en su mismo sitio."
   ]
  },
  {
   "cell_type": "markdown",
   "metadata": {},
   "source": [
    "\n",
    "    En esta transposición, el primer eje (índice 0) y el segundo eje (índice 1) se intercambian, pero el tercer eje (índice 2) permanece igual.\n",
    "\n",
    "        Antes: 2 páginas, cada una con 2 filas de 4 columnas.\n",
    "\n",
    "        Después: 2 filas principales, cada una con 2 páginas de 4 columnas.\n",
    "\n",
    "    Descripción breve: Cada \"fila\" ahora abarca lo que antes eran páginas, y las páginas ahora son las filas dentro de cada una de esas nuevas \"filas principales\".\n",
    "\n"
   ]
  },
  {
   "cell_type": "code",
   "execution_count": 29,
   "metadata": {},
   "outputs": [
    {
     "data": {
      "text/plain": [
       "array([[[ 0,  1,  2,  3],\n",
       "        [ 8,  9, 10, 11]],\n",
       "\n",
       "       [[ 4,  5,  6,  7],\n",
       "        [12, 13, 14, 15]]])"
      ]
     },
     "execution_count": 29,
     "metadata": {},
     "output_type": "execute_result"
    }
   ],
   "source": [
    "arr.transpose((1,0,2))"
   ]
  },
  {
   "cell_type": "markdown",
   "metadata": {},
   "source": [
    " (1, 0, 2): Estos son los índices de los ejes en el orden que deseas que aparezcan después de la transposición. Originalmente, los ejes están en el orden (0, 1, 2). Al especificar (1, 0, 2), estás indicando que quieres que:\n",
    "        El eje 1 original se convierta en el eje 0.\n",
    "        (que era 2 igualmente(2,2,4), por lo que siguen siendo 2 bloques.)\n",
    "        El eje 0 original se convierta en el eje 1.\n",
    "        (que era 2 igualmente(2,2,4), su 0 del segundo blloque se va a la posición de mi eje uno del primer bloque).\n",
    "        El eje 2 original permanezca en su lugar como el eje 2.\n",
    "\n",
    "Entonces, si arr tiene la forma (dim0, dim1, dim2), después de aplicar arr.transpose(1,0,2), tendrá la forma (dim1, dim0, dim2)."
   ]
  },
  {
   "cell_type": "code",
   "execution_count": 30,
   "metadata": {},
   "outputs": [
    {
     "data": {
      "text/plain": [
       "array([[[ 0,  1,  2,  3],\n",
       "        [ 4,  5,  6,  7]],\n",
       "\n",
       "       [[ 8,  9, 10, 11],\n",
       "        [12, 13, 14, 15]]])"
      ]
     },
     "execution_count": 30,
     "metadata": {},
     "output_type": "execute_result"
    }
   ],
   "source": [
    "arr.transpose((0,1,2))"
   ]
  },
  {
   "cell_type": "markdown",
   "metadata": {},
   "source": [
    "sería el orden original, por lo que no hay cambios. Esta es una transposición trivial donde los ejes se dejan en su orden original. El resultado es simplemente el array original sin cambios."
   ]
  },
  {
   "cell_type": "code",
   "execution_count": 31,
   "metadata": {},
   "outputs": [
    {
     "data": {
      "text/plain": [
       "array([[[ 0,  8],\n",
       "        [ 4, 12]],\n",
       "\n",
       "       [[ 1,  9],\n",
       "        [ 5, 13]],\n",
       "\n",
       "       [[ 2, 10],\n",
       "        [ 6, 14]],\n",
       "\n",
       "       [[ 3, 11],\n",
       "        [ 7, 15]]])"
      ]
     },
     "execution_count": 31,
     "metadata": {},
     "output_type": "execute_result"
    }
   ],
   "source": [
    "arr.transpose((2,1,0))"
   ]
  },
  {
   "cell_type": "markdown",
   "metadata": {},
   "source": [
    "En este caso la cantidad de columnas que correspondía a 4 se convirtió en la cantidad de bloques que ahora son 4. Pasando de ser un arreglo tridimensional de forma (2,2,4) a (4,2,2), es decir cada bloque contiene 2 filas y 2 columnas ahora. En simple, comparando con el anterior se observa que cuando teníamos el orden de bloque por columna cambiado (1,0,2) manteniendo las columnas en su sitio, acá. El 0, 8, 4 y 12 pasaron a ser parte del mismo bloque, convirtiendo la columna en un bloque. Lo otro observable en relación al original es que la primea columna del primer bloque original es la misma que la primera columna del primer bloque resultante, mientras que la primera columna del segundo bloque original pasan a ser la segunda columna del resultado, luego, la segunda columna del primer bloque se transforma en la primera columna del segundo elemento y la segunda columna del segundo bloque se mueve a la segunda columna del segundo bloque y así sucesivamente."
   ]
  },
  {
   "cell_type": "markdown",
   "metadata": {},
   "source": [
    "array original\n",
    "      ([[[ 0,  1,  2,  3],\n",
    "        [ 4,  5,  6,  7]],\n",
    "\n",
    "       [[ 8,  9, 10, 11],\n",
    "        [12, 13, 14, 15]]])"
   ]
  },
  {
   "cell_type": "markdown",
   "metadata": {},
   "source": [
    "Originalmente, los ejes están en el orden (0, 1, 2). Al especificar (2, 1, 0), estás indicando que quieres que:\n",
    "        El eje 2 original permanece en el eje 2. Quedando las filas en su posición original, pasando a la segunda columna los del segundo bloque original, y cambiando de bloque según si la columna correspondiente era 0, 1, 2 o 3.\n",
    "        El eje 1 original se convierta en el eje 3, teniendo los bloques 2 columnas.\n",
    "        (que era igualmente(2,2,4), su 0 del segundo bloque se va a la posición de mi eje 3 del primer bloque).\n",
    "        El eje 3 original se mueve al primero, modificando la cantidad de bloques.\n",
    "\n",
    "Entonces, si arr tiene la forma (dim0, dim1, dim2), después de aplicar arr.transpose(1,0,2), tendrá la forma (dim2, dim1, dim0)."
   ]
  },
  {
   "cell_type": "code",
   "execution_count": 37,
   "metadata": {},
   "outputs": [
    {
     "data": {
      "text/plain": [
       "array([[[ 0,  8],\n",
       "        [ 4, 12]],\n",
       "\n",
       "       [[ 1,  9],\n",
       "        [ 5, 13]],\n",
       "\n",
       "       [[ 2, 10],\n",
       "        [ 6, 14]],\n",
       "\n",
       "       [[ 3, 11],\n",
       "        [ 7, 15]]])"
      ]
     },
     "execution_count": 37,
     "metadata": {},
     "output_type": "execute_result"
    }
   ],
   "source": [
    "arr.transpose((2,1,0))"
   ]
  },
  {
   "cell_type": "markdown",
   "metadata": {},
   "source": [
    " Aquí, el tercer eje se mueve al frente, el segundo eje permanece en su lugar, y el primer eje se mueve al final.\n",
    "\n",
    "        Antes: 2 páginas, cada una con 2 filas de 4 columnas.\n",
    "\n",
    "        Después: 4 columnas principales, cada una con 2 filas de 2 páginas.\n",
    "\n",
    "Descripción breve: Cada \"columna\" ahora abarca lo que antes eran páginas, las páginas ahora son las filas dentro de cada una de esas nuevas \"columnas principales\"."
   ]
  },
  {
   "cell_type": "code",
   "execution_count": 38,
   "metadata": {},
   "outputs": [
    {
     "data": {
      "text/plain": [
       "array([[[ 0,  4],\n",
       "        [ 8, 12]],\n",
       "\n",
       "       [[ 1,  5],\n",
       "        [ 9, 13]],\n",
       "\n",
       "       [[ 2,  6],\n",
       "        [10, 14]],\n",
       "\n",
       "       [[ 3,  7],\n",
       "        [11, 15]]])"
      ]
     },
     "execution_count": 38,
     "metadata": {},
     "output_type": "execute_result"
    }
   ],
   "source": [
    "arr.transpose((2,0,1))"
   ]
  },
  {
   "cell_type": "markdown",
   "metadata": {},
   "source": [
    "En este caso, mi primera columna del primer bloque se convirtió en primera fila del primer bloque, y la primera columna del segundo bloque se volvio fila segunda del primer bloque."
   ]
  },
  {
   "cell_type": "markdown",
   "metadata": {},
   "source": [
    "\n",
    "\n",
    "Para mayor comprensión puedes visualizar las siguientes imágenes:\n",
    "\n",
    "    https://files.codingninjas.in/article_images/numpy-transpose-in-python-2-1671427114.webp\n",
    "\n",
    "    https://databasetown.com/wp-content/uploads/2020/02/Transpose-of-a-Matrix-in-Python.jpg\n",
    "\n",
    "Y también la documentación de numpy:\n",
    "\n",
    "    https://numpy.org/doc/stable/reference/generated/numpy.transpose.html\n"
   ]
  },
  {
   "cell_type": "markdown",
   "metadata": {},
   "source": [
    "swap axes\n",
    "Es una función que permite intercambiar dos ejes de un array. La utilidad está en que si se desea reorganizar las dimensiones de un array multidimensional para realizar operaciones o análisis específicos. \n",
    "\n",
    "Primero generamos un array y luego aplicamos la función swapaxes para\n",
    ".swapaxes(0,1)"
   ]
  },
  {
   "cell_type": "code",
   "execution_count": 39,
   "metadata": {},
   "outputs": [],
   "source": [
    "#Array\n",
    "arr_ax = np.array([[1,1,1], [2,2,2], [3,3,3]])"
   ]
  },
  {
   "cell_type": "code",
   "execution_count": 40,
   "metadata": {},
   "outputs": [
    {
     "data": {
      "text/plain": [
       "array([[1, 1, 1],\n",
       "       [2, 2, 2],\n",
       "       [3, 3, 3]])"
      ]
     },
     "execution_count": 40,
     "metadata": {},
     "output_type": "execute_result"
    }
   ],
   "source": [
    "arr_ax"
   ]
  },
  {
   "cell_type": "code",
   "execution_count": 41,
   "metadata": {},
   "outputs": [
    {
     "data": {
      "text/plain": [
       "array([[1, 2, 3],\n",
       "       [1, 2, 3],\n",
       "       [1, 2, 3]])"
      ]
     },
     "execution_count": 41,
     "metadata": {},
     "output_type": "execute_result"
    }
   ],
   "source": [
    "#Hacemos un swapaxes para que intercambiemos filas, por columnas, queda de tal manera\n",
    "arr_ax.swapaxes(0,1)"
   ]
  },
  {
   "cell_type": "code",
   "execution_count": 42,
   "metadata": {},
   "outputs": [],
   "source": [
    "#Otro ejemplo con array 3D\n",
    "arr_swap = np.array([[[0, 1, 2],\n",
    "                 [3, 4, 5]],\n",
    "\n",
    "                [[6, 7, 8],\n",
    "                 [9, 10, 11]]])\n"
   ]
  },
  {
   "cell_type": "code",
   "execution_count": 43,
   "metadata": {},
   "outputs": [
    {
     "data": {
      "text/plain": [
       "array([[[ 0,  1,  2],\n",
       "        [ 3,  4,  5]],\n",
       "\n",
       "       [[ 6,  7,  8],\n",
       "        [ 9, 10, 11]]])"
      ]
     },
     "execution_count": 43,
     "metadata": {},
     "output_type": "execute_result"
    }
   ],
   "source": [
    "arr_swap"
   ]
  },
  {
   "cell_type": "code",
   "execution_count": 44,
   "metadata": {},
   "outputs": [
    {
     "data": {
      "text/plain": [
       "array([[[ 0,  6],\n",
       "        [ 3,  9]],\n",
       "\n",
       "       [[ 1,  7],\n",
       "        [ 4, 10]],\n",
       "\n",
       "       [[ 2,  8],\n",
       "        [ 5, 11]]])"
      ]
     },
     "execution_count": 44,
     "metadata": {},
     "output_type": "execute_result"
    }
   ],
   "source": [
    "#Aplicamos Swapaxes para poder dejar el array con 2 filas cada una\n",
    "arr_swap.swapaxes(0,2)"
   ]
  },
  {
   "cell_type": "markdown",
   "metadata": {},
   "source": [
    "Comparación swap axes versus transpose, transpose cambia el orden intercambiando filas y columnas y bloques, mientras que swap axes intercambia solo de 2 ejes como en el caso de transpose que convierte columnas en filas y viceversa siguiendo una regla de intercambio de ejes según como estuviera ordenado originalmente como vimos en el caso del 2,2,4, mientras que en el swap axes es más libre y flexible el intercambio de ejes en su reordenamiento y solo modifica 2 de los 3 ejes en el csso de arreglos multidimensionales. Versus el transpose que al indicarle los ejes, su orden indica cómo se permutan los ejes."
   ]
  },
  {
   "cell_type": "markdown",
   "metadata": {},
   "source": [
    "Pasra mayor información revisar: https://numpy.org/doc/stable/reference/generated/numpy.swapaxes.html"
   ]
  }
 ],
 "metadata": {
  "kernelspec": {
   "display_name": "Python 3",
   "language": "python",
   "name": "python3"
  },
  "language_info": {
   "codemirror_mode": {
    "name": "ipython",
    "version": 3
   },
   "file_extension": ".py",
   "mimetype": "text/x-python",
   "name": "python",
   "nbconvert_exporter": "python",
   "pygments_lexer": "ipython3",
   "version": "3.9.6"
  }
 },
 "nbformat": 4,
 "nbformat_minor": 2
}
