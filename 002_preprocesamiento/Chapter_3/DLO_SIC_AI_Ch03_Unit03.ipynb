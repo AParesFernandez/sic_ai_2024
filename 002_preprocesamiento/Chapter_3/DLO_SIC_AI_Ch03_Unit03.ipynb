{
  "cells": [
    {
      "cell_type": "markdown",
      "metadata": {
        "id": "view-in-github",
        "colab_type": "text"
      },
      "source": [
        "<a href=\"https://colab.research.google.com/github/davidlealo/sic_ai_2024/blob/main/002_preprocesamiento/Chapter_3/DLO_SIC_AI_Ch03_Unit03.ipynb\" target=\"_parent\"><img src=\"https://colab.research.google.com/assets/colab-badge.svg\" alt=\"Open In Colab\"/></a>"
      ]
    },
    {
      "cell_type": "markdown",
      "id": "62029e4e",
      "metadata": {
        "id": "62029e4e"
      },
      "source": [
        "## 3.3. Checking for Missing Data"
      ]
    },
    {
      "cell_type": "code",
      "execution_count": 1,
      "id": "37022372",
      "metadata": {
        "id": "37022372"
      },
      "outputs": [],
      "source": [
        "import pandas as pd\n",
        "import numpy as np"
      ]
    },
    {
      "cell_type": "markdown",
      "id": "263be8c3",
      "metadata": {
        "id": "263be8c3"
      },
      "source": [
        "### Missing Value"
      ]
    },
    {
      "cell_type": "code",
      "execution_count": 2,
      "id": "8dd809e8",
      "metadata": {
        "id": "8dd809e8",
        "outputId": "44613fac-c06c-42b7-9f28-b0632925d7a7",
        "colab": {
          "base_uri": "https://localhost:8080/"
        }
      },
      "outputs": [
        {
          "output_type": "stream",
          "name": "stdout",
          "text": [
            "deck\n",
            "NaN    688\n",
            "C       59\n",
            "B       47\n",
            "D       33\n",
            "E       32\n",
            "A       15\n",
            "F       13\n",
            "G        4\n",
            "Name: count, dtype: int64\n"
          ]
        }
      ],
      "source": [
        "import seaborn as sns\n",
        "df = sns.load_dataset('titanic')\n",
        "nan_deck = df['deck'].value_counts(dropna=False)\n",
        "print(nan_deck)"
      ]
    },
    {
      "cell_type": "code",
      "execution_count": 3,
      "id": "7ae70296",
      "metadata": {
        "id": "7ae70296",
        "outputId": "2b941e65-0420-422b-fb02-f012a3b53a21",
        "colab": {
          "base_uri": "https://localhost:8080/"
        }
      },
      "outputs": [
        {
          "output_type": "stream",
          "name": "stdout",
          "text": [
            "   survived  pclass    sex    age  sibsp  parch   fare  embarked  class  \\\n",
            "0     False   False  False  False  False  False  False     False  False   \n",
            "1     False   False  False  False  False  False  False     False  False   \n",
            "2     False   False  False  False  False  False  False     False  False   \n",
            "3     False   False  False  False  False  False  False     False  False   \n",
            "4     False   False  False  False  False  False  False     False  False   \n",
            "\n",
            "     who  adult_male   deck  embark_town  alive  alone  \n",
            "0  False       False   True        False  False  False  \n",
            "1  False       False  False        False  False  False  \n",
            "2  False       False   True        False  False  False  \n",
            "3  False       False  False        False  False  False  \n",
            "4  False       False   True        False  False  False  \n"
          ]
        }
      ],
      "source": [
        "print(df.head().isnull())"
      ]
    },
    {
      "cell_type": "code",
      "execution_count": 4,
      "id": "aea4b69b",
      "metadata": {
        "id": "aea4b69b",
        "outputId": "e923056b-b525-4aad-bc13-2c57a74cc4e5",
        "colab": {
          "base_uri": "https://localhost:8080/"
        }
      },
      "outputs": [
        {
          "output_type": "stream",
          "name": "stdout",
          "text": [
            "   survived  pclass   sex   age  sibsp  parch  fare  embarked  class   who  \\\n",
            "0      True    True  True  True   True   True  True      True   True  True   \n",
            "1      True    True  True  True   True   True  True      True   True  True   \n",
            "2      True    True  True  True   True   True  True      True   True  True   \n",
            "3      True    True  True  True   True   True  True      True   True  True   \n",
            "4      True    True  True  True   True   True  True      True   True  True   \n",
            "\n",
            "   adult_male   deck  embark_town  alive  alone  \n",
            "0        True  False         True   True   True  \n",
            "1        True   True         True   True   True  \n",
            "2        True  False         True   True   True  \n",
            "3        True   True         True   True   True  \n",
            "4        True  False         True   True   True  \n"
          ]
        }
      ],
      "source": [
        "print(df.head().notnull())"
      ]
    },
    {
      "cell_type": "code",
      "execution_count": 5,
      "id": "9bf9c4db",
      "metadata": {
        "id": "9bf9c4db",
        "outputId": "063232bf-011d-4d96-aa40-19e09be0656b",
        "colab": {
          "base_uri": "https://localhost:8080/"
        }
      },
      "outputs": [
        {
          "output_type": "stream",
          "name": "stdout",
          "text": [
            "survived       0\n",
            "pclass         0\n",
            "sex            0\n",
            "age            0\n",
            "sibsp          0\n",
            "parch          0\n",
            "fare           0\n",
            "embarked       0\n",
            "class          0\n",
            "who            0\n",
            "adult_male     0\n",
            "deck           3\n",
            "embark_town    0\n",
            "alive          0\n",
            "alone          0\n",
            "dtype: int64\n"
          ]
        }
      ],
      "source": [
        "print(df.head().isnull().sum(axis=0))"
      ]
    },
    {
      "cell_type": "code",
      "execution_count": 6,
      "id": "420e99ac",
      "metadata": {
        "id": "420e99ac",
        "outputId": "cd508e12-9660-488e-e527-ac03225da4c4",
        "colab": {
          "base_uri": "https://localhost:8080/"
        }
      },
      "outputs": [
        {
          "output_type": "stream",
          "name": "stdout",
          "text": [
            "Index(['survived', 'pclass', 'sex', 'age', 'sibsp', 'parch', 'fare',\n",
            "       'embarked', 'class', 'who', 'adult_male', 'embark_town', 'alive',\n",
            "       'alone'],\n",
            "      dtype='object')\n"
          ]
        }
      ],
      "source": [
        "df_thresh = df.dropna(axis=1, thresh=500)\n",
        "print(df_thresh.columns)"
      ]
    },
    {
      "cell_type": "code",
      "execution_count": 7,
      "id": "160f7cd8",
      "metadata": {
        "id": "160f7cd8",
        "outputId": "e1d18f2a-af47-446a-844b-a16e6b1bbd80",
        "colab": {
          "base_uri": "https://localhost:8080/"
        }
      },
      "outputs": [
        {
          "output_type": "stream",
          "name": "stdout",
          "text": [
            "714\n"
          ]
        }
      ],
      "source": [
        "df_age = df.dropna(subset=['age'], how='any', axis=0)\n",
        "print(len(df_age))"
      ]
    },
    {
      "cell_type": "markdown",
      "id": "295775c6",
      "metadata": {
        "id": "295775c6"
      },
      "source": [
        "### Replacing Missing Values"
      ]
    },
    {
      "cell_type": "code",
      "execution_count": 8,
      "id": "f70b459d",
      "metadata": {
        "id": "f70b459d",
        "outputId": "c19365ad-d13b-4053-cf2d-c26c6b0ce80b",
        "colab": {
          "base_uri": "https://localhost:8080/"
        }
      },
      "outputs": [
        {
          "output_type": "stream",
          "name": "stdout",
          "text": [
            "0    22.000000\n",
            "1    38.000000\n",
            "2    26.000000\n",
            "3    35.000000\n",
            "4    35.000000\n",
            "5    29.699118\n",
            "6    54.000000\n",
            "7     2.000000\n",
            "8    27.000000\n",
            "9    14.000000\n",
            "Name: age, dtype: float64\n"
          ]
        }
      ],
      "source": [
        "mean_age = df['age'].mean(axis=0)\n",
        "df['age'].fillna(mean_age, inplace=True)\n",
        "print(df['age'].head(10))"
      ]
    },
    {
      "cell_type": "markdown",
      "id": "31f28d3c",
      "metadata": {
        "id": "31f28d3c"
      },
      "source": [
        "### Practice with Missing Data"
      ]
    },
    {
      "cell_type": "code",
      "execution_count": 9,
      "id": "f5444756",
      "metadata": {
        "id": "f5444756",
        "outputId": "2954c2d6-41d2-4245-c4ba-1f071f52bba5",
        "colab": {
          "base_uri": "https://localhost:8080/"
        }
      },
      "outputs": [
        {
          "output_type": "stream",
          "name": "stdout",
          "text": [
            "825     Queenstown\n",
            "826    Southampton\n",
            "827      Cherbourg\n",
            "828     Queenstown\n",
            "829            NaN\n",
            "Name: embark_town, dtype: object\n",
            "\n",
            "\n"
          ]
        }
      ],
      "source": [
        "df = sns.load_dataset('titanic')\n",
        "print(df['embark_town'][825:830])\n",
        "print('\\n')"
      ]
    },
    {
      "cell_type": "code",
      "execution_count": 10,
      "id": "d4c64de7",
      "metadata": {
        "id": "d4c64de7",
        "outputId": "2993ab05-7dc0-416c-a5e4-d7a955aeb416",
        "colab": {
          "base_uri": "https://localhost:8080/"
        }
      },
      "outputs": [
        {
          "output_type": "stream",
          "name": "stdout",
          "text": [
            "Southampton\n",
            "\n",
            "\n"
          ]
        }
      ],
      "source": [
        "most_freq = df['embark_town'].value_counts(dropna=True).idxmax()\n",
        "print(most_freq)\n",
        "print('\\n')"
      ]
    },
    {
      "cell_type": "code",
      "execution_count": 11,
      "id": "d92be054",
      "metadata": {
        "id": "d92be054",
        "outputId": "77e925d2-c572-4390-ca4a-55426e57bd9c",
        "colab": {
          "base_uri": "https://localhost:8080/"
        }
      },
      "outputs": [
        {
          "output_type": "stream",
          "name": "stdout",
          "text": [
            "825     Queenstown\n",
            "826    Southampton\n",
            "827      Cherbourg\n",
            "828     Queenstown\n",
            "829    Southampton\n",
            "Name: embark_town, dtype: object\n"
          ]
        }
      ],
      "source": [
        "df['embark_town'].fillna(most_freq, inplace=True)\n",
        "print(df['embark_town'][825:830])"
      ]
    },
    {
      "cell_type": "code",
      "execution_count": 12,
      "id": "816798b0",
      "metadata": {
        "id": "816798b0",
        "outputId": "0cd2cbdc-bc82-45b0-9367-4d56a6afde8b",
        "colab": {
          "base_uri": "https://localhost:8080/"
        }
      },
      "outputs": [
        {
          "output_type": "stream",
          "name": "stdout",
          "text": [
            "825     Queenstown\n",
            "826    Southampton\n",
            "827      Cherbourg\n",
            "828     Queenstown\n",
            "829     Queenstown\n",
            "Name: embark_town, dtype: object\n"
          ]
        }
      ],
      "source": [
        "df = sns.load_dataset('titanic')\n",
        "df['embark_town'].fillna(method='ffill', inplace=True)\n",
        "print(df['embark_town'][825:830])"
      ]
    },
    {
      "cell_type": "markdown",
      "id": "8377ea75",
      "metadata": {
        "id": "8377ea75"
      },
      "source": [
        "## 3.4. Checking and Processing Duplicate Data"
      ]
    },
    {
      "cell_type": "markdown",
      "id": "73a08661",
      "metadata": {
        "id": "73a08661"
      },
      "source": [
        "### Processing Duplicate Data"
      ]
    },
    {
      "cell_type": "code",
      "execution_count": 13,
      "id": "a01e5a7c",
      "metadata": {
        "id": "a01e5a7c",
        "outputId": "92486705-9dec-4c65-e1e4-52433298e3f8",
        "colab": {
          "base_uri": "https://localhost:8080/"
        }
      },
      "outputs": [
        {
          "output_type": "stream",
          "name": "stdout",
          "text": [
            "  c1  c2  c3\n",
            "0  a   1   1\n",
            "1  a   1   1\n",
            "2  b   1   2\n",
            "3  a   2   2\n",
            "4  b   2   2\n"
          ]
        }
      ],
      "source": [
        "import pandas as pd\n",
        "df = pd.DataFrame({'c1':['a', 'a', 'b', 'a', 'b'],\n",
        "                   'c2':[1, 1, 1, 2, 2],\n",
        "                   'c3':[1, 1, 2, 2, 2]})\n",
        "print(df)"
      ]
    },
    {
      "cell_type": "code",
      "execution_count": 14,
      "id": "4bfeeb43",
      "metadata": {
        "id": "4bfeeb43",
        "outputId": "8aa7855e-16b9-4fab-fd8d-47c4f09005d3",
        "colab": {
          "base_uri": "https://localhost:8080/"
        }
      },
      "outputs": [
        {
          "output_type": "stream",
          "name": "stdout",
          "text": [
            "0    False\n",
            "1     True\n",
            "2    False\n",
            "3    False\n",
            "4    False\n",
            "dtype: bool\n"
          ]
        }
      ],
      "source": [
        "df_dup = df.duplicated()\n",
        "print(df_dup)"
      ]
    },
    {
      "cell_type": "code",
      "execution_count": 15,
      "id": "b07829e6",
      "metadata": {
        "id": "b07829e6",
        "outputId": "aad689ba-3a59-4f0a-8995-3bedf9a5c9e1",
        "colab": {
          "base_uri": "https://localhost:8080/"
        }
      },
      "outputs": [
        {
          "output_type": "stream",
          "name": "stdout",
          "text": [
            "0    False\n",
            "1     True\n",
            "2     True\n",
            "3    False\n",
            "4     True\n",
            "Name: c2, dtype: bool\n"
          ]
        }
      ],
      "source": [
        "col_dup = df['c2'].duplicated()\n",
        "print(col_dup)"
      ]
    },
    {
      "cell_type": "code",
      "execution_count": 16,
      "id": "d5851c65",
      "metadata": {
        "id": "d5851c65",
        "outputId": "1171007c-b985-41d7-ddde-6fba3941c6a1",
        "colab": {
          "base_uri": "https://localhost:8080/"
        }
      },
      "outputs": [
        {
          "output_type": "stream",
          "name": "stdout",
          "text": [
            "  c1  c2  c3\n",
            "0  a   1   1\n",
            "2  b   1   2\n",
            "3  a   2   2\n",
            "4  b   2   2\n"
          ]
        }
      ],
      "source": [
        "df2 = df.drop_duplicates()\n",
        "print(df2)"
      ]
    },
    {
      "cell_type": "code",
      "execution_count": 17,
      "id": "897ea34b",
      "metadata": {
        "id": "897ea34b",
        "outputId": "f6574740-050c-4bbf-c0cb-1648b26d3d5d",
        "colab": {
          "base_uri": "https://localhost:8080/"
        }
      },
      "outputs": [
        {
          "output_type": "stream",
          "name": "stdout",
          "text": [
            "  c1  c2  c3\n",
            "0  a   1   1\n",
            "2  b   1   2\n",
            "3  a   2   2\n"
          ]
        }
      ],
      "source": [
        "df3 = df.drop_duplicates(subset=['c2', 'c3'])\n",
        "print(df3)"
      ]
    },
    {
      "cell_type": "markdown",
      "id": "60b28b09",
      "metadata": {
        "id": "60b28b09"
      },
      "source": [
        "## 3.5. Data Feature Engineering"
      ]
    },
    {
      "cell_type": "markdown",
      "id": "127702df",
      "metadata": {
        "id": "127702df"
      },
      "source": [
        "### Matching the Same Measurement Unit Equally"
      ]
    },
    {
      "cell_type": "code",
      "source": [
        "!wget = https://raw.githubusercontent.com/davidlealo/sic_ai_2024/main/002_preprocesamiento/Chapter_3/auto-mpg.csv"
      ],
      "metadata": {
        "id": "m32q_CVvDHtp",
        "outputId": "b193848a-354b-47b6-ea70-46e24739b438",
        "colab": {
          "base_uri": "https://localhost:8080/"
        }
      },
      "id": "m32q_CVvDHtp",
      "execution_count": 19,
      "outputs": [
        {
          "output_type": "stream",
          "name": "stdout",
          "text": [
            "--2024-07-23 00:45:25--  http://=/\n",
            "Resolving = (=)... failed: Name or service not known.\n",
            "wget: unable to resolve host address ‘=’\n",
            "--2024-07-23 00:45:25--  https://raw.githubusercontent.com/davidlealo/sic_ai_2024/main/002_preprocesamiento/Chapter_3/auto-mpg.csv\n",
            "Resolving raw.githubusercontent.com (raw.githubusercontent.com)... 185.199.108.133, 185.199.110.133, 185.199.111.133, ...\n",
            "Connecting to raw.githubusercontent.com (raw.githubusercontent.com)|185.199.108.133|:443... connected.\n",
            "HTTP request sent, awaiting response... 200 OK\n",
            "Length: 17647 (17K) [text/plain]\n",
            "Saving to: ‘auto-mpg.csv’\n",
            "\n",
            "\rauto-mpg.csv          0%[                    ]       0  --.-KB/s               \rauto-mpg.csv        100%[===================>]  17.23K  --.-KB/s    in 0s      \n",
            "\n",
            "2024-07-23 00:45:25 (37.1 MB/s) - ‘auto-mpg.csv’ saved [17647/17647]\n",
            "\n",
            "FINISHED --2024-07-23 00:45:25--\n",
            "Total wall clock time: 0.2s\n",
            "Downloaded: 1 files, 17K in 0s (37.1 MB/s)\n"
          ]
        }
      ]
    },
    {
      "cell_type": "code",
      "execution_count": 20,
      "id": "ec193d21",
      "metadata": {
        "id": "ec193d21",
        "outputId": "458acc89-82dc-4d31-e480-6c5fecd6fb1e",
        "colab": {
          "base_uri": "https://localhost:8080/"
        }
      },
      "outputs": [
        {
          "output_type": "stream",
          "name": "stdout",
          "text": [
            "    mpg  cylinders  displacement horsepower  weight  acceleration  model year  \\\n",
            "0  18.0          8         307.0        130    3504          12.0          70   \n",
            "1  15.0          8         350.0        165    3693          11.5          70   \n",
            "2  18.0          8         318.0        150    3436          11.0          70   \n",
            "\n",
            "   orign                       name  \n",
            "0      1  chevrolet chevelle malibu  \n",
            "1      1          buick skylark 320  \n",
            "2      1         plymouth satellite  \n",
            "\n",
            "\n"
          ]
        }
      ],
      "source": [
        "df = pd.read_csv('./auto-mpg.csv', header=None)\n",
        "\n",
        "df.columns = ['mpg', 'cylinders', 'displacement', 'horsepower', 'weight',\n",
        "              'acceleration', 'model year', 'orign', 'name']\n",
        "print(df.head(3))\n",
        "print('\\n')"
      ]
    },
    {
      "cell_type": "code",
      "execution_count": 21,
      "id": "0bc51125",
      "metadata": {
        "id": "0bc51125",
        "outputId": "949a6cc9-616e-448e-b7d9-2de452a9633a",
        "colab": {
          "base_uri": "https://localhost:8080/"
        }
      },
      "outputs": [
        {
          "output_type": "stream",
          "name": "stdout",
          "text": [
            "    mpg  cylinders  displacement horsepower  weight  acceleration  model year  \\\n",
            "0  18.0          8         307.0        130    3504          12.0          70   \n",
            "1  15.0          8         350.0        165    3693          11.5          70   \n",
            "2  18.0          8         318.0        150    3436          11.0          70   \n",
            "\n",
            "   orign                       name       kpl  \n",
            "0      1  chevrolet chevelle malibu  7.652571  \n",
            "1      1          buick skylark 320  6.377143  \n",
            "2      1         plymouth satellite  7.652571  \n",
            "\n",
            "\n",
            "    mpg  cylinders  displacement horsepower  weight  acceleration  model year  \\\n",
            "0  18.0          8         307.0        130    3504          12.0          70   \n",
            "1  15.0          8         350.0        165    3693          11.5          70   \n",
            "2  18.0          8         318.0        150    3436          11.0          70   \n",
            "\n",
            "   orign                       name   kpl  \n",
            "0      1  chevrolet chevelle malibu  7.65  \n",
            "1      1          buick skylark 320  6.38  \n",
            "2      1         plymouth satellite  7.65  \n"
          ]
        }
      ],
      "source": [
        "mpg_to_kpl = 1.60934 / 3.78541\n",
        "\n",
        "df['kpl'] = df['mpg'] * mpg_to_kpl\n",
        "print(df.head(3))\n",
        "print('\\n')\n",
        "\n",
        "df['kpl'] = df['kpl'].round(2)\n",
        "print(df.head(3))"
      ]
    },
    {
      "cell_type": "markdown",
      "id": "0cca52f3",
      "metadata": {
        "id": "0cca52f3"
      },
      "source": [
        "### Data Type Conversion"
      ]
    },
    {
      "cell_type": "code",
      "execution_count": 22,
      "id": "aa56bdc5",
      "metadata": {
        "id": "aa56bdc5",
        "outputId": "66e010d9-41cb-4312-8ded-278331509a97",
        "colab": {
          "base_uri": "https://localhost:8080/"
        }
      },
      "outputs": [
        {
          "output_type": "stream",
          "name": "stdout",
          "text": [
            "mpg             float64\n",
            "cylinders         int64\n",
            "displacement    float64\n",
            "horsepower       object\n",
            "weight            int64\n",
            "acceleration    float64\n",
            "model year        int64\n",
            "orign             int64\n",
            "name             object\n",
            "kpl             float64\n",
            "dtype: object\n",
            "\n",
            "\n",
            "['130' '165' '150' '140' '198' '220' '215' '225' '190' '170' '160' '95'\n",
            " '97' '85' '88' '46' '87' '90' '113' '200' '210' '193' '?' '100' '105'\n",
            " '175' '153' '180' '110' '72' '86' '70' '76' '65' '69' '60' '80' '54'\n",
            " '208' '155' '112' '92' '145' '137' '158' '167' '94' '107' '230' '49' '75'\n",
            " '91' '122' '67' '83' '78' '52' '61' '93' '148' '129' '96' '71' '98' '115'\n",
            " '53' '81' '79' '120' '152' '102' '108' '68' '58' '149' '89' '63' '48'\n",
            " '66' '139' '103' '125' '133' '138' '135' '142' '77' '62' '132' '84' '64'\n",
            " '74' '116' '82']\n",
            "\n",
            "\n"
          ]
        }
      ],
      "source": [
        "print(df.dtypes)\n",
        "print('\\n')\n",
        "\n",
        "print(df['horsepower'].unique())\n",
        "print('\\n')"
      ]
    },
    {
      "cell_type": "code",
      "execution_count": 23,
      "id": "f07a7f9c",
      "metadata": {
        "id": "f07a7f9c",
        "outputId": "ee4d1811-932e-41e7-fc54-3589efdb1b4d",
        "colab": {
          "base_uri": "https://localhost:8080/"
        }
      },
      "outputs": [
        {
          "output_type": "stream",
          "name": "stdout",
          "text": [
            "[1 3 2]\n"
          ]
        }
      ],
      "source": [
        "print(df['orign'].unique())"
      ]
    },
    {
      "cell_type": "code",
      "execution_count": 24,
      "id": "3ae817ec",
      "metadata": {
        "id": "3ae817ec",
        "outputId": "140651fc-0a70-4398-a338-9dbbb7563490",
        "colab": {
          "base_uri": "https://localhost:8080/"
        }
      },
      "outputs": [
        {
          "output_type": "stream",
          "name": "stdout",
          "text": [
            "['USA' 'JAPAN' 'EU']\n",
            "object\n",
            "\n",
            "\n"
          ]
        }
      ],
      "source": [
        "df['orign'].replace({1:'USA', 2:'EU', 3:'JAPAN'}, inplace=True)\n",
        "\n",
        "print(df['orign'].unique())\n",
        "print(df['orign'].dtypes)\n",
        "print('\\n')"
      ]
    },
    {
      "cell_type": "code",
      "execution_count": 25,
      "id": "f4bc60be",
      "metadata": {
        "id": "f4bc60be",
        "outputId": "afd01396-c7db-4736-bfa6-7b13bbec00fc",
        "colab": {
          "base_uri": "https://localhost:8080/"
        }
      },
      "outputs": [
        {
          "output_type": "stream",
          "name": "stdout",
          "text": [
            "category\n",
            "object\n"
          ]
        }
      ],
      "source": [
        "df['orign'] = df['orign'].astype('category')\n",
        "print(df['orign'].dtypes)\n",
        "\n",
        "df['orign'] = df['orign'].astype('str')\n",
        "print(df['orign'].dtypes)"
      ]
    },
    {
      "cell_type": "code",
      "execution_count": 26,
      "id": "49a41bca",
      "metadata": {
        "id": "49a41bca",
        "outputId": "faca8ad1-c463-4a14-fe69-d8fa036df02e",
        "colab": {
          "base_uri": "https://localhost:8080/"
        }
      },
      "outputs": [
        {
          "output_type": "stream",
          "name": "stdout",
          "text": [
            "227    77\n",
            "315    80\n",
            "32     71\n",
            "Name: model year, dtype: int64\n",
            "178    75\n",
            "241    77\n",
            "215    76\n",
            "Name: model year, dtype: category\n",
            "Categories (13, int64): [70, 71, 72, 73, ..., 79, 80, 81, 82]\n"
          ]
        }
      ],
      "source": [
        "print(df['model year'].sample(3))\n",
        "df['model year'] = df['model year'].astype('category')\n",
        "print(df['model year'].sample(3))"
      ]
    },
    {
      "cell_type": "markdown",
      "id": "db469a6a",
      "metadata": {
        "id": "db469a6a"
      },
      "source": [
        "### Categorical Data Conversion (Division of Sections)"
      ]
    },
    {
      "cell_type": "code",
      "execution_count": 27,
      "id": "f740a0c0",
      "metadata": {
        "id": "f740a0c0"
      },
      "outputs": [],
      "source": [
        "df = pd.read_csv('./auto-mpg.csv', header=None)\n",
        "\n",
        "df.columns = ['mpg', 'cylinders', 'displacement', 'horsepower', 'weight',\n",
        "              'acceleration', 'model year', 'orign', 'name']\n",
        "\n",
        "df['horsepower'].replace('?', np.nan, inplace=True)\n",
        "df.dropna(subset=['horsepower'], axis=0, inplace=True)\n",
        "df['horsepower'] = df['horsepower'].astype('float')"
      ]
    },
    {
      "cell_type": "code",
      "execution_count": 28,
      "id": "8f3ed70a",
      "metadata": {
        "id": "8f3ed70a",
        "outputId": "c52d50da-dc50-4084-ad40-79e4e168d55f",
        "colab": {
          "base_uri": "https://localhost:8080/"
        }
      },
      "outputs": [
        {
          "output_type": "stream",
          "name": "stdout",
          "text": [
            "[ 46.         107.33333333 168.66666667 230.        ]\n"
          ]
        }
      ],
      "source": [
        "count, bin_dividers = np.histogram(df['horsepower'], bins=3)\n",
        "print(bin_dividers)"
      ]
    },
    {
      "cell_type": "code",
      "execution_count": 29,
      "id": "3989bacf",
      "metadata": {
        "id": "3989bacf",
        "outputId": "71fb112c-431a-45fa-fca1-1f1b70cf8c04",
        "colab": {
          "base_uri": "https://localhost:8080/"
        }
      },
      "outputs": [
        {
          "output_type": "stream",
          "name": "stdout",
          "text": [
            "    horsepower         hp_bin\n",
            "0        130.0  Normal output\n",
            "1        165.0  Normal output\n",
            "2        150.0  Normal output\n",
            "3        150.0  Normal output\n",
            "4        140.0  Normal output\n",
            "5        198.0    High output\n",
            "6        220.0    High output\n",
            "7        215.0    High output\n",
            "8        225.0    High output\n",
            "9        190.0    High output\n",
            "10       170.0    High output\n",
            "11       160.0  Normal output\n",
            "12       150.0  Normal output\n",
            "13       225.0    High output\n",
            "14        95.0     Low output\n"
          ]
        }
      ],
      "source": [
        "bin_names = ['Low output', 'Normal output', 'High output']\n",
        "\n",
        "df['hp_bin'] = pd.cut(x=df['horsepower'],\n",
        "                     bins=bin_dividers,\n",
        "                     labels=bin_names,\n",
        "                     include_lowest=True)\n",
        "\n",
        "print(df[['horsepower', 'hp_bin']].head(15))"
      ]
    },
    {
      "cell_type": "markdown",
      "id": "cd7f9b96",
      "metadata": {
        "id": "cd7f9b96"
      },
      "source": [
        "### Categorical Data Conversion (Divisions of Sections)"
      ]
    },
    {
      "cell_type": "code",
      "execution_count": 30,
      "id": "bf8c1c34",
      "metadata": {
        "id": "bf8c1c34"
      },
      "outputs": [],
      "source": [
        "df = pd.read_csv('./auto-mpg.csv', header=None)\n",
        "\n",
        "df.columns = ['mpg', 'cylinders', 'displacement', 'horsepower', 'weight',\n",
        "              'acceleration', 'model year', 'orign', 'name']\n",
        "\n",
        "df['horsepower'].replace('?', np.nan, inplace=True)\n",
        "df.dropna(subset=['horsepower'], axis=0, inplace=True)\n",
        "df['horsepower'] = df['horsepower'].astype('float')\n",
        "\n",
        "count, bin_dividers = np.histogram(df['horsepower'], bins=3)\n",
        "bin_names = ['Low output', 'Normal output', 'High output']"
      ]
    },
    {
      "cell_type": "markdown",
      "id": "af49e529",
      "metadata": {
        "id": "af49e529"
      },
      "source": [
        "### One-Hot Vector"
      ]
    },
    {
      "cell_type": "code",
      "execution_count": 31,
      "id": "e1818b02",
      "metadata": {
        "id": "e1818b02",
        "outputId": "e6d92330-9dd5-43da-a072-b7f0214bd454",
        "colab": {
          "base_uri": "https://localhost:8080/"
        }
      },
      "outputs": [
        {
          "output_type": "stream",
          "name": "stdout",
          "text": [
            "    Low output  Normal output  High output\n",
            "0            0              1            0\n",
            "1            0              1            0\n",
            "2            0              1            0\n",
            "3            0              1            0\n",
            "4            0              1            0\n",
            "5            0              0            1\n",
            "6            0              0            1\n",
            "7            0              0            1\n",
            "8            0              0            1\n",
            "9            0              0            1\n",
            "10           0              0            1\n",
            "11           0              1            0\n",
            "12           0              1            0\n",
            "13           0              0            1\n",
            "14           1              0            0\n"
          ]
        }
      ],
      "source": [
        "df['hp_bin'] = pd.cut(x=df['horsepower'],\n",
        "                     bins=bin_dividers,\n",
        "                     labels=bin_names,\n",
        "                     include_lowest=True)\n",
        "\n",
        "horsepower_dummies = pd.get_dummies(df['hp_bin']).astype('int')\n",
        "print(horsepower_dummies.head(15))"
      ]
    },
    {
      "cell_type": "markdown",
      "source": [
        "# Get Dummies\n",
        "\n",
        "En la documentación [link](https://pandas.pydata.org/docs/reference/api/pandas.get_dummies.html) encontramos el parámetro drop_first que yo lo recomiendo"
      ],
      "metadata": {
        "id": "asPNpqv6Jfe9"
      },
      "id": "asPNpqv6Jfe9"
    },
    {
      "cell_type": "code",
      "source": [
        "horsepower_dummies_1 = pd.get_dummies(df['hp_bin'],drop_first = True)\n",
        "print(horsepower_dummies_1)"
      ],
      "metadata": {
        "id": "WYGzWbmnH2dE",
        "outputId": "4dbf39b7-6d19-4326-b1ae-23c11804e51d",
        "colab": {
          "base_uri": "https://localhost:8080/"
        }
      },
      "id": "WYGzWbmnH2dE",
      "execution_count": 38,
      "outputs": [
        {
          "output_type": "stream",
          "name": "stdout",
          "text": [
            "     Normal output  High output\n",
            "0             True        False\n",
            "1             True        False\n",
            "2             True        False\n",
            "3             True        False\n",
            "4             True        False\n",
            "..             ...          ...\n",
            "393          False        False\n",
            "394          False        False\n",
            "395          False        False\n",
            "396          False        False\n",
            "397          False        False\n",
            "\n",
            "[392 rows x 2 columns]\n"
          ]
        }
      ]
    },
    {
      "cell_type": "code",
      "source": [
        "df.columns"
      ],
      "metadata": {
        "id": "K1id5X3AFMNQ",
        "outputId": "c01ac56f-39a7-4a7b-d1f5-47fdc40e5277",
        "colab": {
          "base_uri": "https://localhost:8080/"
        }
      },
      "id": "K1id5X3AFMNQ",
      "execution_count": 39,
      "outputs": [
        {
          "output_type": "execute_result",
          "data": {
            "text/plain": [
              "Index(['mpg', 'cylinders', 'displacement', 'horsepower', 'weight',\n",
              "       'acceleration', 'model year', 'orign', 'name', 'hp_bin'],\n",
              "      dtype='object')"
            ]
          },
          "metadata": {},
          "execution_count": 39
        }
      ]
    },
    {
      "cell_type": "markdown",
      "id": "ba480c19",
      "metadata": {
        "id": "ba480c19"
      },
      "source": [
        "### Normalization"
      ]
    },
    {
      "cell_type": "code",
      "execution_count": 32,
      "id": "2ea7db3a",
      "metadata": {
        "id": "2ea7db3a",
        "outputId": "29e3d3be-8fa5-49e2-8f60-86fe3702ac92",
        "colab": {
          "base_uri": "https://localhost:8080/"
        }
      },
      "outputs": [
        {
          "output_type": "stream",
          "name": "stdout",
          "text": [
            "count    392.000000\n",
            "mean     104.469388\n",
            "std       38.491160\n",
            "min       46.000000\n",
            "25%       75.000000\n",
            "50%       93.500000\n",
            "75%      126.000000\n",
            "max      230.000000\n",
            "Name: horsepower, dtype: float64\n",
            "\n",
            "\n",
            "0    0.565217\n",
            "1    0.717391\n",
            "2    0.652174\n",
            "3    0.652174\n",
            "4    0.608696\n",
            "Name: horsepower, dtype: float64\n",
            "\n",
            "\n",
            "count    392.000000\n",
            "mean       0.454215\n",
            "std        0.167353\n",
            "min        0.200000\n",
            "25%        0.326087\n",
            "50%        0.406522\n",
            "75%        0.547826\n",
            "max        1.000000\n",
            "Name: horsepower, dtype: float64\n"
          ]
        }
      ],
      "source": [
        "print(df.horsepower.describe())\n",
        "print('\\n')\n",
        "\n",
        "df.horsepower = df.horsepower / abs(df.horsepower.max())\n",
        "\n",
        "print(df.horsepower.head())\n",
        "print('\\n')\n",
        "print(df.horsepower.describe())"
      ]
    }
  ],
  "metadata": {
    "kernelspec": {
      "display_name": "Python 3 (ipykernel)",
      "language": "python",
      "name": "python3"
    },
    "language_info": {
      "codemirror_mode": {
        "name": "ipython",
        "version": 3
      },
      "file_extension": ".py",
      "mimetype": "text/x-python",
      "name": "python",
      "nbconvert_exporter": "python",
      "pygments_lexer": "ipython3",
      "version": "3.10.11"
    },
    "colab": {
      "provenance": [],
      "include_colab_link": true
    }
  },
  "nbformat": 4,
  "nbformat_minor": 5
}