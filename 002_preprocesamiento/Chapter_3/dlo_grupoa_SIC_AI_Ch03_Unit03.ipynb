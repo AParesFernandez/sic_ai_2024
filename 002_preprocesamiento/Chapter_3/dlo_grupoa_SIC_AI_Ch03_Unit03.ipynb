{
  "cells": [
    {
      "cell_type": "markdown",
      "metadata": {
        "id": "view-in-github",
        "colab_type": "text"
      },
      "source": [
        "<a href=\"https://colab.research.google.com/github/davidlealo/sic_ai_2024/blob/main/002_preprocesamiento/Chapter_3/dlo_grupoa_SIC_AI_Ch03_Unit03.ipynb\" target=\"_parent\"><img src=\"https://colab.research.google.com/assets/colab-badge.svg\" alt=\"Open In Colab\"/></a>"
      ]
    },
    {
      "cell_type": "markdown",
      "id": "62029e4e",
      "metadata": {
        "id": "62029e4e"
      },
      "source": [
        "## 3.3. Checking for Missing Data"
      ]
    },
    {
      "cell_type": "code",
      "execution_count": 1,
      "id": "37022372",
      "metadata": {
        "id": "37022372"
      },
      "outputs": [],
      "source": [
        "import pandas as pd\n",
        "import numpy as np"
      ]
    },
    {
      "cell_type": "markdown",
      "id": "263be8c3",
      "metadata": {
        "id": "263be8c3"
      },
      "source": [
        "### Missing Value"
      ]
    },
    {
      "cell_type": "code",
      "execution_count": 19,
      "id": "8dd809e8",
      "metadata": {
        "id": "8dd809e8",
        "outputId": "f92fd76d-a1cc-436b-d19e-6ec0a888e41d",
        "colab": {
          "base_uri": "https://localhost:8080/"
        }
      },
      "outputs": [
        {
          "output_type": "stream",
          "name": "stdout",
          "text": [
            "deck\n",
            "NaN    688\n",
            "C       59\n",
            "B       47\n",
            "D       33\n",
            "E       32\n",
            "A       15\n",
            "F       13\n",
            "G        4\n",
            "Name: count, dtype: int64\n"
          ]
        }
      ],
      "source": [
        "import seaborn as sns\n",
        "df = sns.load_dataset('titanic')\n",
        "nan_deck = df['deck'].value_counts(dropna=False)\n",
        "print(nan_deck)"
      ]
    },
    {
      "cell_type": "code",
      "source": [
        "df.isnull().sum()"
      ],
      "metadata": {
        "id": "DIv1cZchEFWx",
        "outputId": "85c68441-2b00-4df4-b544-7c6f18d632b8",
        "colab": {
          "base_uri": "https://localhost:8080/"
        }
      },
      "id": "DIv1cZchEFWx",
      "execution_count": 20,
      "outputs": [
        {
          "output_type": "execute_result",
          "data": {
            "text/plain": [
              "survived         0\n",
              "pclass           0\n",
              "sex              0\n",
              "age            177\n",
              "sibsp            0\n",
              "parch            0\n",
              "fare             0\n",
              "embarked         2\n",
              "class            0\n",
              "who              0\n",
              "adult_male       0\n",
              "deck           688\n",
              "embark_town      2\n",
              "alive            0\n",
              "alone            0\n",
              "dtype: int64"
            ]
          },
          "metadata": {},
          "execution_count": 20
        }
      ]
    },
    {
      "cell_type": "code",
      "execution_count": 3,
      "id": "7ae70296",
      "metadata": {
        "id": "7ae70296",
        "outputId": "020e0f6d-9d2e-42e9-a5b7-ffca9c441816",
        "colab": {
          "base_uri": "https://localhost:8080/"
        }
      },
      "outputs": [
        {
          "output_type": "stream",
          "name": "stdout",
          "text": [
            "   survived  pclass    sex    age  sibsp  parch   fare  embarked  class  \\\n",
            "0     False   False  False  False  False  False  False     False  False   \n",
            "1     False   False  False  False  False  False  False     False  False   \n",
            "2     False   False  False  False  False  False  False     False  False   \n",
            "3     False   False  False  False  False  False  False     False  False   \n",
            "4     False   False  False  False  False  False  False     False  False   \n",
            "\n",
            "     who  adult_male   deck  embark_town  alive  alone  \n",
            "0  False       False   True        False  False  False  \n",
            "1  False       False  False        False  False  False  \n",
            "2  False       False   True        False  False  False  \n",
            "3  False       False  False        False  False  False  \n",
            "4  False       False   True        False  False  False  \n"
          ]
        }
      ],
      "source": [
        "print(df.head().isnull())"
      ]
    },
    {
      "cell_type": "code",
      "execution_count": 4,
      "id": "aea4b69b",
      "metadata": {
        "id": "aea4b69b",
        "outputId": "35a27819-0418-4f33-a400-94a6c52b9b04",
        "colab": {
          "base_uri": "https://localhost:8080/"
        }
      },
      "outputs": [
        {
          "output_type": "stream",
          "name": "stdout",
          "text": [
            "   survived  pclass   sex   age  sibsp  parch  fare  embarked  class   who  \\\n",
            "0      True    True  True  True   True   True  True      True   True  True   \n",
            "1      True    True  True  True   True   True  True      True   True  True   \n",
            "2      True    True  True  True   True   True  True      True   True  True   \n",
            "3      True    True  True  True   True   True  True      True   True  True   \n",
            "4      True    True  True  True   True   True  True      True   True  True   \n",
            "\n",
            "   adult_male   deck  embark_town  alive  alone  \n",
            "0        True  False         True   True   True  \n",
            "1        True   True         True   True   True  \n",
            "2        True  False         True   True   True  \n",
            "3        True   True         True   True   True  \n",
            "4        True  False         True   True   True  \n"
          ]
        }
      ],
      "source": [
        "print(df.head().notnull())"
      ]
    },
    {
      "cell_type": "code",
      "execution_count": 5,
      "id": "9bf9c4db",
      "metadata": {
        "id": "9bf9c4db",
        "outputId": "dc9b8894-efa7-432f-9f09-0455c091ff4c",
        "colab": {
          "base_uri": "https://localhost:8080/"
        }
      },
      "outputs": [
        {
          "output_type": "stream",
          "name": "stdout",
          "text": [
            "survived       0\n",
            "pclass         0\n",
            "sex            0\n",
            "age            0\n",
            "sibsp          0\n",
            "parch          0\n",
            "fare           0\n",
            "embarked       0\n",
            "class          0\n",
            "who            0\n",
            "adult_male     0\n",
            "deck           3\n",
            "embark_town    0\n",
            "alive          0\n",
            "alone          0\n",
            "dtype: int64\n"
          ]
        }
      ],
      "source": [
        "print(df.head().isnull().sum(axis=0))"
      ]
    },
    {
      "cell_type": "code",
      "source": [
        "df.shape"
      ],
      "metadata": {
        "id": "Yxej0es0EZHD",
        "outputId": "548937c8-83b2-4bef-b23d-423d6435aa8e",
        "colab": {
          "base_uri": "https://localhost:8080/"
        }
      },
      "id": "Yxej0es0EZHD",
      "execution_count": 21,
      "outputs": [
        {
          "output_type": "execute_result",
          "data": {
            "text/plain": [
              "(891, 15)"
            ]
          },
          "metadata": {},
          "execution_count": 21
        }
      ]
    },
    {
      "cell_type": "code",
      "source": [
        "# DataFrame de df age = na por survived\n",
        "df['age_is_nan'] = df['age'].isna()\n",
        "result = df.groupby(['age_is_nan', 'survived']).size().reset_index(name='count')\n",
        "\n",
        "print(result)"
      ],
      "metadata": {
        "id": "MUdZ3ZooE_Yt",
        "outputId": "06d9179b-a75f-4e32-c25b-1bed9c025b60",
        "colab": {
          "base_uri": "https://localhost:8080/"
        }
      },
      "id": "MUdZ3ZooE_Yt",
      "execution_count": 25,
      "outputs": [
        {
          "output_type": "stream",
          "name": "stdout",
          "text": [
            "   age_is_nan  survived  count\n",
            "0       False         0    424\n",
            "1       False         1    290\n",
            "2        True         0    125\n",
            "3        True         1     52\n"
          ]
        }
      ]
    },
    {
      "cell_type": "code",
      "execution_count": 6,
      "id": "420e99ac",
      "metadata": {
        "id": "420e99ac",
        "outputId": "9737f9c1-2000-4bf7-c6bf-377c2295b04b",
        "colab": {
          "base_uri": "https://localhost:8080/"
        }
      },
      "outputs": [
        {
          "output_type": "stream",
          "name": "stdout",
          "text": [
            "Index(['survived', 'pclass', 'sex', 'age', 'sibsp', 'parch', 'fare',\n",
            "       'embarked', 'class', 'who', 'adult_male', 'embark_town', 'alive',\n",
            "       'alone'],\n",
            "      dtype='object')\n"
          ]
        }
      ],
      "source": [
        "df_thresh = df.dropna(axis=1, thresh=500)\n",
        "print(df_thresh.columns)"
      ]
    },
    {
      "cell_type": "code",
      "execution_count": 7,
      "id": "160f7cd8",
      "metadata": {
        "id": "160f7cd8",
        "outputId": "507ead11-e234-45cb-ff59-cf42ffdb3eda",
        "colab": {
          "base_uri": "https://localhost:8080/"
        }
      },
      "outputs": [
        {
          "output_type": "stream",
          "name": "stdout",
          "text": [
            "714\n"
          ]
        }
      ],
      "source": [
        "df_age = df.dropna(subset=['age'], how='any', axis=0)\n",
        "print(len(df_age))"
      ]
    },
    {
      "cell_type": "markdown",
      "id": "295775c6",
      "metadata": {
        "id": "295775c6"
      },
      "source": [
        "### Replacing Missing Values"
      ]
    },
    {
      "cell_type": "code",
      "execution_count": 8,
      "id": "f70b459d",
      "metadata": {
        "id": "f70b459d",
        "outputId": "7b43d6c8-e1c9-4472-9022-848ecf484f61",
        "colab": {
          "base_uri": "https://localhost:8080/"
        }
      },
      "outputs": [
        {
          "output_type": "stream",
          "name": "stdout",
          "text": [
            "0    22.000000\n",
            "1    38.000000\n",
            "2    26.000000\n",
            "3    35.000000\n",
            "4    35.000000\n",
            "5    29.699118\n",
            "6    54.000000\n",
            "7     2.000000\n",
            "8    27.000000\n",
            "9    14.000000\n",
            "Name: age, dtype: float64\n"
          ]
        }
      ],
      "source": [
        "mean_age = df['age'].mean(axis=0)\n",
        "df['age'].fillna(mean_age, inplace=True)\n",
        "print(df['age'].head(10))"
      ]
    },
    {
      "cell_type": "markdown",
      "id": "31f28d3c",
      "metadata": {
        "id": "31f28d3c"
      },
      "source": [
        "### Practice with Missing Data"
      ]
    },
    {
      "cell_type": "code",
      "execution_count": 9,
      "id": "f5444756",
      "metadata": {
        "id": "f5444756",
        "outputId": "b5b58b79-dc7e-4bea-af0d-07da802ebf8e",
        "colab": {
          "base_uri": "https://localhost:8080/"
        }
      },
      "outputs": [
        {
          "output_type": "stream",
          "name": "stdout",
          "text": [
            "825     Queenstown\n",
            "826    Southampton\n",
            "827      Cherbourg\n",
            "828     Queenstown\n",
            "829            NaN\n",
            "Name: embark_town, dtype: object\n",
            "\n",
            "\n"
          ]
        }
      ],
      "source": [
        "df = sns.load_dataset('titanic')\n",
        "print(df['embark_town'][825:830])\n",
        "print('\\n')"
      ]
    },
    {
      "cell_type": "code",
      "execution_count": 10,
      "id": "d4c64de7",
      "metadata": {
        "id": "d4c64de7",
        "outputId": "11f94c7b-2a86-4ff3-f8b2-39c1f6e0ce04",
        "colab": {
          "base_uri": "https://localhost:8080/"
        }
      },
      "outputs": [
        {
          "output_type": "stream",
          "name": "stdout",
          "text": [
            "Southampton\n",
            "\n",
            "\n"
          ]
        }
      ],
      "source": [
        "most_freq = df['embark_town'].value_counts(dropna=True).idxmax()\n",
        "print(most_freq)\n",
        "print('\\n')"
      ]
    },
    {
      "cell_type": "code",
      "execution_count": 11,
      "id": "d92be054",
      "metadata": {
        "id": "d92be054",
        "outputId": "179ca6d4-3032-4862-e69b-1feca88891fc",
        "colab": {
          "base_uri": "https://localhost:8080/"
        }
      },
      "outputs": [
        {
          "output_type": "stream",
          "name": "stdout",
          "text": [
            "825     Queenstown\n",
            "826    Southampton\n",
            "827      Cherbourg\n",
            "828     Queenstown\n",
            "829    Southampton\n",
            "Name: embark_town, dtype: object\n"
          ]
        }
      ],
      "source": [
        "df['embark_town'].fillna(most_freq, inplace=True)\n",
        "print(df['embark_town'][825:830])"
      ]
    },
    {
      "cell_type": "code",
      "execution_count": 12,
      "id": "816798b0",
      "metadata": {
        "id": "816798b0",
        "outputId": "1d784727-a116-450a-8479-f51285b270e2",
        "colab": {
          "base_uri": "https://localhost:8080/"
        }
      },
      "outputs": [
        {
          "output_type": "stream",
          "name": "stdout",
          "text": [
            "825     Queenstown\n",
            "826    Southampton\n",
            "827      Cherbourg\n",
            "828     Queenstown\n",
            "829     Queenstown\n",
            "Name: embark_town, dtype: object\n"
          ]
        }
      ],
      "source": [
        "df = sns.load_dataset('titanic')\n",
        "df['embark_town'].fillna(method='ffill', inplace=True)\n",
        "print(df['embark_town'][825:830])"
      ]
    },
    {
      "cell_type": "markdown",
      "id": "8377ea75",
      "metadata": {
        "id": "8377ea75"
      },
      "source": [
        "## 3.4. Checking and Processing Duplicate Data"
      ]
    },
    {
      "cell_type": "markdown",
      "id": "73a08661",
      "metadata": {
        "id": "73a08661"
      },
      "source": [
        "### Processing Duplicate Data"
      ]
    },
    {
      "cell_type": "code",
      "execution_count": 13,
      "id": "a01e5a7c",
      "metadata": {
        "id": "a01e5a7c",
        "outputId": "1e926a3c-7d0e-4d9b-b702-31284e265cf0",
        "colab": {
          "base_uri": "https://localhost:8080/"
        }
      },
      "outputs": [
        {
          "output_type": "stream",
          "name": "stdout",
          "text": [
            "  c1  c2  c3\n",
            "0  a   1   1\n",
            "1  a   1   1\n",
            "2  b   1   2\n",
            "3  a   2   2\n",
            "4  b   2   2\n"
          ]
        }
      ],
      "source": [
        "import pandas as pd\n",
        "df = pd.DataFrame({'c1':['a', 'a', 'b', 'a', 'b'],\n",
        "                   'c2':[1, 1, 1, 2, 2],\n",
        "                   'c3':[1, 1, 2, 2, 2]})\n",
        "print(df)"
      ]
    },
    {
      "cell_type": "code",
      "execution_count": 14,
      "id": "4bfeeb43",
      "metadata": {
        "id": "4bfeeb43",
        "outputId": "fbc1a9fa-b8be-4ca2-b97f-5fbcf4f56788",
        "colab": {
          "base_uri": "https://localhost:8080/"
        }
      },
      "outputs": [
        {
          "output_type": "stream",
          "name": "stdout",
          "text": [
            "0    False\n",
            "1     True\n",
            "2    False\n",
            "3    False\n",
            "4    False\n",
            "dtype: bool\n"
          ]
        }
      ],
      "source": [
        "df_dup = df.duplicated()\n",
        "print(df_dup)"
      ]
    },
    {
      "cell_type": "code",
      "execution_count": 15,
      "id": "b07829e6",
      "metadata": {
        "id": "b07829e6",
        "outputId": "6ba3ece9-3555-41d4-de5c-9a48008edbbc",
        "colab": {
          "base_uri": "https://localhost:8080/"
        }
      },
      "outputs": [
        {
          "output_type": "stream",
          "name": "stdout",
          "text": [
            "0    False\n",
            "1     True\n",
            "2     True\n",
            "3    False\n",
            "4     True\n",
            "Name: c2, dtype: bool\n"
          ]
        }
      ],
      "source": [
        "col_dup = df['c2'].duplicated()\n",
        "print(col_dup)"
      ]
    },
    {
      "cell_type": "code",
      "execution_count": 16,
      "id": "d5851c65",
      "metadata": {
        "id": "d5851c65",
        "outputId": "ddba6718-976d-4275-db91-b8d81c18309d",
        "colab": {
          "base_uri": "https://localhost:8080/"
        }
      },
      "outputs": [
        {
          "output_type": "stream",
          "name": "stdout",
          "text": [
            "  c1  c2  c3\n",
            "0  a   1   1\n",
            "2  b   1   2\n",
            "3  a   2   2\n",
            "4  b   2   2\n"
          ]
        }
      ],
      "source": [
        "df2 = df.drop_duplicates()\n",
        "print(df2)"
      ]
    },
    {
      "cell_type": "code",
      "execution_count": 17,
      "id": "897ea34b",
      "metadata": {
        "id": "897ea34b",
        "outputId": "265aa0b1-1a05-41dd-90d7-ec949c8aae90",
        "colab": {
          "base_uri": "https://localhost:8080/"
        }
      },
      "outputs": [
        {
          "output_type": "stream",
          "name": "stdout",
          "text": [
            "  c1  c2  c3\n",
            "0  a   1   1\n",
            "2  b   1   2\n",
            "3  a   2   2\n"
          ]
        }
      ],
      "source": [
        "df3 = df.drop_duplicates(subset=['c2', 'c3'])\n",
        "print(df3)"
      ]
    },
    {
      "cell_type": "markdown",
      "id": "60b28b09",
      "metadata": {
        "id": "60b28b09"
      },
      "source": [
        "## 3.5. Data Feature Engineering"
      ]
    },
    {
      "cell_type": "markdown",
      "id": "127702df",
      "metadata": {
        "id": "127702df"
      },
      "source": [
        "### Matching the Same Measurement Unit Equally"
      ]
    },
    {
      "cell_type": "code",
      "source": [
        "!wget https://raw.githubusercontent.com/davidlealo/sic_ai_2024/main/002_preprocesamiento/Chapter_3/auto-mpg.csv"
      ],
      "metadata": {
        "id": "cvo4q0hSQqAM",
        "outputId": "8b04b37a-4946-45ab-ed2a-99a6c04a5d13",
        "colab": {
          "base_uri": "https://localhost:8080/"
        }
      },
      "id": "cvo4q0hSQqAM",
      "execution_count": 26,
      "outputs": [
        {
          "output_type": "stream",
          "name": "stdout",
          "text": [
            "--2024-07-24 01:02:45--  https://raw.githubusercontent.com/davidlealo/sic_ai_2024/main/002_preprocesamiento/Chapter_3/auto-mpg.csv\n",
            "Resolving raw.githubusercontent.com (raw.githubusercontent.com)... 185.199.108.133, 185.199.109.133, 185.199.110.133, ...\n",
            "Connecting to raw.githubusercontent.com (raw.githubusercontent.com)|185.199.108.133|:443... connected.\n",
            "HTTP request sent, awaiting response... 200 OK\n",
            "Length: 17647 (17K) [text/plain]\n",
            "Saving to: ‘auto-mpg.csv’\n",
            "\n",
            "auto-mpg.csv        100%[===================>]  17.23K  --.-KB/s    in 0s      \n",
            "\n",
            "2024-07-24 01:02:45 (66.0 MB/s) - ‘auto-mpg.csv’ saved [17647/17647]\n",
            "\n"
          ]
        }
      ]
    },
    {
      "cell_type": "code",
      "execution_count": 27,
      "id": "ec193d21",
      "metadata": {
        "id": "ec193d21",
        "outputId": "ff54659a-c989-48c0-888d-89380aedf3ba",
        "colab": {
          "base_uri": "https://localhost:8080/"
        }
      },
      "outputs": [
        {
          "output_type": "stream",
          "name": "stdout",
          "text": [
            "    mpg  cylinders  displacement horsepower  weight  acceleration  model year  \\\n",
            "0  18.0          8         307.0        130    3504          12.0          70   \n",
            "1  15.0          8         350.0        165    3693          11.5          70   \n",
            "2  18.0          8         318.0        150    3436          11.0          70   \n",
            "\n",
            "   orign                       name  \n",
            "0      1  chevrolet chevelle malibu  \n",
            "1      1          buick skylark 320  \n",
            "2      1         plymouth satellite  \n",
            "\n",
            "\n"
          ]
        }
      ],
      "source": [
        "df = pd.read_csv('./auto-mpg.csv', header=None)\n",
        "\n",
        "df.columns = ['mpg', 'cylinders', 'displacement', 'horsepower', 'weight',\n",
        "              'acceleration', 'model year', 'orign', 'name']\n",
        "print(df.head(3))\n",
        "print('\\n')"
      ]
    },
    {
      "cell_type": "code",
      "source": [
        "# Valores unicos de df.name\n",
        "print(df['name'].unique())"
      ],
      "metadata": {
        "id": "ysKv5mzXRrrV",
        "outputId": "adada4a8-62c2-4a93-e834-22d4efcaf527",
        "colab": {
          "base_uri": "https://localhost:8080/"
        }
      },
      "id": "ysKv5mzXRrrV",
      "execution_count": 29,
      "outputs": [
        {
          "output_type": "stream",
          "name": "stdout",
          "text": [
            "['chevrolet chevelle malibu' 'buick skylark 320' 'plymouth satellite'\n",
            " 'amc rebel sst' 'ford torino' 'ford galaxie 500' 'chevrolet impala'\n",
            " 'plymouth fury iii' 'pontiac catalina' 'amc ambassador dpl'\n",
            " 'dodge challenger se' \"plymouth 'cuda 340\" 'chevrolet monte carlo'\n",
            " 'buick estate wagon (sw)' 'toyota corona mark ii' 'plymouth duster'\n",
            " 'amc hornet' 'ford maverick' 'datsun pl510'\n",
            " 'volkswagen 1131 deluxe sedan' 'peugeot 504' 'audi 100 ls' 'saab 99e'\n",
            " 'bmw 2002' 'amc gremlin' 'ford f250' 'chevy c20' 'dodge d200' 'hi 1200d'\n",
            " 'chevrolet vega 2300' 'toyota corona' 'ford pinto'\n",
            " 'plymouth satellite custom' 'ford torino 500' 'amc matador'\n",
            " 'pontiac catalina brougham' 'dodge monaco (sw)'\n",
            " 'ford country squire (sw)' 'pontiac safari (sw)'\n",
            " 'amc hornet sportabout (sw)' 'chevrolet vega (sw)' 'pontiac firebird'\n",
            " 'ford mustang' 'mercury capri 2000' 'opel 1900' 'peugeot 304' 'fiat 124b'\n",
            " 'toyota corolla 1200' 'datsun 1200' 'volkswagen model 111'\n",
            " 'plymouth cricket' 'toyota corona hardtop' 'dodge colt hardtop'\n",
            " 'volkswagen type 3' 'chevrolet vega' 'ford pinto runabout'\n",
            " 'amc ambassador sst' 'mercury marquis' 'buick lesabre custom'\n",
            " 'oldsmobile delta 88 royale' 'chrysler newport royal' 'mazda rx2 coupe'\n",
            " 'amc matador (sw)' 'chevrolet chevelle concours (sw)'\n",
            " 'ford gran torino (sw)' 'plymouth satellite custom (sw)'\n",
            " 'volvo 145e (sw)' 'volkswagen 411 (sw)' 'peugeot 504 (sw)'\n",
            " 'renault 12 (sw)' 'ford pinto (sw)' 'datsun 510 (sw)'\n",
            " 'toyouta corona mark ii (sw)' 'dodge colt (sw)'\n",
            " 'toyota corolla 1600 (sw)' 'buick century 350' 'chevrolet malibu'\n",
            " 'ford gran torino' 'dodge coronet custom' 'mercury marquis brougham'\n",
            " 'chevrolet caprice classic' 'ford ltd' 'plymouth fury gran sedan'\n",
            " 'chrysler new yorker brougham' 'buick electra 225 custom'\n",
            " 'amc ambassador brougham' 'plymouth valiant' 'chevrolet nova custom'\n",
            " 'volkswagen super beetle' 'ford country' 'plymouth custom suburb'\n",
            " 'oldsmobile vista cruiser' 'toyota carina' 'datsun 610' 'maxda rx3'\n",
            " 'mercury capri v6' 'fiat 124 sport coupe' 'chevrolet monte carlo s'\n",
            " 'pontiac grand prix' 'fiat 128' 'opel manta' 'audi 100ls' 'volvo 144ea'\n",
            " 'dodge dart custom' 'saab 99le' 'toyota mark ii' 'oldsmobile omega'\n",
            " 'chevrolet nova' 'datsun b210' 'chevrolet chevelle malibu classic'\n",
            " 'plymouth satellite sebring' 'buick century luxus (sw)'\n",
            " 'dodge coronet custom (sw)' 'audi fox' 'volkswagen dasher' 'datsun 710'\n",
            " 'dodge colt' 'fiat 124 tc' 'honda civic' 'subaru' 'fiat x1.9'\n",
            " 'plymouth valiant custom' 'mercury monarch' 'chevrolet bel air'\n",
            " 'plymouth grand fury' 'buick century' 'chevroelt chevelle malibu'\n",
            " 'plymouth fury' 'buick skyhawk' 'chevrolet monza 2+2' 'ford mustang ii'\n",
            " 'toyota corolla' 'pontiac astro' 'volkswagen rabbit' 'amc pacer'\n",
            " 'volvo 244dl' 'honda civic cvcc' 'fiat 131' 'capri ii' 'renault 12tl'\n",
            " 'dodge coronet brougham' 'chevrolet chevette' 'chevrolet woody'\n",
            " 'vw rabbit' 'dodge aspen se' 'ford granada ghia' 'pontiac ventura sj'\n",
            " 'amc pacer d/l' 'datsun b-210' 'volvo 245' 'plymouth volare premier v8'\n",
            " 'mercedes-benz 280s' 'cadillac seville' 'chevy c10' 'ford f108'\n",
            " 'dodge d100' 'honda accord cvcc' 'buick opel isuzu deluxe'\n",
            " 'renault 5 gtl' 'plymouth arrow gs' 'datsun f-10 hatchback'\n",
            " 'oldsmobile cutlass supreme' 'dodge monaco brougham'\n",
            " 'mercury cougar brougham' 'chevrolet concours' 'buick skylark'\n",
            " 'plymouth volare custom' 'ford granada' 'pontiac grand prix lj'\n",
            " 'chevrolet monte carlo landau' 'chrysler cordoba' 'ford thunderbird'\n",
            " 'volkswagen rabbit custom' 'pontiac sunbird coupe'\n",
            " 'toyota corolla liftback' 'ford mustang ii 2+2' 'dodge colt m/m'\n",
            " 'subaru dl' 'datsun 810' 'bmw 320i' 'mazda rx-4'\n",
            " 'volkswagen rabbit custom diesel' 'ford fiesta' 'mazda glc deluxe'\n",
            " 'datsun b210 gx' 'oldsmobile cutlass salon brougham' 'dodge diplomat'\n",
            " 'mercury monarch ghia' 'pontiac phoenix lj' 'ford fairmont (auto)'\n",
            " 'ford fairmont (man)' 'plymouth volare' 'amc concord'\n",
            " 'buick century special' 'mercury zephyr' 'dodge aspen' 'amc concord d/l'\n",
            " 'buick regal sport coupe (turbo)' 'ford futura' 'dodge magnum xe'\n",
            " 'datsun 510' 'dodge omni' 'toyota celica gt liftback' 'plymouth sapporo'\n",
            " 'oldsmobile starfire sx' 'datsun 200-sx' 'audi 5000' 'volvo 264gl'\n",
            " 'saab 99gle' 'peugeot 604sl' 'volkswagen scirocco' 'honda accord lx'\n",
            " 'pontiac lemans v6' 'mercury zephyr 6' 'ford fairmont 4'\n",
            " 'amc concord dl 6' 'dodge aspen 6' 'ford ltd landau'\n",
            " 'mercury grand marquis' 'dodge st. regis' 'chevrolet malibu classic (sw)'\n",
            " 'chrysler lebaron town @ country (sw)' 'vw rabbit custom'\n",
            " 'maxda glc deluxe' 'dodge colt hatchback custom' 'amc spirit dl'\n",
            " 'mercedes benz 300d' 'cadillac eldorado' 'plymouth horizon'\n",
            " 'plymouth horizon tc3' 'datsun 210' 'fiat strada custom'\n",
            " 'buick skylark limited' 'chevrolet citation' 'oldsmobile omega brougham'\n",
            " 'pontiac phoenix' 'toyota corolla tercel' 'datsun 310' 'ford fairmont'\n",
            " 'audi 4000' 'toyota corona liftback' 'mazda 626' 'datsun 510 hatchback'\n",
            " 'mazda glc' 'vw rabbit c (diesel)' 'vw dasher (diesel)'\n",
            " 'audi 5000s (diesel)' 'mercedes-benz 240d' 'honda civic 1500 gl'\n",
            " 'renault lecar deluxe' 'vokswagen rabbit' 'datsun 280-zx' 'mazda rx-7 gs'\n",
            " 'triumph tr7 coupe' 'ford mustang cobra' 'honda accord'\n",
            " 'plymouth reliant' 'dodge aries wagon (sw)' 'toyota starlet'\n",
            " 'plymouth champ' 'honda civic 1300' 'datsun 210 mpg' 'toyota tercel'\n",
            " 'mazda glc 4' 'plymouth horizon 4' 'ford escort 4w' 'ford escort 2h'\n",
            " 'volkswagen jetta' 'renault 18i' 'honda prelude' 'datsun 200sx'\n",
            " 'peugeot 505s turbo diesel' 'volvo diesel' 'toyota cressida'\n",
            " 'datsun 810 maxima' 'oldsmobile cutlass ls' 'ford granada gl'\n",
            " 'chrysler lebaron salon' 'chevrolet cavalier' 'chevrolet cavalier wagon'\n",
            " 'chevrolet cavalier 2-door' 'pontiac j2000 se hatchback' 'dodge aries se'\n",
            " 'ford fairmont futura' 'amc concord dl' 'volkswagen rabbit l'\n",
            " 'mazda glc custom l' 'mazda glc custom' 'plymouth horizon miser'\n",
            " 'mercury lynx l' 'nissan stanza xe' 'honda civic (auto)' 'datsun 310 gx'\n",
            " 'buick century limited' 'oldsmobile cutlass ciera (diesel)'\n",
            " 'chrysler lebaron medallion' 'ford granada l' 'toyota celica gt'\n",
            " 'dodge charger 2.2' 'chevrolet camaro' 'ford mustang gl' 'vw pickup'\n",
            " 'dodge rampage' 'ford ranger' 'chevy s-10']\n"
          ]
        }
      ]
    },
    {
      "cell_type": "code",
      "source": [
        "print(df['name'].unique().sum())"
      ],
      "metadata": {
        "id": "31ENtw_2RzK1",
        "outputId": "6c0461ff-6614-4eab-9be3-c23893e2149f",
        "colab": {
          "base_uri": "https://localhost:8080/"
        }
      },
      "id": "31ENtw_2RzK1",
      "execution_count": 30,
      "outputs": [
        {
          "output_type": "stream",
          "name": "stdout",
          "text": [
            "chevrolet chevelle malibubuick skylark 320plymouth satelliteamc rebel sstford torinoford galaxie 500chevrolet impalaplymouth fury iiipontiac catalinaamc ambassador dpldodge challenger seplymouth 'cuda 340chevrolet monte carlobuick estate wagon (sw)toyota corona mark iiplymouth dusteramc hornetford maverickdatsun pl510volkswagen 1131 deluxe sedanpeugeot 504audi 100 lssaab 99ebmw 2002amc gremlinford f250chevy c20dodge d200hi 1200dchevrolet vega 2300toyota coronaford pintoplymouth satellite customford torino 500amc matadorpontiac catalina broughamdodge monaco (sw)ford country squire (sw)pontiac safari (sw)amc hornet sportabout (sw)chevrolet vega (sw)pontiac firebirdford mustangmercury capri 2000opel 1900peugeot 304fiat 124btoyota corolla 1200datsun 1200volkswagen model 111plymouth crickettoyota corona hardtopdodge colt hardtopvolkswagen type 3chevrolet vegaford pinto runaboutamc ambassador sstmercury marquisbuick lesabre customoldsmobile delta 88 royalechrysler newport royalmazda rx2 coupeamc matador (sw)chevrolet chevelle concours (sw)ford gran torino (sw)plymouth satellite custom (sw)volvo 145e (sw)volkswagen 411 (sw)peugeot 504 (sw)renault 12 (sw)ford pinto (sw)datsun 510 (sw)toyouta corona mark ii (sw)dodge colt (sw)toyota corolla 1600 (sw)buick century 350chevrolet malibuford gran torinododge coronet custommercury marquis broughamchevrolet caprice classicford ltdplymouth fury gran sedanchrysler new yorker broughambuick electra 225 customamc ambassador broughamplymouth valiantchevrolet nova customvolkswagen super beetleford countryplymouth custom suburboldsmobile vista cruisertoyota carinadatsun 610maxda rx3mercury capri v6fiat 124 sport coupechevrolet monte carlo spontiac grand prixfiat 128opel mantaaudi 100lsvolvo 144eadodge dart customsaab 99letoyota mark iioldsmobile omegachevrolet novadatsun b210chevrolet chevelle malibu classicplymouth satellite sebringbuick century luxus (sw)dodge coronet custom (sw)audi foxvolkswagen dasherdatsun 710dodge coltfiat 124 tchonda civicsubarufiat x1.9plymouth valiant custommercury monarchchevrolet bel airplymouth grand furybuick centurychevroelt chevelle malibuplymouth furybuick skyhawkchevrolet monza 2+2ford mustang iitoyota corollapontiac astrovolkswagen rabbitamc pacervolvo 244dlhonda civic cvccfiat 131capri iirenault 12tldodge coronet broughamchevrolet chevettechevrolet woodyvw rabbitdodge aspen seford granada ghiapontiac ventura sjamc pacer d/ldatsun b-210volvo 245plymouth volare premier v8mercedes-benz 280scadillac sevillechevy c10ford f108dodge d100honda accord cvccbuick opel isuzu deluxerenault 5 gtlplymouth arrow gsdatsun f-10 hatchbackoldsmobile cutlass supremedodge monaco broughammercury cougar broughamchevrolet concoursbuick skylarkplymouth volare customford granadapontiac grand prix ljchevrolet monte carlo landauchrysler cordobaford thunderbirdvolkswagen rabbit custompontiac sunbird coupetoyota corolla liftbackford mustang ii 2+2dodge colt m/msubaru dldatsun 810bmw 320imazda rx-4volkswagen rabbit custom dieselford fiestamazda glc deluxedatsun b210 gxoldsmobile cutlass salon broughamdodge diplomatmercury monarch ghiapontiac phoenix ljford fairmont (auto)ford fairmont (man)plymouth volareamc concordbuick century specialmercury zephyrdodge aspenamc concord d/lbuick regal sport coupe (turbo)ford futuradodge magnum xedatsun 510dodge omnitoyota celica gt liftbackplymouth sapporooldsmobile starfire sxdatsun 200-sxaudi 5000volvo 264glsaab 99glepeugeot 604slvolkswagen sciroccohonda accord lxpontiac lemans v6mercury zephyr 6ford fairmont 4amc concord dl 6dodge aspen 6ford ltd landaumercury grand marquisdodge st. regischevrolet malibu classic (sw)chrysler lebaron town @ country (sw)vw rabbit custommaxda glc deluxedodge colt hatchback customamc spirit dlmercedes benz 300dcadillac eldoradoplymouth horizonplymouth horizon tc3datsun 210fiat strada custombuick skylark limitedchevrolet citationoldsmobile omega broughampontiac phoenixtoyota corolla terceldatsun 310ford fairmontaudi 4000toyota corona liftbackmazda 626datsun 510 hatchbackmazda glcvw rabbit c (diesel)vw dasher (diesel)audi 5000s (diesel)mercedes-benz 240dhonda civic 1500 glrenault lecar deluxevokswagen rabbitdatsun 280-zxmazda rx-7 gstriumph tr7 coupeford mustang cobrahonda accordplymouth reliantdodge aries wagon (sw)toyota starletplymouth champhonda civic 1300datsun 210 mpgtoyota tercelmazda glc 4plymouth horizon 4ford escort 4wford escort 2hvolkswagen jettarenault 18ihonda preludedatsun 200sxpeugeot 505s turbo dieselvolvo dieseltoyota cressidadatsun 810 maximaoldsmobile cutlass lsford granada glchrysler lebaron salonchevrolet cavalierchevrolet cavalier wagonchevrolet cavalier 2-doorpontiac j2000 se hatchbackdodge aries seford fairmont futuraamc concord dlvolkswagen rabbit lmazda glc custom lmazda glc customplymouth horizon misermercury lynx lnissan stanza xehonda civic (auto)datsun 310 gxbuick century limitedoldsmobile cutlass ciera (diesel)chrysler lebaron medallionford granada ltoyota celica gtdodge charger 2.2chevrolet camaroford mustang glvw pickupdodge rampageford rangerchevy s-10\n"
          ]
        }
      ]
    },
    {
      "cell_type": "markdown",
      "source": [
        "# Variables dummies"
      ],
      "metadata": {
        "id": "sm8bTc54Sz9F"
      },
      "id": "sm8bTc54Sz9F"
    },
    {
      "cell_type": "code",
      "source": [
        "data = pd.read_csv('Lluvia_full.csv')"
      ],
      "metadata": {
        "id": "kg1IDWqhSTJa"
      },
      "id": "kg1IDWqhSTJa",
      "execution_count": 31,
      "outputs": []
    },
    {
      "cell_type": "code",
      "source": [
        "data"
      ],
      "metadata": {
        "id": "yruTlleuSpVE",
        "outputId": "458cc7ef-60fc-43da-e0aa-4965018bda25",
        "colab": {
          "base_uri": "https://localhost:8080/",
          "height": 444
        }
      },
      "id": "yruTlleuSpVE",
      "execution_count": 32,
      "outputs": [
        {
          "output_type": "execute_result",
          "data": {
            "text/plain": [
              "       MinTemp  MaxTemp  Lluvia  Evaporacion   Sol  VelRafaga  Vel9am  Vel3pm  \\\n",
              "0          7.6     19.3     0.0          3.4   9.4       35.0    13.0    13.0   \n",
              "1          6.8     19.5     0.0          3.4   9.4       46.0    19.0    28.0   \n",
              "2          5.5     13.9     0.0          2.8   3.8       44.0    26.0    13.0   \n",
              "3          8.6     14.3     0.0          2.8   3.8       35.0    13.0    17.0   \n",
              "4          7.9     13.0     0.0          2.8   3.8       39.0    15.0    17.0   \n",
              "...        ...      ...     ...          ...   ...        ...     ...     ...   \n",
              "56415      7.6     16.1     2.8          5.6  10.6       50.0    20.0    28.0   \n",
              "56416     13.3     15.5    39.8          7.2   9.1       54.0    30.0    24.0   \n",
              "56417     13.7     23.4     3.6          5.8   3.3       85.0     6.0     6.0   \n",
              "56418     14.0     26.9     3.6          4.4   9.7       39.0     4.0    17.0   \n",
              "56419      8.0     24.3     0.0          3.4   6.3       30.0     6.0    20.0   \n",
              "\n",
              "       Hum9am  Hum3pm  Pres9am  Pre3pm  Nub9am  Nub3pm  Temp9am  Temp3pm  \\\n",
              "0        73.0    32.0   1018.6  1015.4     1.0     1.0      9.4     18.8   \n",
              "1        67.0    42.0   1018.4  1015.2     1.0     1.0     11.9     17.9   \n",
              "2        72.0    58.0   1017.8  1015.5     7.0     7.0      8.1     12.2   \n",
              "3        67.0    56.0   1017.4  1015.0     7.0     7.0      9.3     13.4   \n",
              "4        68.0    69.0   1017.6  1015.3     7.0     7.0      9.0     11.7   \n",
              "...       ...     ...      ...     ...     ...     ...      ...      ...   \n",
              "56415    68.0    49.0   1018.3  1018.5     7.0     7.0     11.1     15.4   \n",
              "56416    62.0    56.0   1005.5  1007.0     2.0     7.0     13.5     14.1   \n",
              "56417    82.0    69.0   1009.5  1007.2     8.0     7.0     15.4     20.2   \n",
              "56418    80.0    36.0   1012.4  1008.4     5.0     3.0     17.5     25.7   \n",
              "56419    68.0    29.0   1019.7  1015.0     7.0     7.0     14.4     23.6   \n",
              "\n",
              "      LluviaHoy LluviaMan       Koppen   Estacion  \n",
              "0            No        No  Subtropical   Invierno  \n",
              "1            No        No  Subtropical   Invierno  \n",
              "2            No        No    Temperate   Invierno  \n",
              "3            No       Yes    Temperate   Invierno  \n",
              "4            No        No    Temperate   Invierno  \n",
              "...         ...       ...          ...        ...  \n",
              "56415       Yes        No    Temperate  Primavera  \n",
              "56416       Yes       Yes    Temperate  Primavera  \n",
              "56417       Yes       Yes    Temperate  Primavera  \n",
              "56418       Yes       Yes    Temperate  Primavera  \n",
              "56419        No       Yes    Temperate  Primavera  \n",
              "\n",
              "[56420 rows x 20 columns]"
            ],
            "text/html": [
              "\n",
              "  <div id=\"df-51513aab-df0b-4bd7-bc90-fe0b72aa7fb2\" class=\"colab-df-container\">\n",
              "    <div>\n",
              "<style scoped>\n",
              "    .dataframe tbody tr th:only-of-type {\n",
              "        vertical-align: middle;\n",
              "    }\n",
              "\n",
              "    .dataframe tbody tr th {\n",
              "        vertical-align: top;\n",
              "    }\n",
              "\n",
              "    .dataframe thead th {\n",
              "        text-align: right;\n",
              "    }\n",
              "</style>\n",
              "<table border=\"1\" class=\"dataframe\">\n",
              "  <thead>\n",
              "    <tr style=\"text-align: right;\">\n",
              "      <th></th>\n",
              "      <th>MinTemp</th>\n",
              "      <th>MaxTemp</th>\n",
              "      <th>Lluvia</th>\n",
              "      <th>Evaporacion</th>\n",
              "      <th>Sol</th>\n",
              "      <th>VelRafaga</th>\n",
              "      <th>Vel9am</th>\n",
              "      <th>Vel3pm</th>\n",
              "      <th>Hum9am</th>\n",
              "      <th>Hum3pm</th>\n",
              "      <th>Pres9am</th>\n",
              "      <th>Pre3pm</th>\n",
              "      <th>Nub9am</th>\n",
              "      <th>Nub3pm</th>\n",
              "      <th>Temp9am</th>\n",
              "      <th>Temp3pm</th>\n",
              "      <th>LluviaHoy</th>\n",
              "      <th>LluviaMan</th>\n",
              "      <th>Koppen</th>\n",
              "      <th>Estacion</th>\n",
              "    </tr>\n",
              "  </thead>\n",
              "  <tbody>\n",
              "    <tr>\n",
              "      <th>0</th>\n",
              "      <td>7.6</td>\n",
              "      <td>19.3</td>\n",
              "      <td>0.0</td>\n",
              "      <td>3.4</td>\n",
              "      <td>9.4</td>\n",
              "      <td>35.0</td>\n",
              "      <td>13.0</td>\n",
              "      <td>13.0</td>\n",
              "      <td>73.0</td>\n",
              "      <td>32.0</td>\n",
              "      <td>1018.6</td>\n",
              "      <td>1015.4</td>\n",
              "      <td>1.0</td>\n",
              "      <td>1.0</td>\n",
              "      <td>9.4</td>\n",
              "      <td>18.8</td>\n",
              "      <td>No</td>\n",
              "      <td>No</td>\n",
              "      <td>Subtropical</td>\n",
              "      <td>Invierno</td>\n",
              "    </tr>\n",
              "    <tr>\n",
              "      <th>1</th>\n",
              "      <td>6.8</td>\n",
              "      <td>19.5</td>\n",
              "      <td>0.0</td>\n",
              "      <td>3.4</td>\n",
              "      <td>9.4</td>\n",
              "      <td>46.0</td>\n",
              "      <td>19.0</td>\n",
              "      <td>28.0</td>\n",
              "      <td>67.0</td>\n",
              "      <td>42.0</td>\n",
              "      <td>1018.4</td>\n",
              "      <td>1015.2</td>\n",
              "      <td>1.0</td>\n",
              "      <td>1.0</td>\n",
              "      <td>11.9</td>\n",
              "      <td>17.9</td>\n",
              "      <td>No</td>\n",
              "      <td>No</td>\n",
              "      <td>Subtropical</td>\n",
              "      <td>Invierno</td>\n",
              "    </tr>\n",
              "    <tr>\n",
              "      <th>2</th>\n",
              "      <td>5.5</td>\n",
              "      <td>13.9</td>\n",
              "      <td>0.0</td>\n",
              "      <td>2.8</td>\n",
              "      <td>3.8</td>\n",
              "      <td>44.0</td>\n",
              "      <td>26.0</td>\n",
              "      <td>13.0</td>\n",
              "      <td>72.0</td>\n",
              "      <td>58.0</td>\n",
              "      <td>1017.8</td>\n",
              "      <td>1015.5</td>\n",
              "      <td>7.0</td>\n",
              "      <td>7.0</td>\n",
              "      <td>8.1</td>\n",
              "      <td>12.2</td>\n",
              "      <td>No</td>\n",
              "      <td>No</td>\n",
              "      <td>Temperate</td>\n",
              "      <td>Invierno</td>\n",
              "    </tr>\n",
              "    <tr>\n",
              "      <th>3</th>\n",
              "      <td>8.6</td>\n",
              "      <td>14.3</td>\n",
              "      <td>0.0</td>\n",
              "      <td>2.8</td>\n",
              "      <td>3.8</td>\n",
              "      <td>35.0</td>\n",
              "      <td>13.0</td>\n",
              "      <td>17.0</td>\n",
              "      <td>67.0</td>\n",
              "      <td>56.0</td>\n",
              "      <td>1017.4</td>\n",
              "      <td>1015.0</td>\n",
              "      <td>7.0</td>\n",
              "      <td>7.0</td>\n",
              "      <td>9.3</td>\n",
              "      <td>13.4</td>\n",
              "      <td>No</td>\n",
              "      <td>Yes</td>\n",
              "      <td>Temperate</td>\n",
              "      <td>Invierno</td>\n",
              "    </tr>\n",
              "    <tr>\n",
              "      <th>4</th>\n",
              "      <td>7.9</td>\n",
              "      <td>13.0</td>\n",
              "      <td>0.0</td>\n",
              "      <td>2.8</td>\n",
              "      <td>3.8</td>\n",
              "      <td>39.0</td>\n",
              "      <td>15.0</td>\n",
              "      <td>17.0</td>\n",
              "      <td>68.0</td>\n",
              "      <td>69.0</td>\n",
              "      <td>1017.6</td>\n",
              "      <td>1015.3</td>\n",
              "      <td>7.0</td>\n",
              "      <td>7.0</td>\n",
              "      <td>9.0</td>\n",
              "      <td>11.7</td>\n",
              "      <td>No</td>\n",
              "      <td>No</td>\n",
              "      <td>Temperate</td>\n",
              "      <td>Invierno</td>\n",
              "    </tr>\n",
              "    <tr>\n",
              "      <th>...</th>\n",
              "      <td>...</td>\n",
              "      <td>...</td>\n",
              "      <td>...</td>\n",
              "      <td>...</td>\n",
              "      <td>...</td>\n",
              "      <td>...</td>\n",
              "      <td>...</td>\n",
              "      <td>...</td>\n",
              "      <td>...</td>\n",
              "      <td>...</td>\n",
              "      <td>...</td>\n",
              "      <td>...</td>\n",
              "      <td>...</td>\n",
              "      <td>...</td>\n",
              "      <td>...</td>\n",
              "      <td>...</td>\n",
              "      <td>...</td>\n",
              "      <td>...</td>\n",
              "      <td>...</td>\n",
              "      <td>...</td>\n",
              "    </tr>\n",
              "    <tr>\n",
              "      <th>56415</th>\n",
              "      <td>7.6</td>\n",
              "      <td>16.1</td>\n",
              "      <td>2.8</td>\n",
              "      <td>5.6</td>\n",
              "      <td>10.6</td>\n",
              "      <td>50.0</td>\n",
              "      <td>20.0</td>\n",
              "      <td>28.0</td>\n",
              "      <td>68.0</td>\n",
              "      <td>49.0</td>\n",
              "      <td>1018.3</td>\n",
              "      <td>1018.5</td>\n",
              "      <td>7.0</td>\n",
              "      <td>7.0</td>\n",
              "      <td>11.1</td>\n",
              "      <td>15.4</td>\n",
              "      <td>Yes</td>\n",
              "      <td>No</td>\n",
              "      <td>Temperate</td>\n",
              "      <td>Primavera</td>\n",
              "    </tr>\n",
              "    <tr>\n",
              "      <th>56416</th>\n",
              "      <td>13.3</td>\n",
              "      <td>15.5</td>\n",
              "      <td>39.8</td>\n",
              "      <td>7.2</td>\n",
              "      <td>9.1</td>\n",
              "      <td>54.0</td>\n",
              "      <td>30.0</td>\n",
              "      <td>24.0</td>\n",
              "      <td>62.0</td>\n",
              "      <td>56.0</td>\n",
              "      <td>1005.5</td>\n",
              "      <td>1007.0</td>\n",
              "      <td>2.0</td>\n",
              "      <td>7.0</td>\n",
              "      <td>13.5</td>\n",
              "      <td>14.1</td>\n",
              "      <td>Yes</td>\n",
              "      <td>Yes</td>\n",
              "      <td>Temperate</td>\n",
              "      <td>Primavera</td>\n",
              "    </tr>\n",
              "    <tr>\n",
              "      <th>56417</th>\n",
              "      <td>13.7</td>\n",
              "      <td>23.4</td>\n",
              "      <td>3.6</td>\n",
              "      <td>5.8</td>\n",
              "      <td>3.3</td>\n",
              "      <td>85.0</td>\n",
              "      <td>6.0</td>\n",
              "      <td>6.0</td>\n",
              "      <td>82.0</td>\n",
              "      <td>69.0</td>\n",
              "      <td>1009.5</td>\n",
              "      <td>1007.2</td>\n",
              "      <td>8.0</td>\n",
              "      <td>7.0</td>\n",
              "      <td>15.4</td>\n",
              "      <td>20.2</td>\n",
              "      <td>Yes</td>\n",
              "      <td>Yes</td>\n",
              "      <td>Temperate</td>\n",
              "      <td>Primavera</td>\n",
              "    </tr>\n",
              "    <tr>\n",
              "      <th>56418</th>\n",
              "      <td>14.0</td>\n",
              "      <td>26.9</td>\n",
              "      <td>3.6</td>\n",
              "      <td>4.4</td>\n",
              "      <td>9.7</td>\n",
              "      <td>39.0</td>\n",
              "      <td>4.0</td>\n",
              "      <td>17.0</td>\n",
              "      <td>80.0</td>\n",
              "      <td>36.0</td>\n",
              "      <td>1012.4</td>\n",
              "      <td>1008.4</td>\n",
              "      <td>5.0</td>\n",
              "      <td>3.0</td>\n",
              "      <td>17.5</td>\n",
              "      <td>25.7</td>\n",
              "      <td>Yes</td>\n",
              "      <td>Yes</td>\n",
              "      <td>Temperate</td>\n",
              "      <td>Primavera</td>\n",
              "    </tr>\n",
              "    <tr>\n",
              "      <th>56419</th>\n",
              "      <td>8.0</td>\n",
              "      <td>24.3</td>\n",
              "      <td>0.0</td>\n",
              "      <td>3.4</td>\n",
              "      <td>6.3</td>\n",
              "      <td>30.0</td>\n",
              "      <td>6.0</td>\n",
              "      <td>20.0</td>\n",
              "      <td>68.0</td>\n",
              "      <td>29.0</td>\n",
              "      <td>1019.7</td>\n",
              "      <td>1015.0</td>\n",
              "      <td>7.0</td>\n",
              "      <td>7.0</td>\n",
              "      <td>14.4</td>\n",
              "      <td>23.6</td>\n",
              "      <td>No</td>\n",
              "      <td>Yes</td>\n",
              "      <td>Temperate</td>\n",
              "      <td>Primavera</td>\n",
              "    </tr>\n",
              "  </tbody>\n",
              "</table>\n",
              "<p>56420 rows × 20 columns</p>\n",
              "</div>\n",
              "    <div class=\"colab-df-buttons\">\n",
              "\n",
              "  <div class=\"colab-df-container\">\n",
              "    <button class=\"colab-df-convert\" onclick=\"convertToInteractive('df-51513aab-df0b-4bd7-bc90-fe0b72aa7fb2')\"\n",
              "            title=\"Convert this dataframe to an interactive table.\"\n",
              "            style=\"display:none;\">\n",
              "\n",
              "  <svg xmlns=\"http://www.w3.org/2000/svg\" height=\"24px\" viewBox=\"0 -960 960 960\">\n",
              "    <path d=\"M120-120v-720h720v720H120Zm60-500h600v-160H180v160Zm220 220h160v-160H400v160Zm0 220h160v-160H400v160ZM180-400h160v-160H180v160Zm440 0h160v-160H620v160ZM180-180h160v-160H180v160Zm440 0h160v-160H620v160Z\"/>\n",
              "  </svg>\n",
              "    </button>\n",
              "\n",
              "  <style>\n",
              "    .colab-df-container {\n",
              "      display:flex;\n",
              "      gap: 12px;\n",
              "    }\n",
              "\n",
              "    .colab-df-convert {\n",
              "      background-color: #E8F0FE;\n",
              "      border: none;\n",
              "      border-radius: 50%;\n",
              "      cursor: pointer;\n",
              "      display: none;\n",
              "      fill: #1967D2;\n",
              "      height: 32px;\n",
              "      padding: 0 0 0 0;\n",
              "      width: 32px;\n",
              "    }\n",
              "\n",
              "    .colab-df-convert:hover {\n",
              "      background-color: #E2EBFA;\n",
              "      box-shadow: 0px 1px 2px rgba(60, 64, 67, 0.3), 0px 1px 3px 1px rgba(60, 64, 67, 0.15);\n",
              "      fill: #174EA6;\n",
              "    }\n",
              "\n",
              "    .colab-df-buttons div {\n",
              "      margin-bottom: 4px;\n",
              "    }\n",
              "\n",
              "    [theme=dark] .colab-df-convert {\n",
              "      background-color: #3B4455;\n",
              "      fill: #D2E3FC;\n",
              "    }\n",
              "\n",
              "    [theme=dark] .colab-df-convert:hover {\n",
              "      background-color: #434B5C;\n",
              "      box-shadow: 0px 1px 3px 1px rgba(0, 0, 0, 0.15);\n",
              "      filter: drop-shadow(0px 1px 2px rgba(0, 0, 0, 0.3));\n",
              "      fill: #FFFFFF;\n",
              "    }\n",
              "  </style>\n",
              "\n",
              "    <script>\n",
              "      const buttonEl =\n",
              "        document.querySelector('#df-51513aab-df0b-4bd7-bc90-fe0b72aa7fb2 button.colab-df-convert');\n",
              "      buttonEl.style.display =\n",
              "        google.colab.kernel.accessAllowed ? 'block' : 'none';\n",
              "\n",
              "      async function convertToInteractive(key) {\n",
              "        const element = document.querySelector('#df-51513aab-df0b-4bd7-bc90-fe0b72aa7fb2');\n",
              "        const dataTable =\n",
              "          await google.colab.kernel.invokeFunction('convertToInteractive',\n",
              "                                                    [key], {});\n",
              "        if (!dataTable) return;\n",
              "\n",
              "        const docLinkHtml = 'Like what you see? Visit the ' +\n",
              "          '<a target=\"_blank\" href=https://colab.research.google.com/notebooks/data_table.ipynb>data table notebook</a>'\n",
              "          + ' to learn more about interactive tables.';\n",
              "        element.innerHTML = '';\n",
              "        dataTable['output_type'] = 'display_data';\n",
              "        await google.colab.output.renderOutput(dataTable, element);\n",
              "        const docLink = document.createElement('div');\n",
              "        docLink.innerHTML = docLinkHtml;\n",
              "        element.appendChild(docLink);\n",
              "      }\n",
              "    </script>\n",
              "  </div>\n",
              "\n",
              "\n",
              "<div id=\"df-fb8e1c93-fd54-400c-84bf-f52a0e04580a\">\n",
              "  <button class=\"colab-df-quickchart\" onclick=\"quickchart('df-fb8e1c93-fd54-400c-84bf-f52a0e04580a')\"\n",
              "            title=\"Suggest charts\"\n",
              "            style=\"display:none;\">\n",
              "\n",
              "<svg xmlns=\"http://www.w3.org/2000/svg\" height=\"24px\"viewBox=\"0 0 24 24\"\n",
              "     width=\"24px\">\n",
              "    <g>\n",
              "        <path d=\"M19 3H5c-1.1 0-2 .9-2 2v14c0 1.1.9 2 2 2h14c1.1 0 2-.9 2-2V5c0-1.1-.9-2-2-2zM9 17H7v-7h2v7zm4 0h-2V7h2v10zm4 0h-2v-4h2v4z\"/>\n",
              "    </g>\n",
              "</svg>\n",
              "  </button>\n",
              "\n",
              "<style>\n",
              "  .colab-df-quickchart {\n",
              "      --bg-color: #E8F0FE;\n",
              "      --fill-color: #1967D2;\n",
              "      --hover-bg-color: #E2EBFA;\n",
              "      --hover-fill-color: #174EA6;\n",
              "      --disabled-fill-color: #AAA;\n",
              "      --disabled-bg-color: #DDD;\n",
              "  }\n",
              "\n",
              "  [theme=dark] .colab-df-quickchart {\n",
              "      --bg-color: #3B4455;\n",
              "      --fill-color: #D2E3FC;\n",
              "      --hover-bg-color: #434B5C;\n",
              "      --hover-fill-color: #FFFFFF;\n",
              "      --disabled-bg-color: #3B4455;\n",
              "      --disabled-fill-color: #666;\n",
              "  }\n",
              "\n",
              "  .colab-df-quickchart {\n",
              "    background-color: var(--bg-color);\n",
              "    border: none;\n",
              "    border-radius: 50%;\n",
              "    cursor: pointer;\n",
              "    display: none;\n",
              "    fill: var(--fill-color);\n",
              "    height: 32px;\n",
              "    padding: 0;\n",
              "    width: 32px;\n",
              "  }\n",
              "\n",
              "  .colab-df-quickchart:hover {\n",
              "    background-color: var(--hover-bg-color);\n",
              "    box-shadow: 0 1px 2px rgba(60, 64, 67, 0.3), 0 1px 3px 1px rgba(60, 64, 67, 0.15);\n",
              "    fill: var(--button-hover-fill-color);\n",
              "  }\n",
              "\n",
              "  .colab-df-quickchart-complete:disabled,\n",
              "  .colab-df-quickchart-complete:disabled:hover {\n",
              "    background-color: var(--disabled-bg-color);\n",
              "    fill: var(--disabled-fill-color);\n",
              "    box-shadow: none;\n",
              "  }\n",
              "\n",
              "  .colab-df-spinner {\n",
              "    border: 2px solid var(--fill-color);\n",
              "    border-color: transparent;\n",
              "    border-bottom-color: var(--fill-color);\n",
              "    animation:\n",
              "      spin 1s steps(1) infinite;\n",
              "  }\n",
              "\n",
              "  @keyframes spin {\n",
              "    0% {\n",
              "      border-color: transparent;\n",
              "      border-bottom-color: var(--fill-color);\n",
              "      border-left-color: var(--fill-color);\n",
              "    }\n",
              "    20% {\n",
              "      border-color: transparent;\n",
              "      border-left-color: var(--fill-color);\n",
              "      border-top-color: var(--fill-color);\n",
              "    }\n",
              "    30% {\n",
              "      border-color: transparent;\n",
              "      border-left-color: var(--fill-color);\n",
              "      border-top-color: var(--fill-color);\n",
              "      border-right-color: var(--fill-color);\n",
              "    }\n",
              "    40% {\n",
              "      border-color: transparent;\n",
              "      border-right-color: var(--fill-color);\n",
              "      border-top-color: var(--fill-color);\n",
              "    }\n",
              "    60% {\n",
              "      border-color: transparent;\n",
              "      border-right-color: var(--fill-color);\n",
              "    }\n",
              "    80% {\n",
              "      border-color: transparent;\n",
              "      border-right-color: var(--fill-color);\n",
              "      border-bottom-color: var(--fill-color);\n",
              "    }\n",
              "    90% {\n",
              "      border-color: transparent;\n",
              "      border-bottom-color: var(--fill-color);\n",
              "    }\n",
              "  }\n",
              "</style>\n",
              "\n",
              "  <script>\n",
              "    async function quickchart(key) {\n",
              "      const quickchartButtonEl =\n",
              "        document.querySelector('#' + key + ' button');\n",
              "      quickchartButtonEl.disabled = true;  // To prevent multiple clicks.\n",
              "      quickchartButtonEl.classList.add('colab-df-spinner');\n",
              "      try {\n",
              "        const charts = await google.colab.kernel.invokeFunction(\n",
              "            'suggestCharts', [key], {});\n",
              "      } catch (error) {\n",
              "        console.error('Error during call to suggestCharts:', error);\n",
              "      }\n",
              "      quickchartButtonEl.classList.remove('colab-df-spinner');\n",
              "      quickchartButtonEl.classList.add('colab-df-quickchart-complete');\n",
              "    }\n",
              "    (() => {\n",
              "      let quickchartButtonEl =\n",
              "        document.querySelector('#df-fb8e1c93-fd54-400c-84bf-f52a0e04580a button');\n",
              "      quickchartButtonEl.style.display =\n",
              "        google.colab.kernel.accessAllowed ? 'block' : 'none';\n",
              "    })();\n",
              "  </script>\n",
              "</div>\n",
              "\n",
              "  <div id=\"id_2d317d85-3c6e-46aa-a519-9143d9f52b3a\">\n",
              "    <style>\n",
              "      .colab-df-generate {\n",
              "        background-color: #E8F0FE;\n",
              "        border: none;\n",
              "        border-radius: 50%;\n",
              "        cursor: pointer;\n",
              "        display: none;\n",
              "        fill: #1967D2;\n",
              "        height: 32px;\n",
              "        padding: 0 0 0 0;\n",
              "        width: 32px;\n",
              "      }\n",
              "\n",
              "      .colab-df-generate:hover {\n",
              "        background-color: #E2EBFA;\n",
              "        box-shadow: 0px 1px 2px rgba(60, 64, 67, 0.3), 0px 1px 3px 1px rgba(60, 64, 67, 0.15);\n",
              "        fill: #174EA6;\n",
              "      }\n",
              "\n",
              "      [theme=dark] .colab-df-generate {\n",
              "        background-color: #3B4455;\n",
              "        fill: #D2E3FC;\n",
              "      }\n",
              "\n",
              "      [theme=dark] .colab-df-generate:hover {\n",
              "        background-color: #434B5C;\n",
              "        box-shadow: 0px 1px 3px 1px rgba(0, 0, 0, 0.15);\n",
              "        filter: drop-shadow(0px 1px 2px rgba(0, 0, 0, 0.3));\n",
              "        fill: #FFFFFF;\n",
              "      }\n",
              "    </style>\n",
              "    <button class=\"colab-df-generate\" onclick=\"generateWithVariable('data')\"\n",
              "            title=\"Generate code using this dataframe.\"\n",
              "            style=\"display:none;\">\n",
              "\n",
              "  <svg xmlns=\"http://www.w3.org/2000/svg\" height=\"24px\"viewBox=\"0 0 24 24\"\n",
              "       width=\"24px\">\n",
              "    <path d=\"M7,19H8.4L18.45,9,17,7.55,7,17.6ZM5,21V16.75L18.45,3.32a2,2,0,0,1,2.83,0l1.4,1.43a1.91,1.91,0,0,1,.58,1.4,1.91,1.91,0,0,1-.58,1.4L9.25,21ZM18.45,9,17,7.55Zm-12,3A5.31,5.31,0,0,0,4.9,8.1,5.31,5.31,0,0,0,1,6.5,5.31,5.31,0,0,0,4.9,4.9,5.31,5.31,0,0,0,6.5,1,5.31,5.31,0,0,0,8.1,4.9,5.31,5.31,0,0,0,12,6.5,5.46,5.46,0,0,0,6.5,12Z\"/>\n",
              "  </svg>\n",
              "    </button>\n",
              "    <script>\n",
              "      (() => {\n",
              "      const buttonEl =\n",
              "        document.querySelector('#id_2d317d85-3c6e-46aa-a519-9143d9f52b3a button.colab-df-generate');\n",
              "      buttonEl.style.display =\n",
              "        google.colab.kernel.accessAllowed ? 'block' : 'none';\n",
              "\n",
              "      buttonEl.onclick = () => {\n",
              "        google.colab.notebook.generateWithVariable('data');\n",
              "      }\n",
              "      })();\n",
              "    </script>\n",
              "  </div>\n",
              "\n",
              "    </div>\n",
              "  </div>\n"
            ],
            "application/vnd.google.colaboratory.intrinsic+json": {
              "type": "dataframe",
              "variable_name": "data",
              "summary": "{\n  \"name\": \"data\",\n  \"rows\": 56420,\n  \"fields\": [\n    {\n      \"column\": \"MinTemp\",\n      \"properties\": {\n        \"dtype\": \"number\",\n        \"std\": 6.41668878853068,\n        \"min\": -6.7,\n        \"max\": 31.4,\n        \"num_unique_values\": 348,\n        \"samples\": [\n          27.1,\n          20.6,\n          -2.2\n        ],\n        \"semantic_type\": \"\",\n        \"description\": \"\"\n      }\n    },\n    {\n      \"column\": \"MaxTemp\",\n      \"properties\": {\n        \"dtype\": \"number\",\n        \"std\": 6.970676387108941,\n        \"min\": 4.1,\n        \"max\": 48.1,\n        \"num_unique_values\": 395,\n        \"samples\": [\n          20.8,\n          43.7,\n          37.5\n        ],\n        \"semantic_type\": \"\",\n        \"description\": \"\"\n      }\n    },\n    {\n      \"column\": \"Lluvia\",\n      \"properties\": {\n        \"dtype\": \"number\",\n        \"std\": 7.014822227998487,\n        \"min\": 0.0,\n        \"max\": 206.2,\n        \"num_unique_values\": 410,\n        \"samples\": [\n          30.8,\n          12.6,\n          16.6\n        ],\n        \"semantic_type\": \"\",\n        \"description\": \"\"\n      }\n    },\n    {\n      \"column\": \"Evaporacion\",\n      \"properties\": {\n        \"dtype\": \"number\",\n        \"std\": 3.696282270131753,\n        \"min\": 0.0,\n        \"max\": 81.2,\n        \"num_unique_values\": 259,\n        \"samples\": [\n          9.8,\n          1.1,\n          3.2\n        ],\n        \"semantic_type\": \"\",\n        \"description\": \"\"\n      }\n    },\n    {\n      \"column\": \"Sol\",\n      \"properties\": {\n        \"dtype\": \"number\",\n        \"std\": 3.7581533156636526,\n        \"min\": 0.0,\n        \"max\": 14.5,\n        \"num_unique_values\": 145,\n        \"samples\": [\n          6.8,\n          14.5,\n          9.1\n        ],\n        \"semantic_type\": \"\",\n        \"description\": \"\"\n      }\n    },\n    {\n      \"column\": \"VelRafaga\",\n      \"properties\": {\n        \"dtype\": \"number\",\n        \"std\": 13.335231529564327,\n        \"min\": 9.0,\n        \"max\": 124.0,\n        \"num_unique_values\": 61,\n        \"samples\": [\n          35.0,\n          26.0,\n          100.0\n        ],\n        \"semantic_type\": \"\",\n        \"description\": \"\"\n      }\n    },\n    {\n      \"column\": \"Vel9am\",\n      \"properties\": {\n        \"dtype\": \"number\",\n        \"std\": 8.317004845694358,\n        \"min\": 2.0,\n        \"max\": 67.0,\n        \"num_unique_values\": 36,\n        \"samples\": [\n          67.0,\n          28.0,\n          52.0\n        ],\n        \"semantic_type\": \"\",\n        \"description\": \"\"\n      }\n    },\n    {\n      \"column\": \"Vel3pm\",\n      \"properties\": {\n        \"dtype\": \"number\",\n        \"std\": 8.510180486546105,\n        \"min\": 2.0,\n        \"max\": 76.0,\n        \"num_unique_values\": 37,\n        \"samples\": [\n          41.0,\n          4.0,\n          11.0\n        ],\n        \"semantic_type\": \"\",\n        \"description\": \"\"\n      }\n    },\n    {\n      \"column\": \"Hum9am\",\n      \"properties\": {\n        \"dtype\": \"number\",\n        \"std\": 18.5132892289364,\n        \"min\": 0.0,\n        \"max\": 100.0,\n        \"num_unique_values\": 101,\n        \"samples\": [\n          16.0,\n          58.0,\n          44.0\n        ],\n        \"semantic_type\": \"\",\n        \"description\": \"\"\n      }\n    },\n    {\n      \"column\": \"Hum3pm\",\n      \"properties\": {\n        \"dtype\": \"number\",\n        \"std\": 20.197039882861795,\n        \"min\": 0.0,\n        \"max\": 100.0,\n        \"num_unique_values\": 101,\n        \"samples\": [\n          99.0,\n          21.0,\n          13.0\n        ],\n        \"semantic_type\": \"\",\n        \"description\": \"\"\n      }\n    },\n    {\n      \"column\": \"Pres9am\",\n      \"properties\": {\n        \"dtype\": \"number\",\n        \"std\": 6.9093567856439275,\n        \"min\": 980.5,\n        \"max\": 1040.4,\n        \"num_unique_values\": 504,\n        \"samples\": [\n          1022.7,\n          1022.2,\n          993.7\n        ],\n        \"semantic_type\": \"\",\n        \"description\": \"\"\n      }\n    },\n    {\n      \"column\": \"Pre3pm\",\n      \"properties\": {\n        \"dtype\": \"number\",\n        \"std\": 6.870891684997891,\n        \"min\": 977.1,\n        \"max\": 1038.9,\n        \"num_unique_values\": 507,\n        \"samples\": [\n          1018.9,\n          1008.1,\n          987.0\n        ],\n        \"semantic_type\": \"\",\n        \"description\": \"\"\n      }\n    },\n    {\n      \"column\": \"Nub9am\",\n      \"properties\": {\n        \"dtype\": \"number\",\n        \"std\": 2.7971623467492974,\n        \"min\": 0.0,\n        \"max\": 8.0,\n        \"num_unique_values\": 9,\n        \"samples\": [\n          3.0,\n          7.0,\n          4.0\n        ],\n        \"semantic_type\": \"\",\n        \"description\": \"\"\n      }\n    },\n    {\n      \"column\": \"Nub3pm\",\n      \"properties\": {\n        \"dtype\": \"number\",\n        \"std\": 2.6472512911763664,\n        \"min\": 0.0,\n        \"max\": 9.0,\n        \"num_unique_values\": 10,\n        \"samples\": [\n          8.0,\n          7.0,\n          6.0\n        ],\n        \"semantic_type\": \"\",\n        \"description\": \"\"\n      }\n    },\n    {\n      \"column\": \"Temp9am\",\n      \"properties\": {\n        \"dtype\": \"number\",\n        \"std\": 6.567991221332209,\n        \"min\": -0.7,\n        \"max\": 39.4,\n        \"num_unique_values\": 383,\n        \"samples\": [\n          30.2,\n          29.0,\n          32.7\n        ],\n        \"semantic_type\": \"\",\n        \"description\": \"\"\n      }\n    },\n    {\n      \"column\": \"Temp3pm\",\n      \"properties\": {\n        \"dtype\": \"number\",\n        \"std\": 6.836543115226249,\n        \"min\": 3.7,\n        \"max\": 46.1,\n        \"num_unique_values\": 393,\n        \"samples\": [\n          30.2,\n          38.4,\n          36.3\n        ],\n        \"semantic_type\": \"\",\n        \"description\": \"\"\n      }\n    },\n    {\n      \"column\": \"LluviaHoy\",\n      \"properties\": {\n        \"dtype\": \"category\",\n        \"num_unique_values\": 2,\n        \"samples\": [\n          \"Yes\",\n          \"No\"\n        ],\n        \"semantic_type\": \"\",\n        \"description\": \"\"\n      }\n    },\n    {\n      \"column\": \"LluviaMan\",\n      \"properties\": {\n        \"dtype\": \"category\",\n        \"num_unique_values\": 2,\n        \"samples\": [\n          \"Yes\",\n          \"No\"\n        ],\n        \"semantic_type\": \"\",\n        \"description\": \"\"\n      }\n    },\n    {\n      \"column\": \"Koppen\",\n      \"properties\": {\n        \"dtype\": \"category\",\n        \"num_unique_values\": 4,\n        \"samples\": [\n          \"Temperate\",\n          \"Desert\"\n        ],\n        \"semantic_type\": \"\",\n        \"description\": \"\"\n      }\n    },\n    {\n      \"column\": \"Estacion\",\n      \"properties\": {\n        \"dtype\": \"category\",\n        \"num_unique_values\": 4,\n        \"samples\": [\n          \"Oto\\u00f1o\",\n          \"Primavera\"\n        ],\n        \"semantic_type\": \"\",\n        \"description\": \"\"\n      }\n    }\n  ]\n}"
            }
          },
          "metadata": {},
          "execution_count": 32
        }
      ]
    },
    {
      "cell_type": "code",
      "source": [
        "# valores unicos de data Koppen\n",
        "data['Koppen'].unique()"
      ],
      "metadata": {
        "id": "AhutfBjSSuuL",
        "outputId": "f69174a5-10be-4f63-de5b-3a07238e074d",
        "colab": {
          "base_uri": "https://localhost:8080/"
        }
      },
      "id": "AhutfBjSSuuL",
      "execution_count": 33,
      "outputs": [
        {
          "output_type": "execute_result",
          "data": {
            "text/plain": [
              "array(['Subtropical', 'Temperate', 'Grassland', 'Desert'], dtype=object)"
            ]
          },
          "metadata": {},
          "execution_count": 33
        }
      ]
    },
    {
      "cell_type": "code",
      "source": [
        "# dummy de data Koppen\n",
        "data_dummy = pd.get_dummies(data['Koppen'])\n",
        "data_dummy"
      ],
      "metadata": {
        "id": "peXqJjxcTEO3",
        "outputId": "7f89ff6c-eec2-4320-d87c-e9166d1c8726",
        "colab": {
          "base_uri": "https://localhost:8080/",
          "height": 424
        }
      },
      "id": "peXqJjxcTEO3",
      "execution_count": 34,
      "outputs": [
        {
          "output_type": "execute_result",
          "data": {
            "text/plain": [
              "       Desert  Grassland  Subtropical  Temperate\n",
              "0       False      False         True      False\n",
              "1       False      False         True      False\n",
              "2       False      False        False       True\n",
              "3       False      False        False       True\n",
              "4       False      False        False       True\n",
              "...       ...        ...          ...        ...\n",
              "56415   False      False        False       True\n",
              "56416   False      False        False       True\n",
              "56417   False      False        False       True\n",
              "56418   False      False        False       True\n",
              "56419   False      False        False       True\n",
              "\n",
              "[56420 rows x 4 columns]"
            ],
            "text/html": [
              "\n",
              "  <div id=\"df-1fcf3cbf-5325-4c77-9ad2-1d9283fd8b4a\" class=\"colab-df-container\">\n",
              "    <div>\n",
              "<style scoped>\n",
              "    .dataframe tbody tr th:only-of-type {\n",
              "        vertical-align: middle;\n",
              "    }\n",
              "\n",
              "    .dataframe tbody tr th {\n",
              "        vertical-align: top;\n",
              "    }\n",
              "\n",
              "    .dataframe thead th {\n",
              "        text-align: right;\n",
              "    }\n",
              "</style>\n",
              "<table border=\"1\" class=\"dataframe\">\n",
              "  <thead>\n",
              "    <tr style=\"text-align: right;\">\n",
              "      <th></th>\n",
              "      <th>Desert</th>\n",
              "      <th>Grassland</th>\n",
              "      <th>Subtropical</th>\n",
              "      <th>Temperate</th>\n",
              "    </tr>\n",
              "  </thead>\n",
              "  <tbody>\n",
              "    <tr>\n",
              "      <th>0</th>\n",
              "      <td>False</td>\n",
              "      <td>False</td>\n",
              "      <td>True</td>\n",
              "      <td>False</td>\n",
              "    </tr>\n",
              "    <tr>\n",
              "      <th>1</th>\n",
              "      <td>False</td>\n",
              "      <td>False</td>\n",
              "      <td>True</td>\n",
              "      <td>False</td>\n",
              "    </tr>\n",
              "    <tr>\n",
              "      <th>2</th>\n",
              "      <td>False</td>\n",
              "      <td>False</td>\n",
              "      <td>False</td>\n",
              "      <td>True</td>\n",
              "    </tr>\n",
              "    <tr>\n",
              "      <th>3</th>\n",
              "      <td>False</td>\n",
              "      <td>False</td>\n",
              "      <td>False</td>\n",
              "      <td>True</td>\n",
              "    </tr>\n",
              "    <tr>\n",
              "      <th>4</th>\n",
              "      <td>False</td>\n",
              "      <td>False</td>\n",
              "      <td>False</td>\n",
              "      <td>True</td>\n",
              "    </tr>\n",
              "    <tr>\n",
              "      <th>...</th>\n",
              "      <td>...</td>\n",
              "      <td>...</td>\n",
              "      <td>...</td>\n",
              "      <td>...</td>\n",
              "    </tr>\n",
              "    <tr>\n",
              "      <th>56415</th>\n",
              "      <td>False</td>\n",
              "      <td>False</td>\n",
              "      <td>False</td>\n",
              "      <td>True</td>\n",
              "    </tr>\n",
              "    <tr>\n",
              "      <th>56416</th>\n",
              "      <td>False</td>\n",
              "      <td>False</td>\n",
              "      <td>False</td>\n",
              "      <td>True</td>\n",
              "    </tr>\n",
              "    <tr>\n",
              "      <th>56417</th>\n",
              "      <td>False</td>\n",
              "      <td>False</td>\n",
              "      <td>False</td>\n",
              "      <td>True</td>\n",
              "    </tr>\n",
              "    <tr>\n",
              "      <th>56418</th>\n",
              "      <td>False</td>\n",
              "      <td>False</td>\n",
              "      <td>False</td>\n",
              "      <td>True</td>\n",
              "    </tr>\n",
              "    <tr>\n",
              "      <th>56419</th>\n",
              "      <td>False</td>\n",
              "      <td>False</td>\n",
              "      <td>False</td>\n",
              "      <td>True</td>\n",
              "    </tr>\n",
              "  </tbody>\n",
              "</table>\n",
              "<p>56420 rows × 4 columns</p>\n",
              "</div>\n",
              "    <div class=\"colab-df-buttons\">\n",
              "\n",
              "  <div class=\"colab-df-container\">\n",
              "    <button class=\"colab-df-convert\" onclick=\"convertToInteractive('df-1fcf3cbf-5325-4c77-9ad2-1d9283fd8b4a')\"\n",
              "            title=\"Convert this dataframe to an interactive table.\"\n",
              "            style=\"display:none;\">\n",
              "\n",
              "  <svg xmlns=\"http://www.w3.org/2000/svg\" height=\"24px\" viewBox=\"0 -960 960 960\">\n",
              "    <path d=\"M120-120v-720h720v720H120Zm60-500h600v-160H180v160Zm220 220h160v-160H400v160Zm0 220h160v-160H400v160ZM180-400h160v-160H180v160Zm440 0h160v-160H620v160ZM180-180h160v-160H180v160Zm440 0h160v-160H620v160Z\"/>\n",
              "  </svg>\n",
              "    </button>\n",
              "\n",
              "  <style>\n",
              "    .colab-df-container {\n",
              "      display:flex;\n",
              "      gap: 12px;\n",
              "    }\n",
              "\n",
              "    .colab-df-convert {\n",
              "      background-color: #E8F0FE;\n",
              "      border: none;\n",
              "      border-radius: 50%;\n",
              "      cursor: pointer;\n",
              "      display: none;\n",
              "      fill: #1967D2;\n",
              "      height: 32px;\n",
              "      padding: 0 0 0 0;\n",
              "      width: 32px;\n",
              "    }\n",
              "\n",
              "    .colab-df-convert:hover {\n",
              "      background-color: #E2EBFA;\n",
              "      box-shadow: 0px 1px 2px rgba(60, 64, 67, 0.3), 0px 1px 3px 1px rgba(60, 64, 67, 0.15);\n",
              "      fill: #174EA6;\n",
              "    }\n",
              "\n",
              "    .colab-df-buttons div {\n",
              "      margin-bottom: 4px;\n",
              "    }\n",
              "\n",
              "    [theme=dark] .colab-df-convert {\n",
              "      background-color: #3B4455;\n",
              "      fill: #D2E3FC;\n",
              "    }\n",
              "\n",
              "    [theme=dark] .colab-df-convert:hover {\n",
              "      background-color: #434B5C;\n",
              "      box-shadow: 0px 1px 3px 1px rgba(0, 0, 0, 0.15);\n",
              "      filter: drop-shadow(0px 1px 2px rgba(0, 0, 0, 0.3));\n",
              "      fill: #FFFFFF;\n",
              "    }\n",
              "  </style>\n",
              "\n",
              "    <script>\n",
              "      const buttonEl =\n",
              "        document.querySelector('#df-1fcf3cbf-5325-4c77-9ad2-1d9283fd8b4a button.colab-df-convert');\n",
              "      buttonEl.style.display =\n",
              "        google.colab.kernel.accessAllowed ? 'block' : 'none';\n",
              "\n",
              "      async function convertToInteractive(key) {\n",
              "        const element = document.querySelector('#df-1fcf3cbf-5325-4c77-9ad2-1d9283fd8b4a');\n",
              "        const dataTable =\n",
              "          await google.colab.kernel.invokeFunction('convertToInteractive',\n",
              "                                                    [key], {});\n",
              "        if (!dataTable) return;\n",
              "\n",
              "        const docLinkHtml = 'Like what you see? Visit the ' +\n",
              "          '<a target=\"_blank\" href=https://colab.research.google.com/notebooks/data_table.ipynb>data table notebook</a>'\n",
              "          + ' to learn more about interactive tables.';\n",
              "        element.innerHTML = '';\n",
              "        dataTable['output_type'] = 'display_data';\n",
              "        await google.colab.output.renderOutput(dataTable, element);\n",
              "        const docLink = document.createElement('div');\n",
              "        docLink.innerHTML = docLinkHtml;\n",
              "        element.appendChild(docLink);\n",
              "      }\n",
              "    </script>\n",
              "  </div>\n",
              "\n",
              "\n",
              "<div id=\"df-2edd64b7-3cea-4450-a070-57127d7b87ba\">\n",
              "  <button class=\"colab-df-quickchart\" onclick=\"quickchart('df-2edd64b7-3cea-4450-a070-57127d7b87ba')\"\n",
              "            title=\"Suggest charts\"\n",
              "            style=\"display:none;\">\n",
              "\n",
              "<svg xmlns=\"http://www.w3.org/2000/svg\" height=\"24px\"viewBox=\"0 0 24 24\"\n",
              "     width=\"24px\">\n",
              "    <g>\n",
              "        <path d=\"M19 3H5c-1.1 0-2 .9-2 2v14c0 1.1.9 2 2 2h14c1.1 0 2-.9 2-2V5c0-1.1-.9-2-2-2zM9 17H7v-7h2v7zm4 0h-2V7h2v10zm4 0h-2v-4h2v4z\"/>\n",
              "    </g>\n",
              "</svg>\n",
              "  </button>\n",
              "\n",
              "<style>\n",
              "  .colab-df-quickchart {\n",
              "      --bg-color: #E8F0FE;\n",
              "      --fill-color: #1967D2;\n",
              "      --hover-bg-color: #E2EBFA;\n",
              "      --hover-fill-color: #174EA6;\n",
              "      --disabled-fill-color: #AAA;\n",
              "      --disabled-bg-color: #DDD;\n",
              "  }\n",
              "\n",
              "  [theme=dark] .colab-df-quickchart {\n",
              "      --bg-color: #3B4455;\n",
              "      --fill-color: #D2E3FC;\n",
              "      --hover-bg-color: #434B5C;\n",
              "      --hover-fill-color: #FFFFFF;\n",
              "      --disabled-bg-color: #3B4455;\n",
              "      --disabled-fill-color: #666;\n",
              "  }\n",
              "\n",
              "  .colab-df-quickchart {\n",
              "    background-color: var(--bg-color);\n",
              "    border: none;\n",
              "    border-radius: 50%;\n",
              "    cursor: pointer;\n",
              "    display: none;\n",
              "    fill: var(--fill-color);\n",
              "    height: 32px;\n",
              "    padding: 0;\n",
              "    width: 32px;\n",
              "  }\n",
              "\n",
              "  .colab-df-quickchart:hover {\n",
              "    background-color: var(--hover-bg-color);\n",
              "    box-shadow: 0 1px 2px rgba(60, 64, 67, 0.3), 0 1px 3px 1px rgba(60, 64, 67, 0.15);\n",
              "    fill: var(--button-hover-fill-color);\n",
              "  }\n",
              "\n",
              "  .colab-df-quickchart-complete:disabled,\n",
              "  .colab-df-quickchart-complete:disabled:hover {\n",
              "    background-color: var(--disabled-bg-color);\n",
              "    fill: var(--disabled-fill-color);\n",
              "    box-shadow: none;\n",
              "  }\n",
              "\n",
              "  .colab-df-spinner {\n",
              "    border: 2px solid var(--fill-color);\n",
              "    border-color: transparent;\n",
              "    border-bottom-color: var(--fill-color);\n",
              "    animation:\n",
              "      spin 1s steps(1) infinite;\n",
              "  }\n",
              "\n",
              "  @keyframes spin {\n",
              "    0% {\n",
              "      border-color: transparent;\n",
              "      border-bottom-color: var(--fill-color);\n",
              "      border-left-color: var(--fill-color);\n",
              "    }\n",
              "    20% {\n",
              "      border-color: transparent;\n",
              "      border-left-color: var(--fill-color);\n",
              "      border-top-color: var(--fill-color);\n",
              "    }\n",
              "    30% {\n",
              "      border-color: transparent;\n",
              "      border-left-color: var(--fill-color);\n",
              "      border-top-color: var(--fill-color);\n",
              "      border-right-color: var(--fill-color);\n",
              "    }\n",
              "    40% {\n",
              "      border-color: transparent;\n",
              "      border-right-color: var(--fill-color);\n",
              "      border-top-color: var(--fill-color);\n",
              "    }\n",
              "    60% {\n",
              "      border-color: transparent;\n",
              "      border-right-color: var(--fill-color);\n",
              "    }\n",
              "    80% {\n",
              "      border-color: transparent;\n",
              "      border-right-color: var(--fill-color);\n",
              "      border-bottom-color: var(--fill-color);\n",
              "    }\n",
              "    90% {\n",
              "      border-color: transparent;\n",
              "      border-bottom-color: var(--fill-color);\n",
              "    }\n",
              "  }\n",
              "</style>\n",
              "\n",
              "  <script>\n",
              "    async function quickchart(key) {\n",
              "      const quickchartButtonEl =\n",
              "        document.querySelector('#' + key + ' button');\n",
              "      quickchartButtonEl.disabled = true;  // To prevent multiple clicks.\n",
              "      quickchartButtonEl.classList.add('colab-df-spinner');\n",
              "      try {\n",
              "        const charts = await google.colab.kernel.invokeFunction(\n",
              "            'suggestCharts', [key], {});\n",
              "      } catch (error) {\n",
              "        console.error('Error during call to suggestCharts:', error);\n",
              "      }\n",
              "      quickchartButtonEl.classList.remove('colab-df-spinner');\n",
              "      quickchartButtonEl.classList.add('colab-df-quickchart-complete');\n",
              "    }\n",
              "    (() => {\n",
              "      let quickchartButtonEl =\n",
              "        document.querySelector('#df-2edd64b7-3cea-4450-a070-57127d7b87ba button');\n",
              "      quickchartButtonEl.style.display =\n",
              "        google.colab.kernel.accessAllowed ? 'block' : 'none';\n",
              "    })();\n",
              "  </script>\n",
              "</div>\n",
              "\n",
              "  <div id=\"id_6c0e780d-e669-4616-8a27-26eb66a7365e\">\n",
              "    <style>\n",
              "      .colab-df-generate {\n",
              "        background-color: #E8F0FE;\n",
              "        border: none;\n",
              "        border-radius: 50%;\n",
              "        cursor: pointer;\n",
              "        display: none;\n",
              "        fill: #1967D2;\n",
              "        height: 32px;\n",
              "        padding: 0 0 0 0;\n",
              "        width: 32px;\n",
              "      }\n",
              "\n",
              "      .colab-df-generate:hover {\n",
              "        background-color: #E2EBFA;\n",
              "        box-shadow: 0px 1px 2px rgba(60, 64, 67, 0.3), 0px 1px 3px 1px rgba(60, 64, 67, 0.15);\n",
              "        fill: #174EA6;\n",
              "      }\n",
              "\n",
              "      [theme=dark] .colab-df-generate {\n",
              "        background-color: #3B4455;\n",
              "        fill: #D2E3FC;\n",
              "      }\n",
              "\n",
              "      [theme=dark] .colab-df-generate:hover {\n",
              "        background-color: #434B5C;\n",
              "        box-shadow: 0px 1px 3px 1px rgba(0, 0, 0, 0.15);\n",
              "        filter: drop-shadow(0px 1px 2px rgba(0, 0, 0, 0.3));\n",
              "        fill: #FFFFFF;\n",
              "      }\n",
              "    </style>\n",
              "    <button class=\"colab-df-generate\" onclick=\"generateWithVariable('data_dummy')\"\n",
              "            title=\"Generate code using this dataframe.\"\n",
              "            style=\"display:none;\">\n",
              "\n",
              "  <svg xmlns=\"http://www.w3.org/2000/svg\" height=\"24px\"viewBox=\"0 0 24 24\"\n",
              "       width=\"24px\">\n",
              "    <path d=\"M7,19H8.4L18.45,9,17,7.55,7,17.6ZM5,21V16.75L18.45,3.32a2,2,0,0,1,2.83,0l1.4,1.43a1.91,1.91,0,0,1,.58,1.4,1.91,1.91,0,0,1-.58,1.4L9.25,21ZM18.45,9,17,7.55Zm-12,3A5.31,5.31,0,0,0,4.9,8.1,5.31,5.31,0,0,0,1,6.5,5.31,5.31,0,0,0,4.9,4.9,5.31,5.31,0,0,0,6.5,1,5.31,5.31,0,0,0,8.1,4.9,5.31,5.31,0,0,0,12,6.5,5.46,5.46,0,0,0,6.5,12Z\"/>\n",
              "  </svg>\n",
              "    </button>\n",
              "    <script>\n",
              "      (() => {\n",
              "      const buttonEl =\n",
              "        document.querySelector('#id_6c0e780d-e669-4616-8a27-26eb66a7365e button.colab-df-generate');\n",
              "      buttonEl.style.display =\n",
              "        google.colab.kernel.accessAllowed ? 'block' : 'none';\n",
              "\n",
              "      buttonEl.onclick = () => {\n",
              "        google.colab.notebook.generateWithVariable('data_dummy');\n",
              "      }\n",
              "      })();\n",
              "    </script>\n",
              "  </div>\n",
              "\n",
              "    </div>\n",
              "  </div>\n"
            ],
            "application/vnd.google.colaboratory.intrinsic+json": {
              "type": "dataframe",
              "variable_name": "data_dummy",
              "summary": "{\n  \"name\": \"data_dummy\",\n  \"rows\": 56420,\n  \"fields\": [\n    {\n      \"column\": \"Desert\",\n      \"properties\": {\n        \"dtype\": \"boolean\",\n        \"num_unique_values\": 2,\n        \"samples\": [\n          true,\n          false\n        ],\n        \"semantic_type\": \"\",\n        \"description\": \"\"\n      }\n    },\n    {\n      \"column\": \"Grassland\",\n      \"properties\": {\n        \"dtype\": \"boolean\",\n        \"num_unique_values\": 2,\n        \"samples\": [\n          true,\n          false\n        ],\n        \"semantic_type\": \"\",\n        \"description\": \"\"\n      }\n    },\n    {\n      \"column\": \"Subtropical\",\n      \"properties\": {\n        \"dtype\": \"boolean\",\n        \"num_unique_values\": 2,\n        \"samples\": [\n          false,\n          true\n        ],\n        \"semantic_type\": \"\",\n        \"description\": \"\"\n      }\n    },\n    {\n      \"column\": \"Temperate\",\n      \"properties\": {\n        \"dtype\": \"boolean\",\n        \"num_unique_values\": 2,\n        \"samples\": [\n          true,\n          false\n        ],\n        \"semantic_type\": \"\",\n        \"description\": \"\"\n      }\n    }\n  ]\n}"
            }
          },
          "metadata": {},
          "execution_count": 34
        }
      ]
    },
    {
      "cell_type": "code",
      "source": [
        "# dummy de data Koppen eliminando la primera columna\n",
        "data_dummy2 = pd.get_dummies(data['Koppen'], drop_first=True)\n",
        "data_dummy2"
      ],
      "metadata": {
        "id": "2g0DOoJ4Tkwj",
        "outputId": "6ff2adcf-e930-4344-c876-1aa8b3c3ce2a",
        "colab": {
          "base_uri": "https://localhost:8080/",
          "height": 424
        }
      },
      "id": "2g0DOoJ4Tkwj",
      "execution_count": 35,
      "outputs": [
        {
          "output_type": "execute_result",
          "data": {
            "text/plain": [
              "       Grassland  Subtropical  Temperate\n",
              "0          False         True      False\n",
              "1          False         True      False\n",
              "2          False        False       True\n",
              "3          False        False       True\n",
              "4          False        False       True\n",
              "...          ...          ...        ...\n",
              "56415      False        False       True\n",
              "56416      False        False       True\n",
              "56417      False        False       True\n",
              "56418      False        False       True\n",
              "56419      False        False       True\n",
              "\n",
              "[56420 rows x 3 columns]"
            ],
            "text/html": [
              "\n",
              "  <div id=\"df-a492c765-772f-44ff-ac9b-57b7ff4be2a0\" class=\"colab-df-container\">\n",
              "    <div>\n",
              "<style scoped>\n",
              "    .dataframe tbody tr th:only-of-type {\n",
              "        vertical-align: middle;\n",
              "    }\n",
              "\n",
              "    .dataframe tbody tr th {\n",
              "        vertical-align: top;\n",
              "    }\n",
              "\n",
              "    .dataframe thead th {\n",
              "        text-align: right;\n",
              "    }\n",
              "</style>\n",
              "<table border=\"1\" class=\"dataframe\">\n",
              "  <thead>\n",
              "    <tr style=\"text-align: right;\">\n",
              "      <th></th>\n",
              "      <th>Grassland</th>\n",
              "      <th>Subtropical</th>\n",
              "      <th>Temperate</th>\n",
              "    </tr>\n",
              "  </thead>\n",
              "  <tbody>\n",
              "    <tr>\n",
              "      <th>0</th>\n",
              "      <td>False</td>\n",
              "      <td>True</td>\n",
              "      <td>False</td>\n",
              "    </tr>\n",
              "    <tr>\n",
              "      <th>1</th>\n",
              "      <td>False</td>\n",
              "      <td>True</td>\n",
              "      <td>False</td>\n",
              "    </tr>\n",
              "    <tr>\n",
              "      <th>2</th>\n",
              "      <td>False</td>\n",
              "      <td>False</td>\n",
              "      <td>True</td>\n",
              "    </tr>\n",
              "    <tr>\n",
              "      <th>3</th>\n",
              "      <td>False</td>\n",
              "      <td>False</td>\n",
              "      <td>True</td>\n",
              "    </tr>\n",
              "    <tr>\n",
              "      <th>4</th>\n",
              "      <td>False</td>\n",
              "      <td>False</td>\n",
              "      <td>True</td>\n",
              "    </tr>\n",
              "    <tr>\n",
              "      <th>...</th>\n",
              "      <td>...</td>\n",
              "      <td>...</td>\n",
              "      <td>...</td>\n",
              "    </tr>\n",
              "    <tr>\n",
              "      <th>56415</th>\n",
              "      <td>False</td>\n",
              "      <td>False</td>\n",
              "      <td>True</td>\n",
              "    </tr>\n",
              "    <tr>\n",
              "      <th>56416</th>\n",
              "      <td>False</td>\n",
              "      <td>False</td>\n",
              "      <td>True</td>\n",
              "    </tr>\n",
              "    <tr>\n",
              "      <th>56417</th>\n",
              "      <td>False</td>\n",
              "      <td>False</td>\n",
              "      <td>True</td>\n",
              "    </tr>\n",
              "    <tr>\n",
              "      <th>56418</th>\n",
              "      <td>False</td>\n",
              "      <td>False</td>\n",
              "      <td>True</td>\n",
              "    </tr>\n",
              "    <tr>\n",
              "      <th>56419</th>\n",
              "      <td>False</td>\n",
              "      <td>False</td>\n",
              "      <td>True</td>\n",
              "    </tr>\n",
              "  </tbody>\n",
              "</table>\n",
              "<p>56420 rows × 3 columns</p>\n",
              "</div>\n",
              "    <div class=\"colab-df-buttons\">\n",
              "\n",
              "  <div class=\"colab-df-container\">\n",
              "    <button class=\"colab-df-convert\" onclick=\"convertToInteractive('df-a492c765-772f-44ff-ac9b-57b7ff4be2a0')\"\n",
              "            title=\"Convert this dataframe to an interactive table.\"\n",
              "            style=\"display:none;\">\n",
              "\n",
              "  <svg xmlns=\"http://www.w3.org/2000/svg\" height=\"24px\" viewBox=\"0 -960 960 960\">\n",
              "    <path d=\"M120-120v-720h720v720H120Zm60-500h600v-160H180v160Zm220 220h160v-160H400v160Zm0 220h160v-160H400v160ZM180-400h160v-160H180v160Zm440 0h160v-160H620v160ZM180-180h160v-160H180v160Zm440 0h160v-160H620v160Z\"/>\n",
              "  </svg>\n",
              "    </button>\n",
              "\n",
              "  <style>\n",
              "    .colab-df-container {\n",
              "      display:flex;\n",
              "      gap: 12px;\n",
              "    }\n",
              "\n",
              "    .colab-df-convert {\n",
              "      background-color: #E8F0FE;\n",
              "      border: none;\n",
              "      border-radius: 50%;\n",
              "      cursor: pointer;\n",
              "      display: none;\n",
              "      fill: #1967D2;\n",
              "      height: 32px;\n",
              "      padding: 0 0 0 0;\n",
              "      width: 32px;\n",
              "    }\n",
              "\n",
              "    .colab-df-convert:hover {\n",
              "      background-color: #E2EBFA;\n",
              "      box-shadow: 0px 1px 2px rgba(60, 64, 67, 0.3), 0px 1px 3px 1px rgba(60, 64, 67, 0.15);\n",
              "      fill: #174EA6;\n",
              "    }\n",
              "\n",
              "    .colab-df-buttons div {\n",
              "      margin-bottom: 4px;\n",
              "    }\n",
              "\n",
              "    [theme=dark] .colab-df-convert {\n",
              "      background-color: #3B4455;\n",
              "      fill: #D2E3FC;\n",
              "    }\n",
              "\n",
              "    [theme=dark] .colab-df-convert:hover {\n",
              "      background-color: #434B5C;\n",
              "      box-shadow: 0px 1px 3px 1px rgba(0, 0, 0, 0.15);\n",
              "      filter: drop-shadow(0px 1px 2px rgba(0, 0, 0, 0.3));\n",
              "      fill: #FFFFFF;\n",
              "    }\n",
              "  </style>\n",
              "\n",
              "    <script>\n",
              "      const buttonEl =\n",
              "        document.querySelector('#df-a492c765-772f-44ff-ac9b-57b7ff4be2a0 button.colab-df-convert');\n",
              "      buttonEl.style.display =\n",
              "        google.colab.kernel.accessAllowed ? 'block' : 'none';\n",
              "\n",
              "      async function convertToInteractive(key) {\n",
              "        const element = document.querySelector('#df-a492c765-772f-44ff-ac9b-57b7ff4be2a0');\n",
              "        const dataTable =\n",
              "          await google.colab.kernel.invokeFunction('convertToInteractive',\n",
              "                                                    [key], {});\n",
              "        if (!dataTable) return;\n",
              "\n",
              "        const docLinkHtml = 'Like what you see? Visit the ' +\n",
              "          '<a target=\"_blank\" href=https://colab.research.google.com/notebooks/data_table.ipynb>data table notebook</a>'\n",
              "          + ' to learn more about interactive tables.';\n",
              "        element.innerHTML = '';\n",
              "        dataTable['output_type'] = 'display_data';\n",
              "        await google.colab.output.renderOutput(dataTable, element);\n",
              "        const docLink = document.createElement('div');\n",
              "        docLink.innerHTML = docLinkHtml;\n",
              "        element.appendChild(docLink);\n",
              "      }\n",
              "    </script>\n",
              "  </div>\n",
              "\n",
              "\n",
              "<div id=\"df-7b0f9683-d784-4c05-99cb-6f203ed5c3b0\">\n",
              "  <button class=\"colab-df-quickchart\" onclick=\"quickchart('df-7b0f9683-d784-4c05-99cb-6f203ed5c3b0')\"\n",
              "            title=\"Suggest charts\"\n",
              "            style=\"display:none;\">\n",
              "\n",
              "<svg xmlns=\"http://www.w3.org/2000/svg\" height=\"24px\"viewBox=\"0 0 24 24\"\n",
              "     width=\"24px\">\n",
              "    <g>\n",
              "        <path d=\"M19 3H5c-1.1 0-2 .9-2 2v14c0 1.1.9 2 2 2h14c1.1 0 2-.9 2-2V5c0-1.1-.9-2-2-2zM9 17H7v-7h2v7zm4 0h-2V7h2v10zm4 0h-2v-4h2v4z\"/>\n",
              "    </g>\n",
              "</svg>\n",
              "  </button>\n",
              "\n",
              "<style>\n",
              "  .colab-df-quickchart {\n",
              "      --bg-color: #E8F0FE;\n",
              "      --fill-color: #1967D2;\n",
              "      --hover-bg-color: #E2EBFA;\n",
              "      --hover-fill-color: #174EA6;\n",
              "      --disabled-fill-color: #AAA;\n",
              "      --disabled-bg-color: #DDD;\n",
              "  }\n",
              "\n",
              "  [theme=dark] .colab-df-quickchart {\n",
              "      --bg-color: #3B4455;\n",
              "      --fill-color: #D2E3FC;\n",
              "      --hover-bg-color: #434B5C;\n",
              "      --hover-fill-color: #FFFFFF;\n",
              "      --disabled-bg-color: #3B4455;\n",
              "      --disabled-fill-color: #666;\n",
              "  }\n",
              "\n",
              "  .colab-df-quickchart {\n",
              "    background-color: var(--bg-color);\n",
              "    border: none;\n",
              "    border-radius: 50%;\n",
              "    cursor: pointer;\n",
              "    display: none;\n",
              "    fill: var(--fill-color);\n",
              "    height: 32px;\n",
              "    padding: 0;\n",
              "    width: 32px;\n",
              "  }\n",
              "\n",
              "  .colab-df-quickchart:hover {\n",
              "    background-color: var(--hover-bg-color);\n",
              "    box-shadow: 0 1px 2px rgba(60, 64, 67, 0.3), 0 1px 3px 1px rgba(60, 64, 67, 0.15);\n",
              "    fill: var(--button-hover-fill-color);\n",
              "  }\n",
              "\n",
              "  .colab-df-quickchart-complete:disabled,\n",
              "  .colab-df-quickchart-complete:disabled:hover {\n",
              "    background-color: var(--disabled-bg-color);\n",
              "    fill: var(--disabled-fill-color);\n",
              "    box-shadow: none;\n",
              "  }\n",
              "\n",
              "  .colab-df-spinner {\n",
              "    border: 2px solid var(--fill-color);\n",
              "    border-color: transparent;\n",
              "    border-bottom-color: var(--fill-color);\n",
              "    animation:\n",
              "      spin 1s steps(1) infinite;\n",
              "  }\n",
              "\n",
              "  @keyframes spin {\n",
              "    0% {\n",
              "      border-color: transparent;\n",
              "      border-bottom-color: var(--fill-color);\n",
              "      border-left-color: var(--fill-color);\n",
              "    }\n",
              "    20% {\n",
              "      border-color: transparent;\n",
              "      border-left-color: var(--fill-color);\n",
              "      border-top-color: var(--fill-color);\n",
              "    }\n",
              "    30% {\n",
              "      border-color: transparent;\n",
              "      border-left-color: var(--fill-color);\n",
              "      border-top-color: var(--fill-color);\n",
              "      border-right-color: var(--fill-color);\n",
              "    }\n",
              "    40% {\n",
              "      border-color: transparent;\n",
              "      border-right-color: var(--fill-color);\n",
              "      border-top-color: var(--fill-color);\n",
              "    }\n",
              "    60% {\n",
              "      border-color: transparent;\n",
              "      border-right-color: var(--fill-color);\n",
              "    }\n",
              "    80% {\n",
              "      border-color: transparent;\n",
              "      border-right-color: var(--fill-color);\n",
              "      border-bottom-color: var(--fill-color);\n",
              "    }\n",
              "    90% {\n",
              "      border-color: transparent;\n",
              "      border-bottom-color: var(--fill-color);\n",
              "    }\n",
              "  }\n",
              "</style>\n",
              "\n",
              "  <script>\n",
              "    async function quickchart(key) {\n",
              "      const quickchartButtonEl =\n",
              "        document.querySelector('#' + key + ' button');\n",
              "      quickchartButtonEl.disabled = true;  // To prevent multiple clicks.\n",
              "      quickchartButtonEl.classList.add('colab-df-spinner');\n",
              "      try {\n",
              "        const charts = await google.colab.kernel.invokeFunction(\n",
              "            'suggestCharts', [key], {});\n",
              "      } catch (error) {\n",
              "        console.error('Error during call to suggestCharts:', error);\n",
              "      }\n",
              "      quickchartButtonEl.classList.remove('colab-df-spinner');\n",
              "      quickchartButtonEl.classList.add('colab-df-quickchart-complete');\n",
              "    }\n",
              "    (() => {\n",
              "      let quickchartButtonEl =\n",
              "        document.querySelector('#df-7b0f9683-d784-4c05-99cb-6f203ed5c3b0 button');\n",
              "      quickchartButtonEl.style.display =\n",
              "        google.colab.kernel.accessAllowed ? 'block' : 'none';\n",
              "    })();\n",
              "  </script>\n",
              "</div>\n",
              "\n",
              "  <div id=\"id_2ec3ed05-083a-47da-8bbb-0b4fc06ddceb\">\n",
              "    <style>\n",
              "      .colab-df-generate {\n",
              "        background-color: #E8F0FE;\n",
              "        border: none;\n",
              "        border-radius: 50%;\n",
              "        cursor: pointer;\n",
              "        display: none;\n",
              "        fill: #1967D2;\n",
              "        height: 32px;\n",
              "        padding: 0 0 0 0;\n",
              "        width: 32px;\n",
              "      }\n",
              "\n",
              "      .colab-df-generate:hover {\n",
              "        background-color: #E2EBFA;\n",
              "        box-shadow: 0px 1px 2px rgba(60, 64, 67, 0.3), 0px 1px 3px 1px rgba(60, 64, 67, 0.15);\n",
              "        fill: #174EA6;\n",
              "      }\n",
              "\n",
              "      [theme=dark] .colab-df-generate {\n",
              "        background-color: #3B4455;\n",
              "        fill: #D2E3FC;\n",
              "      }\n",
              "\n",
              "      [theme=dark] .colab-df-generate:hover {\n",
              "        background-color: #434B5C;\n",
              "        box-shadow: 0px 1px 3px 1px rgba(0, 0, 0, 0.15);\n",
              "        filter: drop-shadow(0px 1px 2px rgba(0, 0, 0, 0.3));\n",
              "        fill: #FFFFFF;\n",
              "      }\n",
              "    </style>\n",
              "    <button class=\"colab-df-generate\" onclick=\"generateWithVariable('data_dummy2')\"\n",
              "            title=\"Generate code using this dataframe.\"\n",
              "            style=\"display:none;\">\n",
              "\n",
              "  <svg xmlns=\"http://www.w3.org/2000/svg\" height=\"24px\"viewBox=\"0 0 24 24\"\n",
              "       width=\"24px\">\n",
              "    <path d=\"M7,19H8.4L18.45,9,17,7.55,7,17.6ZM5,21V16.75L18.45,3.32a2,2,0,0,1,2.83,0l1.4,1.43a1.91,1.91,0,0,1,.58,1.4,1.91,1.91,0,0,1-.58,1.4L9.25,21ZM18.45,9,17,7.55Zm-12,3A5.31,5.31,0,0,0,4.9,8.1,5.31,5.31,0,0,0,1,6.5,5.31,5.31,0,0,0,4.9,4.9,5.31,5.31,0,0,0,6.5,1,5.31,5.31,0,0,0,8.1,4.9,5.31,5.31,0,0,0,12,6.5,5.46,5.46,0,0,0,6.5,12Z\"/>\n",
              "  </svg>\n",
              "    </button>\n",
              "    <script>\n",
              "      (() => {\n",
              "      const buttonEl =\n",
              "        document.querySelector('#id_2ec3ed05-083a-47da-8bbb-0b4fc06ddceb button.colab-df-generate');\n",
              "      buttonEl.style.display =\n",
              "        google.colab.kernel.accessAllowed ? 'block' : 'none';\n",
              "\n",
              "      buttonEl.onclick = () => {\n",
              "        google.colab.notebook.generateWithVariable('data_dummy2');\n",
              "      }\n",
              "      })();\n",
              "    </script>\n",
              "  </div>\n",
              "\n",
              "    </div>\n",
              "  </div>\n"
            ],
            "application/vnd.google.colaboratory.intrinsic+json": {
              "type": "dataframe",
              "variable_name": "data_dummy2",
              "summary": "{\n  \"name\": \"data_dummy2\",\n  \"rows\": 56420,\n  \"fields\": [\n    {\n      \"column\": \"Grassland\",\n      \"properties\": {\n        \"dtype\": \"boolean\",\n        \"num_unique_values\": 2,\n        \"samples\": [\n          true,\n          false\n        ],\n        \"semantic_type\": \"\",\n        \"description\": \"\"\n      }\n    },\n    {\n      \"column\": \"Subtropical\",\n      \"properties\": {\n        \"dtype\": \"boolean\",\n        \"num_unique_values\": 2,\n        \"samples\": [\n          false,\n          true\n        ],\n        \"semantic_type\": \"\",\n        \"description\": \"\"\n      }\n    },\n    {\n      \"column\": \"Temperate\",\n      \"properties\": {\n        \"dtype\": \"boolean\",\n        \"num_unique_values\": 2,\n        \"samples\": [\n          true,\n          false\n        ],\n        \"semantic_type\": \"\",\n        \"description\": \"\"\n      }\n    }\n  ]\n}"
            }
          },
          "metadata": {},
          "execution_count": 35
        }
      ]
    },
    {
      "cell_type": "code",
      "source": [
        "data.shape"
      ],
      "metadata": {
        "id": "2KWpJTyWULNi",
        "outputId": "4f830b6d-aa0a-47a1-ccaa-e35509a563ce",
        "colab": {
          "base_uri": "https://localhost:8080/"
        }
      },
      "id": "2KWpJTyWULNi",
      "execution_count": 36,
      "outputs": [
        {
          "output_type": "execute_result",
          "data": {
            "text/plain": [
              "(56420, 20)"
            ]
          },
          "metadata": {},
          "execution_count": 36
        }
      ]
    },
    {
      "cell_type": "markdown",
      "source": [
        "# Escalamiento"
      ],
      "metadata": {
        "id": "pP9M5X-gSvO5"
      },
      "id": "pP9M5X-gSvO5"
    },
    {
      "cell_type": "code",
      "execution_count": 28,
      "id": "0bc51125",
      "metadata": {
        "id": "0bc51125",
        "outputId": "8891535b-16bb-429c-bd61-b08b4daf16be",
        "colab": {
          "base_uri": "https://localhost:8080/"
        }
      },
      "outputs": [
        {
          "output_type": "stream",
          "name": "stdout",
          "text": [
            "    mpg  cylinders  displacement horsepower  weight  acceleration  model year  \\\n",
            "0  18.0          8         307.0        130    3504          12.0          70   \n",
            "1  15.0          8         350.0        165    3693          11.5          70   \n",
            "2  18.0          8         318.0        150    3436          11.0          70   \n",
            "\n",
            "   orign                       name       kpl  \n",
            "0      1  chevrolet chevelle malibu  7.652571  \n",
            "1      1          buick skylark 320  6.377143  \n",
            "2      1         plymouth satellite  7.652571  \n",
            "\n",
            "\n",
            "    mpg  cylinders  displacement horsepower  weight  acceleration  model year  \\\n",
            "0  18.0          8         307.0        130    3504          12.0          70   \n",
            "1  15.0          8         350.0        165    3693          11.5          70   \n",
            "2  18.0          8         318.0        150    3436          11.0          70   \n",
            "\n",
            "   orign                       name   kpl  \n",
            "0      1  chevrolet chevelle malibu  7.65  \n",
            "1      1          buick skylark 320  6.38  \n",
            "2      1         plymouth satellite  7.65  \n"
          ]
        }
      ],
      "source": [
        "mpg_to_kpl = 1.60934 / 3.78541\n",
        "\n",
        "df['kpl'] = df['mpg'] * mpg_to_kpl\n",
        "print(df.head(3))\n",
        "print('\\n')\n",
        "\n",
        "df['kpl'] = df['kpl'].round(2)\n",
        "print(df.head(3))"
      ]
    },
    {
      "cell_type": "markdown",
      "id": "0cca52f3",
      "metadata": {
        "id": "0cca52f3"
      },
      "source": [
        "### Data Type Conversion"
      ]
    },
    {
      "cell_type": "code",
      "execution_count": 37,
      "id": "aa56bdc5",
      "metadata": {
        "id": "aa56bdc5",
        "outputId": "6ef53162-0e0d-4224-b33e-1da29077f55d",
        "colab": {
          "base_uri": "https://localhost:8080/"
        }
      },
      "outputs": [
        {
          "output_type": "stream",
          "name": "stdout",
          "text": [
            "mpg             float64\n",
            "cylinders         int64\n",
            "displacement    float64\n",
            "horsepower       object\n",
            "weight            int64\n",
            "acceleration    float64\n",
            "model year        int64\n",
            "orign             int64\n",
            "name             object\n",
            "kpl             float64\n",
            "dtype: object\n",
            "\n",
            "\n",
            "['130' '165' '150' '140' '198' '220' '215' '225' '190' '170' '160' '95'\n",
            " '97' '85' '88' '46' '87' '90' '113' '200' '210' '193' '?' '100' '105'\n",
            " '175' '153' '180' '110' '72' '86' '70' '76' '65' '69' '60' '80' '54'\n",
            " '208' '155' '112' '92' '145' '137' '158' '167' '94' '107' '230' '49' '75'\n",
            " '91' '122' '67' '83' '78' '52' '61' '93' '148' '129' '96' '71' '98' '115'\n",
            " '53' '81' '79' '120' '152' '102' '108' '68' '58' '149' '89' '63' '48'\n",
            " '66' '139' '103' '125' '133' '138' '135' '142' '77' '62' '132' '84' '64'\n",
            " '74' '116' '82']\n",
            "\n",
            "\n"
          ]
        }
      ],
      "source": [
        "print(df.dtypes)\n",
        "print('\\n')\n",
        "\n",
        "print(df['horsepower'].unique())\n",
        "print('\\n')"
      ]
    },
    {
      "cell_type": "code",
      "execution_count": 38,
      "id": "f07a7f9c",
      "metadata": {
        "id": "f07a7f9c",
        "outputId": "e1ebdc89-c0d3-414d-d038-a0a2c08d1bd1",
        "colab": {
          "base_uri": "https://localhost:8080/"
        }
      },
      "outputs": [
        {
          "output_type": "stream",
          "name": "stdout",
          "text": [
            "[1 3 2]\n"
          ]
        }
      ],
      "source": [
        "print(df['orign'].unique())"
      ]
    },
    {
      "cell_type": "code",
      "execution_count": 39,
      "id": "3ae817ec",
      "metadata": {
        "id": "3ae817ec",
        "outputId": "17582a65-ba62-404c-89d5-5ee08066575b",
        "colab": {
          "base_uri": "https://localhost:8080/"
        }
      },
      "outputs": [
        {
          "output_type": "stream",
          "name": "stdout",
          "text": [
            "['USA' 'JAPAN' 'EU']\n",
            "object\n",
            "\n",
            "\n"
          ]
        }
      ],
      "source": [
        "df['orign'].replace({1:'USA', 2:'EU', 3:'JAPAN'}, inplace=True)\n",
        "\n",
        "print(df['orign'].unique())\n",
        "print(df['orign'].dtypes)\n",
        "print('\\n')"
      ]
    },
    {
      "cell_type": "code",
      "execution_count": 40,
      "id": "f4bc60be",
      "metadata": {
        "id": "f4bc60be",
        "outputId": "828e24d1-02aa-4dc1-9441-0d3517bd7a79",
        "colab": {
          "base_uri": "https://localhost:8080/"
        }
      },
      "outputs": [
        {
          "output_type": "stream",
          "name": "stdout",
          "text": [
            "category\n",
            "object\n"
          ]
        }
      ],
      "source": [
        "df['orign'] = df['orign'].astype('category')\n",
        "print(df['orign'].dtypes)\n",
        "\n",
        "df['orign'] = df['orign'].astype('str')\n",
        "print(df['orign'].dtypes)"
      ]
    },
    {
      "cell_type": "code",
      "execution_count": 41,
      "id": "49a41bca",
      "metadata": {
        "id": "49a41bca",
        "outputId": "9a3f224d-9f6e-45d9-d9c5-a0e5d8fd07ee",
        "colab": {
          "base_uri": "https://localhost:8080/"
        }
      },
      "outputs": [
        {
          "output_type": "stream",
          "name": "stdout",
          "text": [
            "26     70\n",
            "237    77\n",
            "149    74\n",
            "Name: model year, dtype: int64\n",
            "257    78\n",
            "366    81\n",
            "138    74\n",
            "Name: model year, dtype: category\n",
            "Categories (13, int64): [70, 71, 72, 73, ..., 79, 80, 81, 82]\n"
          ]
        }
      ],
      "source": [
        "print(df['model year'].sample(3))\n",
        "df['model year'] = df['model year'].astype('category')\n",
        "print(df['model year'].sample(3))"
      ]
    },
    {
      "cell_type": "markdown",
      "id": "db469a6a",
      "metadata": {
        "id": "db469a6a"
      },
      "source": [
        "### Categorical Data Conversion (Division of Sections)"
      ]
    },
    {
      "cell_type": "code",
      "execution_count": 42,
      "id": "f740a0c0",
      "metadata": {
        "id": "f740a0c0"
      },
      "outputs": [],
      "source": [
        "df = pd.read_csv('./auto-mpg.csv', header=None)\n",
        "\n",
        "df.columns = ['mpg', 'cylinders', 'displacement', 'horsepower', 'weight',\n",
        "              'acceleration', 'model year', 'orign', 'name']\n",
        "\n",
        "df['horsepower'].replace('?', np.nan, inplace=True)\n",
        "df.dropna(subset=['horsepower'], axis=0, inplace=True)\n",
        "df['horsepower'] = df['horsepower'].astype('float')"
      ]
    },
    {
      "cell_type": "code",
      "execution_count": 43,
      "id": "8f3ed70a",
      "metadata": {
        "id": "8f3ed70a",
        "outputId": "8921bf68-4449-4835-8b2f-66af6225f9d7",
        "colab": {
          "base_uri": "https://localhost:8080/"
        }
      },
      "outputs": [
        {
          "output_type": "stream",
          "name": "stdout",
          "text": [
            "[ 46.         107.33333333 168.66666667 230.        ]\n"
          ]
        }
      ],
      "source": [
        "count, bin_dividers = np.histogram(df['horsepower'], bins=3)\n",
        "print(bin_dividers)"
      ]
    },
    {
      "cell_type": "code",
      "execution_count": 44,
      "id": "3989bacf",
      "metadata": {
        "id": "3989bacf",
        "outputId": "de7704b2-723b-4e82-f5bf-3ccc92b22457",
        "colab": {
          "base_uri": "https://localhost:8080/"
        }
      },
      "outputs": [
        {
          "output_type": "stream",
          "name": "stdout",
          "text": [
            "    horsepower         hp_bin\n",
            "0        130.0  Normal output\n",
            "1        165.0  Normal output\n",
            "2        150.0  Normal output\n",
            "3        150.0  Normal output\n",
            "4        140.0  Normal output\n",
            "5        198.0    High output\n",
            "6        220.0    High output\n",
            "7        215.0    High output\n",
            "8        225.0    High output\n",
            "9        190.0    High output\n",
            "10       170.0    High output\n",
            "11       160.0  Normal output\n",
            "12       150.0  Normal output\n",
            "13       225.0    High output\n",
            "14        95.0     Low output\n"
          ]
        }
      ],
      "source": [
        "bin_names = ['Low output', 'Normal output', 'High output']\n",
        "\n",
        "df['hp_bin'] = pd.cut(x=df['horsepower'],\n",
        "                     bins=bin_dividers,\n",
        "                     labels=bin_names,\n",
        "                     include_lowest=True)\n",
        "\n",
        "print(df[['horsepower', 'hp_bin']].head(15))"
      ]
    },
    {
      "cell_type": "markdown",
      "id": "cd7f9b96",
      "metadata": {
        "id": "cd7f9b96"
      },
      "source": [
        "### Categorical Data Conversion (Divisions of Sections)"
      ]
    },
    {
      "cell_type": "code",
      "execution_count": 45,
      "id": "bf8c1c34",
      "metadata": {
        "id": "bf8c1c34"
      },
      "outputs": [],
      "source": [
        "df = pd.read_csv('./auto-mpg.csv', header=None)\n",
        "\n",
        "df.columns = ['mpg', 'cylinders', 'displacement', 'horsepower', 'weight',\n",
        "              'acceleration', 'model year', 'orign', 'name']\n",
        "\n",
        "df['horsepower'].replace('?', np.nan, inplace=True)\n",
        "df.dropna(subset=['horsepower'], axis=0, inplace=True)\n",
        "df['horsepower'] = df['horsepower'].astype('float')\n",
        "\n",
        "count, bin_dividers = np.histogram(df['horsepower'], bins=3)\n",
        "bin_names = ['Low output', 'Normal output', 'High output']"
      ]
    },
    {
      "cell_type": "markdown",
      "id": "af49e529",
      "metadata": {
        "id": "af49e529"
      },
      "source": [
        "### One-Hot Vector"
      ]
    },
    {
      "cell_type": "code",
      "execution_count": 46,
      "id": "e1818b02",
      "metadata": {
        "id": "e1818b02",
        "outputId": "1f1a1473-4caa-4aed-8e9b-51658faccf20",
        "colab": {
          "base_uri": "https://localhost:8080/"
        }
      },
      "outputs": [
        {
          "output_type": "stream",
          "name": "stdout",
          "text": [
            "    Low output  Normal output  High output\n",
            "0            0              1            0\n",
            "1            0              1            0\n",
            "2            0              1            0\n",
            "3            0              1            0\n",
            "4            0              1            0\n",
            "5            0              0            1\n",
            "6            0              0            1\n",
            "7            0              0            1\n",
            "8            0              0            1\n",
            "9            0              0            1\n",
            "10           0              0            1\n",
            "11           0              1            0\n",
            "12           0              1            0\n",
            "13           0              0            1\n",
            "14           1              0            0\n"
          ]
        }
      ],
      "source": [
        "df['hp_bin'] = pd.cut(x=df['horsepower'],\n",
        "                     bins=bin_dividers,\n",
        "                     labels=bin_names,\n",
        "                     include_lowest=True)\n",
        "\n",
        "horsepower_dummies = pd.get_dummies(df['hp_bin']).astype('int')\n",
        "print(horsepower_dummies.head(15))"
      ]
    },
    {
      "cell_type": "markdown",
      "id": "ba480c19",
      "metadata": {
        "id": "ba480c19"
      },
      "source": [
        "### Normalization"
      ]
    },
    {
      "cell_type": "code",
      "execution_count": 47,
      "id": "2ea7db3a",
      "metadata": {
        "id": "2ea7db3a",
        "outputId": "8c834224-9b17-4c2d-fdde-c72193cd4d6b",
        "colab": {
          "base_uri": "https://localhost:8080/"
        }
      },
      "outputs": [
        {
          "output_type": "stream",
          "name": "stdout",
          "text": [
            "count    392.000000\n",
            "mean     104.469388\n",
            "std       38.491160\n",
            "min       46.000000\n",
            "25%       75.000000\n",
            "50%       93.500000\n",
            "75%      126.000000\n",
            "max      230.000000\n",
            "Name: horsepower, dtype: float64\n",
            "\n",
            "\n",
            "0    0.565217\n",
            "1    0.717391\n",
            "2    0.652174\n",
            "3    0.652174\n",
            "4    0.608696\n",
            "Name: horsepower, dtype: float64\n",
            "\n",
            "\n",
            "count    392.000000\n",
            "mean       0.454215\n",
            "std        0.167353\n",
            "min        0.200000\n",
            "25%        0.326087\n",
            "50%        0.406522\n",
            "75%        0.547826\n",
            "max        1.000000\n",
            "Name: horsepower, dtype: float64\n"
          ]
        }
      ],
      "source": [
        "print(df.horsepower.describe())\n",
        "print('\\n')\n",
        "\n",
        "df.horsepower = df.horsepower / abs(df.horsepower.max())\n",
        "\n",
        "print(df.horsepower.head())\n",
        "print('\\n')\n",
        "print(df.horsepower.describe())"
      ]
    },
    {
      "cell_type": "code",
      "execution_count": 48,
      "id": "6f4161ad",
      "metadata": {
        "id": "6f4161ad",
        "outputId": "d2bea8a5-bba4-4e8e-ea5a-2ebca5cb1989",
        "colab": {
          "base_uri": "https://localhost:8080/"
        }
      },
      "outputs": [
        {
          "output_type": "execute_result",
          "data": {
            "text/plain": [
              "array([12. , 11.5, 11. , 10.5, 10. ,  9. ,  8.5,  8. ,  9.5, 15. , 15.5,\n",
              "       16. , 14.5, 20.5, 17.5, 12.5, 14. , 13.5, 18.5, 13. , 19. , 19.5,\n",
              "       18. , 17. , 23.5, 16.5, 21. , 16.9, 14.9, 17.7, 15.3, 13.9, 12.8,\n",
              "       15.4, 17.6, 22.2, 22.1, 14.2, 17.4, 16.2, 17.8, 12.2, 16.4, 13.6,\n",
              "       15.7, 13.2, 21.9, 16.7, 12.1, 14.8, 18.6, 16.8, 13.7, 11.1, 11.4,\n",
              "       18.2, 15.8, 15.9, 14.1, 21.5, 14.4, 19.4, 19.2, 17.2, 18.7, 15.1,\n",
              "       13.4, 11.2, 14.7, 16.6, 17.3, 15.2, 14.3, 20.1, 24.8, 11.3, 12.9,\n",
              "       18.8, 18.1, 17.9, 21.7, 23.7, 19.9, 21.8, 13.8, 12.6, 16.1, 20.7,\n",
              "       18.3, 20.4, 19.6, 17.1, 15.6, 24.6, 11.6])"
            ]
          },
          "metadata": {},
          "execution_count": 48
        }
      ],
      "source": [
        "# valores unicos de df acceleration\n",
        "df['acceleration'].unique()"
      ]
    },
    {
      "cell_type": "code",
      "source": [
        "df['acceleration'].describe()"
      ],
      "metadata": {
        "id": "N3XDAyNpYD_8",
        "outputId": "9a0826a8-27e7-46ac-f0b8-1c193c4e8683",
        "colab": {
          "base_uri": "https://localhost:8080/"
        }
      },
      "id": "N3XDAyNpYD_8",
      "execution_count": 49,
      "outputs": [
        {
          "output_type": "execute_result",
          "data": {
            "text/plain": [
              "count    392.000000\n",
              "mean      15.541327\n",
              "std        2.758864\n",
              "min        8.000000\n",
              "25%       13.775000\n",
              "50%       15.500000\n",
              "75%       17.025000\n",
              "max       24.800000\n",
              "Name: acceleration, dtype: float64"
            ]
          },
          "metadata": {},
          "execution_count": 49
        }
      ]
    },
    {
      "cell_type": "code",
      "source": [
        "as_normalizado = df.acceleration / abs(df.acceleration.max())\n",
        "print(as_normalizado)"
      ],
      "metadata": {
        "id": "XT_0EgsbYirB",
        "outputId": "85610ba0-afdd-4edd-d043-d734e1271e8f",
        "colab": {
          "base_uri": "https://localhost:8080/"
        }
      },
      "id": "XT_0EgsbYirB",
      "execution_count": 50,
      "outputs": [
        {
          "output_type": "stream",
          "name": "stdout",
          "text": [
            "0      0.483871\n",
            "1      0.463710\n",
            "2      0.443548\n",
            "3      0.483871\n",
            "4      0.423387\n",
            "         ...   \n",
            "393    0.629032\n",
            "394    0.991935\n",
            "395    0.467742\n",
            "396    0.750000\n",
            "397    0.782258\n",
            "Name: acceleration, Length: 392, dtype: float64\n"
          ]
        }
      ]
    },
    {
      "cell_type": "code",
      "source": [
        "as_normalizado.describe()"
      ],
      "metadata": {
        "id": "Lc5BmwznYrGJ",
        "outputId": "5bcad5fd-0444-4688-f40e-2f1286b54079",
        "colab": {
          "base_uri": "https://localhost:8080/"
        }
      },
      "id": "Lc5BmwznYrGJ",
      "execution_count": 51,
      "outputs": [
        {
          "output_type": "execute_result",
          "data": {
            "text/plain": [
              "count    392.000000\n",
              "mean       0.626666\n",
              "std        0.111245\n",
              "min        0.322581\n",
              "25%        0.555444\n",
              "50%        0.625000\n",
              "75%        0.686492\n",
              "max        1.000000\n",
              "Name: acceleration, dtype: float64"
            ]
          },
          "metadata": {},
          "execution_count": 51
        }
      ]
    },
    {
      "cell_type": "code",
      "source": [
        "# as_normalizado valores unicos\n",
        "as_normalizado.unique()"
      ],
      "metadata": {
        "id": "nGVHyHZpY4YU",
        "outputId": "8e69b34b-8f9b-4e0e-981b-65bd2054b5dc",
        "colab": {
          "base_uri": "https://localhost:8080/"
        }
      },
      "id": "nGVHyHZpY4YU",
      "execution_count": 52,
      "outputs": [
        {
          "output_type": "execute_result",
          "data": {
            "text/plain": [
              "array([0.48387097, 0.46370968, 0.44354839, 0.4233871 , 0.40322581,\n",
              "       0.36290323, 0.34274194, 0.32258065, 0.38306452, 0.60483871,\n",
              "       0.625     , 0.64516129, 0.58467742, 0.8266129 , 0.70564516,\n",
              "       0.50403226, 0.56451613, 0.54435484, 0.74596774, 0.52419355,\n",
              "       0.76612903, 0.78629032, 0.72580645, 0.68548387, 0.94758065,\n",
              "       0.66532258, 0.84677419, 0.68145161, 0.60080645, 0.71370968,\n",
              "       0.61693548, 0.56048387, 0.51612903, 0.62096774, 0.70967742,\n",
              "       0.89516129, 0.89112903, 0.57258065, 0.7016129 , 0.65322581,\n",
              "       0.71774194, 0.49193548, 0.66129032, 0.5483871 , 0.63306452,\n",
              "       0.53225806, 0.88306452, 0.6733871 , 0.48790323, 0.59677419,\n",
              "       0.75      , 0.67741935, 0.55241935, 0.44758065, 0.45967742,\n",
              "       0.73387097, 0.63709677, 0.64112903, 0.56854839, 0.86693548,\n",
              "       0.58064516, 0.78225806, 0.77419355, 0.69354839, 0.75403226,\n",
              "       0.60887097, 0.54032258, 0.4516129 , 0.59274194, 0.66935484,\n",
              "       0.69758065, 0.61290323, 0.5766129 , 0.81048387, 1.        ,\n",
              "       0.45564516, 0.52016129, 0.75806452, 0.72983871, 0.72177419,\n",
              "       0.875     , 0.95564516, 0.80241935, 0.87903226, 0.55645161,\n",
              "       0.50806452, 0.64919355, 0.83467742, 0.73790323, 0.82258065,\n",
              "       0.79032258, 0.68951613, 0.62903226, 0.99193548, 0.46774194])"
            ]
          },
          "metadata": {},
          "execution_count": 52
        }
      ]
    }
  ],
  "metadata": {
    "kernelspec": {
      "display_name": "Python 3 (ipykernel)",
      "language": "python",
      "name": "python3"
    },
    "language_info": {
      "codemirror_mode": {
        "name": "ipython",
        "version": 3
      },
      "file_extension": ".py",
      "mimetype": "text/x-python",
      "name": "python",
      "nbconvert_exporter": "python",
      "pygments_lexer": "ipython3",
      "version": "3.10.11"
    },
    "colab": {
      "provenance": [],
      "include_colab_link": true
    }
  },
  "nbformat": 4,
  "nbformat_minor": 5
}