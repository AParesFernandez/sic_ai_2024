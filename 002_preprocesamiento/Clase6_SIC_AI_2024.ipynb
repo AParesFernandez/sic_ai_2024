{
 "cells": [
  {
   "cell_type": "markdown",
   "metadata": {},
   "source": [
    "# Clase 6\n",
    "\n",
    "En esta clase revisaremos el material de \n",
    "\n",
    "[Unidad 2](./Chapter_3/SIC_AI_Ch03_Unit02.ipynb)\n",
    "\n",
    "- Tratamos de ver la Unidad 3 pero no alcanzó el tiempo\n",
    "\n",
    "- [Colab trabajados](./3.2_pandas/)\n",
    "\n",
    "- Ejercicios de Fernanda - desde su repositorio [link](https://github.com/Fernanda-Mesa/Clase06_IA/blob/main/Clase06.ipynb)\n",
    "\n",
    "- Ejercicios de Javier - desde su repositorio [link](https://github.com/XaxavierJS/sic_ai_2024/blob/main/subir.ipynb)\n",
    "\n",
    "# Tarea sesión\n",
    "\n",
    "Realizar un análisis de los datos con Pandas de alguna de los siguientes archivos y enviarlos a mi correo\n",
    "\n",
    "- [Data Student List](./Chapter_3/data_studentlist.csv)\n",
    "\n",
    "- [McDonalds Informacion](https://github.com/davidlealo/mujeresbigdatajun23coquimbo/blob/main/mcdonalds.xlsx)"
   ]
  }
 ],
 "metadata": {
  "language_info": {
   "name": "python"
  }
 },
 "nbformat": 4,
 "nbformat_minor": 2
}
