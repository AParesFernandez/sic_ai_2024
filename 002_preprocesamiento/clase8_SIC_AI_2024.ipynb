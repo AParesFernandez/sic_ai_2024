{
 "cells": [
  {
   "cell_type": "markdown",
   "metadata": {},
   "source": [
    "# Clase 8\n",
    "\n",
    "En esta clase veremos temas de visualización. Trabajaremos con el siguiente [archivo](/002_preprocesamiento/Chapter_3/SIC_AI_Ch03_Unit04.ipynb).\n",
    "\n",
    "## Recursos Adicionales\n",
    "\n",
    "### Ejemplos de Gráficos\n",
    "\n",
    "- Archivo con ejemplos de distintos tipos de gráficos estilo ggplot: [Ejemplos tipo ggplot](/002_preprocesamiento/Chapter_3/ejemplos_tipo_ggplot.ipynb).\n",
    "- Información de los gráficos de mapas obtenida de: [Natural Earth Data](https://www.naturalearthdata.com/downloads/110m-cultural-vectors/110m-admin-0-countries/).\n",
    "\n",
    "### Documentos Trabajados en Sesiones Anteriores\n",
    "\n",
    "- **Grupo A (jueves 25 de julio)**: [Versión del documento trabajada](/002_preprocesamiento/Chapter_3/[dlo-gripo-a]SIC_AI_Ch03_Unit04.ipynb).\n",
    "- **Grupo B (viernes 26 de julio)**: [Archivo trabajado](/002_preprocesamiento/Chapter_3/[dlo-grupo-b]Copia_de_SIC_AI_Ch03_Unit04.ipynb).\n",
    "\n",
    "### Ejemplos Compartidos por Estudiantes\n",
    "\n",
    "- Paulina compartió un buen ejemplo de uso de variables con listas para crear paletas de colores: [Ejemplo de Paulina](https://github.com/paulinasv/Clases_SIC_IA/blob/main/forms_bootcamp_ejemplo.ipynb).\n",
    "- Código arreglado por Carolina: [Código de Carolina](/002_preprocesamiento/Chapter_3/volumen_y_porcentaje.ipynb).\n"
   ]
  }
 ],
 "metadata": {
  "language_info": {
   "name": "python"
  }
 },
 "nbformat": 4,
 "nbformat_minor": 2
}
