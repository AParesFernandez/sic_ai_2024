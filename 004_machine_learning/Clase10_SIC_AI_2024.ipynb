{
 "cells": [
  {
   "cell_type": "markdown",
   "metadata": {},
   "source": [
    "# Clase 10: Machine Learning \n",
    "\n",
    "# Análisis de Datos: Variables Dependientes y Variables Independientes\n",
    "\n",
    "En el análisis de datos, las variables se suelen clasificar en dos tipos principales: variables dependientes y variables independientes. Aquí tienes una descripción de cada una y su papel en el análisis de datos:\n",
    "\n",
    "## Variables Independientes\n",
    "\n",
    "Las variables independientes, también conocidas como variables explicativas o predictoras, son aquellas que se presumen causan o influyen en la variable dependiente. Son las variables que se manipulan o categorizan para observar su efecto en la variable dependiente.\n",
    "\n",
    "**Ejemplos:**\n",
    "- En un estudio sobre el rendimiento académico, las variables independientes podrían ser el número de horas de estudio, la asistencia a clases y el uso de recursos adicionales.\n",
    "- En un análisis de marketing, las variables independientes podrían incluir el presupuesto publicitario, la duración de la campaña y el canal de distribución.\n",
    "\n",
    "## Variables Dependientes\n",
    "\n",
    "La variable dependiente es aquella que se presume está siendo afectada o influenciada por las variables independientes. Es la variable de interés que se está intentando predecir o explicar.\n",
    "\n",
    "**Ejemplos:**\n",
    "- En el estudio sobre rendimiento académico, la variable dependiente podría ser la calificación obtenida por los estudiantes.\n",
    "- En el análisis de marketing, la variable dependiente podría ser el número de ventas o la tasa de conversión.\n",
    "\n",
    "## Relación entre Variables Independientes y Dependientes\n",
    "\n",
    "El objetivo del análisis de datos es entender cómo las variables independientes afectan a la variable dependiente. Esto se puede lograr mediante diferentes técnicas estadísticas y de modelado, como regresión lineal, análisis de varianza (ANOVA), análisis de regresión logística, entre otros.\n",
    "\n",
    "**Ejemplo de Regresión Lineal:**\n",
    "Supongamos que queremos analizar cómo el número de horas de estudio y la asistencia a clases (variables independientes) afectan la calificación de los estudiantes (variable dependiente). Podríamos usar una regresión lineal para modelar esta relación:\n",
    "\n",
    "Calificación = β0 + β1 * (Horas de Estudio) + β2 * (Asistencia a Clases) + ε\n",
    "\n",
    "\n",
    "Donde:\n",
    "- `β0` es la intersección (constante)\n",
    "- `β1` y `β2` son los coeficientes de las variables independientes\n",
    "- `ε` es el término de error\n",
    "\n",
    "## Ejemplo Práctico:\n",
    "\n",
    "Supongamos que estamos investigando el impacto de la educación y la experiencia laboral en los salarios de los empleados.\n",
    "\n",
    "- **Variables Independientes:** Nivel de educación (en años), Años de experiencia.\n",
    "- **Variable Dependiente:** Salario (en dólares).\n",
    "\n",
    "En este caso, podríamos realizar un análisis de regresión múltiple para determinar cómo cada una de estas variables independientes afecta el salario de los empleados.\n",
    "\n"
   ]
  },
  {
   "cell_type": "markdown",
   "metadata": {},
   "source": [
    "# Ejemplo de Regresión Lineal con scikit-learn\n",
    "\n",
    "Este ejemplo demuestra cómo dividir los datos, ajustar un modelo de regresión lineal, realizar predicciones y calcular la matriz de confusión utilizando la biblioteca scikit-learn en Python.\n",
    "\n",
    "## Importar las bibliotecas necesarias\n",
    "\n",
    "```python\n",
    "import numpy as np\n",
    "import pandas as pd\n",
    "from sklearn.model_selection import train_test_split\n",
    "from sklearn.linear_model import LinearRegression\n",
    "from sklearn.metrics import confusion_matrix, mean_squared_error\n"
   ]
  },
  {
   "cell_type": "code",
   "execution_count": null,
   "metadata": {},
   "outputs": [],
   "source": [
    "import numpy as np\n",
    "import pandas as pd\n",
    "from sklearn.model_selection import train_test_split\n",
    "from sklearn.linear_model import LinearRegression\n",
    "from sklearn.metrics import confusion_matrix, mean_squared_error\n"
   ]
  },
  {
   "cell_type": "markdown",
   "metadata": {},
   "source": [
    "## Cargar los datos\n",
    "Suponiendo que tenemos un DataFrame df con las variables independientes X y la variable dependiente y:"
   ]
  },
  {
   "cell_type": "code",
   "execution_count": null,
   "metadata": {},
   "outputs": [],
   "source": [
    "# Ejemplo de datos\n",
    "df = pd.DataFrame({\n",
    "    'Horas de Estudio': [1, 2, 3, 4, 5],\n",
    "    'Asistencia a Clases': [2, 3, 4, 5, 6],\n",
    "    'Calificación': [3, 4, 5, 6, 7]\n",
    "})\n",
    "\n",
    "X = df[['Horas de Estudio', 'Asistencia a Clases']]\n",
    "y = df['Calificación']\n"
   ]
  },
  {
   "cell_type": "markdown",
   "metadata": {},
   "source": [
    "## Dividir los datos en conjuntos de entrenamiento y prueba\n"
   ]
  },
  {
   "cell_type": "code",
   "execution_count": null,
   "metadata": {},
   "outputs": [],
   "source": [
    "X_train, X_test, y_train, y_test = train_test_split(X, y, test_size=0.2, random_state=42)\n"
   ]
  },
  {
   "cell_type": "markdown",
   "metadata": {},
   "source": [
    "## Ajustar el modelo de regresión lineal\n"
   ]
  },
  {
   "cell_type": "code",
   "execution_count": null,
   "metadata": {},
   "outputs": [],
   "source": [
    "model = LinearRegression()\n",
    "model.fit(X_train, y_train)\n"
   ]
  },
  {
   "cell_type": "markdown",
   "metadata": {},
   "source": [
    "## Realizar predicciones\n"
   ]
  },
  {
   "cell_type": "code",
   "execution_count": null,
   "metadata": {},
   "outputs": [],
   "source": [
    "y_pred = model.predict(X_test)\n"
   ]
  },
  {
   "cell_type": "markdown",
   "metadata": {},
   "source": [
    "## Calcular la matriz de confusión\n",
    "Para calcular la matriz de confusión, primero necesitamos convertir las predicciones continuas a categorías. Supongamos que usamos un umbral para clasificar las predicciones:\n",
    "\n"
   ]
  },
  {
   "cell_type": "code",
   "execution_count": null,
   "metadata": {},
   "outputs": [],
   "source": [
    "# Convertir las predicciones y los valores reales a categorías usando un umbral (por ejemplo, 5)\n",
    "threshold = 5\n",
    "y_pred_class = np.where(y_pred >= threshold, 1, 0)\n",
    "y_test_class = np.where(y_test >= threshold, 1, 0)\n",
    "\n",
    "# Calcular la matriz de confusión\n",
    "conf_matrix = confusion_matrix(y_test_class, y_pred_class)\n",
    "print(conf_matrix)\n"
   ]
  },
  {
   "cell_type": "markdown",
   "metadata": {},
   "source": [
    "## Calcular el error cuadrático medio (MSE)\n",
    "Aunque no es una matriz de confusión, es común evaluar el rendimiento de una regresión lineal con el MSE:\n",
    "\n"
   ]
  },
  {
   "cell_type": "code",
   "execution_count": null,
   "metadata": {},
   "outputs": [],
   "source": [
    "mse = mean_squared_error(y_test, y_pred)\n",
    "print(f'Error Cuadrático Medio (MSE): {mse}')\n"
   ]
  }
 ],
 "metadata": {
  "language_info": {
   "name": "python"
  }
 },
 "nbformat": 4,
 "nbformat_minor": 2
}
