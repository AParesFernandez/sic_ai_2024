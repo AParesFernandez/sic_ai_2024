{
 "cells": [
  {
   "cell_type": "markdown",
   "metadata": {},
   "source": [
    "# Preparación y División del Conjunto de Datos\n",
    "En esta notebook, vamos a explorar los pasos necesarios para preparar y dividir un conjunto de datos para su uso en modelos de Machine Learning."
   ]
  },
  {
   "cell_type": "markdown",
   "metadata": {},
   "source": [
    "## 1. Introducción\n",
    "La preparación y división del conjunto de datos es un paso crucial en el proceso de Machine Learning. Nos aseguramos de que los datos estén en un formato adecuado y se dividan correctamente para evitar sobreajuste y evaluar de manera justa el rendimiento del modelo."
   ]
  },
  {
   "cell_type": "markdown",
   "metadata": {},
   "source": [
    "## 2. Cargar Librerías\n",
    "Primero, vamos a cargar las librerías necesarias."
   ]
  },
  {
   "cell_type": "code",
   "execution_count": 1,
   "metadata": {},
   "outputs": [],
   "source": [
    "import numpy as np\n",
    "import pandas as pd\n",
    "from sklearn.model_selection import train_test_split, KFold\n",
    "from sklearn.metrics import accuracy_score"
   ]
  },
  {
   "cell_type": "markdown",
   "metadata": {},
   "source": [
    "## 3. Cargar el Conjunto de Datos\n",
    "Vamos a cargar un conjunto de datos de ejemplo. En este caso, utilizaremos el famoso conjunto de datos `Iris`."
   ]
  },
  {
   "cell_type": "code",
   "execution_count": 2,
   "metadata": {},
   "outputs": [],
   "source": [
    "from sklearn.datasets import load_iris\n",
    "data = load_iris()\n",
    "df = pd.DataFrame(data.data, columns=data.feature_names)\n",
    "df['target'] = data.target\n",
    "df.head()"
   ]
  },
  {
   "cell_type": "markdown",
   "metadata": {},
   "source": [
    "## 4. Preparación del Conjunto de Datos\n",
    "En esta sección, limpiaríamos y transformaríamos los datos si fuera necesario. Dado que `Iris` es un conjunto de datos limpio, este paso será mínimo."
   ]
  },
  {
   "cell_type": "code",
   "execution_count": 3,
   "metadata": {},
   "outputs": [],
   "source": [
    "# No se requiere limpieza en el conjunto de datos Iris\n",
    "df.isnull().sum()  # Verificar valores nulos"
   ]
  },
  {
   "cell_type": "markdown",
   "metadata": {},
   "source": [
    "## 5. División del Conjunto de Datos\n",
    "Vamos a dividir el conjunto de datos en conjuntos de entrenamiento y prueba."
   ]
  },
  {
   "cell_type": "code",
   "execution_count": 4,
   "metadata": {},
   "outputs": [],
   "source": [
    "X = df.drop('target', axis=1)\n",
    "y = df['target']\n",
    "\n",
    "X_train, X_test, y_train, y_test = train_test_split(X, y, test_size=0.2, random_state=42)\n",
    "X_train.shape, X_test.shape"
   ]
  },
  {
   "cell_type": "markdown",
   "metadata": {},
   "source": [
    "## 6. Validación Cruzada (K-fold)\n",
    "La validación cruzada es una técnica utilizada para evaluar la capacidad de generalización de un modelo. Vamos a implementar la validación cruzada K-fold."
   ]
  },
  {
   "cell_type": "code",
   "execution_count": 5,
   "metadata": {},
   "outputs": [],
   "source": [
    "kf = KFold(n_splits=5)\n",
    "for train_index, val_index in kf.split(X_train):\n",
    "    X_kf_train, X_kf_val = X_train.iloc[train_index], X_train.iloc[val_index]\n",
    "    y_kf_train, y_kf_val = y_train.iloc[train_index], y_train.iloc[val_index]\n",
    "    \n",
    "    # Aquí entrenaríamos el modelo y evaluaríamos en el conjunto de validación\n",
    "    # Por simplicidad, omitimos el entrenamiento en este ejemplo"
   ]
  },
  {
   "cell_type": "markdown",
   "metadata": {},
   "source": [
    "## 7. Evaluación del Modelo\n",
    "Finalmente, evaluamos el rendimiento del modelo utilizando el conjunto de prueba."
   ]
  },
  {
   "cell_type": "code",
   "execution_count": 6,
   "metadata": {},
   "outputs": [],
   "source": [
    "# Ejemplo simple de evaluación con un modelo de clasificación\n",
    "from sklearn.ensemble import RandomForestClassifier\n",
    "\n",
    "model = RandomForestClassifier(random_state=42)\n",
    "model.fit(X_train, y_train)\n",
    "y_pred = model.predict(X_test)\n",
    "accuracy = accuracy_score(y_test, y_pred)\n",
    "print(f'Accuracy: {accuracy}')"
   ]
  },
  {
   "cell_type": "markdown",
   "metadata": {},
   "source": [
    "## Ejercicios Prácticos\n",
    "A continuación, se presentan algunos ejercicios prácticos para que puedas aplicar lo aprendido."
   ]
  },
  {
   "cell_type": "markdown",
   "metadata": {},
   "source": [
    "### Ejercicio 1: Cargar y Preparar un Nuevo Conjunto de Datos\n",
    "1. Busca un conjunto de datos público que te interese (por ejemplo, en Kaggle o UCI Machine Learning Repository).\n",
    "2. Cárgalo en un DataFrame de pandas.\n",
    "3. Realiza una limpieza básica de los datos (elimina nulos, transforma variables si es necesario).\n",
    "4. Describe brevemente el conjunto de datos y los pasos de preparación realizados."
   ]
  },
  {
   "cell_type": "markdown",
   "metadata": {},
   "source": [
    "### Ejercicio 2: División del Conjunto de Datos\n",
    "1. Divide el conjunto de datos que cargaste en el ejercicio 1 en conjuntos de entrenamiento y prueba (80% - 20%).\n",
    "2. Imprime las dimensiones de los conjuntos de entrenamiento y prueba."
   ]
  },
  {
   "cell_type": "markdown",
   "metadata": {},
   "source": [
    "### Ejercicio 3: Validación Cruzada\n",
    "1. Implementa la validación cruzada K-fold (con k=5) en el conjunto de datos de entrenamiento.\n",
    "2. Entrena un modelo simple (por ejemplo, una regresión logística) en cada fold y evalúa su rendimiento.\n",
    "3. Calcula el promedio de las métricas de rendimiento obtenidas en cada fold."
   ]
  },
  {
   "cell_type": "markdown",
   "metadata": {},
   "source": [
    "### Ejercicio 4: Evaluación del Modelo\n",
    "1. Entrena un modelo de clasificación (por ejemplo, un árbol de decisión) utilizando el conjunto de datos de entrenamiento completo.\n",
    "2. Evalúa el modelo en el conjunto de prueba.\n",
    "3. Calcula y reporta las métricas de evaluación (por ejemplo, accuracy, precision, recall)."
   ]
  }
 ],
 "metadata": {
  "kernelspec": {
   "display_name": "Python 3",
   "language": "python",
   "name": "python3"
  },
  "language_info": {
   "codemirror_mode": {
    "name": "ipython",
    "version": 3
   },
   "file_extension": ".py",
   "mimetype": "text/x-python",
   "name": "python",
   "nbconvert_exporter": "python",
   "pygments_lexer": "ipython3",
   "version": "3.8.5"
  }
 },
 "nbformat": 4,
 "nbformat_minor": 4
}
