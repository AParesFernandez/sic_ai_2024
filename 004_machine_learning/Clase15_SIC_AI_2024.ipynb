{
 "cells": [
  {
   "cell_type": "markdown",
   "metadata": {},
   "source": [
    "# Clase 15: Modelos supervisados\n",
    "\n",
    "- Grupo 1: Árboles de decisión (315-339) [nb](./chapter_5/34.%20ex_0308.ipynb)\n",
    "- Grupo 2: Naive Bayes (340-352) [nb](./chapter_5/35.%20ex_0309.ipynb)\n",
    "- Grupo 3: KNN (353-361) [nb](./chapter_5/36.%20ex_0310.ipynb)\n",
    "- Grupo 4: SVM (362-373) [nb](./chapter_5/37.%20ex_0311.ipynb)\n",
    "\n",
    "\n",
    "\n",
    "# Tarea:\n",
    "\n",
    "Usando el dataset [lluvia mañana](https://raw.githubusercontent.com/davidlealo/tallermodelossupervisados/main/data/Lluvia_full.csv)\n",
    "\n",
    "Realice un análisis usando los algoritmos de clasificación conocios hasta ahora. Para esto escale los datos, transforme a dummy las variables categóricas y utilice alguna técnica para mejorar los hiperparámetros.\n",
    "\n",
    "Para la primera parte:\n",
    "\n",
    "```Python\n",
    "\n",
    "from sklearn.compose import make_column_transformer\n",
    "from sklearn.preprocessing import OneHotEncoder, StandardScaler\n",
    "\n",
    "# Identificar variables numércicas y categóricas en base de entrenamiento\n",
    "categoricas = X.columns[X.dtypes=='object']\n",
    "numericas = X.columns[X.dtypes!='object']\n",
    "print(\"Variables categóricas: \",categoricas)\n",
    "print(\"Variables numéricas: \",numericas)\n",
    "\n",
    "# Instanciamos OneHotEncoder y StandardScaler\n",
    "ohe = OneHotEncoder()\n",
    "scaler = StandardScaler()\n",
    "\n",
    "#Creamos transformación de Train\n",
    "transformer = make_column_transformer(\n",
    "    (ohe, categoricas),\n",
    "    (scaler, numericas),\n",
    "    remainder = 'passthrough',\n",
    "    verbose_feature_names_out = False\n",
    ")\n",
    "\n",
    "```\n"
   ]
  },
  {
   "cell_type": "markdown",
   "metadata": {},
   "source": [
    "### ejemplo de desarrollo de la tarea\n",
    "\n",
    "Acá el que realizamos con Javier [link](nb_javier.ipynb)"
   ]
  },
  {
   "cell_type": "markdown",
   "metadata": {},
   "source": [
    "Trabajo en clases con AUC [link](./chapter_5/[auc]36.%20ex_0310.ipynb)\n",
    "Trabajo en clases con gráficos [link](./chapter_5/[con-grafico]34.%20ex_0308.ipynb)"
   ]
  }
 ],
 "metadata": {
  "language_info": {
   "name": "python"
  }
 },
 "nbformat": 4,
 "nbformat_minor": 2
}
