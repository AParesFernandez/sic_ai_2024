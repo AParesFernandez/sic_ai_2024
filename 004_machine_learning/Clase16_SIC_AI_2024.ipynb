{
 "cells": [
  {
   "cell_type": "markdown",
   "metadata": {},
   "source": [
    "## Métodos de Conjunto en Machine Learning: Random Forest, Bagging y Boosting\n",
    "\n",
    "Los métodos de conjunto en Machine Learning (ML) son técnicas que combinan múltiples modelos individuales para mejorar la precisión y la robustez de las predicciones. Los más populares son **Random Forest**, **Bagging** y **Boosting**. A continuación se explica cada uno:\n",
    "\n",
    "### 1. Bagging (Bootstrap Aggregating)\n",
    "- **Concepto**: Bagging es un método de conjunto que reduce la variabilidad de las predicciones combinando múltiples versiones de un modelo entrenado en subconjuntos diferentes del conjunto de datos.\n",
    "- **Proceso**:\n",
    "  1. Se crean varios subconjuntos del conjunto de entrenamiento usando muestreo con reemplazo (bootstrap).\n",
    "  2. Se entrena un modelo (como un árbol de decisión) en cada subconjunto.\n",
    "  3. Las predicciones se combinan promediando (para regresión) o votando (para clasificación).\n",
    "- **Ventajas**: Reduce el sobreajuste (overfitting) y la varianza, haciendo que el modelo sea más estable.\n",
    "\n",
    "### 2. Random Forest\n",
    "- **Concepto**: Random Forest es una extensión del Bagging, específicamente para árboles de decisión, que además introduce aleatoriedad en la selección de características.\n",
    "- **Proceso**:\n",
    "  1. Igual que en Bagging, se crean varios subconjuntos del conjunto de datos usando muestreo con reemplazo.\n",
    "  2. Se entrenan múltiples árboles de decisión, pero en cada nodo de un árbol, solo un subconjunto aleatorio de las características es considerado para realizar la división.\n",
    "  3. Las predicciones de todos los árboles se combinan (promediando o votando) para obtener la predicción final.\n",
    "- **Ventajas**: Además de reducir la varianza, también combate la correlación entre los árboles, mejorando la precisión y reduciendo el sobreajuste.\n",
    "\n",
    "### 3. Boosting\n",
    "- **Concepto**: Boosting es otro método de conjunto, pero a diferencia de Bagging, los modelos se construyen secuencialmente, cada uno corrigiendo los errores de su predecesor.\n",
    "- **Proceso**:\n",
    "  1. Se entrena un modelo en el conjunto de entrenamiento.\n",
    "  2. Se evalúan los errores y se asignan pesos mayores a las observaciones mal clasificadas.\n",
    "  3. El siguiente modelo se entrena con un enfoque especial en estas observaciones difíciles.\n",
    "  4. Este proceso se repite, y las predicciones de los modelos se combinan en una ponderación final para obtener la predicción.\n",
    "- **Variantes populares**: AdaBoost, Gradient Boosting, y XGBoost.\n",
    "- **Ventajas**: Tiende a reducir el sesgo (bias), logrando un modelo más preciso, aunque puede ser más propenso al sobreajuste si no se controla adecuadamente.\n",
    "\n",
    "### Comparación y Uso Práctico\n",
    "- **Bagging** (incluido Random Forest) es excelente para reducir la varianza, ideal para modelos que son inestables, como los árboles de decisión.\n",
    "- **Boosting** es más adecuado para reducir el sesgo, y suele ofrecer mejores resultados en problemas difíciles, aunque es más propenso a sobreajustar si no se ajustan bien los parámetros.\n",
    "\n",
    "Cada uno de estos métodos se adapta a diferentes tipos de problemas y datos, por lo que es importante probar y ajustar en función de la situación específica.\n",
    "\n"
   ]
  }
 ],
 "metadata": {
  "language_info": {
   "name": "python"
  }
 },
 "nbformat": 4,
 "nbformat_minor": 2
}
