{
 "cells": [
  {
   "cell_type": "markdown",
   "metadata": {},
   "source": [
    "# Clase 19: Machine Learning"
   ]
  },
  {
   "cell_type": "markdown",
   "metadata": {},
   "source": [
    "Explicar los conceptos y presentar un ejemplo en código de: \n",
    "\n",
    "- Grupo 1: Slides 55 a 68\n",
    "- Grupo 2: Slides 69 a 87\n",
    "- Grupo 3: Slides 88 a 100"
   ]
  }
 ],
 "metadata": {
  "language_info": {
   "name": "python"
  }
 },
 "nbformat": 4,
 "nbformat_minor": 2
}
