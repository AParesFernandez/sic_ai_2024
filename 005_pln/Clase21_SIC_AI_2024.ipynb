{
  "cells": [
    {
      "cell_type": "markdown",
      "metadata": {
        "id": "sFKpjNG_VxI-"
      },
      "source": [
        "# Proesamiento de lenguaje natural (PLN)"
      ]
    },
    {
      "cell_type": "markdown",
      "metadata": {
        "id": "DspoFxzkVxJE"
      },
      "source": [
        "### 1.4. Procesamiento del Lenguaje Natural (NLP)\n",
        "Descripción: El NLP permite a las máquinas entender y generar lenguaje humano. Ejemplos incluyen etiquetado POS, análisis de sentimiento, y modelado de tópicos.\n",
        "\n",
        "Ejercicio 4: Realizar un análisis de sentimiento utilizando TextBlob."
      ]
    },
    {
      "cell_type": "code",
      "execution_count": null,
      "metadata": {
        "id": "KM1WpKj0VxJE"
      },
      "outputs": [],
      "source": [
        "from textblob import TextBlob\n",
        "\n",
        "# Texto de ejemplo\n",
        "texto = \"I love programming in Python!\"\n",
        "\n",
        "# Análisis de sentimiento\n",
        "blob = TextBlob(texto)\n",
        "sentimiento = blob.sentiment\n",
        "\n",
        "print(f\"Polaridad: {sentimiento.polarity}, Subjetividad: {sentimiento.subjectivity}\")"
      ]
    },
    {
      "cell_type": "markdown",
      "metadata": {
        "id": "kGx_fIufVxJE"
      },
      "source": [
        "Ejercicio 2"
      ]
    },
    {
      "cell_type": "code",
      "execution_count": null,
      "metadata": {
        "id": "g_HNn2CMVxJE"
      },
      "outputs": [],
      "source": [
        "# Ejemplo de análisis de sentimientos usando TextBlob\n",
        "from textblob import TextBlob\n",
        "\n",
        "# Texto de ejemplo\n",
        "texto = \"La minería de texto es increíble, pero también desafiante.\"\n",
        "\n",
        "# Análisis de sentimiento\n",
        "blob = TextBlob(texto)\n",
        "sentimiento = blob.sentiment\n",
        "\n",
        "sentimiento"
      ]
    },
    {
      "cell_type": "markdown",
      "metadata": {
        "id": "L_wdMvARVxJF"
      },
      "source": [
        "### 1.5. Datos secuenciales\n",
        "\n",
        "\n",
        "Descripción: Los datos secuenciales son aquellos donde el orden importa, como secuencias de texto, series de tiempo, etc.\n",
        "\n",
        "Ejercicio 1"
      ]
    },
    {
      "cell_type": "code",
      "execution_count": null,
      "metadata": {
        "id": "huCDEss8VxJF"
      },
      "outputs": [],
      "source": [
        "# Ejemplo de secuencias con modelos de NLP\n",
        "from nltk.util import ngrams\n",
        "\n",
        "# Texto de ejemplo\n",
        "texto = \"La minería de texto es fascinante.\"\n",
        "\n",
        "# Generar bigramas\n",
        "tokens = word_tokenize(texto)\n",
        "bigramas = list(ngrams(tokens, 2))\n",
        "\n",
        "bigramas"
      ]
    },
    {
      "cell_type": "markdown",
      "metadata": {
        "id": "ceml7DhNVxJF"
      },
      "source": [
        "### 1.6. Corpus\n",
        "\n",
        "Descripción: Un corpus es un conjunto de documentos que se utiliza para entrenar modelos en minería de texto.\n",
        "\n",
        "Ejercicio 1"
      ]
    },
    {
      "cell_type": "code",
      "execution_count": null,
      "metadata": {
        "id": "D4Adp8GRVxJF"
      },
      "outputs": [],
      "source": [
        "# Ejemplo básico de creación de un corpus usando NLTK\n",
        "from nltk.corpus import PlaintextCorpusReader\n",
        "\n",
        "# Definir el directorio donde están los textos\n",
        "corpus_dir = './corpus/'\n",
        "\n",
        "# Crear el corpus\n",
        "corpus = PlaintextCorpusReader(corpus_dir, '.*')\n",
        "\n",
        "# Ver los archivos en el corpus\n",
        "corpus.fileids()\n"
      ]
    }
  ],
  "metadata": {
    "kernelspec": {
      "display_name": ".venv",
      "language": "python",
      "name": "python3"
    },
    "language_info": {
      "name": "python",
      "version": "3.11.4"
    },
    "colab": {
      "provenance": []
    }
  },
  "nbformat": 4,
  "nbformat_minor": 0
}