{
  "cells": [
    {
      "cell_type": "markdown",
      "metadata": {
        "id": "sFKpjNG_VxI-"
      },
      "source": [
        "# Proesamiento de lenguaje natural (PLN)"
      ]
    },
    {
      "cell_type": "markdown",
      "metadata": {
        "id": "DspoFxzkVxJE"
      },
      "source": [
        "### 1.4. Procesamiento del Lenguaje Natural (NLP)\n",
        "Descripción: El NLP permite a las máquinas entender y generar lenguaje humano. Ejemplos incluyen etiquetado POS, análisis de sentimiento, y modelado de tópicos.\n",
        "\n",
        "Ejercicio 4: Realizar un análisis de sentimiento utilizando TextBlob."
      ]
    },
    {
      "cell_type": "code",
      "execution_count": null,
      "metadata": {
        "id": "KM1WpKj0VxJE"
      },
      "outputs": [],
      "source": [
        "from textblob import TextBlob\n",
        "\n",
        "# Texto de ejemplo\n",
        "texto = \"I love programming in Python!\"\n",
        "\n",
        "# Análisis de sentimiento\n",
        "blob = TextBlob(texto)\n",
        "sentimiento = blob.sentiment\n",
        "\n",
        "print(f\"Polaridad: {sentimiento.polarity}, Subjetividad: {sentimiento.subjectivity}\")"
      ]
    },
    {
      "cell_type": "markdown",
      "metadata": {
        "id": "kGx_fIufVxJE"
      },
      "source": [
        "Ejercicio 2"
      ]
    },
    {
      "cell_type": "code",
      "execution_count": null,
      "metadata": {
        "id": "g_HNn2CMVxJE"
      },
      "outputs": [],
      "source": [
        "# Ejemplo de análisis de sentimientos usando TextBlob\n",
        "from textblob import TextBlob\n",
        "\n",
        "# Texto de ejemplo\n",
        "texto = \"La minería de texto es increíble, pero también desafiante.\"\n",
        "\n",
        "# Análisis de sentimiento\n",
        "blob = TextBlob(texto)\n",
        "sentimiento = blob.sentiment\n",
        "\n",
        "sentimiento"
      ]
    },
    {
      "cell_type": "markdown",
      "metadata": {
        "id": "L_wdMvARVxJF"
      },
      "source": [
        "### 1.5. Datos secuenciales\n",
        "\n",
        "\n",
        "Descripción: Los datos secuenciales son aquellos donde el orden importa, como secuencias de texto, series de tiempo, etc.\n",
        "\n",
        "Ejercicio 1"
      ]
    },
    {
      "cell_type": "code",
      "execution_count": null,
      "metadata": {
        "id": "huCDEss8VxJF"
      },
      "outputs": [],
      "source": [
        "# Ejemplo de secuencias con modelos de NLP\n",
        "from nltk.util import ngrams\n",
        "\n",
        "# Texto de ejemplo\n",
        "texto = \"La minería de texto es fascinante.\"\n",
        "\n",
        "# Generar bigramas\n",
        "tokens = word_tokenize(texto)\n",
        "bigramas = list(ngrams(tokens, 2))\n",
        "\n",
        "bigramas"
      ]
    },
    {
      "cell_type": "markdown",
      "metadata": {
        "id": "ceml7DhNVxJF"
      },
      "source": [
        "### 1.6. Corpus\n",
        "\n",
        "Descripción: Un corpus es un conjunto de documentos que se utiliza para entrenar modelos en minería de texto.\n",
        "\n",
        "Ejercicio 1"
      ]
    },
    {
      "cell_type": "code",
      "execution_count": null,
      "metadata": {
        "id": "D4Adp8GRVxJF"
      },
      "outputs": [],
      "source": [
        "# Ejemplo básico de creación de un corpus usando NLTK\n",
        "from nltk.corpus import PlaintextCorpusReader\n",
        "\n",
        "# Definir el directorio donde están los textos\n",
        "corpus_dir = './corpus/'\n",
        "\n",
        "# Crear el corpus\n",
        "corpus = PlaintextCorpusReader(corpus_dir, '.*')\n",
        "\n",
        "# Ver los archivos en el corpus\n",
        "corpus.fileids()\n"
      ]
    },
    {
      "cell_type": "markdown",
      "source": [
        "## Expresiones regulares"
      ],
      "metadata": {
        "id": "NTuyGWfkZNmE"
      }
    },
    {
      "cell_type": "code",
      "source": [
        "import re"
      ],
      "metadata": {
        "id": "UQq05JosZQYk"
      },
      "execution_count": 1,
      "outputs": []
    },
    {
      "cell_type": "markdown",
      "source": [
        "### Metacharacter: ^"
      ],
      "metadata": {
        "id": "vWZJvJtxbuks"
      }
    },
    {
      "cell_type": "code",
      "source": [
        "x1 = \"That is your book.\"\n",
        "x2 = \"This is my book.\""
      ],
      "metadata": {
        "id": "m2xdD0X2brwO"
      },
      "execution_count": 2,
      "outputs": []
    },
    {
      "cell_type": "code",
      "source": [
        "# A regular expression.\n",
        "my_exp = \"^This\""
      ],
      "metadata": {
        "id": "HOzWHbc3b29v"
      },
      "execution_count": 3,
      "outputs": []
    },
    {
      "cell_type": "code",
      "source": [
        "if re.search(my_exp, x1):\n",
        "    print(\"Yes!\")\n",
        "else:\n",
        "    print(\"No\")"
      ],
      "metadata": {
        "id": "VoDjY0kWcGnF",
        "outputId": "a28927ad-0f7b-4bef-cdc3-1bc471166c72",
        "colab": {
          "base_uri": "https://localhost:8080/"
        }
      },
      "execution_count": 4,
      "outputs": [
        {
          "output_type": "stream",
          "name": "stdout",
          "text": [
            "No\n"
          ]
        }
      ]
    },
    {
      "cell_type": "code",
      "source": [
        "if re.search(my_exp, x2):\n",
        "    print(\"Yes!\")\n",
        "else:\n",
        "    print(\"No\")"
      ],
      "metadata": {
        "id": "WAkIBX4BcvvK",
        "outputId": "e2be3f3c-668f-44e8-e1a7-ac68e03ec2a9",
        "colab": {
          "base_uri": "https://localhost:8080/"
        }
      },
      "execution_count": 8,
      "outputs": [
        {
          "output_type": "stream",
          "name": "stdout",
          "text": [
            "Yes!\n"
          ]
        }
      ]
    },
    {
      "cell_type": "code",
      "source": [
        "my_exp2 = \"[^This]\""
      ],
      "metadata": {
        "id": "q7_fj_lUc4LG"
      },
      "execution_count": 12,
      "outputs": []
    },
    {
      "cell_type": "code",
      "source": [
        "if re.search(my_exp2, x2):\n",
        "    print(\"Yes!\")\n",
        "else:\n",
        "    print(\"No\")"
      ],
      "metadata": {
        "id": "AVagGqVRc8C6",
        "outputId": "2958c33f-0f84-452e-9d50-1e6ffcb2e815",
        "colab": {
          "base_uri": "https://localhost:8080/"
        }
      },
      "execution_count": 13,
      "outputs": [
        {
          "output_type": "stream",
          "name": "stdout",
          "text": [
            "Yes!\n"
          ]
        }
      ]
    },
    {
      "cell_type": "code",
      "source": [
        "va1 = \"a\"\n",
        "va2 = \"a\""
      ],
      "metadata": {
        "id": "hEdno04vcbFT"
      },
      "execution_count": 6,
      "outputs": []
    },
    {
      "cell_type": "code",
      "source": [
        "if va1 == va2:\n",
        "    print(\"Yes!\")\n",
        "else:\n",
        "    print(\"No\")"
      ],
      "metadata": {
        "id": "ZxhtvfNZcgk7",
        "outputId": "02612b60-c812-4c65-d7d9-89f2fa4c3dda",
        "colab": {
          "base_uri": "https://localhost:8080/"
        }
      },
      "execution_count": 7,
      "outputs": [
        {
          "output_type": "stream",
          "name": "stdout",
          "text": [
            "Yes!\n"
          ]
        }
      ]
    },
    {
      "cell_type": "code",
      "source": [
        "# Target strings.\n",
        "x1 = \"I don't like you\"\n",
        "x2 = \"You are great\"\n",
        "x3 = \"in case you forget, remember this\""
      ],
      "metadata": {
        "id": "6fliUHLNfTFh"
      },
      "execution_count": 27,
      "outputs": []
    },
    {
      "cell_type": "code",
      "source": [
        "my_exp = \"^[Ii]\""
      ],
      "metadata": {
        "id": "b4Fp1J3XfXSO"
      },
      "execution_count": 28,
      "outputs": []
    },
    {
      "cell_type": "code",
      "source": [
        "if re.search(my_exp, x1):\n",
        "    print(\"Yes!\")\n",
        "else:\n",
        "    print(\"No\")"
      ],
      "metadata": {
        "id": "FrWqalj0fcAl",
        "outputId": "5ba52b3b-6488-4fee-9f77-6d2b359f00e2",
        "colab": {
          "base_uri": "https://localhost:8080/"
        }
      },
      "execution_count": 29,
      "outputs": [
        {
          "output_type": "stream",
          "name": "stdout",
          "text": [
            "Yes!\n"
          ]
        }
      ]
    },
    {
      "cell_type": "code",
      "source": [
        "if re.search(my_exp, x2):\n",
        "    print(\"Yes!\")\n",
        "else:\n",
        "    print(\"No\")"
      ],
      "metadata": {
        "id": "WA_R_kXafiDe",
        "outputId": "62779258-86a9-4eac-f685-b9355ab6439c",
        "colab": {
          "base_uri": "https://localhost:8080/"
        }
      },
      "execution_count": 30,
      "outputs": [
        {
          "output_type": "stream",
          "name": "stdout",
          "text": [
            "No\n"
          ]
        }
      ]
    },
    {
      "cell_type": "code",
      "source": [
        "if re.search(my_exp, x3):\n",
        "    print(\"Yes!\")\n",
        "else:\n",
        "    print(\"No\")"
      ],
      "metadata": {
        "id": "y_3Y_4ZPfmkv",
        "outputId": "ea29324f-d38f-4140-a6de-3e5c0923cd55",
        "colab": {
          "base_uri": "https://localhost:8080/"
        }
      },
      "execution_count": 31,
      "outputs": [
        {
          "output_type": "stream",
          "name": "stdout",
          "text": [
            "Yes!\n"
          ]
        }
      ]
    },
    {
      "cell_type": "markdown",
      "source": [
        "### Metacharacter: Dot"
      ],
      "metadata": {
        "id": "v85hFijHdqBN"
      }
    },
    {
      "cell_type": "code",
      "source": [
        "# Target strings.\n",
        "x1 = \"ct\"\n",
        "x2 = \"cat\"\n",
        "x3 = \"caat\""
      ],
      "metadata": {
        "id": "qz4a_GLYdq54"
      },
      "execution_count": 14,
      "outputs": []
    },
    {
      "cell_type": "code",
      "source": [
        "# A regular expression.\n",
        "my_expression = re.compile(\"c.t\")"
      ],
      "metadata": {
        "id": "Rz4wxZoQdvjP"
      },
      "execution_count": 15,
      "outputs": []
    },
    {
      "cell_type": "code",
      "source": [
        "if my_expression.search(x1):\n",
        "    print(\"Yes!\")\n",
        "else:\n",
        "    print(\"No\")"
      ],
      "metadata": {
        "id": "SsmlA3OadzOc",
        "outputId": "4b683080-ac79-4d1e-97d2-6631a92aa26f",
        "colab": {
          "base_uri": "https://localhost:8080/"
        }
      },
      "execution_count": 16,
      "outputs": [
        {
          "output_type": "stream",
          "name": "stdout",
          "text": [
            "No\n"
          ]
        }
      ]
    },
    {
      "cell_type": "code",
      "source": [
        "if my_expression.search(x2):\n",
        "    print(\"Yes!\")\n",
        "else:\n",
        "    print(\"No\")"
      ],
      "metadata": {
        "id": "VWt2HXRyd3vZ",
        "outputId": "61e5c3d0-8934-48d3-a3d8-ad3ce6d3cc25",
        "colab": {
          "base_uri": "https://localhost:8080/"
        }
      },
      "execution_count": 17,
      "outputs": [
        {
          "output_type": "stream",
          "name": "stdout",
          "text": [
            "Yes!\n"
          ]
        }
      ]
    },
    {
      "cell_type": "code",
      "source": [
        "if my_expression.search(x3):\n",
        "    print(\"Yes!\")\n",
        "else:\n",
        "    print(\"No\")"
      ],
      "metadata": {
        "id": "njquv0V4d7XN",
        "outputId": "80777043-3ca4-47bc-cf3e-7fca7ccdb0f8",
        "colab": {
          "base_uri": "https://localhost:8080/"
        }
      },
      "execution_count": 18,
      "outputs": [
        {
          "output_type": "stream",
          "name": "stdout",
          "text": [
            "No\n"
          ]
        }
      ]
    },
    {
      "cell_type": "code",
      "source": [
        "my_expression2 = re.compile(\"C.t\")"
      ],
      "metadata": {
        "id": "qD48C2RfeKJw"
      },
      "execution_count": 19,
      "outputs": []
    },
    {
      "cell_type": "code",
      "source": [
        "if my_expression2.search(x2):\n",
        "    print(\"Yes!\")\n",
        "else:\n",
        "    print(\"No\")"
      ],
      "metadata": {
        "id": "XKs7-CbneP1l",
        "outputId": "bc57c3df-db03-40a5-b70d-dbaed2d1cf79",
        "colab": {
          "base_uri": "https://localhost:8080/"
        }
      },
      "execution_count": 20,
      "outputs": [
        {
          "output_type": "stream",
          "name": "stdout",
          "text": [
            "No\n"
          ]
        }
      ]
    },
    {
      "cell_type": "code",
      "source": [
        "x4 = \"c4t\""
      ],
      "metadata": {
        "id": "eh-JQCfiedGw"
      },
      "execution_count": 21,
      "outputs": []
    },
    {
      "cell_type": "code",
      "source": [
        "if my_expression.search(x4):\n",
        "    print(\"Yes!\")\n",
        "else:\n",
        "    print(\"No\")"
      ],
      "metadata": {
        "id": "beddi6AOelIe",
        "outputId": "39b2c72a-2e7f-4897-e78d-812353da88f0",
        "colab": {
          "base_uri": "https://localhost:8080/"
        }
      },
      "execution_count": 22,
      "outputs": [
        {
          "output_type": "stream",
          "name": "stdout",
          "text": [
            "Yes!\n"
          ]
        }
      ]
    },
    {
      "cell_type": "code",
      "source": [
        "my_expression3 = re.compile(\"c..t\")"
      ],
      "metadata": {
        "id": "6ZL2FqjBerLG"
      },
      "execution_count": 23,
      "outputs": []
    },
    {
      "cell_type": "code",
      "source": [
        "if my_expression3.search(x4):\n",
        "    print(\"Yes!\")\n",
        "else:\n",
        "    print(\"No\")"
      ],
      "metadata": {
        "id": "vo5WKAvJewKa",
        "outputId": "4e9dd5d1-867a-471d-aa0c-4c6a1dc2d491",
        "colab": {
          "base_uri": "https://localhost:8080/"
        }
      },
      "execution_count": 25,
      "outputs": [
        {
          "output_type": "stream",
          "name": "stdout",
          "text": [
            "No\n"
          ]
        }
      ]
    },
    {
      "cell_type": "code",
      "source": [
        "if my_expression3.search(x3):\n",
        "    print(\"Yes!\")\n",
        "else:\n",
        "    print(\"No\")"
      ],
      "metadata": {
        "id": "Ul-wqivve2ZA",
        "outputId": "8eab8180-deaf-462d-b74d-3eafd923277f",
        "colab": {
          "base_uri": "https://localhost:8080/"
        }
      },
      "execution_count": 26,
      "outputs": [
        {
          "output_type": "stream",
          "name": "stdout",
          "text": [
            "Yes!\n"
          ]
        }
      ]
    },
    {
      "cell_type": "code",
      "source": [
        "my_expression4 = re.compile(\"c*t\")"
      ],
      "metadata": {
        "id": "hAGfRtXPf4_g"
      },
      "execution_count": 32,
      "outputs": []
    },
    {
      "cell_type": "code",
      "source": [
        "if my_expression4.search(x1):\n",
        "    print(\"Yes!\")\n",
        "else:\n",
        "    print(\"No\")"
      ],
      "metadata": {
        "id": "bhwwOB8jf-Qn",
        "outputId": "ae32bf2b-208a-4287-9734-125d14ac6c40",
        "colab": {
          "base_uri": "https://localhost:8080/"
        }
      },
      "execution_count": 33,
      "outputs": [
        {
          "output_type": "stream",
          "name": "stdout",
          "text": [
            "Yes!\n"
          ]
        }
      ]
    },
    {
      "cell_type": "code",
      "source": [
        "if my_expression4.search(x2):\n",
        "    print(\"Yes!\")\n",
        "else:\n",
        "    print(\"No\")"
      ],
      "metadata": {
        "id": "5Eb7cHwzf-yn",
        "outputId": "f3b75924-2710-47cb-c579-2d883139fba3",
        "colab": {
          "base_uri": "https://localhost:8080/"
        }
      },
      "execution_count": 34,
      "outputs": [
        {
          "output_type": "stream",
          "name": "stdout",
          "text": [
            "Yes!\n"
          ]
        }
      ]
    },
    {
      "cell_type": "code",
      "source": [
        "if my_expression4.search(x3):\n",
        "    print(\"Yes!\")\n",
        "else:\n",
        "    print(\"No\")"
      ],
      "metadata": {
        "id": "4inX8E5_f_K_",
        "outputId": "6a6bc237-d471-4815-acf4-d9ae79e09b8c",
        "colab": {
          "base_uri": "https://localhost:8080/"
        }
      },
      "execution_count": 35,
      "outputs": [
        {
          "output_type": "stream",
          "name": "stdout",
          "text": [
            "Yes!\n"
          ]
        }
      ]
    },
    {
      "cell_type": "code",
      "source": [
        "my_expression5 = re.compile(\"ct*\")"
      ],
      "metadata": {
        "id": "Ra7Vb_DshRKQ"
      },
      "execution_count": 37,
      "outputs": []
    },
    {
      "cell_type": "code",
      "source": [
        "if my_expression5.search(x3):\n",
        "    print(\"Yes!\")\n",
        "else:\n",
        "    print(\"No\")"
      ],
      "metadata": {
        "id": "8xAsSi94hZ9v",
        "outputId": "b4d54fe9-7888-4fe0-9421-dafa602395c7",
        "colab": {
          "base_uri": "https://localhost:8080/"
        }
      },
      "execution_count": 38,
      "outputs": [
        {
          "output_type": "stream",
          "name": "stdout",
          "text": [
            "Yes!\n"
          ]
        }
      ]
    },
    {
      "cell_type": "code",
      "source": [
        "import re\n",
        "\n",
        "# Ejercicio: Encuentra todas las ocurrencias de vocales en una cadena.\n",
        "def encontrar_vocales(texto):\n",
        "    patron = r'[aeiou]'\n",
        "    return re.findall(patron, texto)\n",
        "\n",
        "# Ejemplo de uso\n",
        "texto = \"El rápido zorro marrón salta sobre el perro perezoso.\"\n",
        "print(encontrar_vocales(texto))  # Output: ['e', 'a', 'i', 'o', 'o', 'a', 'o', 'a', 'a', 'o', 'e', 'e', 'o', 'e', 'e', 'o']"
      ],
      "metadata": {
        "id": "C5o2tiTel6K3",
        "outputId": "7b48bfcc-92b0-4b2a-9d80-1006d5eb03f1",
        "colab": {
          "base_uri": "https://localhost:8080/"
        }
      },
      "execution_count": 39,
      "outputs": [
        {
          "output_type": "stream",
          "name": "stdout",
          "text": [
            "['i', 'o', 'o', 'o', 'a', 'a', 'a', 'o', 'e', 'e', 'e', 'o', 'e', 'e', 'o', 'o']\n"
          ]
        }
      ]
    },
    {
      "cell_type": "code",
      "source": [
        "texto2 = \"hgt.\"\n",
        "print(encontrar_vocales(texto2))"
      ],
      "metadata": {
        "id": "Ur90_3GGmEco",
        "outputId": "ef088a15-4e69-4a75-e893-d5068f3fb9aa",
        "colab": {
          "base_uri": "https://localhost:8080/"
        }
      },
      "execution_count": 40,
      "outputs": [
        {
          "output_type": "stream",
          "name": "stdout",
          "text": [
            "[]\n"
          ]
        }
      ]
    },
    {
      "cell_type": "code",
      "source": [
        "def encontrar_expresiones(patron, texto):\n",
        "    return re.findall(patron, texto)"
      ],
      "metadata": {
        "id": "PH9A1O91mSmI"
      },
      "execution_count": 41,
      "outputs": []
    },
    {
      "cell_type": "code",
      "source": [
        "patron3 = '[abc]'\n",
        "texto3 = 'abc'\n",
        "print(encontrar_expresiones(patron3, texto3))"
      ],
      "metadata": {
        "id": "l1BZTwltmYxU",
        "outputId": "e4513def-8200-450a-862d-3f06176875fa",
        "colab": {
          "base_uri": "https://localhost:8080/"
        }
      },
      "execution_count": 42,
      "outputs": [
        {
          "output_type": "stream",
          "name": "stdout",
          "text": [
            "['a', 'b', 'c']\n"
          ]
        }
      ]
    },
    {
      "cell_type": "code",
      "source": [
        "patron4 = '[abc]'\n",
        "texto4 = 'dude'\n",
        "print(encontrar_expresiones(patron4, texto4))"
      ],
      "metadata": {
        "id": "DJbKPtk6mmVs",
        "outputId": "7fe7c0db-cf13-4eb8-e117-aa651435e7a1",
        "colab": {
          "base_uri": "https://localhost:8080/"
        }
      },
      "execution_count": 43,
      "outputs": [
        {
          "output_type": "stream",
          "name": "stdout",
          "text": [
            "[]\n"
          ]
        }
      ]
    },
    {
      "cell_type": "code",
      "source": [
        "import re\n",
        "\n",
        "# Ejercicio: Encuentra todas las secuencias de caracteres que no sean vocales.\n",
        "def no_vocales(texto):\n",
        "    patron = r'[^aeiouAEIOU]'\n",
        "    return re.findall(patron, texto)\n",
        "\n",
        "# Ejemplo de uso\n",
        "texto = \"Python es divertido\"\n",
        "print(no_vocales(texto))  # Output: ['P', 'y', 't', 'h', 'n', ' ', 's', ' ', 'd', 'v', 'r', 't', 'd', 'n']\n"
      ],
      "metadata": {
        "id": "LvxmSfL3mzwE",
        "outputId": "b115651c-6fb7-466a-9bb6-fbcdf732a666",
        "colab": {
          "base_uri": "https://localhost:8080/"
        }
      },
      "execution_count": 44,
      "outputs": [
        {
          "output_type": "stream",
          "name": "stdout",
          "text": [
            "['P', 'y', 't', 'h', 'n', ' ', 's', ' ', 'd', 'v', 'r', 't', 'd']\n"
          ]
        }
      ]
    },
    {
      "cell_type": "code",
      "source": [
        "patron5 = '[^abc]'\n",
        "texto5 = 'dude'\n",
        "print(encontrar_expresiones(patron5, texto5))"
      ],
      "metadata": {
        "id": "CE-LpclSm61k",
        "outputId": "fe6d0896-719c-4ed8-d733-9f64be2a71cd",
        "colab": {
          "base_uri": "https://localhost:8080/"
        }
      },
      "execution_count": 45,
      "outputs": [
        {
          "output_type": "stream",
          "name": "stdout",
          "text": [
            "['d', 'u', 'd', 'e']\n"
          ]
        }
      ]
    },
    {
      "cell_type": "code",
      "source": [
        "patron6 = '[^abc]'\n",
        "texto6 = 'abc'\n",
        "print(encontrar_expresiones(patron6, texto6))"
      ],
      "metadata": {
        "id": "8m-XW9l6nCQh",
        "outputId": "6861b5d6-a8dc-4c27-e735-4e8f040207b5",
        "colab": {
          "base_uri": "https://localhost:8080/"
        }
      },
      "execution_count": 46,
      "outputs": [
        {
          "output_type": "stream",
          "name": "stdout",
          "text": [
            "[]\n"
          ]
        }
      ]
    },
    {
      "cell_type": "markdown",
      "source": [
        "# Ejercicio Desafiante: Scraping y Análisis de Texto en Wikipedia\n",
        "\n",
        "## Objetivo\n",
        "\n",
        "Realizar un scraping de un artículo de Wikipedia y luego utilizar expresiones regulares para extraer y analizar información específica del texto obtenido.\n",
        "\n",
        "## Instrucciones\n",
        "\n",
        "### Paso 1: Scraping del Artículo de Wikipedia\n",
        "\n",
        "1. Utiliza la biblioteca `BeautifulSoup` en Python para hacer scraping de un artículo de Wikipedia. Por ejemplo, puedes elegir el artículo sobre \"Python (programming language)\".\n",
        "2. Extrae el contenido principal del artículo (puedes concentrarte en el texto dentro de las etiquetas `<p>`).\n",
        "\n",
        "### Paso 2: Expresiones Regulares para Extracción de Información\n",
        "\n",
        "Usa expresiones regulares para realizar las siguientes tareas sobre el texto extraído:\n",
        "\n",
        "1. **Extraer todas las fechas**: Encuentra todas las menciones de años (como \"1991\", \"2000\", etc.).\n",
        "2. **Contar menciones de lenguajes de programación**: Busca todas las menciones de lenguajes de programación como \"Java\", \"C++\", \"Python\", etc.\n",
        "3. **Extraer URLs**: Identifica y extrae todos los enlaces (URLs) presentes en el texto.\n",
        "\n",
        "### Paso 3: Análisis Adicional\n",
        "\n",
        "Usa las expresiones regulares para realizar algún análisis adicional que te interese. Por ejemplo, podrías contar cuántas veces aparece la palabra \"Python\" o extraer todas las oraciones que contienen la palabra \"versión\".\n",
        "\n",
        "## Código de Ejemplo\n",
        "\n",
        "```python\n",
        "import re\n",
        "import requests\n",
        "from bs4 import BeautifulSoup\n",
        "\n",
        "# Paso 1: Scraping del artículo de Wikipedia\n",
        "def obtener_texto_wikipedia(url):\n",
        "    response = requests.get(url)\n",
        "    soup = BeautifulSoup(response.text, 'html.parser')\n",
        "    parrafos = soup.find_all('p')\n",
        "    texto = ' '.join([parrafo.text for parrafo in parrafos])\n",
        "    return texto\n",
        "\n",
        "# URL del artículo de Wikipedia\n",
        "url = \"https://en.wikipedia.org/wiki/Python_(programming_language)\"\n",
        "texto = obtener_texto_wikipedia(url)\n",
        "\n",
        "# Paso 2: Uso de expresiones regulares\n",
        "\n",
        "# 2.1 Extraer todas las fechas (años)\n",
        "fechas = re.findall(r'\\b\\d{4}\\b', texto)\n",
        "print(\"Fechas encontradas:\", fechas)\n",
        "\n",
        "# 2.2 Contar menciones de lenguajes de programación\n",
        "lenguajes = ['Python', 'Java', 'C++', 'JavaScript', 'Ruby']\n",
        "conteo_lenguajes = {lenguaje: len(re.findall(rf'\\b{lenguaje}\\b', texto)) for lenguaje in lenguajes}\n",
        "print(\"Conteo de menciones de lenguajes de programación:\", conteo_lenguajes)\n",
        "\n",
        "# 2.3 Extraer URLs\n",
        "urls = re.findall(r'https?://[^\\s]+', texto)\n",
        "print(\"URLs encontradas:\", urls)\n",
        "\n",
        "# Paso 3: Análisis adicional (contar menciones de la palabra 'Python')\n",
        "menciones_python = len(re.findall(r'\\bPython\\b', texto))\n",
        "print(f\"Menciones de 'Python': {menciones_python}\")\n"
      ],
      "metadata": {
        "id": "X746tQM3oAo9"
      }
    },
    {
      "cell_type": "code",
      "source": [
        "import re\n",
        "import requests\n",
        "from bs4 import BeautifulSoup\n",
        "\n",
        "# Paso 1: Scraping del artículo de Wikipedia\n",
        "def obtener_texto_wikipedia(url):\n",
        "    response = requests.get(url)\n",
        "    soup = BeautifulSoup(response.text, 'html.parser')\n",
        "    parrafos = soup.find_all('p')\n",
        "    texto = ' '.join([parrafo.text for parrafo in parrafos])\n",
        "    return texto\n",
        "\n",
        "# URL del artículo de Wikipedia\n",
        "url = \"https://en.wikipedia.org/wiki/Python_(programming_language)\"\n",
        "texto = obtener_texto_wikipedia(url)\n",
        "\n",
        "# Paso 2: Uso de expresiones regulares\n",
        "\n",
        "# 2.1 Extraer todas las fechas (años)\n",
        "fechas = re.findall(r'\\b\\d{4}\\b', texto)\n",
        "print(\"Fechas encontradas:\", fechas)\n",
        "\n",
        "# 2.2 Contar menciones de lenguajes de programación\n",
        "lenguajes = ['Python', 'Java', 'C\\\\+\\\\+', 'JavaScript', 'Ruby']\n",
        "conteo_lenguajes = {lenguaje: len(re.findall(rf'\\b{re.escape(lenguaje)}\\b', texto)) for lenguaje in lenguajes}\n",
        "print(\"Conteo de menciones de lenguajes de programación:\", conteo_lenguajes)\n",
        "\n",
        "# Paso 3: Análisis adicional (contar menciones de la palabra 'Python')\n",
        "menciones_python = len(re.findall(r'\\bPython\\b', texto))\n",
        "print(f\"Menciones de 'Python': {menciones_python}\")"
      ],
      "metadata": {
        "id": "minlSRPioBr-",
        "outputId": "c99c8f75-6ecd-42b1-bb3a-61a10b4724db",
        "colab": {
          "base_uri": "https://localhost:8080/"
        }
      },
      "execution_count": 49,
      "outputs": [
        {
          "output_type": "stream",
          "name": "stdout",
          "text": [
            "Fechas encontradas: ['1991', '2000', '2008', '2020', '1989', '2018', '2019', '2000', '2008', '2015', '2020', '2023', '2021', '2022', '2022', '2022', '2022', '2024', '2023', '2024', '2022', '2017', '2003', '2022', '2007', '2010', '2018', '2020', '2020', '2008', '2013']\n",
            "Conteo de menciones de lenguajes de programación: {'Python': 166, 'Java': 4, 'C\\\\+\\\\+': 0, 'JavaScript': 0, 'Ruby': 2}\n",
            "Menciones de 'Python': 166\n"
          ]
        }
      ]
    }
  ],
  "metadata": {
    "kernelspec": {
      "display_name": ".venv",
      "language": "python",
      "name": "python3"
    },
    "language_info": {
      "name": "python",
      "version": "3.11.4"
    },
    "colab": {
      "provenance": []
    }
  },
  "nbformat": 4,
  "nbformat_minor": 0
}