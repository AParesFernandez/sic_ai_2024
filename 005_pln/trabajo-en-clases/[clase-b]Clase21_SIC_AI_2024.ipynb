{
  "cells": [
    {
      "cell_type": "markdown",
      "metadata": {
        "id": "sFKpjNG_VxI-"
      },
      "source": [
        "# Proesamiento de lenguaje natural (PLN)"
      ]
    },
    {
      "cell_type": "markdown",
      "metadata": {
        "id": "DspoFxzkVxJE"
      },
      "source": [
        "### 1.4. Procesamiento del Lenguaje Natural (NLP)\n",
        "Descripción: El NLP permite a las máquinas entender y generar lenguaje humano. Ejemplos incluyen etiquetado POS, análisis de sentimiento, y modelado de tópicos.\n",
        "\n",
        "Ejercicio 4: Realizar un análisis de sentimiento utilizando TextBlob."
      ]
    },
    {
      "cell_type": "code",
      "execution_count": null,
      "metadata": {
        "id": "KM1WpKj0VxJE"
      },
      "outputs": [],
      "source": [
        "from textblob import TextBlob\n",
        "\n",
        "# Texto de ejemplo\n",
        "texto = \"I love programming in Python!\"\n",
        "\n",
        "# Análisis de sentimiento\n",
        "blob = TextBlob(texto)\n",
        "sentimiento = blob.sentiment\n",
        "\n",
        "print(f\"Polaridad: {sentimiento.polarity}, Subjetividad: {sentimiento.subjectivity}\")"
      ]
    },
    {
      "cell_type": "markdown",
      "metadata": {
        "id": "kGx_fIufVxJE"
      },
      "source": [
        "Ejercicio 2"
      ]
    },
    {
      "cell_type": "code",
      "execution_count": null,
      "metadata": {
        "id": "g_HNn2CMVxJE"
      },
      "outputs": [],
      "source": [
        "# Ejemplo de análisis de sentimientos usando TextBlob\n",
        "from textblob import TextBlob\n",
        "\n",
        "# Texto de ejemplo\n",
        "texto = \"La minería de texto es increíble, pero también desafiante.\"\n",
        "\n",
        "# Análisis de sentimiento\n",
        "blob = TextBlob(texto)\n",
        "sentimiento = blob.sentiment\n",
        "\n",
        "sentimiento"
      ]
    },
    {
      "cell_type": "markdown",
      "metadata": {
        "id": "L_wdMvARVxJF"
      },
      "source": [
        "### 1.5. Datos secuenciales\n",
        "\n",
        "\n",
        "Descripción: Los datos secuenciales son aquellos donde el orden importa, como secuencias de texto, series de tiempo, etc.\n",
        "\n",
        "Ejercicio 1"
      ]
    },
    {
      "cell_type": "code",
      "execution_count": null,
      "metadata": {
        "id": "huCDEss8VxJF"
      },
      "outputs": [],
      "source": [
        "# Ejemplo de secuencias con modelos de NLP\n",
        "from nltk.util import ngrams\n",
        "\n",
        "# Texto de ejemplo\n",
        "texto = \"La minería de texto es fascinante.\"\n",
        "\n",
        "# Generar bigramas\n",
        "tokens = word_tokenize(texto)\n",
        "bigramas = list(ngrams(tokens, 2))\n",
        "\n",
        "bigramas"
      ]
    },
    {
      "cell_type": "markdown",
      "metadata": {
        "id": "ceml7DhNVxJF"
      },
      "source": [
        "### 1.6. Corpus\n",
        "\n",
        "Descripción: Un corpus es un conjunto de documentos que se utiliza para entrenar modelos en minería de texto.\n",
        "\n",
        "Ejercicio 1"
      ]
    },
    {
      "cell_type": "code",
      "execution_count": null,
      "metadata": {
        "id": "D4Adp8GRVxJF"
      },
      "outputs": [],
      "source": [
        "# Ejemplo básico de creación de un corpus usando NLTK\n",
        "from nltk.corpus import PlaintextCorpusReader\n",
        "\n",
        "# Definir el directorio donde están los textos\n",
        "corpus_dir = './corpus/'\n",
        "\n",
        "# Crear el corpus\n",
        "corpus = PlaintextCorpusReader(corpus_dir, '.*')\n",
        "\n",
        "# Ver los archivos en el corpus\n",
        "corpus.fileids()\n"
      ]
    },
    {
      "cell_type": "markdown",
      "source": [
        "# Ejemplos de la presentación"
      ],
      "metadata": {
        "id": "nxBBlJf9mc0F"
      }
    },
    {
      "cell_type": "code",
      "source": [
        "import re"
      ],
      "metadata": {
        "id": "BQe8kqLDmezw"
      },
      "execution_count": 1,
      "outputs": []
    },
    {
      "cell_type": "code",
      "source": [
        "my_regex = re.compile(\"([0-9]+)[^0-9]+([0-9]+)\")"
      ],
      "metadata": {
        "id": "1prQ7rs2mj2J"
      },
      "execution_count": 10,
      "outputs": []
    },
    {
      "cell_type": "code",
      "source": [
        "m = my_regex.search(\"Anna is 15 years old and John is 12 years old.\")"
      ],
      "metadata": {
        "id": "DY6-_yainIxE"
      },
      "execution_count": 11,
      "outputs": []
    },
    {
      "cell_type": "code",
      "source": [
        "m"
      ],
      "metadata": {
        "id": "HjLXV7yWnp9f"
      },
      "execution_count": 5,
      "outputs": []
    },
    {
      "cell_type": "code",
      "source": [
        "print(m.group(0))\n",
        "print(m.group(1))\n",
        "print(m.group(2))"
      ],
      "metadata": {
        "id": "QG1uDzKBnjHo",
        "outputId": "851f6e1b-a7d5-451c-a732-7ebe93f1f634",
        "colab": {
          "base_uri": "https://localhost:8080/"
        }
      },
      "execution_count": 12,
      "outputs": [
        {
          "output_type": "stream",
          "name": "stdout",
          "text": [
            "15 years old and John is 12\n",
            "15\n",
            "12\n"
          ]
        }
      ]
    },
    {
      "cell_type": "code",
      "source": [
        "my_regex = re.compile(r\"(\\d+)\")\n",
        "m = my_regex.findall(\"Anna is 15 years old and John is 12 years old.\")\n",
        "print(m)\n"
      ],
      "metadata": {
        "id": "6rYWIxh7oQaH",
        "outputId": "405d6fdd-85e2-4a11-c92b-7dbdb5412786",
        "colab": {
          "base_uri": "https://localhost:8080/"
        }
      },
      "execution_count": 6,
      "outputs": [
        {
          "output_type": "stream",
          "name": "stdout",
          "text": [
            "['15', '12']\n"
          ]
        }
      ]
    },
    {
      "cell_type": "markdown",
      "source": [
        "# Ejercicios desde el material original\n",
        "link al [archivo](chapter_7/45.%20ex_0501.ipynb)"
      ],
      "metadata": {
        "id": "zbhKRs3EzaD-"
      }
    },
    {
      "cell_type": "markdown",
      "source": [
        "#### Metacharacter: Dot"
      ],
      "metadata": {
        "id": "x8UK2yZ70H4M"
      }
    },
    {
      "cell_type": "code",
      "source": [
        "# Target strings.\n",
        "x1 = \"ct\"\n",
        "x2 = \"cat\"\n",
        "x3 = \"caat\""
      ],
      "metadata": {
        "id": "_Ekz0LSp0Hip"
      },
      "execution_count": 13,
      "outputs": []
    },
    {
      "cell_type": "code",
      "source": [
        "# A regular expression.\n",
        "my_expression = re.compile(\"c.t\")"
      ],
      "metadata": {
        "id": "seWbMl3O0EJo"
      },
      "execution_count": 14,
      "outputs": []
    },
    {
      "cell_type": "code",
      "source": [
        "if my_expression.search(x1): # ct\n",
        "    print(\"Yes!\")\n",
        "else:\n",
        "    print(\"No\")"
      ],
      "metadata": {
        "id": "ob2MnsdS0mCm",
        "outputId": "ef83ef17-a64f-4de2-b4da-67651ea452ad",
        "colab": {
          "base_uri": "https://localhost:8080/"
        }
      },
      "execution_count": 15,
      "outputs": [
        {
          "output_type": "stream",
          "name": "stdout",
          "text": [
            "No\n"
          ]
        }
      ]
    },
    {
      "cell_type": "code",
      "source": [
        "if my_expression.search(x2): #cat\n",
        "    print(\"Yes!\")\n",
        "else:\n",
        "    print(\"No\")"
      ],
      "metadata": {
        "id": "JYVVJd2O0peY",
        "outputId": "fe1829d7-382b-4c2d-a270-a6a8f323b671",
        "colab": {
          "base_uri": "https://localhost:8080/"
        }
      },
      "execution_count": 16,
      "outputs": [
        {
          "output_type": "stream",
          "name": "stdout",
          "text": [
            "Yes!\n"
          ]
        }
      ]
    },
    {
      "cell_type": "code",
      "source": [
        "if my_expression.search(x3): #caat\n",
        "    print(\"Yes!\")\n",
        "else:\n",
        "    print(\"No\")"
      ],
      "metadata": {
        "id": "L86s4IkH0wVt",
        "outputId": "41009ae1-ecb1-403d-ffb7-8e0834b74b56",
        "colab": {
          "base_uri": "https://localhost:8080/"
        }
      },
      "execution_count": 17,
      "outputs": [
        {
          "output_type": "stream",
          "name": "stdout",
          "text": [
            "No\n"
          ]
        }
      ]
    },
    {
      "cell_type": "code",
      "source": [
        "my_expression2 = re.compile(\"ca.t\")\n",
        "my_expression3 = re.compile(\"c..t\")"
      ],
      "metadata": {
        "id": "EgJZdQ7V018R"
      },
      "execution_count": 19,
      "outputs": []
    },
    {
      "cell_type": "code",
      "source": [
        "if my_expression2.search(x3): #caat\n",
        "    print(\"Yes!\")\n",
        "else:\n",
        "    print(\"No\")"
      ],
      "metadata": {
        "id": "RxHHTcO01BZl",
        "outputId": "568b7370-187f-420b-9bfd-bd05735213b1",
        "colab": {
          "base_uri": "https://localhost:8080/"
        }
      },
      "execution_count": 20,
      "outputs": [
        {
          "output_type": "stream",
          "name": "stdout",
          "text": [
            "Yes!\n"
          ]
        }
      ]
    },
    {
      "cell_type": "code",
      "source": [
        "if my_expression3.search(x3): #caat\n",
        "    print(\"Yes!\")\n",
        "else:\n",
        "    print(\"No\")"
      ],
      "metadata": {
        "id": "W8KYupA61kTF",
        "outputId": "5b855a35-c7fa-4881-8f22-1a3ab4532b1d",
        "colab": {
          "base_uri": "https://localhost:8080/"
        }
      },
      "execution_count": 21,
      "outputs": [
        {
          "output_type": "stream",
          "name": "stdout",
          "text": [
            "Yes!\n"
          ]
        }
      ]
    },
    {
      "cell_type": "markdown",
      "source": [
        "#### Metacharacter: ?"
      ],
      "metadata": {
        "id": "9Dnhh4qj13uu"
      }
    },
    {
      "cell_type": "code",
      "source": [
        "# A regular expression.\n",
        "my_exp = \"ca?t\""
      ],
      "metadata": {
        "id": "STBC1WzW194l"
      },
      "execution_count": 22,
      "outputs": []
    },
    {
      "cell_type": "code",
      "source": [
        "if re.search(my_exp, x1): #ct\n",
        "    print(\"Yes!\")\n",
        "else:\n",
        "    print(\"No\")"
      ],
      "metadata": {
        "id": "wR8TkJ0o2Mln",
        "outputId": "c0acf912-9056-4552-b148-780a418e1b9f",
        "colab": {
          "base_uri": "https://localhost:8080/"
        }
      },
      "execution_count": 24,
      "outputs": [
        {
          "output_type": "stream",
          "name": "stdout",
          "text": [
            "Yes!\n"
          ]
        }
      ]
    },
    {
      "cell_type": "code",
      "source": [
        "if re.search(my_exp, x2): #cat\n",
        "    print(\"Yes!\")\n",
        "else:\n",
        "    print(\"No\")"
      ],
      "metadata": {
        "id": "hLvx-HAv2ZJC",
        "outputId": "5c3a8d75-232b-414d-b2bb-e3a9421512b2",
        "colab": {
          "base_uri": "https://localhost:8080/"
        }
      },
      "execution_count": 25,
      "outputs": [
        {
          "output_type": "stream",
          "name": "stdout",
          "text": [
            "Yes!\n"
          ]
        }
      ]
    },
    {
      "cell_type": "code",
      "source": [
        "if re.search(my_exp, x3): #caat\n",
        "    print(\"Yes!\")\n",
        "else:\n",
        "    print(\"No\")"
      ],
      "metadata": {
        "id": "xMsCbwwQ2bGQ",
        "outputId": "62e70757-598a-412f-fa50-262fb3751b88",
        "colab": {
          "base_uri": "https://localhost:8080/"
        }
      },
      "execution_count": 26,
      "outputs": [
        {
          "output_type": "stream",
          "name": "stdout",
          "text": [
            "No\n"
          ]
        }
      ]
    },
    {
      "cell_type": "markdown",
      "source": [
        "#### Metacharacter: {m,n}"
      ],
      "metadata": {
        "id": "pKJoFDeL2llN"
      }
    },
    {
      "cell_type": "code",
      "source": [
        "# Target strings.\n",
        "x1 = \"ct\"\n",
        "x2 = \"cat\"\n",
        "x3 = \"caat\"\n",
        "x4 = \"caaat\""
      ],
      "metadata": {
        "id": "XNTfbeee2nIp"
      },
      "execution_count": 27,
      "outputs": []
    },
    {
      "cell_type": "code",
      "source": [
        "# A regular expression.\n",
        "my_exp= \"ca{1,2}t\""
      ],
      "metadata": {
        "id": "zCrZTMpg2sKI"
      },
      "execution_count": 28,
      "outputs": []
    },
    {
      "cell_type": "code",
      "source": [
        "if re.search(my_exp, x1): #ct\n",
        "    print(\"Yes!\")\n",
        "else:\n",
        "    print(\"No\")"
      ],
      "metadata": {
        "id": "ihsDCInV2xHx",
        "outputId": "a390f0d8-4192-4ca0-8bad-63de2ef5a8aa",
        "colab": {
          "base_uri": "https://localhost:8080/"
        }
      },
      "execution_count": 29,
      "outputs": [
        {
          "output_type": "stream",
          "name": "stdout",
          "text": [
            "No\n"
          ]
        }
      ]
    },
    {
      "cell_type": "code",
      "source": [
        "if re.search(my_exp, x2): #cat\n",
        "    print(\"Yes!\")\n",
        "else:\n",
        "    print(\"No\")"
      ],
      "metadata": {
        "id": "hwsQufGp20SZ",
        "outputId": "74936ef9-237a-4358-dc8a-3fb245231e2d",
        "colab": {
          "base_uri": "https://localhost:8080/"
        }
      },
      "execution_count": 30,
      "outputs": [
        {
          "output_type": "stream",
          "name": "stdout",
          "text": [
            "Yes!\n"
          ]
        }
      ]
    },
    {
      "cell_type": "code",
      "source": [
        "if re.search(my_exp, x3): #caat\n",
        "    print(\"Yes!\")\n",
        "else:\n",
        "    print(\"No\")"
      ],
      "metadata": {
        "id": "6nbLUvkV22Kb",
        "outputId": "bcc947d1-6979-4479-9b26-71bbac64c237",
        "colab": {
          "base_uri": "https://localhost:8080/"
        }
      },
      "execution_count": 31,
      "outputs": [
        {
          "output_type": "stream",
          "name": "stdout",
          "text": [
            "Yes!\n"
          ]
        }
      ]
    },
    {
      "cell_type": "code",
      "source": [
        "if re.search(my_exp, x4): #caaat\n",
        "    print(\"Yes!\")\n",
        "else:\n",
        "    print(\"No\")"
      ],
      "metadata": {
        "id": "oFzo0_Ca26ge",
        "outputId": "6d9b7741-4d57-4332-dbcf-8df347626ee9",
        "colab": {
          "base_uri": "https://localhost:8080/"
        }
      },
      "execution_count": 32,
      "outputs": [
        {
          "output_type": "stream",
          "name": "stdout",
          "text": [
            "No\n"
          ]
        }
      ]
    }
  ],
  "metadata": {
    "kernelspec": {
      "display_name": ".venv",
      "language": "python",
      "name": "python3"
    },
    "language_info": {
      "name": "python",
      "version": "3.11.4"
    },
    "colab": {
      "provenance": []
    }
  },
  "nbformat": 4,
  "nbformat_minor": 0
}