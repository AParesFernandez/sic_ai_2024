{
  "cells": [
    {
      "cell_type": "markdown",
      "metadata": {
        "id": "ghaa91hcdaxw"
      },
      "source": [
        "# Clase 23"
      ]
    },
    {
      "cell_type": "code",
      "execution_count": 1,
      "metadata": {
        "id": "GBn2arTYdax6"
      },
      "outputs": [],
      "source": [
        "import numpy as np\n",
        "import warnings\n",
        "import nltk\n",
        "from nltk.corpus import stopwords\n",
        "from sklearn.feature_extraction.text import TfidfVectorizer\n",
        "from sklearn.decomposition  import TruncatedSVD\n",
        "warnings.filterwarnings('ignore')"
      ]
    },
    {
      "cell_type": "markdown",
      "metadata": {
        "id": "fNlSWiqQdax_"
      },
      "source": [
        "### 1. Latent Semantic Analysis (LSA):"
      ]
    },
    {
      "cell_type": "code",
      "execution_count": 2,
      "metadata": {
        "id": "YYRRMqgmdayA"
      },
      "outputs": [],
      "source": [
        "# The data.\n",
        "my_docs = [\"The economic slowdown is becoming more severe\",\n",
        "           \"The movie was simply awesome\",\n",
        "           \"I like cooking my own food\",\n",
        "           \"Samsung is announcing a new technology\",\n",
        "           \"Machine Learning is an example of awesome technology\",\n",
        "           \"All of us were excited at the movie\",\n",
        "           \"We have to do more to reverse the economic slowdown\"]"
      ]
    },
    {
      "cell_type": "markdown",
      "metadata": {
        "id": "tTm3wSs3dayB"
      },
      "source": [
        "#### 1.1. Create a TF IDF representation:\n",
        "TfidfVectorizer() arguments: <br>\n",
        "- *max_features* : maximum number of features (distict words). <br>\n",
        "- *min_df* : The minimum DF. Integer value means count and real number (0~1) means proportion. <br>\n",
        "- *max_df* : The maximum DF. Integer value means count and real number (0~1) means proportion. Helps to filter out the stop words. <br>"
      ]
    },
    {
      "cell_type": "code",
      "execution_count": 3,
      "metadata": {
        "id": "qsUo07ucdayC"
      },
      "outputs": [],
      "source": [
        "my_docs = [x.lower() for x in my_docs]"
      ]
    },
    {
      "cell_type": "code",
      "source": [
        "my_docs"
      ],
      "metadata": {
        "id": "YdLE7OYJfyDZ",
        "outputId": "003693df-c350-4273-8a39-7aa543960d8d",
        "colab": {
          "base_uri": "https://localhost:8080/"
        }
      },
      "execution_count": 4,
      "outputs": [
        {
          "output_type": "execute_result",
          "data": {
            "text/plain": [
              "['the economic slowdown is becoming more severe',\n",
              " 'the movie was simply awesome',\n",
              " 'i like cooking my own food',\n",
              " 'samsung is announcing a new technology',\n",
              " 'machine learning is an example of awesome technology',\n",
              " 'all of us were excited at the movie',\n",
              " 'we have to do more to reverse the economic slowdown']"
            ]
          },
          "metadata": {},
          "execution_count": 4
        }
      ]
    },
    {
      "cell_type": "code",
      "execution_count": 5,
      "metadata": {
        "id": "766ko91EdayD"
      },
      "outputs": [],
      "source": [
        "my_stop_words = ['us', 'like']"
      ]
    },
    {
      "cell_type": "code",
      "source": [
        "import nltk\n",
        "nltk.download('stopwords')\n",
        "nltk.download('punkt')"
      ],
      "metadata": {
        "id": "nL-apXYMgt8S",
        "outputId": "9b91a31c-4673-4fec-eebb-34304e808b98",
        "colab": {
          "base_uri": "https://localhost:8080/"
        }
      },
      "execution_count": 6,
      "outputs": [
        {
          "output_type": "stream",
          "name": "stderr",
          "text": [
            "[nltk_data] Downloading package stopwords to /root/nltk_data...\n",
            "[nltk_data]   Unzipping corpora/stopwords.zip.\n",
            "[nltk_data] Downloading package punkt to /root/nltk_data...\n",
            "[nltk_data]   Unzipping tokenizers/punkt.zip.\n"
          ]
        },
        {
          "output_type": "execute_result",
          "data": {
            "text/plain": [
              "True"
            ]
          },
          "metadata": {},
          "execution_count": 6
        }
      ]
    },
    {
      "cell_type": "code",
      "execution_count": 7,
      "metadata": {
        "id": "TS3GCD2DdayD"
      },
      "outputs": [],
      "source": [
        "vectorizer = TfidfVectorizer(max_features = 15, min_df = 1, max_df = 3, stop_words = stopwords.words('english') + my_stop_words)\n",
        "X = vectorizer.fit_transform(my_docs).toarray()"
      ]
    },
    {
      "cell_type": "code",
      "execution_count": 8,
      "metadata": {
        "id": "zcR9yuPmdayD",
        "outputId": "21d1f7b8-5e86-4fc1-f384-c69de933e461",
        "colab": {
          "base_uri": "https://localhost:8080/"
        }
      },
      "outputs": [
        {
          "output_type": "execute_result",
          "data": {
            "text/plain": [
              "(7, 15)"
            ]
          },
          "metadata": {},
          "execution_count": 8
        }
      ],
      "source": [
        "# Size of X (=m x n). m = number of documents = 7 & n = number of features.\n",
        "X.shape"
      ]
    },
    {
      "cell_type": "code",
      "execution_count": 9,
      "metadata": {
        "id": "hffy_VL8dayF",
        "outputId": "f80a761e-2a7b-4071-897b-ffb1ed98035d",
        "colab": {
          "base_uri": "https://localhost:8080/"
        }
      },
      "outputs": [
        {
          "output_type": "stream",
          "name": "stdout",
          "text": [
            "['announcing' 'awesome' 'cooking' 'economic' 'example' 'excited' 'food'\n",
            " 'movie' 'new' 'reverse' 'samsung' 'severe' 'simply' 'slowdown'\n",
            " 'technology']\n"
          ]
        }
      ],
      "source": [
        "# View the features.\n",
        "features = vectorizer.get_feature_names_out()\n",
        "print(features)"
      ]
    },
    {
      "cell_type": "markdown",
      "metadata": {
        "id": "iMGSU5sedayG"
      },
      "source": [
        "#### 1.2. Apply the truncated SVD:"
      ]
    },
    {
      "cell_type": "code",
      "execution_count": 10,
      "metadata": {
        "id": "nDl6z51jdayG",
        "outputId": "2aebd910-7892-4a16-f352-3e104b775657",
        "colab": {
          "base_uri": "https://localhost:8080/",
          "height": 75
        }
      },
      "outputs": [
        {
          "output_type": "execute_result",
          "data": {
            "text/plain": [
              "TruncatedSVD(n_components=4, n_iter=100)"
            ],
            "text/html": [
              "<style>#sk-container-id-1 {color: black;}#sk-container-id-1 pre{padding: 0;}#sk-container-id-1 div.sk-toggleable {background-color: white;}#sk-container-id-1 label.sk-toggleable__label {cursor: pointer;display: block;width: 100%;margin-bottom: 0;padding: 0.3em;box-sizing: border-box;text-align: center;}#sk-container-id-1 label.sk-toggleable__label-arrow:before {content: \"▸\";float: left;margin-right: 0.25em;color: #696969;}#sk-container-id-1 label.sk-toggleable__label-arrow:hover:before {color: black;}#sk-container-id-1 div.sk-estimator:hover label.sk-toggleable__label-arrow:before {color: black;}#sk-container-id-1 div.sk-toggleable__content {max-height: 0;max-width: 0;overflow: hidden;text-align: left;background-color: #f0f8ff;}#sk-container-id-1 div.sk-toggleable__content pre {margin: 0.2em;color: black;border-radius: 0.25em;background-color: #f0f8ff;}#sk-container-id-1 input.sk-toggleable__control:checked~div.sk-toggleable__content {max-height: 200px;max-width: 100%;overflow: auto;}#sk-container-id-1 input.sk-toggleable__control:checked~label.sk-toggleable__label-arrow:before {content: \"▾\";}#sk-container-id-1 div.sk-estimator input.sk-toggleable__control:checked~label.sk-toggleable__label {background-color: #d4ebff;}#sk-container-id-1 div.sk-label input.sk-toggleable__control:checked~label.sk-toggleable__label {background-color: #d4ebff;}#sk-container-id-1 input.sk-hidden--visually {border: 0;clip: rect(1px 1px 1px 1px);clip: rect(1px, 1px, 1px, 1px);height: 1px;margin: -1px;overflow: hidden;padding: 0;position: absolute;width: 1px;}#sk-container-id-1 div.sk-estimator {font-family: monospace;background-color: #f0f8ff;border: 1px dotted black;border-radius: 0.25em;box-sizing: border-box;margin-bottom: 0.5em;}#sk-container-id-1 div.sk-estimator:hover {background-color: #d4ebff;}#sk-container-id-1 div.sk-parallel-item::after {content: \"\";width: 100%;border-bottom: 1px solid gray;flex-grow: 1;}#sk-container-id-1 div.sk-label:hover label.sk-toggleable__label {background-color: #d4ebff;}#sk-container-id-1 div.sk-serial::before {content: \"\";position: absolute;border-left: 1px solid gray;box-sizing: border-box;top: 0;bottom: 0;left: 50%;z-index: 0;}#sk-container-id-1 div.sk-serial {display: flex;flex-direction: column;align-items: center;background-color: white;padding-right: 0.2em;padding-left: 0.2em;position: relative;}#sk-container-id-1 div.sk-item {position: relative;z-index: 1;}#sk-container-id-1 div.sk-parallel {display: flex;align-items: stretch;justify-content: center;background-color: white;position: relative;}#sk-container-id-1 div.sk-item::before, #sk-container-id-1 div.sk-parallel-item::before {content: \"\";position: absolute;border-left: 1px solid gray;box-sizing: border-box;top: 0;bottom: 0;left: 50%;z-index: -1;}#sk-container-id-1 div.sk-parallel-item {display: flex;flex-direction: column;z-index: 1;position: relative;background-color: white;}#sk-container-id-1 div.sk-parallel-item:first-child::after {align-self: flex-end;width: 50%;}#sk-container-id-1 div.sk-parallel-item:last-child::after {align-self: flex-start;width: 50%;}#sk-container-id-1 div.sk-parallel-item:only-child::after {width: 0;}#sk-container-id-1 div.sk-dashed-wrapped {border: 1px dashed gray;margin: 0 0.4em 0.5em 0.4em;box-sizing: border-box;padding-bottom: 0.4em;background-color: white;}#sk-container-id-1 div.sk-label label {font-family: monospace;font-weight: bold;display: inline-block;line-height: 1.2em;}#sk-container-id-1 div.sk-label-container {text-align: center;}#sk-container-id-1 div.sk-container {/* jupyter's `normalize.less` sets `[hidden] { display: none; }` but bootstrap.min.css set `[hidden] { display: none !important; }` so we also need the `!important` here to be able to override the default hidden behavior on the sphinx rendered scikit-learn.org. See: https://github.com/scikit-learn/scikit-learn/issues/21755 */display: inline-block !important;position: relative;}#sk-container-id-1 div.sk-text-repr-fallback {display: none;}</style><div id=\"sk-container-id-1\" class=\"sk-top-container\"><div class=\"sk-text-repr-fallback\"><pre>TruncatedSVD(n_components=4, n_iter=100)</pre><b>In a Jupyter environment, please rerun this cell to show the HTML representation or trust the notebook. <br />On GitHub, the HTML representation is unable to render, please try loading this page with nbviewer.org.</b></div><div class=\"sk-container\" hidden><div class=\"sk-item\"><div class=\"sk-estimator sk-toggleable\"><input class=\"sk-toggleable__control sk-hidden--visually\" id=\"sk-estimator-id-1\" type=\"checkbox\" checked><label for=\"sk-estimator-id-1\" class=\"sk-toggleable__label sk-toggleable__label-arrow\">TruncatedSVD</label><div class=\"sk-toggleable__content\"><pre>TruncatedSVD(n_components=4, n_iter=100)</pre></div></div></div></div></div>"
            ]
          },
          "metadata": {},
          "execution_count": 10
        }
      ],
      "source": [
        "n_topics = 4\n",
        "svd = TruncatedSVD(n_components=n_topics, n_iter=100)\n",
        "svd.fit(X)"
      ]
    },
    {
      "cell_type": "code",
      "execution_count": 11,
      "metadata": {
        "id": "TngQxllCdayG"
      },
      "outputs": [],
      "source": [
        "# get the V^t matrix.\n",
        "vt = svd.components_\n",
        "vtabs = np.abs(vt)"
      ]
    },
    {
      "cell_type": "code",
      "execution_count": 12,
      "metadata": {
        "id": "n6T12CbRdayH",
        "outputId": "94aedd79-cdfd-4c71-e94d-01ed3a6b3caa",
        "colab": {
          "base_uri": "https://localhost:8080/"
        }
      },
      "outputs": [
        {
          "output_type": "execute_result",
          "data": {
            "text/plain": [
              "(4, 15)"
            ]
          },
          "metadata": {},
          "execution_count": 12
        }
      ],
      "source": [
        "# Check for the size of V^t.\n",
        "vt.shape"
      ]
    },
    {
      "cell_type": "markdown",
      "metadata": {
        "id": "57VS839AdayH"
      },
      "source": [
        "#### 1.3. From each topic, extract the top features:"
      ]
    },
    {
      "cell_type": "code",
      "execution_count": 13,
      "metadata": {
        "id": "0yHB6YlmdayI"
      },
      "outputs": [],
      "source": [
        "n_top = 3\n",
        "for i in range(n_topics):\n",
        "    topic_features = [features[idx] for idx in np.argsort(-vtabs[i,:])]   # argsort() shows the sorted index.\n",
        "    topic_features_top = topic_features[0:n_top]\n",
        "    if i == 0:\n",
        "        topic_matrix = [topic_features_top]                    # list의 list 만들 준비! (¡La lista está lista!)\n",
        "    else:\n",
        "        topic_matrix.append(topic_features_top)"
      ]
    },
    {
      "cell_type": "code",
      "execution_count": 14,
      "metadata": {
        "id": "CLKeP6kadayI",
        "outputId": "0e7565fe-9877-474c-bfed-0483d82963cd",
        "colab": {
          "base_uri": "https://localhost:8080/"
        }
      },
      "outputs": [
        {
          "output_type": "execute_result",
          "data": {
            "text/plain": [
              "[['economic', 'slowdown', 'reverse'],\n",
              " ['movie', 'awesome', 'simply'],\n",
              " ['technology', 'movie', 'excited'],\n",
              " ['food', 'cooking', 'new']]"
            ]
          },
          "metadata": {},
          "execution_count": 14
        }
      ],
      "source": [
        "# Show the top features for each topic.\n",
        "topic_matrix"
      ]
    },
    {
      "cell_type": "code",
      "execution_count": 15,
      "metadata": {
        "id": "IaviUXPVdayJ"
      },
      "outputs": [],
      "source": [
        "# In view of the top features, we can name the topics.\n",
        "topic_names = ['Economy', 'Movie','Technology', 'Cuisine']"
      ]
    },
    {
      "cell_type": "markdown",
      "metadata": {
        "id": "tJi5EbWwdayK"
      },
      "source": [
        "#### 1.4. Label each document with the most predominant topic:"
      ]
    },
    {
      "cell_type": "code",
      "execution_count": 16,
      "metadata": {
        "id": "hR0H3KZ2dayK",
        "outputId": "168e9db9-b9c9-4d85-db23-6a0d00b3ac32",
        "colab": {
          "base_uri": "https://localhost:8080/"
        }
      },
      "outputs": [
        {
          "output_type": "stream",
          "name": "stdout",
          "text": [
            "Document 1 = Economy\n",
            "Document 2 = Movie\n",
            "Document 3 = Cuisine\n",
            "Document 4 = Technology\n",
            "Document 5 = Movie\n",
            "Document 6 = Technology\n",
            "Document 7 = Economy\n"
          ]
        }
      ],
      "source": [
        "n_docs = len(my_docs)\n",
        "for i in range(n_docs):\n",
        "    score_pick = 0\n",
        "    topic_pick = 0\n",
        "    tokennized_doc = nltk.word_tokenize(my_docs[i])\n",
        "    for j in range(n_topics):\n",
        "        found = [ x in topic_matrix[j] for x in tokennized_doc ]\n",
        "        score = np.sum(found)\n",
        "        if (score > score_pick):\n",
        "            score_pick = score\n",
        "            topic_pick = j\n",
        "    print(\"Document \" + str(i+1) + \" = \" + topic_names[topic_pick])"
      ]
    },
    {
      "cell_type": "markdown",
      "metadata": {
        "id": "B_GgKaAjdayM"
      },
      "source": [
        "**NOTE**: We can notice some inaccuracies."
      ]
    },
    {
      "cell_type": "code",
      "source": [
        "import numpy as np\n",
        "import warnings\n",
        "from sklearn.feature_extraction.text import ENGLISH_STOP_WORDS\n",
        "from sklearn.feature_extraction.text import CountVectorizer\n",
        "from sklearn.decomposition  import LatentDirichletAllocation\n",
        "warnings.filterwarnings('ignore')"
      ],
      "metadata": {
        "id": "TZZPVgZwnDwp"
      },
      "execution_count": 23,
      "outputs": []
    },
    {
      "cell_type": "markdown",
      "source": [
        "## 1. Latent Dirichlet Allocation (LDA):\n",
        "\n"
      ],
      "metadata": {
        "id": "cTKznyW6mQ-v"
      }
    },
    {
      "cell_type": "code",
      "source": [
        "# The data.\n",
        "my_docs = [\"The economic slowdown is becoming more severe\",\n",
        "           \"The movie was simply awesome\",\n",
        "           \"I like cooking my own food\",\n",
        "           \"Samsung is announcing a new technology\",\n",
        "           \"Machine Learning is an example of awesome technology\",\n",
        "           \"All of us were excited at the movie\",\n",
        "           \"We have to do more to reverse the economic slowdown\"]"
      ],
      "metadata": {
        "id": "3O_Xv35OmQql"
      },
      "execution_count": 24,
      "outputs": []
    },
    {
      "cell_type": "code",
      "execution_count": 25,
      "metadata": {
        "id": "l1GGZR60dayN",
        "outputId": "880aa1d4-9c72-4cbf-dd4a-3c4b305d2774",
        "colab": {
          "base_uri": "https://localhost:8080/"
        }
      },
      "outputs": [
        {
          "output_type": "execute_result",
          "data": {
            "text/plain": [
              "['The economic slowdown is becoming more severe',\n",
              " 'The movie was simply awesome',\n",
              " 'I like cooking my own food',\n",
              " 'Samsung is announcing a new technology',\n",
              " 'Machine Learning is an example of awesome technology',\n",
              " 'All of us were excited at the movie',\n",
              " 'We have to do more to reverse the economic slowdown']"
            ]
          },
          "metadata": {},
          "execution_count": 25
        }
      ],
      "source": [
        "my_docs"
      ]
    },
    {
      "cell_type": "code",
      "source": [
        "my_docs = [x.lower() for x in my_docs]"
      ],
      "metadata": {
        "id": "3idVphWWmdjX"
      },
      "execution_count": 26,
      "outputs": []
    },
    {
      "cell_type": "markdown",
      "source": [
        "### 1.1. Create a DTM representation"
      ],
      "metadata": {
        "id": "mwBq0wVpmcfI"
      }
    },
    {
      "cell_type": "code",
      "source": [
        "# Instancia de nuestra función\n",
        "vectorizer = CountVectorizer(max_features = 15, min_df = 1, max_df = 3, stop_words = list(ENGLISH_STOP_WORDS))\n",
        "X = vectorizer.fit_transform(my_docs).toarray()"
      ],
      "metadata": {
        "id": "nA8Ukqe1mjkX"
      },
      "execution_count": 27,
      "outputs": []
    },
    {
      "cell_type": "code",
      "source": [
        "X.shape"
      ],
      "metadata": {
        "id": "rpVrBHUWmzuJ",
        "outputId": "eb22fb44-b9ac-4211-a25c-01ca614041aa",
        "colab": {
          "base_uri": "https://localhost:8080/"
        }
      },
      "execution_count": 28,
      "outputs": [
        {
          "output_type": "execute_result",
          "data": {
            "text/plain": [
              "(7, 15)"
            ]
          },
          "metadata": {},
          "execution_count": 28
        }
      ]
    },
    {
      "cell_type": "code",
      "source": [
        "X"
      ],
      "metadata": {
        "id": "rb8iVvRDnmff",
        "outputId": "4909a1cd-eda2-4454-cb61-3d63948b5718",
        "colab": {
          "base_uri": "https://localhost:8080/"
        }
      },
      "execution_count": 29,
      "outputs": [
        {
          "output_type": "execute_result",
          "data": {
            "text/plain": [
              "array([[0, 0, 1, 0, 0, 0, 0, 0, 0, 0, 0, 1, 0, 1, 0],\n",
              "       [0, 1, 0, 0, 0, 0, 0, 1, 0, 0, 0, 0, 1, 0, 0],\n",
              "       [0, 0, 0, 0, 0, 1, 0, 0, 0, 0, 0, 0, 0, 0, 0],\n",
              "       [1, 0, 0, 0, 0, 0, 0, 0, 1, 0, 1, 0, 0, 0, 1],\n",
              "       [0, 1, 0, 1, 0, 0, 1, 0, 0, 0, 0, 0, 0, 0, 1],\n",
              "       [0, 0, 0, 0, 1, 0, 0, 1, 0, 0, 0, 0, 0, 0, 0],\n",
              "       [0, 0, 1, 0, 0, 0, 0, 0, 0, 1, 0, 0, 0, 1, 0]])"
            ]
          },
          "metadata": {},
          "execution_count": 29
        }
      ]
    },
    {
      "cell_type": "code",
      "source": [
        "# View the features.\n",
        "features = vectorizer.get_feature_names_out()\n",
        "print(features)"
      ],
      "metadata": {
        "id": "nF_JaSwRnsPZ",
        "outputId": "7662e34b-417c-40a3-9bd4-1c325a32fd6d",
        "colab": {
          "base_uri": "https://localhost:8080/"
        }
      },
      "execution_count": 30,
      "outputs": [
        {
          "output_type": "stream",
          "name": "stdout",
          "text": [
            "['announcing' 'awesome' 'economic' 'example' 'excited' 'food' 'learning'\n",
            " 'movie' 'new' 'reverse' 'samsung' 'severe' 'simply' 'slowdown'\n",
            " 'technology']\n"
          ]
        }
      ]
    },
    {
      "cell_type": "markdown",
      "source": [
        "### 1.2. Apply the LDA:\n"
      ],
      "metadata": {
        "id": "d7kTZewcoDlh"
      }
    },
    {
      "cell_type": "code",
      "source": [
        "# Get the topics.\n",
        "n_topics = 4\n",
        "lda = LatentDirichletAllocation(n_components=n_topics, random_state=123)\n",
        "my_docs_topic = lda.fit_transform(X)"
      ],
      "metadata": {
        "id": "JaoD-FgFoE0s"
      },
      "execution_count": 31,
      "outputs": []
    },
    {
      "cell_type": "code",
      "source": [
        "# row = document, column = topic.\n",
        "my_docs_topic"
      ],
      "metadata": {
        "id": "B3uKEm-ZoMRk",
        "outputId": "f16d2f57-24d3-4367-998a-428b2bd2b6d1",
        "colab": {
          "base_uri": "https://localhost:8080/"
        }
      },
      "execution_count": 32,
      "outputs": [
        {
          "output_type": "execute_result",
          "data": {
            "text/plain": [
              "array([[0.80515032, 0.06273478, 0.06255696, 0.06955794],\n",
              "       [0.06455228, 0.06274657, 0.81007434, 0.06262681],\n",
              "       [0.12522103, 0.12571681, 0.62369815, 0.12536402],\n",
              "       [0.05117543, 0.05023664, 0.84846627, 0.05012166],\n",
              "       [0.84833626, 0.05018186, 0.05138822, 0.05009367],\n",
              "       [0.08342836, 0.08363634, 0.74944622, 0.08348908],\n",
              "       [0.06434067, 0.06264053, 0.06253428, 0.81048452]])"
            ]
          },
          "metadata": {},
          "execution_count": 32
        }
      ]
    },
    {
      "cell_type": "code",
      "source": [
        "# Sum along the row has to give 1.\n",
        "my_docs_topic.sum(axis=1)"
      ],
      "metadata": {
        "id": "R-25W2xFoXAC",
        "outputId": "09f60beb-9535-447b-912c-4dc36ec0fef7",
        "colab": {
          "base_uri": "https://localhost:8080/"
        }
      },
      "execution_count": 33,
      "outputs": [
        {
          "output_type": "execute_result",
          "data": {
            "text/plain": [
              "array([1., 1., 1., 1., 1., 1., 1.])"
            ]
          },
          "metadata": {},
          "execution_count": 33
        }
      ]
    },
    {
      "cell_type": "markdown",
      "source": [
        "### 1.3. From each topic, extract the top features:\n"
      ],
      "metadata": {
        "id": "YwvjFR-kodo9"
      }
    },
    {
      "cell_type": "code",
      "source": [
        "topic_composition = lda.components_\n",
        "topic_composition.shape     # row = topic, column = feature (word)."
      ],
      "metadata": {
        "id": "uV8zLm8hobGE",
        "outputId": "526e6859-5b98-4962-a619-d1281ade158b",
        "colab": {
          "base_uri": "https://localhost:8080/"
        }
      },
      "execution_count": 34,
      "outputs": [
        {
          "output_type": "execute_result",
          "data": {
            "text/plain": [
              "(4, 15)"
            ]
          },
          "metadata": {},
          "execution_count": 34
        }
      ]
    },
    {
      "cell_type": "code",
      "source": [
        "n_top = 3\n",
        "for i in range(n_topics):\n",
        "    topic_features = [features[idx] for idx in np.argsort(-topic_composition[i,:])]   # argsort() shows the sorted index.\n",
        "    topic_features_top = topic_features[0:n_top]\n",
        "    if i == 0:\n",
        "        topic_matrix = [topic_features_top]                    # list의 list 만들 준비!\n",
        "    else:\n",
        "        topic_matrix.append(topic_features_top)"
      ],
      "metadata": {
        "id": "Zb1oBWlxoqls"
      },
      "execution_count": 35,
      "outputs": []
    },
    {
      "cell_type": "code",
      "source": [
        "# Show the top features for each topic.\n",
        "topic_matrix"
      ],
      "metadata": {
        "id": "EDprkP3Zouvq",
        "outputId": "7a408827-29aa-42a7-c470-decd2c73196d",
        "colab": {
          "base_uri": "https://localhost:8080/"
        }
      },
      "execution_count": 36,
      "outputs": [
        {
          "output_type": "execute_result",
          "data": {
            "text/plain": [
              "[['awesome', 'technology', 'example'],\n",
              " ['food', 'awesome', 'excited'],\n",
              " ['movie', 'announcing', 'new'],\n",
              " ['economic', 'slowdown', 'reverse']]"
            ]
          },
          "metadata": {},
          "execution_count": 36
        }
      ]
    },
    {
      "cell_type": "code",
      "source": [
        "# In view of the top features, we can name the topics.\n",
        "topic_names = ['Technology', 'Cuisine', 'Movie','Economy']"
      ],
      "metadata": {
        "id": "_9nng1IBo_wB"
      },
      "execution_count": 37,
      "outputs": []
    },
    {
      "cell_type": "markdown",
      "source": [
        "### 1.4. Label each document with the most predominant topic:\n"
      ],
      "metadata": {
        "id": "916aJnNzpFcr"
      }
    },
    {
      "cell_type": "code",
      "source": [
        "# The most probable topic is given directly by the LDA output.\n",
        "n_docs = len(my_docs)\n",
        "for i in range(n_docs):\n",
        "    topic_pick = np.argmax(my_docs_topic[i,:])\n",
        "    print(\"Document \" + str(i+1) + \" = \" + topic_names[topic_pick])"
      ],
      "metadata": {
        "id": "LO3P0Q3spDm8",
        "outputId": "305db485-f6c1-43ef-f0df-089da29b6972",
        "colab": {
          "base_uri": "https://localhost:8080/"
        }
      },
      "execution_count": 38,
      "outputs": [
        {
          "output_type": "stream",
          "name": "stdout",
          "text": [
            "Document 1 = Technology\n",
            "Document 2 = Movie\n",
            "Document 3 = Movie\n",
            "Document 4 = Movie\n",
            "Document 5 = Technology\n",
            "Document 6 = Movie\n",
            "Document 7 = Economy\n"
          ]
        }
      ]
    },
    {
      "cell_type": "code",
      "source": [
        "import pandas as pd\n",
        "import numpy as np\n",
        "import warnings\n",
        "import matplotlib.pyplot as plt\n",
        "from sklearn.model_selection import train_test_split\n",
        "from tensorflow.keras.datasets.reuters import load_data, get_word_index       # Reuters news data.\n",
        "from tensorflow.keras.models import Sequential\n",
        "from tensorflow.keras.layers import Dense, SimpleRNN, LSTM, Embedding\n",
        "from tensorflow.keras.utils import to_categorical\n",
        "from tensorflow.keras.preprocessing import sequence\n",
        "from tensorflow.keras.optimizers import Adam, RMSprop, SGD\n",
        "warnings.filterwarnings('ignore')                  # Turn the warnings off.\n",
        "%matplotlib inline"
      ],
      "metadata": {
        "id": "2BIjWZGo2CAR"
      },
      "execution_count": 56,
      "outputs": []
    },
    {
      "cell_type": "markdown",
      "source": [
        "#### Ejercicio de [link](https://github.com/davidlealo/sic_ai_2024/blob/main/005_pln/chapter_7/61.%20ex_0514.ipynb)"
      ],
      "metadata": {
        "id": "vz3t09Eo2QVX"
      }
    },
    {
      "cell_type": "code",
      "source": [
        "n_words = 1000                                        # Size of the vocabulary.\n",
        "(X_train, y_train), (X_test, y_test) = load_data(num_words = n_words, test_split = 0.3)\n",
        "n_train_size = X_train.shape[0]"
      ],
      "metadata": {
        "id": "G2IHO4lF2OR6"
      },
      "execution_count": 57,
      "outputs": []
    },
    {
      "cell_type": "code",
      "source": [
        "# Check for the shapes.\n",
        "print(\"-\"*50)\n",
        "print(\"Training data X shape: {}\".format(X_train.shape))\n",
        "print(\"Training data y shape: {}\".format(y_train.shape))\n",
        "print(\"-\"*50)\n",
        "print(\"Test data X shape: {}\".format(X_test.shape))\n",
        "print(\"Test data y shape: {}\".format(y_test.shape))\n",
        "print(\"-\"*50)"
      ],
      "metadata": {
        "id": "-RDNjH5X2biS",
        "outputId": "639fd5d9-1524-4d1d-8825-708a2dc80bc5",
        "colab": {
          "base_uri": "https://localhost:8080/"
        }
      },
      "execution_count": 58,
      "outputs": [
        {
          "output_type": "stream",
          "name": "stdout",
          "text": [
            "--------------------------------------------------\n",
            "Training data X shape: (7859,)\n",
            "Training data y shape: (7859,)\n",
            "--------------------------------------------------\n",
            "Test data X shape: (3369,)\n",
            "Test data y shape: (3369,)\n",
            "--------------------------------------------------\n"
          ]
        }
      ]
    },
    {
      "cell_type": "code",
      "source": [
        "# Number of unique values of y = Number of categories of the newswires.\n",
        "n_cat = pd.Series(y_train).nunique()\n",
        "n_cat"
      ],
      "metadata": {
        "id": "OrFofDeI2iNd",
        "outputId": "fc1fe834-8bd3-4bcc-f72f-1109936d0776",
        "colab": {
          "base_uri": "https://localhost:8080/"
        }
      },
      "execution_count": 59,
      "outputs": [
        {
          "output_type": "execute_result",
          "data": {
            "text/plain": [
              "46"
            ]
          },
          "metadata": {},
          "execution_count": 59
        }
      ]
    },
    {
      "cell_type": "code",
      "source": [
        "# Print out an observation (document) contained in X.\n",
        "# It is encoded as integers (indices).\n",
        "print(X_train[0])"
      ],
      "metadata": {
        "id": "Q_Ht_JGm23Xq",
        "outputId": "d2187d11-e8ed-4c57-ed8e-90c0fe622e7b",
        "colab": {
          "base_uri": "https://localhost:8080/"
        }
      },
      "execution_count": 60,
      "outputs": [
        {
          "output_type": "stream",
          "name": "stdout",
          "text": [
            "[1, 2, 2, 8, 43, 10, 447, 5, 25, 207, 270, 5, 2, 111, 16, 369, 186, 90, 67, 7, 89, 5, 19, 102, 6, 19, 124, 15, 90, 67, 84, 22, 482, 26, 7, 48, 4, 49, 8, 864, 39, 209, 154, 6, 151, 6, 83, 11, 15, 22, 155, 11, 15, 7, 48, 9, 2, 2, 504, 6, 258, 6, 272, 11, 15, 22, 134, 44, 11, 15, 16, 8, 197, 2, 90, 67, 52, 29, 209, 30, 32, 132, 6, 109, 15, 17, 12]\n"
          ]
        }
      ]
    },
    {
      "cell_type": "code",
      "source": [
        "# Let's check for length of the first 100 documents.\n",
        "# We notice that the length is not uniform.\n",
        "print([len(a) for a in X_train[0:100]])"
      ],
      "metadata": {
        "id": "asf0v51Q3Qe-",
        "outputId": "f8c92ec9-6aae-4b99-a7d9-19688e1a35c0",
        "colab": {
          "base_uri": "https://localhost:8080/"
        }
      },
      "execution_count": 61,
      "outputs": [
        {
          "output_type": "stream",
          "name": "stdout",
          "text": [
            "[87, 56, 139, 224, 101, 116, 100, 100, 82, 106, 31, 59, 65, 316, 527, 76, 114, 17, 91, 77, 231, 108, 83, 29, 95, 110, 23, 373, 114, 354, 133, 222, 571, 155, 83, 208, 170, 269, 74, 19, 23, 78, 21, 377, 104, 299, 89, 56, 94, 139, 118, 36, 137, 107, 83, 66, 70, 112, 88, 51, 83, 123, 17, 185, 84, 52, 102, 73, 106, 486, 107, 82, 263, 172, 491, 190, 143, 62, 26, 88, 114, 38, 85, 112, 793, 104, 25, 21, 101, 28, 25, 81, 135, 73, 62, 18, 90, 266, 91, 64]\n"
          ]
        }
      ]
    },
    {
      "cell_type": "code",
      "source": [
        "# Download the dictionary to translate the indices.\n",
        "my_dict = get_word_index(path='reuters_word_index.json')"
      ],
      "metadata": {
        "id": "_AlbR9c_3b7-"
      },
      "execution_count": 62,
      "outputs": []
    },
    {
      "cell_type": "code",
      "source": [
        "my_dict"
      ],
      "metadata": {
        "collapsed": true,
        "id": "OhVuWic73j_l",
        "outputId": "44d51fcd-dbbb-4a0e-c5ec-5aeeb362a874",
        "colab": {
          "base_uri": "https://localhost:8080/"
        }
      },
      "execution_count": 63,
      "outputs": [
        {
          "output_type": "execute_result",
          "data": {
            "text/plain": [
              "{'mdbl': 10996,\n",
              " 'fawc': 16260,\n",
              " 'degussa': 12089,\n",
              " 'woods': 8803,\n",
              " 'hanging': 13796,\n",
              " 'localized': 20672,\n",
              " 'sation': 20673,\n",
              " 'chanthaburi': 20675,\n",
              " 'refunding': 10997,\n",
              " 'hermann': 8804,\n",
              " 'passsengers': 20676,\n",
              " 'stipulate': 20677,\n",
              " 'heublein': 8352,\n",
              " 'screaming': 20713,\n",
              " 'tcby': 16261,\n",
              " 'four': 185,\n",
              " 'grains': 1642,\n",
              " 'broiler': 20680,\n",
              " 'wooden': 12090,\n",
              " 'wednesday': 1220,\n",
              " 'highveld': 13797,\n",
              " 'duffour': 7593,\n",
              " '0053': 20681,\n",
              " 'elections': 3914,\n",
              " '270': 2563,\n",
              " '271': 3551,\n",
              " '272': 5113,\n",
              " '273': 3552,\n",
              " '274': 3400,\n",
              " 'rudman': 7975,\n",
              " '276': 3401,\n",
              " '277': 3478,\n",
              " '278': 3632,\n",
              " '279': 4309,\n",
              " 'dormancy': 9381,\n",
              " 'errors': 7247,\n",
              " 'deferred': 3086,\n",
              " 'sptnd': 20683,\n",
              " 'cooking': 8805,\n",
              " 'stratabit': 20684,\n",
              " 'designing': 16262,\n",
              " 'metalurgicos': 20685,\n",
              " 'databank': 13798,\n",
              " '300er': 20686,\n",
              " 'shocks': 20687,\n",
              " 'nawg': 7972,\n",
              " 'tnta': 20688,\n",
              " 'perforations': 20689,\n",
              " 'affiliates': 2891,\n",
              " '27p': 20690,\n",
              " 'ching': 16263,\n",
              " 'china': 595,\n",
              " 'wagyu': 16264,\n",
              " 'affiliated': 3189,\n",
              " 'chino': 16265,\n",
              " 'chinh': 16266,\n",
              " 'slickline': 20692,\n",
              " 'doldrums': 13799,\n",
              " 'kids': 12092,\n",
              " 'climbed': 3028,\n",
              " 'controversy': 6693,\n",
              " 'kidd': 20693,\n",
              " 'spotty': 12093,\n",
              " 'rebel': 12639,\n",
              " 'millimetres': 9382,\n",
              " 'golden': 4007,\n",
              " 'projection': 5689,\n",
              " 'stern': 12094,\n",
              " \"hudson's\": 7903,\n",
              " 'dna': 10066,\n",
              " 'dnc': 20695,\n",
              " 'hodler': 20696,\n",
              " 'lme': 2394,\n",
              " 'insolvancy': 20697,\n",
              " 'music': 13800,\n",
              " 'therefore': 1984,\n",
              " 'dns': 10998,\n",
              " 'distortions': 6959,\n",
              " 'thassos': 13801,\n",
              " 'populations': 20698,\n",
              " 'meteorologist': 8806,\n",
              " 'loss': 43,\n",
              " 'exco': 9383,\n",
              " 'adventist': 20813,\n",
              " 'murchison': 16267,\n",
              " 'locked': 10999,\n",
              " 'kampala': 13802,\n",
              " 'arndt': 20699,\n",
              " 'nakasone': 1267,\n",
              " 'steinweg': 20700,\n",
              " \"india's\": 3633,\n",
              " 'wang': 3029,\n",
              " 'wane': 10067,\n",
              " 'unjust': 13803,\n",
              " 'titanium': 13804,\n",
              " 'want': 850,\n",
              " 'pinto': 20701,\n",
              " \"institutes'\": 16268,\n",
              " 'absolute': 7973,\n",
              " 'travel': 4677,\n",
              " 'cutback': 6422,\n",
              " 'nazmi': 16269,\n",
              " 'modest': 1858,\n",
              " 'shopwell': 16270,\n",
              " 'sedi': 20702,\n",
              " 'adoped': 20703,\n",
              " 'tulis': 16271,\n",
              " '18th': 20704,\n",
              " \"wmc's\": 20705,\n",
              " 'menlo': 20706,\n",
              " 'reiners': 11000,\n",
              " 'farmlands': 12095,\n",
              " 'nonsensical': 20707,\n",
              " 'elisra': 20708,\n",
              " 'welcomed': 2461,\n",
              " 'peup': 20709,\n",
              " \"holiday's\": 16272,\n",
              " 'activating': 20711,\n",
              " 'avondale': 16273,\n",
              " 'interational': 16274,\n",
              " 'welcomes': 20712,\n",
              " 'fip': 16275,\n",
              " 'tailings': 11001,\n",
              " 'fit': 4205,\n",
              " 'lifeline': 16276,\n",
              " 'bringing': 1916,\n",
              " 'fix': 4819,\n",
              " '624': 6164,\n",
              " 'naturalite': 12096,\n",
              " 'wales': 6165,\n",
              " 'fin': 8807,\n",
              " 'fio': 11129,\n",
              " 'ceremenony': 20714,\n",
              " 'sovr': 20715,\n",
              " \"yeo's\": 20716,\n",
              " 'effects': 1788,\n",
              " 'sixteen': 13805,\n",
              " 'undeveloped': 8808,\n",
              " 'glutted': 13806,\n",
              " 'barton': 20717,\n",
              " 'froday': 20718,\n",
              " 'arrow': 10089,\n",
              " 'stabilises': 11002,\n",
              " 'allan': 6960,\n",
              " '374p': 20719,\n",
              " '393': 3891,\n",
              " '392': 4008,\n",
              " '391': 4206,\n",
              " '390': 3079,\n",
              " '397': 4550,\n",
              " '396': 6166,\n",
              " '395': 6423,\n",
              " '394': 4207,\n",
              " '399': 6961,\n",
              " '398': 4208,\n",
              " 'stabilised': 7595,\n",
              " 'smelters': 5114,\n",
              " 'oprah': 20720,\n",
              " 'orginially': 20721,\n",
              " \"tvx's\": 20722,\n",
              " 'ponomarev': 16278,\n",
              " 'enviroment': 20723,\n",
              " \"reeves'\": 20724,\n",
              " 'mason': 8363,\n",
              " 'encourage': 1670,\n",
              " 'adapt': 7596,\n",
              " 'abbott': 12776,\n",
              " 'stamping': 13808,\n",
              " 'colquiri': 20726,\n",
              " 'ambrit': 11003,\n",
              " 'strata': 8353,\n",
              " 'corrects': 4821,\n",
              " 'sandra': 11922,\n",
              " 'estimate': 859,\n",
              " 'universally': 20727,\n",
              " 'chlorine': 20728,\n",
              " 'competes': 16279,\n",
              " 'leiner': 10068,\n",
              " 'ministries': 8809,\n",
              " 'disturbed': 8810,\n",
              " 'competed': 13809,\n",
              " 'juergen': 8811,\n",
              " 'kfw': 13810,\n",
              " 'turben': 11004,\n",
              " 'reintroduced': 9384,\n",
              " 'maladies': 20729,\n",
              " 'chevron': 4101,\n",
              " 'lazere': 16280,\n",
              " 'antilles': 8812,\n",
              " 'dti': 11907,\n",
              " 'specially': 9070,\n",
              " 'bilzerian': 4678,\n",
              " 'bakelite': 13811,\n",
              " 'renovated': 20730,\n",
              " 'service': 568,\n",
              " 'payless': 16281,\n",
              " 'spiegler': 20731,\n",
              " 'needed': 831,\n",
              " 'wigglesworth': 16282,\n",
              " 'master': 6962,\n",
              " 'antonson': 13812,\n",
              " 'genesis': 20732,\n",
              " 'vismara': 13813,\n",
              " 'organically': 20734,\n",
              " \"accords'\": 20735,\n",
              " 'task': 5940,\n",
              " 'positively': 7974,\n",
              " 'feasibility': 3479,\n",
              " 'ahmed': 6963,\n",
              " \"suralco's\": 13814,\n",
              " 'awacs': 20736,\n",
              " 'idly': 16283,\n",
              " 'regulator': 20737,\n",
              " 'pseudorabies': 12097,\n",
              " 'staubli': 16284,\n",
              " 'nzi': 8813,\n",
              " 'feeling': 5115,\n",
              " '275': 3127,\n",
              " '6819': 20738,\n",
              " 'gorman': 16285,\n",
              " 'sustaining': 8354,\n",
              " 'spectrum': 9385,\n",
              " 'consenting': 20739,\n",
              " 'recapitalized': 12098,\n",
              " 'sailed': 11562,\n",
              " 'dozen': 7597,\n",
              " 'affairs': 1985,\n",
              " 'courier': 2253,\n",
              " 'kremlin': 8355,\n",
              " 'shipments': 895,\n",
              " \"aquino's\": 16286,\n",
              " 'committing': 10070,\n",
              " 'sugarcane': 5293,\n",
              " 'diminishing': 9386,\n",
              " 'vexing': 16287,\n",
              " 'simplify': 11005,\n",
              " 'mouth': 6167,\n",
              " 'steinhardt': 7248,\n",
              " 'conceded': 8814,\n",
              " 'bradford': 9387,\n",
              " 'singer': 7976,\n",
              " '5602': 20740,\n",
              " \"1987's\": 13816,\n",
              " 'tech': 4950,\n",
              " 'teck': 6424,\n",
              " 'majv': 20741,\n",
              " 'saying': 666,\n",
              " 'dickey': 16477,\n",
              " 'sweetner': 20742,\n",
              " 'teresa': 21149,\n",
              " 'ulcer': 20743,\n",
              " 'cheaply': 13817,\n",
              " 'thai': 2361,\n",
              " 'orleans': 6964,\n",
              " 'excavator': 16290,\n",
              " 'rico': 6168,\n",
              " 'lube': 12099,\n",
              " 'rick': 13818,\n",
              " 'rich': 4679,\n",
              " 'kerna': 13819,\n",
              " 'rice': 950,\n",
              " 'rica': 4209,\n",
              " 'plate': 5503,\n",
              " 'platt': 16291,\n",
              " 'altogether': 8356,\n",
              " 'jaguar': 8815,\n",
              " 'dynair': 20744,\n",
              " 'patch': 8816,\n",
              " 'ldp': 2892,\n",
              " 'boarded': 13820,\n",
              " 'precluding': 16292,\n",
              " 'clarified': 11006,\n",
              " 'sensitivity': 16293,\n",
              " 'alternative': 1511,\n",
              " 'clarifies': 11007,\n",
              " 'lots': 5116,\n",
              " 'irs': 7598,\n",
              " 'irv': 20745,\n",
              " 'iri': 13821,\n",
              " 'ira': 13822,\n",
              " 'timber': 5690,\n",
              " 'ire': 20746,\n",
              " 'discipline': 5219,\n",
              " 'extend': 1937,\n",
              " 'nature': 3634,\n",
              " \"amb's\": 16295,\n",
              " 'dunhill': 16296,\n",
              " 'extent': 2142,\n",
              " 'restrcitions': 20747,\n",
              " 'heating': 2396,\n",
              " \"mannesmann's\": 11008,\n",
              " 'outsanding': 20748,\n",
              " 'multimillions': 20749,\n",
              " 'sarcinelli': 13824,\n",
              " 'southeastern': 6694,\n",
              " 'eradicate': 10071,\n",
              " 'libyan': 9388,\n",
              " 'foreclosing': 20750,\n",
              " 'maclaine': 12101,\n",
              " 'fra': 20751,\n",
              " 'union': 353,\n",
              " 'frn': 11009,\n",
              " 'much': 386,\n",
              " 'fry': 12102,\n",
              " 'mothball': 20752,\n",
              " 'chlorazepate': 10072,\n",
              " 'dxns': 12103,\n",
              " 'toyko': 19981,\n",
              " 'spit': 20753,\n",
              " '007050': 16297,\n",
              " 'freehold': 16298,\n",
              " 'davy': 13825,\n",
              " 'dave': 11010,\n",
              " 'spie': 12177,\n",
              " 'aguayo': 10117,\n",
              " 'wildcat': 12104,\n",
              " 'fecs': 10069,\n",
              " 'kennan': 20754,\n",
              " 'intal': 16299,\n",
              " 'contingencies': 9389,\n",
              " 'professionally': 16551,\n",
              " 'microbiological': 16300,\n",
              " 'misconstrued': 20756,\n",
              " 'k': 409,\n",
              " 'securitiesd': 20757,\n",
              " 'deferring': 16301,\n",
              " 'kohl': 5941,\n",
              " 'conditioned': 3030,\n",
              " 'fnhb': 20758,\n",
              " \"october's\": 16302,\n",
              " 'memorial': 13954,\n",
              " 'democracies': 6965,\n",
              " 'conformed': 27520,\n",
              " 'split': 464,\n",
              " \"bond's\": 12105,\n",
              " 'thinly': 11112,\n",
              " 'dunkirk': 16515,\n",
              " 'cavanaugh': 16303,\n",
              " \"securities'\": 13827,\n",
              " 'marches': 21345,\n",
              " 'issam': 16304,\n",
              " 'workforce': 2020,\n",
              " 'meinert': 12106,\n",
              " 'boiler': 13828,\n",
              " \"bp's\": 5294,\n",
              " 'torpedoed': 16305,\n",
              " 'indidate': 20762,\n",
              " 'downwardly': 13829,\n",
              " 'viviez': 20763,\n",
              " 'vladiminovich': 20764,\n",
              " 'academic': 16306,\n",
              " 'architecural': 20765,\n",
              " 'corporate': 1117,\n",
              " 'appropriately': 16307,\n",
              " 'teicc': 20766,\n",
              " \"hanover's\": 20767,\n",
              " 'aristech': 8817,\n",
              " 'portrayed': 20768,\n",
              " 'raffineries': 21383,\n",
              " 'hai': 20770,\n",
              " 'hal': 7599,\n",
              " 'ham': 13830,\n",
              " 'han': 10073,\n",
              " 'e15b': 20771,\n",
              " 'had': 61,\n",
              " 'hay': 20772,\n",
              " 'botchwey': 13831,\n",
              " 'haq': 10074,\n",
              " 'has': 37,\n",
              " 'hat': 13832,\n",
              " 'hav': 20773,\n",
              " 'fortin': 20774,\n",
              " 'municipal': 8818,\n",
              " 'osman': 20775,\n",
              " 'fsical': 20776,\n",
              " 'elders': 3480,\n",
              " 'survival': 12107,\n",
              " 'unequivocally': 16308,\n",
              " 'objective': 2519,\n",
              " 'indicative': 6695,\n",
              " 'shadow': 10075,\n",
              " 'riskiness': 21411,\n",
              " 'positiive': 20778,\n",
              " \"american's\": 10076,\n",
              " 'alick': 16309,\n",
              " 'harima': 16310,\n",
              " 'alice': 12108,\n",
              " 'altschul': 20779,\n",
              " 'festivities': 16311,\n",
              " 'medecines': 20780,\n",
              " 'beneficial': 2942,\n",
              " 'yoweri': 12109,\n",
              " 'crowd': 13833,\n",
              " 'crowe': 9390,\n",
              " 'crown': 3553,\n",
              " 'topping': 13679,\n",
              " 'captive': 8819,\n",
              " 'billboard': 12110,\n",
              " 'fiduciary': 6169,\n",
              " 'bottom': 3402,\n",
              " 'plucked': 20782,\n",
              " 'locksmithing': 20783,\n",
              " 'ecopetrol': 9391,\n",
              " 'pipestone': 24018,\n",
              " \"growers'\": 5505,\n",
              " 'borrows': 20785,\n",
              " 'eduard': 16312,\n",
              " 'venpres': 13834,\n",
              " 'bamboo': 16313,\n",
              " 'foolish': 13835,\n",
              " 'uruguyan': 20786,\n",
              " 'officeholders': 20787,\n",
              " 'economiques': 20788,\n",
              " 'aden': 16314,\n",
              " 'maxwell': 4822,\n",
              " 'marshall': 4680,\n",
              " 'honeymoon': 16315,\n",
              " 'administer': 16316,\n",
              " 'shoots': 20790,\n",
              " 'rubbertech': 16317,\n",
              " 'johsen': 16318,\n",
              " 'reciprocity': 10077,\n",
              " 'fabric': 13836,\n",
              " 'suffice': 20791,\n",
              " 'spokemsan': 20792,\n",
              " \"sonora's\": 20793,\n",
              " '5865': 16319,\n",
              " \"systems'\": 16320,\n",
              " 'perfumes': 20794,\n",
              " 'halycon': 20795,\n",
              " 'nonvoting': 20796,\n",
              " 'safeguard': 7250,\n",
              " 'sawdust': 21538,\n",
              " \"else's\": 20797,\n",
              " 'arrays': 13837,\n",
              " 'aza': 20798,\n",
              " 'smasher': 20799,\n",
              " 'complications': 12111,\n",
              " 'pesos': 1813,\n",
              " 'relabelling': 20800,\n",
              " 'passenger': 3722,\n",
              " \"avon's\": 12112,\n",
              " 'megahertz': 20801,\n",
              " 'mirror': 10683,\n",
              " 'minas': 8357,\n",
              " 'bourdain': 16322,\n",
              " 'crownx': 20802,\n",
              " 'eventual': 6425,\n",
              " 'crowns': 1207,\n",
              " 'role': 1369,\n",
              " 'obliges': 20803,\n",
              " 'rolf': 16323,\n",
              " 'vegetative': 13838,\n",
              " 'rolm': 20804,\n",
              " 'roll': 4419,\n",
              " 'intend': 2463,\n",
              " 'palms': 16324,\n",
              " 'denys': 19255,\n",
              " 'transported': 13839,\n",
              " 'moresby': 20805,\n",
              " 'devon': 16325,\n",
              " 'intent': 1351,\n",
              " \"camco's\": 20806,\n",
              " 'variable': 5942,\n",
              " 'transporter': 20807,\n",
              " 'danske': 16326,\n",
              " 'friedhelm': 13840,\n",
              " 'hawker': 8358,\n",
              " \"sand's\": 17774,\n",
              " 'preseving': 20808,\n",
              " '80386': 12113,\n",
              " 'bnls': 16328,\n",
              " 'ordination': 19984,\n",
              " 'overturned': 11011,\n",
              " 'erred': 16329,\n",
              " 'cincinnati': 6696,\n",
              " 'corps': 16710,\n",
              " 'whoever': 20809,\n",
              " 'osp': 16330,\n",
              " 'osr': 13841,\n",
              " 'ost': 12114,\n",
              " 'chair': 16331,\n",
              " '690': 5647,\n",
              " 'grapples': 20810,\n",
              " 'megawatts': 13842,\n",
              " 'photocopiers': 20811,\n",
              " 'sconninx': 20812,\n",
              " 'circumstances': 2274,\n",
              " 'oversight': 13843,\n",
              " \"paradyne's\": 20814,\n",
              " '691': 6363,\n",
              " 'paychecks': 20815,\n",
              " \"stadelmann's\": 13844,\n",
              " 'choice': 3241,\n",
              " 'vastagh': 11012,\n",
              " 'embark': 8820,\n",
              " 'gloomy': 9392,\n",
              " 'stays': 9393,\n",
              " 'exact': 4009,\n",
              " 'minute': 5117,\n",
              " 'kittiwake': 11892,\n",
              " 'picul': 20816,\n",
              " 'skewed': 20817,\n",
              " 'cooke': 11013,\n",
              " 'defaults': 10078,\n",
              " 'reimpose': 11014,\n",
              " 'hindered': 9394,\n",
              " 'lengthened': 20818,\n",
              " 'chopping': 16333,\n",
              " 'mckiernan': 13845,\n",
              " 'collaspe': 20819,\n",
              " 'corazon': 7251,\n",
              " 'antwerp': 7600,\n",
              " 'abdullah': 13846,\n",
              " 'goldston': 13847,\n",
              " '300': 442,\n",
              " 'cassa': 20821,\n",
              " 'casse': 20822,\n",
              " '695': 4081,\n",
              " 'ground': 2979,\n",
              " 'boost': 839,\n",
              " 'azusa': 16334,\n",
              " 'drafted': 9395,\n",
              " '303': 4823,\n",
              " 'climbs': 13848,\n",
              " 'honour': 7601,\n",
              " 'vanderbilt': 20823,\n",
              " '305': 3968,\n",
              " 'address': 3031,\n",
              " 'dwindling': 8821,\n",
              " 'benson': 7252,\n",
              " 'enroll': 12115,\n",
              " 'revenues': 501,\n",
              " 'impacted': 12116,\n",
              " 'queue': 20826,\n",
              " 'accomplished': 10079,\n",
              " 'throughput': 7602,\n",
              " 'influx': 9396,\n",
              " 'stockbuilding': 10080,\n",
              " 'aproximates': 20827,\n",
              " 'petroleo': 13849,\n",
              " 'sistemas': 16335,\n",
              " 'feretti': 14053,\n",
              " 'opposes': 5943,\n",
              " 'working': 882,\n",
              " 'perished': 20829,\n",
              " 'oldham': 13850,\n",
              " '27000': 20830,\n",
              " 'optimize': 19245,\n",
              " 'vigour': 20832,\n",
              " 'opposed': 1580,\n",
              " 'liberalizing': 16336,\n",
              " 'wvz': 20833,\n",
              " 'dampness': 20834,\n",
              " 'approving': 13851,\n",
              " 'sierra': 13496,\n",
              " 'entrepot': 20835,\n",
              " 'currency': 224,\n",
              " 'originally': 1499,\n",
              " 'tindemans': 20837,\n",
              " 'valorem': 16337,\n",
              " 'following': 477,\n",
              " 'fossen': 20838,\n",
              " 'locke': 11016,\n",
              " 'employess': 20839,\n",
              " 'rotberg': 12117,\n",
              " 'parachute': 16338,\n",
              " 'locks': 11017,\n",
              " 'incremental': 12255,\n",
              " 'woolowrth': 16339,\n",
              " 'listens': 20841,\n",
              " 'litre': 7253,\n",
              " 'edouard': 3554,\n",
              " 'ounce': 1377,\n",
              " 'nicanor': 20843,\n",
              " 'sucocitrico': 20844,\n",
              " 'minicomputers': 16340,\n",
              " \"silva's\": 16341,\n",
              " 'restitutions': 11018,\n",
              " 'custer': 16342,\n",
              " '3rd': 2590,\n",
              " 'fueled': 10081,\n",
              " 'trydahl': 20845,\n",
              " 'aice': 11019,\n",
              " 'harmon': 12118,\n",
              " 'conscious': 10082,\n",
              " 'herbicidesand': 20846,\n",
              " 'subdivisions': 20847,\n",
              " \"veslefrikk's\": 20848,\n",
              " 'swollen': 11020,\n",
              " 'pulled': 7978,\n",
              " 'tilney': 20849,\n",
              " 'years': 203,\n",
              " 'structuring': 20850,\n",
              " 'episodes': 20851,\n",
              " 'sportscene': 16343,\n",
              " \"northair's\": 16344,\n",
              " 'jig': 20852,\n",
              " 'jin': 20853,\n",
              " 'jim': 3403,\n",
              " 'troubles': 8359,\n",
              " 'workforces': 13852,\n",
              " 'suspension': 2362,\n",
              " 'troubled': 3892,\n",
              " 'fondiaria': 16345,\n",
              " 'modestly': 6697,\n",
              " 'recipients': 12119,\n",
              " 'civilian': 7979,\n",
              " 'indigenous': 13853,\n",
              " 'overpowering': 20854,\n",
              " 'drilling': 1051,\n",
              " 'sorted': 16346,\n",
              " 'lichtenstein': 16347,\n",
              " 'bedevil': 20855,\n",
              " 'dispite': 20856,\n",
              " 'battleships': 16843,\n",
              " 'instability': 4824,\n",
              " 'quarter': 95,\n",
              " 'salado': 20857,\n",
              " 'honduras': 5692,\n",
              " \"chevron's\": 13855,\n",
              " \"lazere's\": 12273,\n",
              " 'receipt': 2660,\n",
              " 'sponsor': 8360,\n",
              " 'entering': 4825,\n",
              " \"kcbt's\": 16349,\n",
              " 'nowicki': 19987,\n",
              " 'salads': 13856,\n",
              " 'augar': 16351,\n",
              " '797': 7980,\n",
              " '796': 7254,\n",
              " '795': 8361,\n",
              " '794': 5295,\n",
              " '793': 5118,\n",
              " '792': 6170,\n",
              " '791': 5296,\n",
              " '790': 4826,\n",
              " \"nikko's\": 20858,\n",
              " 'unsaleable': 20859,\n",
              " '799': 5720,\n",
              " '798': 5693,\n",
              " 'seriously': 2143,\n",
              " 'trauma': 16352,\n",
              " 'tvbh': 20860,\n",
              " 'macedon': 20861,\n",
              " 'disintegrated': 21906,\n",
              " 'adddition': 21909,\n",
              " 'incentives': 2244,\n",
              " 'complicated': 5944,\n",
              " 'reevaluating': 20864,\n",
              " 'thatching': 21921,\n",
              " 'brasil': 7981,\n",
              " '79p': 20865,\n",
              " 'wrong': 4951,\n",
              " 'initiate': 8822,\n",
              " 'aboard': 16353,\n",
              " 'saving': 7255,\n",
              " 'spoken': 8823,\n",
              " 'parkinson': 16364,\n",
              " 'one': 65,\n",
              " 'ont': 20867,\n",
              " 'concert': 7256,\n",
              " \"boston's\": 16354,\n",
              " 'stifled': 13859,\n",
              " 'types': 4622,\n",
              " 'lingering': 20868,\n",
              " 'surges': 16356,\n",
              " 'hurdman': 20869,\n",
              " 'herds': 16357,\n",
              " 'absorbs': 14114,\n",
              " 'surged': 4681,\n",
              " 'dalkon': 14211,\n",
              " 'crossroads': 13860,\n",
              " 'shakeup': 20870,\n",
              " 'disasterous': 20871,\n",
              " 'illness': 11021,\n",
              " 'turned': 3242,\n",
              " 'locations': 3801,\n",
              " 'tyranite': 12120,\n",
              " 'minesweepers': 13861,\n",
              " 'turner': 7257,\n",
              " 'borough': 20872,\n",
              " 'underlines': 12358,\n",
              " \"bancorporation's\": 20873,\n",
              " 'fashionable': 20874,\n",
              " \"ae's\": 20875,\n",
              " 'dilutions': 16358,\n",
              " 'goodman': 9472,\n",
              " 'unlawfully': 10510,\n",
              " 'mayer': 16359,\n",
              " 'printer': 16360,\n",
              " 'offload': 20877,\n",
              " 'opposite': 13862,\n",
              " 'buffer': 738,\n",
              " 'printed': 9398,\n",
              " 'pequiven': 16361,\n",
              " 'panoche': 13863,\n",
              " 'knowingly': 20878,\n",
              " 'ecusta': 16362,\n",
              " 'thsl': 20879,\n",
              " 'phil': 8825,\n",
              " 'jitters': 13864,\n",
              " 'touche': 16363,\n",
              " 'jittery': 20881,\n",
              " 'friction': 3291,\n",
              " 'fecal': 16365,\n",
              " 'resurgance': 22068,\n",
              " 'heeding': 20882,\n",
              " 'soviets': 2363,\n",
              " 'imagined': 16366,\n",
              " 'transact': 16367,\n",
              " 'califoirnia': 20883,\n",
              " \"chrysler's\": 9399,\n",
              " 'respecitvely': 16368,\n",
              " 'presse': 16369,\n",
              " 'euromarket': 10084,\n",
              " 'guarded': 12121,\n",
              " 'satisfacotry': 16371,\n",
              " 'authroization': 20884,\n",
              " 'simplistic': 20885,\n",
              " 'monde': 20886,\n",
              " 'awaiting': 4102,\n",
              " 'recombinant': 13865,\n",
              " 'refinancement': 20887,\n",
              " 'comserv': 20888,\n",
              " 'kitakyushu': 20889,\n",
              " 'pima': 16372,\n",
              " 'basle': 11022,\n",
              " '6250': 20891,\n",
              " 'choudhury': 16373,\n",
              " 'vision': 8826,\n",
              " 'interruptible': 20892,\n",
              " 'weatherford': 13866,\n",
              " '832': 7982,\n",
              " '833': 5694,\n",
              " '830': 4420,\n",
              " '831': 5119,\n",
              " '836': 5297,\n",
              " '837': 4553,\n",
              " '834': 6172,\n",
              " '835': 4952,\n",
              " 'alarming': 22144,\n",
              " '838': 5695,\n",
              " '839': 6173,\n",
              " '524p': 20893,\n",
              " 'sponsorship': 20894,\n",
              " 'vendex': 12122,\n",
              " \"amsouth's\": 20895,\n",
              " 'kilometer': 20896,\n",
              " 'enjoys': 10086,\n",
              " 'illiberal': 20897,\n",
              " 'punta': 6174,\n",
              " 'punte': 20898,\n",
              " 'girozentrale': 10087,\n",
              " 'missstatements': 20899,\n",
              " 'marietta': 10088,\n",
              " 'awards': 6175,\n",
              " 'concentrated': 3635,\n",
              " '83p': 20900,\n",
              " 'developpement': 13867,\n",
              " 'rhodes': 13868,\n",
              " 'matheson': 5696,\n",
              " '1720': 20901,\n",
              " 'paring': 20902,\n",
              " 's': 35,\n",
              " 'concentrates': 4953,\n",
              " \"can's\": 16374,\n",
              " 'polysaturated': 22183,\n",
              " 'parini': 20903,\n",
              " 'baden': 13869,\n",
              " 'bader': 20904,\n",
              " 'buoyancy': 12123,\n",
              " 'erdem': 20905,\n",
              " 'properites': 16375,\n",
              " 'comparitive': 20906,\n",
              " 'practises': 12124,\n",
              " 'collides': 20907,\n",
              " 'west': 189,\n",
              " 'wess': 20908,\n",
              " 'collided': 13870,\n",
              " 'practised': 20909,\n",
              " \"amalgamated's\": 20910,\n",
              " 'motives': 20911,\n",
              " 'wants': 1378,\n",
              " 'formed': 1273,\n",
              " 'readings': 20912,\n",
              " 'geothermal': 12125,\n",
              " 'tightened': 7315,\n",
              " \"d'or\": 11023,\n",
              " 'former': 1109,\n",
              " 'venezulean': 20913,\n",
              " 'curd': 19935,\n",
              " 'squeezes': 12126,\n",
              " 'newspaper': 1019,\n",
              " 'situation': 817,\n",
              " 'ivey': 13871,\n",
              " 'engaged': 3636,\n",
              " 'dubious': 13872,\n",
              " 'cayacq': 17061,\n",
              " 'cobol': 20916,\n",
              " 'limping': 20917,\n",
              " 'technology': 883,\n",
              " 'koerner': 20919,\n",
              " 'debilitating': 16376,\n",
              " 'verified': 7983,\n",
              " 'otto': 4010,\n",
              " '7770': 20920,\n",
              " 'emulsions': 16377,\n",
              " \"onic's\": 16378,\n",
              " 'slate': 9075,\n",
              " 'wires': 20921,\n",
              " 'edged': 5506,\n",
              " 'assigns': 20922,\n",
              " 'singapore': 1341,\n",
              " 'deflate': 20923,\n",
              " \"strategy's\": 20924,\n",
              " 'walesa': 16379,\n",
              " 'advertisement': 4554,\n",
              " 'luyten': 20925,\n",
              " 'shrortly': 20926,\n",
              " 'corpoartion': 20927,\n",
              " 'preferance': 22290,\n",
              " 'tracking': 16380,\n",
              " 'sunnyvale': 13874,\n",
              " 'colorants': 20928,\n",
              " 'persistently': 16381,\n",
              " \"officers'\": 16382,\n",
              " \"his's\": 20929,\n",
              " 'being': 367,\n",
              " 'divestitures': 7259,\n",
              " 'steamer': 20930,\n",
              " 'rover': 20931,\n",
              " 'grounded': 8362,\n",
              " \"businessmen's\": 16383,\n",
              " 'cyanidation': 16384,\n",
              " 'overthrow': 20932,\n",
              " 'partnerhip': 20933,\n",
              " 'sumt': 16385,\n",
              " 'sums': 8827,\n",
              " 'oelmuehle': 16386,\n",
              " 'unveil': 16387,\n",
              " 'gestures': 13875,\n",
              " 'penta': 20934,\n",
              " 'traffic': 2544,\n",
              " 'preference': 2428,\n",
              " 'sumi': 20935,\n",
              " 'world': 166,\n",
              " 'postal': 9400,\n",
              " 'bced': 16388,\n",
              " 'dornbush': 12128,\n",
              " 'confine': 14215,\n",
              " '2555': 20936,\n",
              " \"zambia's\": 5945,\n",
              " 'superiority': 20937,\n",
              " 'militate': 20938,\n",
              " 'satisfactory': 2395,\n",
              " 'superintendent': 20939,\n",
              " 'tvx': 5946,\n",
              " 'tvt': 16389,\n",
              " 'magma': 6698,\n",
              " 'diving': 20940,\n",
              " 'tvb': 15548,\n",
              " 'seaman': 13876,\n",
              " 'matsunaga': 11025,\n",
              " '919': 4827,\n",
              " '918': 5298,\n",
              " 'refundable': 17070,\n",
              " '914': 5947,\n",
              " '917': 7260,\n",
              " '916': 6699,\n",
              " '911': 5507,\n",
              " '910': 4828,\n",
              " 'restoring': 10213,\n",
              " '912': 4555,\n",
              " 'squabble': 20942,\n",
              " 'retains': 7261,\n",
              " \"partner's\": 20943,\n",
              " 'leadership': 5300,\n",
              " 'graaf': 11026,\n",
              " 'spacelab': 20944,\n",
              " 'thailand': 1800,\n",
              " 'graan': 9402,\n",
              " 'exasperating': 20945,\n",
              " 'hartmarx': 12129,\n",
              " 'frights': 16390,\n",
              " 'niall': 20946,\n",
              " 'johnston': 11027,\n",
              " '91p': 16391,\n",
              " 'sensitively': 16392,\n",
              " 'porsche': 6016,\n",
              " 'prepares': 15494,\n",
              " 'lively': 12130,\n",
              " 'stoppages': 10686,\n",
              " \"associated's\": 16394,\n",
              " 'pivot': 12131,\n",
              " 'series': 1037,\n",
              " 'sese': 24050,\n",
              " 'bubble': 7604,\n",
              " 'trusses': 16395,\n",
              " 'interestate': 20949,\n",
              " 'continents': 20950,\n",
              " 'societal': 20951,\n",
              " 'with': 28,\n",
              " 'pull': 6176,\n",
              " 'rush': 6700,\n",
              " 'monopoly': 6222,\n",
              " 'operationally': 20953,\n",
              " 'dirty': 20954,\n",
              " 'abuses': 10090,\n",
              " 'prudhoe': 7262,\n",
              " 'pulp': 5949,\n",
              " 'rust': 16396,\n",
              " 'hellman': 20955,\n",
              " 'amdec': 20956,\n",
              " 'australasian': 16397,\n",
              " 'watches': 13878,\n",
              " 'hypertension': 20957,\n",
              " \"hemdale's\": 20958,\n",
              " 'formulation': 16398,\n",
              " 'watched': 7605,\n",
              " 'jargon': 20959,\n",
              " 'cream': 13879,\n",
              " 'ideally': 9404,\n",
              " 'ryavec': 11028,\n",
              " 'microoganisms': 20960,\n",
              " 'indemnify': 13880,\n",
              " 'wincenty': 20961,\n",
              " 'waving': 20962,\n",
              " \"multifood's\": 20963,\n",
              " 'midges': 20964,\n",
              " 'natalie': 11029,\n",
              " 'crosbie': 13881,\n",
              " 'posible': 20965,\n",
              " 'omnibus': 13882,\n",
              " 'assetsof': 20966,\n",
              " 'tricks': 13883,\n",
              " 'rs': 16399,\n",
              " 'kilogram': 20967,\n",
              " 'pruning': 25363,\n",
              " 'dyer': 13884,\n",
              " 'dyes': 20968,\n",
              " 'legislatures': 20969,\n",
              " 'scm': 16400,\n",
              " 'sci': 9405,\n",
              " 'riedel': 20970,\n",
              " 'ceramic': 16401,\n",
              " 'unitholders': 6701,\n",
              " 'scb': 13885,\n",
              " 'dn11': 20971,\n",
              " 'conditionality': 20972,\n",
              " \"stock's\": 13807,\n",
              " 'masland': 20973,\n",
              " 'causes': 7606,\n",
              " 'riots': 10091,\n",
              " 'norf': 20974,\n",
              " 'nord': 9406,\n",
              " 'midwest': 3893,\n",
              " 'tamils': 13886,\n",
              " 'ofthe': 16402,\n",
              " \"colombia's\": 3421,\n",
              " '24th': 11030,\n",
              " 'sant': 20975,\n",
              " 'moines': 10092,\n",
              " 'electrotechnical': 22577,\n",
              " 'proceeded': 24534,\n",
              " 'sanz': 20976,\n",
              " 'insufficiently': 13887,\n",
              " 'sang': 20977,\n",
              " 'sand': 5950,\n",
              " 'bracho': 16404,\n",
              " 'small': 805,\n",
              " 'workloads': 20978,\n",
              " 'sank': 6702,\n",
              " 'kemper': 20979,\n",
              " 'abbreviated': 16405,\n",
              " 'quicker': 13888,\n",
              " '199': 3802,\n",
              " '198': 3243,\n",
              " '195': 2661,\n",
              " '194': 3080,\n",
              " '197': 4310,\n",
              " '196': 3894,\n",
              " '191': 2850,\n",
              " '190': 2199,\n",
              " '193': 3481,\n",
              " '192': 3350,\n",
              " 'past': 582,\n",
              " 'fractionation': 20980,\n",
              " 'displays': 20981,\n",
              " 'pass': 3081,\n",
              " 'investment': 202,\n",
              " 'quals': 27062,\n",
              " 'quicken': 16406,\n",
              " \"centronic's\": 20983,\n",
              " 'menswear': 20984,\n",
              " 'clock': 16407,\n",
              " 'teape': 20985,\n",
              " 'teapa': 20986,\n",
              " 'prevailed': 10093,\n",
              " 'hebei': 9407,\n",
              " ...}"
            ]
          },
          "metadata": {},
          "execution_count": 63
        }
      ]
    },
    {
      "cell_type": "code",
      "source": [
        "# Exchange the 'key' and 'value'.\n",
        "my_dict_inv = {v:k for k,v in my_dict.items()}"
      ],
      "metadata": {
        "id": "NWOlY5oT4UkG"
      },
      "execution_count": 64,
      "outputs": []
    },
    {
      "cell_type": "code",
      "source": [
        "my_dict_inv"
      ],
      "metadata": {
        "collapsed": true,
        "id": "o8x3EV2342Z5",
        "outputId": "78a59dba-8935-432e-f338-a7a0b78213ad",
        "colab": {
          "base_uri": "https://localhost:8080/"
        }
      },
      "execution_count": 65,
      "outputs": [
        {
          "output_type": "execute_result",
          "data": {
            "text/plain": [
              "{10996: 'mdbl',\n",
              " 16260: 'fawc',\n",
              " 12089: 'degussa',\n",
              " 8803: 'woods',\n",
              " 13796: 'hanging',\n",
              " 20672: 'localized',\n",
              " 20673: 'sation',\n",
              " 20675: 'chanthaburi',\n",
              " 10997: 'refunding',\n",
              " 8804: 'hermann',\n",
              " 20676: 'passsengers',\n",
              " 20677: 'stipulate',\n",
              " 8352: 'heublein',\n",
              " 20713: 'screaming',\n",
              " 16261: 'tcby',\n",
              " 185: 'four',\n",
              " 1642: 'grains',\n",
              " 20680: 'broiler',\n",
              " 12090: 'wooden',\n",
              " 1220: 'wednesday',\n",
              " 13797: 'highveld',\n",
              " 7593: 'duffour',\n",
              " 20681: '0053',\n",
              " 3914: 'elections',\n",
              " 2563: '270',\n",
              " 3551: '271',\n",
              " 5113: '272',\n",
              " 3552: '273',\n",
              " 3400: '274',\n",
              " 7975: 'rudman',\n",
              " 3401: '276',\n",
              " 3478: '277',\n",
              " 3632: '278',\n",
              " 4309: '279',\n",
              " 9381: 'dormancy',\n",
              " 7247: 'errors',\n",
              " 3086: 'deferred',\n",
              " 20683: 'sptnd',\n",
              " 8805: 'cooking',\n",
              " 20684: 'stratabit',\n",
              " 16262: 'designing',\n",
              " 20685: 'metalurgicos',\n",
              " 13798: 'databank',\n",
              " 20686: '300er',\n",
              " 20687: 'shocks',\n",
              " 7972: 'nawg',\n",
              " 20688: 'tnta',\n",
              " 20689: 'perforations',\n",
              " 2891: 'affiliates',\n",
              " 20690: '27p',\n",
              " 16263: 'ching',\n",
              " 595: 'china',\n",
              " 16264: 'wagyu',\n",
              " 3189: 'affiliated',\n",
              " 16265: 'chino',\n",
              " 16266: 'chinh',\n",
              " 20692: 'slickline',\n",
              " 13799: 'doldrums',\n",
              " 12092: 'kids',\n",
              " 3028: 'climbed',\n",
              " 6693: 'controversy',\n",
              " 20693: 'kidd',\n",
              " 12093: 'spotty',\n",
              " 12639: 'rebel',\n",
              " 9382: 'millimetres',\n",
              " 4007: 'golden',\n",
              " 5689: 'projection',\n",
              " 12094: 'stern',\n",
              " 7903: \"hudson's\",\n",
              " 10066: 'dna',\n",
              " 20695: 'dnc',\n",
              " 20696: 'hodler',\n",
              " 2394: 'lme',\n",
              " 20697: 'insolvancy',\n",
              " 13800: 'music',\n",
              " 1984: 'therefore',\n",
              " 10998: 'dns',\n",
              " 6959: 'distortions',\n",
              " 13801: 'thassos',\n",
              " 20698: 'populations',\n",
              " 8806: 'meteorologist',\n",
              " 43: 'loss',\n",
              " 9383: 'exco',\n",
              " 20813: 'adventist',\n",
              " 16267: 'murchison',\n",
              " 10999: 'locked',\n",
              " 13802: 'kampala',\n",
              " 20699: 'arndt',\n",
              " 1267: 'nakasone',\n",
              " 20700: 'steinweg',\n",
              " 3633: \"india's\",\n",
              " 3029: 'wang',\n",
              " 10067: 'wane',\n",
              " 13803: 'unjust',\n",
              " 13804: 'titanium',\n",
              " 850: 'want',\n",
              " 20701: 'pinto',\n",
              " 16268: \"institutes'\",\n",
              " 7973: 'absolute',\n",
              " 4677: 'travel',\n",
              " 6422: 'cutback',\n",
              " 16269: 'nazmi',\n",
              " 1858: 'modest',\n",
              " 16270: 'shopwell',\n",
              " 20702: 'sedi',\n",
              " 20703: 'adoped',\n",
              " 16271: 'tulis',\n",
              " 20704: '18th',\n",
              " 20705: \"wmc's\",\n",
              " 20706: 'menlo',\n",
              " 11000: 'reiners',\n",
              " 12095: 'farmlands',\n",
              " 20707: 'nonsensical',\n",
              " 20708: 'elisra',\n",
              " 2461: 'welcomed',\n",
              " 20709: 'peup',\n",
              " 16272: \"holiday's\",\n",
              " 20711: 'activating',\n",
              " 16273: 'avondale',\n",
              " 16274: 'interational',\n",
              " 20712: 'welcomes',\n",
              " 16275: 'fip',\n",
              " 11001: 'tailings',\n",
              " 4205: 'fit',\n",
              " 16276: 'lifeline',\n",
              " 1916: 'bringing',\n",
              " 4819: 'fix',\n",
              " 6164: '624',\n",
              " 12096: 'naturalite',\n",
              " 6165: 'wales',\n",
              " 8807: 'fin',\n",
              " 11129: 'fio',\n",
              " 20714: 'ceremenony',\n",
              " 20715: 'sovr',\n",
              " 20716: \"yeo's\",\n",
              " 1788: 'effects',\n",
              " 13805: 'sixteen',\n",
              " 8808: 'undeveloped',\n",
              " 13806: 'glutted',\n",
              " 20717: 'barton',\n",
              " 20718: 'froday',\n",
              " 10089: 'arrow',\n",
              " 11002: 'stabilises',\n",
              " 6960: 'allan',\n",
              " 20719: '374p',\n",
              " 3891: '393',\n",
              " 4008: '392',\n",
              " 4206: '391',\n",
              " 3079: '390',\n",
              " 4550: '397',\n",
              " 6166: '396',\n",
              " 6423: '395',\n",
              " 4207: '394',\n",
              " 6961: '399',\n",
              " 4208: '398',\n",
              " 7595: 'stabilised',\n",
              " 5114: 'smelters',\n",
              " 20720: 'oprah',\n",
              " 20721: 'orginially',\n",
              " 20722: \"tvx's\",\n",
              " 16278: 'ponomarev',\n",
              " 20723: 'enviroment',\n",
              " 20724: \"reeves'\",\n",
              " 8363: 'mason',\n",
              " 1670: 'encourage',\n",
              " 7596: 'adapt',\n",
              " 12776: 'abbott',\n",
              " 13808: 'stamping',\n",
              " 20726: 'colquiri',\n",
              " 11003: 'ambrit',\n",
              " 8353: 'strata',\n",
              " 4821: 'corrects',\n",
              " 11922: 'sandra',\n",
              " 859: 'estimate',\n",
              " 20727: 'universally',\n",
              " 20728: 'chlorine',\n",
              " 16279: 'competes',\n",
              " 10068: 'leiner',\n",
              " 8809: 'ministries',\n",
              " 8810: 'disturbed',\n",
              " 13809: 'competed',\n",
              " 8811: 'juergen',\n",
              " 13810: 'kfw',\n",
              " 11004: 'turben',\n",
              " 9384: 'reintroduced',\n",
              " 20729: 'maladies',\n",
              " 4101: 'chevron',\n",
              " 16280: 'lazere',\n",
              " 8812: 'antilles',\n",
              " 11907: 'dti',\n",
              " 9070: 'specially',\n",
              " 4678: 'bilzerian',\n",
              " 13811: 'bakelite',\n",
              " 20730: 'renovated',\n",
              " 568: 'service',\n",
              " 16281: 'payless',\n",
              " 20731: 'spiegler',\n",
              " 831: 'needed',\n",
              " 16282: 'wigglesworth',\n",
              " 6962: 'master',\n",
              " 13812: 'antonson',\n",
              " 20732: 'genesis',\n",
              " 13813: 'vismara',\n",
              " 20734: 'organically',\n",
              " 20735: \"accords'\",\n",
              " 5940: 'task',\n",
              " 7974: 'positively',\n",
              " 3479: 'feasibility',\n",
              " 6963: 'ahmed',\n",
              " 13814: \"suralco's\",\n",
              " 20736: 'awacs',\n",
              " 16283: 'idly',\n",
              " 20737: 'regulator',\n",
              " 12097: 'pseudorabies',\n",
              " 16284: 'staubli',\n",
              " 8813: 'nzi',\n",
              " 5115: 'feeling',\n",
              " 3127: '275',\n",
              " 20738: '6819',\n",
              " 16285: 'gorman',\n",
              " 8354: 'sustaining',\n",
              " 9385: 'spectrum',\n",
              " 20739: 'consenting',\n",
              " 12098: 'recapitalized',\n",
              " 11562: 'sailed',\n",
              " 7597: 'dozen',\n",
              " 1985: 'affairs',\n",
              " 2253: 'courier',\n",
              " 8355: 'kremlin',\n",
              " 895: 'shipments',\n",
              " 16286: \"aquino's\",\n",
              " 10070: 'committing',\n",
              " 5293: 'sugarcane',\n",
              " 9386: 'diminishing',\n",
              " 16287: 'vexing',\n",
              " 11005: 'simplify',\n",
              " 6167: 'mouth',\n",
              " 7248: 'steinhardt',\n",
              " 8814: 'conceded',\n",
              " 9387: 'bradford',\n",
              " 7976: 'singer',\n",
              " 20740: '5602',\n",
              " 13816: \"1987's\",\n",
              " 4950: 'tech',\n",
              " 6424: 'teck',\n",
              " 20741: 'majv',\n",
              " 666: 'saying',\n",
              " 16477: 'dickey',\n",
              " 20742: 'sweetner',\n",
              " 21149: 'teresa',\n",
              " 20743: 'ulcer',\n",
              " 13817: 'cheaply',\n",
              " 2361: 'thai',\n",
              " 6964: 'orleans',\n",
              " 16290: 'excavator',\n",
              " 6168: 'rico',\n",
              " 12099: 'lube',\n",
              " 13818: 'rick',\n",
              " 4679: 'rich',\n",
              " 13819: 'kerna',\n",
              " 950: 'rice',\n",
              " 4209: 'rica',\n",
              " 5503: 'plate',\n",
              " 16291: 'platt',\n",
              " 8356: 'altogether',\n",
              " 8815: 'jaguar',\n",
              " 20744: 'dynair',\n",
              " 8816: 'patch',\n",
              " 2892: 'ldp',\n",
              " 13820: 'boarded',\n",
              " 16292: 'precluding',\n",
              " 11006: 'clarified',\n",
              " 16293: 'sensitivity',\n",
              " 1511: 'alternative',\n",
              " 11007: 'clarifies',\n",
              " 5116: 'lots',\n",
              " 7598: 'irs',\n",
              " 20745: 'irv',\n",
              " 13821: 'iri',\n",
              " 13822: 'ira',\n",
              " 5690: 'timber',\n",
              " 20746: 'ire',\n",
              " 5219: 'discipline',\n",
              " 1937: 'extend',\n",
              " 3634: 'nature',\n",
              " 16295: \"amb's\",\n",
              " 16296: 'dunhill',\n",
              " 2142: 'extent',\n",
              " 20747: 'restrcitions',\n",
              " 2396: 'heating',\n",
              " 11008: \"mannesmann's\",\n",
              " 20748: 'outsanding',\n",
              " 20749: 'multimillions',\n",
              " 13824: 'sarcinelli',\n",
              " 6694: 'southeastern',\n",
              " 10071: 'eradicate',\n",
              " 9388: 'libyan',\n",
              " 20750: 'foreclosing',\n",
              " 12101: 'maclaine',\n",
              " 20751: 'fra',\n",
              " 353: 'union',\n",
              " 11009: 'frn',\n",
              " 386: 'much',\n",
              " 12102: 'fry',\n",
              " 20752: 'mothball',\n",
              " 10072: 'chlorazepate',\n",
              " 12103: 'dxns',\n",
              " 19981: 'toyko',\n",
              " 20753: 'spit',\n",
              " 16297: '007050',\n",
              " 16298: 'freehold',\n",
              " 13825: 'davy',\n",
              " 11010: 'dave',\n",
              " 12177: 'spie',\n",
              " 10117: 'aguayo',\n",
              " 12104: 'wildcat',\n",
              " 10069: 'fecs',\n",
              " 20754: 'kennan',\n",
              " 16299: 'intal',\n",
              " 9389: 'contingencies',\n",
              " 16551: 'professionally',\n",
              " 16300: 'microbiological',\n",
              " 20756: 'misconstrued',\n",
              " 409: 'k',\n",
              " 20757: 'securitiesd',\n",
              " 16301: 'deferring',\n",
              " 5941: 'kohl',\n",
              " 3030: 'conditioned',\n",
              " 20758: 'fnhb',\n",
              " 16302: \"october's\",\n",
              " 13954: 'memorial',\n",
              " 6965: 'democracies',\n",
              " 27520: 'conformed',\n",
              " 464: 'split',\n",
              " 12105: \"bond's\",\n",
              " 11112: 'thinly',\n",
              " 16515: 'dunkirk',\n",
              " 16303: 'cavanaugh',\n",
              " 13827: \"securities'\",\n",
              " 21345: 'marches',\n",
              " 16304: 'issam',\n",
              " 2020: 'workforce',\n",
              " 12106: 'meinert',\n",
              " 13828: 'boiler',\n",
              " 5294: \"bp's\",\n",
              " 16305: 'torpedoed',\n",
              " 20762: 'indidate',\n",
              " 13829: 'downwardly',\n",
              " 20763: 'viviez',\n",
              " 20764: 'vladiminovich',\n",
              " 16306: 'academic',\n",
              " 20765: 'architecural',\n",
              " 1117: 'corporate',\n",
              " 16307: 'appropriately',\n",
              " 20766: 'teicc',\n",
              " 20767: \"hanover's\",\n",
              " 8817: 'aristech',\n",
              " 20768: 'portrayed',\n",
              " 21383: 'raffineries',\n",
              " 20770: 'hai',\n",
              " 7599: 'hal',\n",
              " 13830: 'ham',\n",
              " 10073: 'han',\n",
              " 20771: 'e15b',\n",
              " 61: 'had',\n",
              " 20772: 'hay',\n",
              " 13831: 'botchwey',\n",
              " 10074: 'haq',\n",
              " 37: 'has',\n",
              " 13832: 'hat',\n",
              " 20773: 'hav',\n",
              " 20774: 'fortin',\n",
              " 8818: 'municipal',\n",
              " 20775: 'osman',\n",
              " 20776: 'fsical',\n",
              " 3480: 'elders',\n",
              " 12107: 'survival',\n",
              " 16308: 'unequivocally',\n",
              " 2519: 'objective',\n",
              " 6695: 'indicative',\n",
              " 10075: 'shadow',\n",
              " 21411: 'riskiness',\n",
              " 20778: 'positiive',\n",
              " 10076: \"american's\",\n",
              " 16309: 'alick',\n",
              " 16310: 'harima',\n",
              " 12108: 'alice',\n",
              " 20779: 'altschul',\n",
              " 16311: 'festivities',\n",
              " 20780: 'medecines',\n",
              " 2942: 'beneficial',\n",
              " 12109: 'yoweri',\n",
              " 13833: 'crowd',\n",
              " 9390: 'crowe',\n",
              " 3553: 'crown',\n",
              " 13679: 'topping',\n",
              " 8819: 'captive',\n",
              " 12110: 'billboard',\n",
              " 6169: 'fiduciary',\n",
              " 3402: 'bottom',\n",
              " 20782: 'plucked',\n",
              " 20783: 'locksmithing',\n",
              " 9391: 'ecopetrol',\n",
              " 24018: 'pipestone',\n",
              " 5505: \"growers'\",\n",
              " 20785: 'borrows',\n",
              " 16312: 'eduard',\n",
              " 13834: 'venpres',\n",
              " 16313: 'bamboo',\n",
              " 13835: 'foolish',\n",
              " 20786: 'uruguyan',\n",
              " 20787: 'officeholders',\n",
              " 20788: 'economiques',\n",
              " 16314: 'aden',\n",
              " 4822: 'maxwell',\n",
              " 4680: 'marshall',\n",
              " 16315: 'honeymoon',\n",
              " 16316: 'administer',\n",
              " 20790: 'shoots',\n",
              " 16317: 'rubbertech',\n",
              " 16318: 'johsen',\n",
              " 10077: 'reciprocity',\n",
              " 13836: 'fabric',\n",
              " 20791: 'suffice',\n",
              " 20792: 'spokemsan',\n",
              " 20793: \"sonora's\",\n",
              " 16319: '5865',\n",
              " 16320: \"systems'\",\n",
              " 20794: 'perfumes',\n",
              " 20795: 'halycon',\n",
              " 20796: 'nonvoting',\n",
              " 7250: 'safeguard',\n",
              " 21538: 'sawdust',\n",
              " 20797: \"else's\",\n",
              " 13837: 'arrays',\n",
              " 20798: 'aza',\n",
              " 20799: 'smasher',\n",
              " 12111: 'complications',\n",
              " 1813: 'pesos',\n",
              " 20800: 'relabelling',\n",
              " 3722: 'passenger',\n",
              " 12112: \"avon's\",\n",
              " 20801: 'megahertz',\n",
              " 10683: 'mirror',\n",
              " 8357: 'minas',\n",
              " 16322: 'bourdain',\n",
              " 20802: 'crownx',\n",
              " 6425: 'eventual',\n",
              " 1207: 'crowns',\n",
              " 1369: 'role',\n",
              " 20803: 'obliges',\n",
              " 16323: 'rolf',\n",
              " 13838: 'vegetative',\n",
              " 20804: 'rolm',\n",
              " 4419: 'roll',\n",
              " 2463: 'intend',\n",
              " 16324: 'palms',\n",
              " 19255: 'denys',\n",
              " 13839: 'transported',\n",
              " 20805: 'moresby',\n",
              " 16325: 'devon',\n",
              " 1351: 'intent',\n",
              " 20806: \"camco's\",\n",
              " 5942: 'variable',\n",
              " 20807: 'transporter',\n",
              " 16326: 'danske',\n",
              " 13840: 'friedhelm',\n",
              " 8358: 'hawker',\n",
              " 17774: \"sand's\",\n",
              " 20808: 'preseving',\n",
              " 12113: '80386',\n",
              " 16328: 'bnls',\n",
              " 19984: 'ordination',\n",
              " 11011: 'overturned',\n",
              " 16329: 'erred',\n",
              " 6696: 'cincinnati',\n",
              " 16710: 'corps',\n",
              " 20809: 'whoever',\n",
              " 16330: 'osp',\n",
              " 13841: 'osr',\n",
              " 12114: 'ost',\n",
              " 16331: 'chair',\n",
              " 5647: '690',\n",
              " 20810: 'grapples',\n",
              " 13842: 'megawatts',\n",
              " 20811: 'photocopiers',\n",
              " 20812: 'sconninx',\n",
              " 2274: 'circumstances',\n",
              " 13843: 'oversight',\n",
              " 20814: \"paradyne's\",\n",
              " 6363: '691',\n",
              " 20815: 'paychecks',\n",
              " 13844: \"stadelmann's\",\n",
              " 3241: 'choice',\n",
              " 11012: 'vastagh',\n",
              " 8820: 'embark',\n",
              " 9392: 'gloomy',\n",
              " 9393: 'stays',\n",
              " 4009: 'exact',\n",
              " 5117: 'minute',\n",
              " 11892: 'kittiwake',\n",
              " 20816: 'picul',\n",
              " 20817: 'skewed',\n",
              " 11013: 'cooke',\n",
              " 10078: 'defaults',\n",
              " 11014: 'reimpose',\n",
              " 9394: 'hindered',\n",
              " 20818: 'lengthened',\n",
              " 16333: 'chopping',\n",
              " 13845: 'mckiernan',\n",
              " 20819: 'collaspe',\n",
              " 7251: 'corazon',\n",
              " 7600: 'antwerp',\n",
              " 13846: 'abdullah',\n",
              " 13847: 'goldston',\n",
              " 442: '300',\n",
              " 20821: 'cassa',\n",
              " 20822: 'casse',\n",
              " 4081: '695',\n",
              " 2979: 'ground',\n",
              " 839: 'boost',\n",
              " 16334: 'azusa',\n",
              " 9395: 'drafted',\n",
              " 4823: '303',\n",
              " 13848: 'climbs',\n",
              " 7601: 'honour',\n",
              " 20823: 'vanderbilt',\n",
              " 3968: '305',\n",
              " 3031: 'address',\n",
              " 8821: 'dwindling',\n",
              " 7252: 'benson',\n",
              " 12115: 'enroll',\n",
              " 501: 'revenues',\n",
              " 12116: 'impacted',\n",
              " 20826: 'queue',\n",
              " 10079: 'accomplished',\n",
              " 7602: 'throughput',\n",
              " 9396: 'influx',\n",
              " 10080: 'stockbuilding',\n",
              " 20827: 'aproximates',\n",
              " 13849: 'petroleo',\n",
              " 16335: 'sistemas',\n",
              " 14053: 'feretti',\n",
              " 5943: 'opposes',\n",
              " 882: 'working',\n",
              " 20829: 'perished',\n",
              " 13850: 'oldham',\n",
              " 20830: '27000',\n",
              " 19245: 'optimize',\n",
              " 20832: 'vigour',\n",
              " 1580: 'opposed',\n",
              " 16336: 'liberalizing',\n",
              " 20833: 'wvz',\n",
              " 20834: 'dampness',\n",
              " 13851: 'approving',\n",
              " 13496: 'sierra',\n",
              " 20835: 'entrepot',\n",
              " 224: 'currency',\n",
              " 1499: 'originally',\n",
              " 20837: 'tindemans',\n",
              " 16337: 'valorem',\n",
              " 477: 'following',\n",
              " 20838: 'fossen',\n",
              " 11016: 'locke',\n",
              " 20839: 'employess',\n",
              " 12117: 'rotberg',\n",
              " 16338: 'parachute',\n",
              " 11017: 'locks',\n",
              " 12255: 'incremental',\n",
              " 16339: 'woolowrth',\n",
              " 20841: 'listens',\n",
              " 7253: 'litre',\n",
              " 3554: 'edouard',\n",
              " 1377: 'ounce',\n",
              " 20843: 'nicanor',\n",
              " 20844: 'sucocitrico',\n",
              " 16340: 'minicomputers',\n",
              " 16341: \"silva's\",\n",
              " 11018: 'restitutions',\n",
              " 16342: 'custer',\n",
              " 2590: '3rd',\n",
              " 10081: 'fueled',\n",
              " 20845: 'trydahl',\n",
              " 11019: 'aice',\n",
              " 12118: 'harmon',\n",
              " 10082: 'conscious',\n",
              " 20846: 'herbicidesand',\n",
              " 20847: 'subdivisions',\n",
              " 20848: \"veslefrikk's\",\n",
              " 11020: 'swollen',\n",
              " 7978: 'pulled',\n",
              " 20849: 'tilney',\n",
              " 203: 'years',\n",
              " 20850: 'structuring',\n",
              " 20851: 'episodes',\n",
              " 16343: 'sportscene',\n",
              " 16344: \"northair's\",\n",
              " 20852: 'jig',\n",
              " 20853: 'jin',\n",
              " 3403: 'jim',\n",
              " 8359: 'troubles',\n",
              " 13852: 'workforces',\n",
              " 2362: 'suspension',\n",
              " 3892: 'troubled',\n",
              " 16345: 'fondiaria',\n",
              " 6697: 'modestly',\n",
              " 12119: 'recipients',\n",
              " 7979: 'civilian',\n",
              " 13853: 'indigenous',\n",
              " 20854: 'overpowering',\n",
              " 1051: 'drilling',\n",
              " 16346: 'sorted',\n",
              " 16347: 'lichtenstein',\n",
              " 20855: 'bedevil',\n",
              " 20856: 'dispite',\n",
              " 16843: 'battleships',\n",
              " 4824: 'instability',\n",
              " 95: 'quarter',\n",
              " 20857: 'salado',\n",
              " 5692: 'honduras',\n",
              " 13855: \"chevron's\",\n",
              " 12273: \"lazere's\",\n",
              " 2660: 'receipt',\n",
              " 8360: 'sponsor',\n",
              " 4825: 'entering',\n",
              " 16349: \"kcbt's\",\n",
              " 19987: 'nowicki',\n",
              " 13856: 'salads',\n",
              " 16351: 'augar',\n",
              " 7980: '797',\n",
              " 7254: '796',\n",
              " 8361: '795',\n",
              " 5295: '794',\n",
              " 5118: '793',\n",
              " 6170: '792',\n",
              " 5296: '791',\n",
              " 4826: '790',\n",
              " 20858: \"nikko's\",\n",
              " 20859: 'unsaleable',\n",
              " 5720: '799',\n",
              " 5693: '798',\n",
              " 2143: 'seriously',\n",
              " 16352: 'trauma',\n",
              " 20860: 'tvbh',\n",
              " 20861: 'macedon',\n",
              " 21906: 'disintegrated',\n",
              " 21909: 'adddition',\n",
              " 2244: 'incentives',\n",
              " 5944: 'complicated',\n",
              " 20864: 'reevaluating',\n",
              " 21921: 'thatching',\n",
              " 7981: 'brasil',\n",
              " 20865: '79p',\n",
              " 4951: 'wrong',\n",
              " 8822: 'initiate',\n",
              " 16353: 'aboard',\n",
              " 7255: 'saving',\n",
              " 8823: 'spoken',\n",
              " 16364: 'parkinson',\n",
              " 65: 'one',\n",
              " 20867: 'ont',\n",
              " 7256: 'concert',\n",
              " 16354: \"boston's\",\n",
              " 13859: 'stifled',\n",
              " 4622: 'types',\n",
              " 20868: 'lingering',\n",
              " 16356: 'surges',\n",
              " 20869: 'hurdman',\n",
              " 16357: 'herds',\n",
              " 14114: 'absorbs',\n",
              " 4681: 'surged',\n",
              " 14211: 'dalkon',\n",
              " 13860: 'crossroads',\n",
              " 20870: 'shakeup',\n",
              " 20871: 'disasterous',\n",
              " 11021: 'illness',\n",
              " 3242: 'turned',\n",
              " 3801: 'locations',\n",
              " 12120: 'tyranite',\n",
              " 13861: 'minesweepers',\n",
              " 7257: 'turner',\n",
              " 20872: 'borough',\n",
              " 12358: 'underlines',\n",
              " 20873: \"bancorporation's\",\n",
              " 20874: 'fashionable',\n",
              " 20875: \"ae's\",\n",
              " 16358: 'dilutions',\n",
              " 9472: 'goodman',\n",
              " 10510: 'unlawfully',\n",
              " 16359: 'mayer',\n",
              " 16360: 'printer',\n",
              " 20877: 'offload',\n",
              " 13862: 'opposite',\n",
              " 738: 'buffer',\n",
              " 9398: 'printed',\n",
              " 16361: 'pequiven',\n",
              " 13863: 'panoche',\n",
              " 20878: 'knowingly',\n",
              " 16362: 'ecusta',\n",
              " 20879: 'thsl',\n",
              " 8825: 'phil',\n",
              " 13864: 'jitters',\n",
              " 16363: 'touche',\n",
              " 20881: 'jittery',\n",
              " 3291: 'friction',\n",
              " 16365: 'fecal',\n",
              " 22068: 'resurgance',\n",
              " 20882: 'heeding',\n",
              " 2363: 'soviets',\n",
              " 16366: 'imagined',\n",
              " 16367: 'transact',\n",
              " 20883: 'califoirnia',\n",
              " 9399: \"chrysler's\",\n",
              " 16368: 'respecitvely',\n",
              " 16369: 'presse',\n",
              " 10084: 'euromarket',\n",
              " 12121: 'guarded',\n",
              " 16371: 'satisfacotry',\n",
              " 20884: 'authroization',\n",
              " 20885: 'simplistic',\n",
              " 20886: 'monde',\n",
              " 4102: 'awaiting',\n",
              " 13865: 'recombinant',\n",
              " 20887: 'refinancement',\n",
              " 20888: 'comserv',\n",
              " 20889: 'kitakyushu',\n",
              " 16372: 'pima',\n",
              " 11022: 'basle',\n",
              " 20891: '6250',\n",
              " 16373: 'choudhury',\n",
              " 8826: 'vision',\n",
              " 20892: 'interruptible',\n",
              " 13866: 'weatherford',\n",
              " 7982: '832',\n",
              " 5694: '833',\n",
              " 4420: '830',\n",
              " 5119: '831',\n",
              " 5297: '836',\n",
              " 4553: '837',\n",
              " 6172: '834',\n",
              " 4952: '835',\n",
              " 22144: 'alarming',\n",
              " 5695: '838',\n",
              " 6173: '839',\n",
              " 20893: '524p',\n",
              " 20894: 'sponsorship',\n",
              " 12122: 'vendex',\n",
              " 20895: \"amsouth's\",\n",
              " 20896: 'kilometer',\n",
              " 10086: 'enjoys',\n",
              " 20897: 'illiberal',\n",
              " 6174: 'punta',\n",
              " 20898: 'punte',\n",
              " 10087: 'girozentrale',\n",
              " 20899: 'missstatements',\n",
              " 10088: 'marietta',\n",
              " 6175: 'awards',\n",
              " 3635: 'concentrated',\n",
              " 20900: '83p',\n",
              " 13867: 'developpement',\n",
              " 13868: 'rhodes',\n",
              " 5696: 'matheson',\n",
              " 20901: '1720',\n",
              " 20902: 'paring',\n",
              " 35: 's',\n",
              " 4953: 'concentrates',\n",
              " 16374: \"can's\",\n",
              " 22183: 'polysaturated',\n",
              " 20903: 'parini',\n",
              " 13869: 'baden',\n",
              " 20904: 'bader',\n",
              " 12123: 'buoyancy',\n",
              " 20905: 'erdem',\n",
              " 16375: 'properites',\n",
              " 20906: 'comparitive',\n",
              " 12124: 'practises',\n",
              " 20907: 'collides',\n",
              " 189: 'west',\n",
              " 20908: 'wess',\n",
              " 13870: 'collided',\n",
              " 20909: 'practised',\n",
              " 20910: \"amalgamated's\",\n",
              " 20911: 'motives',\n",
              " 1378: 'wants',\n",
              " 1273: 'formed',\n",
              " 20912: 'readings',\n",
              " 12125: 'geothermal',\n",
              " 7315: 'tightened',\n",
              " 11023: \"d'or\",\n",
              " 1109: 'former',\n",
              " 20913: 'venezulean',\n",
              " 19935: 'curd',\n",
              " 12126: 'squeezes',\n",
              " 1019: 'newspaper',\n",
              " 817: 'situation',\n",
              " 13871: 'ivey',\n",
              " 3636: 'engaged',\n",
              " 13872: 'dubious',\n",
              " 17061: 'cayacq',\n",
              " 20916: 'cobol',\n",
              " 20917: 'limping',\n",
              " 883: 'technology',\n",
              " 20919: 'koerner',\n",
              " 16376: 'debilitating',\n",
              " 7983: 'verified',\n",
              " 4010: 'otto',\n",
              " 20920: '7770',\n",
              " 16377: 'emulsions',\n",
              " 16378: \"onic's\",\n",
              " 9075: 'slate',\n",
              " 20921: 'wires',\n",
              " 5506: 'edged',\n",
              " 20922: 'assigns',\n",
              " 1341: 'singapore',\n",
              " 20923: 'deflate',\n",
              " 20924: \"strategy's\",\n",
              " 16379: 'walesa',\n",
              " 4554: 'advertisement',\n",
              " 20925: 'luyten',\n",
              " 20926: 'shrortly',\n",
              " 20927: 'corpoartion',\n",
              " 22290: 'preferance',\n",
              " 16380: 'tracking',\n",
              " 13874: 'sunnyvale',\n",
              " 20928: 'colorants',\n",
              " 16381: 'persistently',\n",
              " 16382: \"officers'\",\n",
              " 20929: \"his's\",\n",
              " 367: 'being',\n",
              " 7259: 'divestitures',\n",
              " 20930: 'steamer',\n",
              " 20931: 'rover',\n",
              " 8362: 'grounded',\n",
              " 16383: \"businessmen's\",\n",
              " 16384: 'cyanidation',\n",
              " 20932: 'overthrow',\n",
              " 20933: 'partnerhip',\n",
              " 16385: 'sumt',\n",
              " 8827: 'sums',\n",
              " 16386: 'oelmuehle',\n",
              " 16387: 'unveil',\n",
              " 13875: 'gestures',\n",
              " 20934: 'penta',\n",
              " 2544: 'traffic',\n",
              " 2428: 'preference',\n",
              " 20935: 'sumi',\n",
              " 166: 'world',\n",
              " 9400: 'postal',\n",
              " 16388: 'bced',\n",
              " 12128: 'dornbush',\n",
              " 14215: 'confine',\n",
              " 20936: '2555',\n",
              " 5945: \"zambia's\",\n",
              " 20937: 'superiority',\n",
              " 20938: 'militate',\n",
              " 2395: 'satisfactory',\n",
              " 20939: 'superintendent',\n",
              " 5946: 'tvx',\n",
              " 16389: 'tvt',\n",
              " 6698: 'magma',\n",
              " 20940: 'diving',\n",
              " 15548: 'tvb',\n",
              " 13876: 'seaman',\n",
              " 11025: 'matsunaga',\n",
              " 4827: '919',\n",
              " 5298: '918',\n",
              " 17070: 'refundable',\n",
              " 5947: '914',\n",
              " 7260: '917',\n",
              " 6699: '916',\n",
              " 5507: '911',\n",
              " 4828: '910',\n",
              " 10213: 'restoring',\n",
              " 4555: '912',\n",
              " 20942: 'squabble',\n",
              " 7261: 'retains',\n",
              " 20943: \"partner's\",\n",
              " 5300: 'leadership',\n",
              " 11026: 'graaf',\n",
              " 20944: 'spacelab',\n",
              " 1800: 'thailand',\n",
              " 9402: 'graan',\n",
              " 20945: 'exasperating',\n",
              " 12129: 'hartmarx',\n",
              " 16390: 'frights',\n",
              " 20946: 'niall',\n",
              " 11027: 'johnston',\n",
              " 16391: '91p',\n",
              " 16392: 'sensitively',\n",
              " 6016: 'porsche',\n",
              " 15494: 'prepares',\n",
              " 12130: 'lively',\n",
              " 10686: 'stoppages',\n",
              " 16394: \"associated's\",\n",
              " 12131: 'pivot',\n",
              " 1037: 'series',\n",
              " 24050: 'sese',\n",
              " 7604: 'bubble',\n",
              " 16395: 'trusses',\n",
              " 20949: 'interestate',\n",
              " 20950: 'continents',\n",
              " 20951: 'societal',\n",
              " 28: 'with',\n",
              " 6176: 'pull',\n",
              " 6700: 'rush',\n",
              " 6222: 'monopoly',\n",
              " 20953: 'operationally',\n",
              " 20954: 'dirty',\n",
              " 10090: 'abuses',\n",
              " 7262: 'prudhoe',\n",
              " 5949: 'pulp',\n",
              " 16396: 'rust',\n",
              " 20955: 'hellman',\n",
              " 20956: 'amdec',\n",
              " 16397: 'australasian',\n",
              " 13878: 'watches',\n",
              " 20957: 'hypertension',\n",
              " 20958: \"hemdale's\",\n",
              " 16398: 'formulation',\n",
              " 7605: 'watched',\n",
              " 20959: 'jargon',\n",
              " 13879: 'cream',\n",
              " 9404: 'ideally',\n",
              " 11028: 'ryavec',\n",
              " 20960: 'microoganisms',\n",
              " 13880: 'indemnify',\n",
              " 20961: 'wincenty',\n",
              " 20962: 'waving',\n",
              " 20963: \"multifood's\",\n",
              " 20964: 'midges',\n",
              " 11029: 'natalie',\n",
              " 13881: 'crosbie',\n",
              " 20965: 'posible',\n",
              " 13882: 'omnibus',\n",
              " 20966: 'assetsof',\n",
              " 13883: 'tricks',\n",
              " 16399: 'rs',\n",
              " 20967: 'kilogram',\n",
              " 25363: 'pruning',\n",
              " 13884: 'dyer',\n",
              " 20968: 'dyes',\n",
              " 20969: 'legislatures',\n",
              " 16400: 'scm',\n",
              " 9405: 'sci',\n",
              " 20970: 'riedel',\n",
              " 16401: 'ceramic',\n",
              " 6701: 'unitholders',\n",
              " 13885: 'scb',\n",
              " 20971: 'dn11',\n",
              " 20972: 'conditionality',\n",
              " 13807: \"stock's\",\n",
              " 20973: 'masland',\n",
              " 7606: 'causes',\n",
              " 10091: 'riots',\n",
              " 20974: 'norf',\n",
              " 9406: 'nord',\n",
              " 3893: 'midwest',\n",
              " 13886: 'tamils',\n",
              " 16402: 'ofthe',\n",
              " 3421: \"colombia's\",\n",
              " 11030: '24th',\n",
              " 20975: 'sant',\n",
              " 10092: 'moines',\n",
              " 22577: 'electrotechnical',\n",
              " 24534: 'proceeded',\n",
              " 20976: 'sanz',\n",
              " 13887: 'insufficiently',\n",
              " 20977: 'sang',\n",
              " 5950: 'sand',\n",
              " 16404: 'bracho',\n",
              " 805: 'small',\n",
              " 20978: 'workloads',\n",
              " 6702: 'sank',\n",
              " 20979: 'kemper',\n",
              " 16405: 'abbreviated',\n",
              " 13888: 'quicker',\n",
              " 3802: '199',\n",
              " 3243: '198',\n",
              " 2661: '195',\n",
              " 3080: '194',\n",
              " 4310: '197',\n",
              " 3894: '196',\n",
              " 2850: '191',\n",
              " 2199: '190',\n",
              " 3481: '193',\n",
              " 3350: '192',\n",
              " 582: 'past',\n",
              " 20980: 'fractionation',\n",
              " 20981: 'displays',\n",
              " 3081: 'pass',\n",
              " 202: 'investment',\n",
              " 27062: 'quals',\n",
              " 16406: 'quicken',\n",
              " 20983: \"centronic's\",\n",
              " 20984: 'menswear',\n",
              " 16407: 'clock',\n",
              " 20985: 'teape',\n",
              " 20986: 'teapa',\n",
              " 10093: 'prevailed',\n",
              " 9407: 'hebei',\n",
              " ...}"
            ]
          },
          "metadata": {},
          "execution_count": 65
        }
      ]
    },
    {
      "cell_type": "code",
      "source": [
        "# Translate each document.\n",
        "i_news = 10                                        # Document number that can be changed at will.\n",
        "news = list(pd.Series(X_train[i_news]).apply(lambda x: my_dict_inv[x]))\n",
        "print(' '.join(news))"
      ],
      "metadata": {
        "id": "6V2D7Az85CbB",
        "outputId": "afd91c4e-fb5e-403c-c1fd-ffd6c6c0b2e5",
        "colab": {
          "base_uri": "https://localhost:8080/"
        }
      },
      "execution_count": 66,
      "outputs": [
        {
          "output_type": "stream",
          "name": "stdout",
          "text": [
            "the federal gain only growth lt they meeting year reuter company did year an they of of reuter company of of 1987 had of of reuter had profits of pct dlrs\n"
          ]
        }
      ]
    },
    {
      "cell_type": "markdown",
      "source": [
        "### Data preprocessing"
      ],
      "metadata": {
        "id": "W57xpbON5Mw_"
      }
    },
    {
      "cell_type": "code",
      "source": [
        "# Padding: newswire lengths are uniformly matched to maxlen.\n",
        "# Cut away if longer than maxlen and fill with 0s if shorter than maxlen.\n",
        "X_train = sequence.pad_sequences(X_train, maxlen = 100)\n",
        "X_test = sequence.pad_sequences(X_test, maxlen = 100)"
      ],
      "metadata": {
        "id": "5f8iFnw05N2Q"
      },
      "execution_count": 67,
      "outputs": []
    },
    {
      "cell_type": "code",
      "source": [
        "# Apply one-hot-encoding to the y variable.\n",
        "y = np.concatenate([y_train,y_test],axis=0)\n",
        "y = to_categorical(y,46)\n",
        "y_train = y[:n_train_size,:]\n",
        "y_test = y[n_train_size:,:]"
      ],
      "metadata": {
        "id": "LOjcrUiN5hqe"
      },
      "execution_count": 68,
      "outputs": []
    },
    {
      "cell_type": "markdown",
      "source": [
        "### 1.4. Define the model:\n"
      ],
      "metadata": {
        "id": "PZ74otI-6Dwi"
      }
    },
    {
      "cell_type": "code",
      "source": [
        "n_neurons = 100                   # Neurons within each memory cell.\n",
        "n_input = 100                     # Dimension of the embeding space."
      ],
      "metadata": {
        "id": "odFY1UNb6Ezm"
      },
      "execution_count": 69,
      "outputs": []
    },
    {
      "cell_type": "code",
      "source": [
        "# LSTM network model.\n",
        "my_model = Sequential()\n",
        "my_model.add(Embedding(n_words, n_input))           # n_words = vocabulary size, n_input = dimension of the embedding space.\n",
        "my_model.add(LSTM(units=n_neurons, return_sequences=False, input_shape=(None, n_input), activation='tanh'))\n",
        "my_model.add(Dense(n_cat, activation='softmax'))"
      ],
      "metadata": {
        "id": "JrnimwtG6Iit"
      },
      "execution_count": 70,
      "outputs": []
    },
    {
      "cell_type": "code",
      "source": [
        "# View the summary.\n",
        "my_model.summary()"
      ],
      "metadata": {
        "id": "j8X8Osut6gT7",
        "outputId": "d669d55a-1756-4bcb-ed12-69caf247250a",
        "colab": {
          "base_uri": "https://localhost:8080/",
          "height": 230
        }
      },
      "execution_count": 71,
      "outputs": [
        {
          "output_type": "display_data",
          "data": {
            "text/plain": [
              "\u001b[1mModel: \"sequential_1\"\u001b[0m\n"
            ],
            "text/html": [
              "<pre style=\"white-space:pre;overflow-x:auto;line-height:normal;font-family:Menlo,'DejaVu Sans Mono',consolas,'Courier New',monospace\"><span style=\"font-weight: bold\">Model: \"sequential_1\"</span>\n",
              "</pre>\n"
            ]
          },
          "metadata": {}
        },
        {
          "output_type": "display_data",
          "data": {
            "text/plain": [
              "┏━━━━━━━━━━━━━━━━━━━━━━━━━━━━━━━━━━━━━━┳━━━━━━━━━━━━━━━━━━━━━━━━━━━━━┳━━━━━━━━━━━━━━━━━┓\n",
              "┃\u001b[1m \u001b[0m\u001b[1mLayer (type)                        \u001b[0m\u001b[1m \u001b[0m┃\u001b[1m \u001b[0m\u001b[1mOutput Shape               \u001b[0m\u001b[1m \u001b[0m┃\u001b[1m \u001b[0m\u001b[1m        Param #\u001b[0m\u001b[1m \u001b[0m┃\n",
              "┡━━━━━━━━━━━━━━━━━━━━━━━━━━━━━━━━━━━━━━╇━━━━━━━━━━━━━━━━━━━━━━━━━━━━━╇━━━━━━━━━━━━━━━━━┩\n",
              "│ embedding_1 (\u001b[38;5;33mEmbedding\u001b[0m)              │ ?                           │     \u001b[38;5;34m0\u001b[0m (unbuilt) │\n",
              "├──────────────────────────────────────┼─────────────────────────────┼─────────────────┤\n",
              "│ lstm_1 (\u001b[38;5;33mLSTM\u001b[0m)                        │ ?                           │     \u001b[38;5;34m0\u001b[0m (unbuilt) │\n",
              "├──────────────────────────────────────┼─────────────────────────────┼─────────────────┤\n",
              "│ dense_1 (\u001b[38;5;33mDense\u001b[0m)                      │ ?                           │     \u001b[38;5;34m0\u001b[0m (unbuilt) │\n",
              "└──────────────────────────────────────┴─────────────────────────────┴─────────────────┘\n"
            ],
            "text/html": [
              "<pre style=\"white-space:pre;overflow-x:auto;line-height:normal;font-family:Menlo,'DejaVu Sans Mono',consolas,'Courier New',monospace\">┏━━━━━━━━━━━━━━━━━━━━━━━━━━━━━━━━━━━━━━┳━━━━━━━━━━━━━━━━━━━━━━━━━━━━━┳━━━━━━━━━━━━━━━━━┓\n",
              "┃<span style=\"font-weight: bold\"> Layer (type)                         </span>┃<span style=\"font-weight: bold\"> Output Shape                </span>┃<span style=\"font-weight: bold\">         Param # </span>┃\n",
              "┡━━━━━━━━━━━━━━━━━━━━━━━━━━━━━━━━━━━━━━╇━━━━━━━━━━━━━━━━━━━━━━━━━━━━━╇━━━━━━━━━━━━━━━━━┩\n",
              "│ embedding_1 (<span style=\"color: #0087ff; text-decoration-color: #0087ff\">Embedding</span>)              │ ?                           │     <span style=\"color: #00af00; text-decoration-color: #00af00\">0</span> (unbuilt) │\n",
              "├──────────────────────────────────────┼─────────────────────────────┼─────────────────┤\n",
              "│ lstm_1 (<span style=\"color: #0087ff; text-decoration-color: #0087ff\">LSTM</span>)                        │ ?                           │     <span style=\"color: #00af00; text-decoration-color: #00af00\">0</span> (unbuilt) │\n",
              "├──────────────────────────────────────┼─────────────────────────────┼─────────────────┤\n",
              "│ dense_1 (<span style=\"color: #0087ff; text-decoration-color: #0087ff\">Dense</span>)                      │ ?                           │     <span style=\"color: #00af00; text-decoration-color: #00af00\">0</span> (unbuilt) │\n",
              "└──────────────────────────────────────┴─────────────────────────────┴─────────────────┘\n",
              "</pre>\n"
            ]
          },
          "metadata": {}
        },
        {
          "output_type": "display_data",
          "data": {
            "text/plain": [
              "\u001b[1m Total params: \u001b[0m\u001b[38;5;34m0\u001b[0m (0.00 B)\n"
            ],
            "text/html": [
              "<pre style=\"white-space:pre;overflow-x:auto;line-height:normal;font-family:Menlo,'DejaVu Sans Mono',consolas,'Courier New',monospace\"><span style=\"font-weight: bold\"> Total params: </span><span style=\"color: #00af00; text-decoration-color: #00af00\">0</span> (0.00 B)\n",
              "</pre>\n"
            ]
          },
          "metadata": {}
        },
        {
          "output_type": "display_data",
          "data": {
            "text/plain": [
              "\u001b[1m Trainable params: \u001b[0m\u001b[38;5;34m0\u001b[0m (0.00 B)\n"
            ],
            "text/html": [
              "<pre style=\"white-space:pre;overflow-x:auto;line-height:normal;font-family:Menlo,'DejaVu Sans Mono',consolas,'Courier New',monospace\"><span style=\"font-weight: bold\"> Trainable params: </span><span style=\"color: #00af00; text-decoration-color: #00af00\">0</span> (0.00 B)\n",
              "</pre>\n"
            ]
          },
          "metadata": {}
        },
        {
          "output_type": "display_data",
          "data": {
            "text/plain": [
              "\u001b[1m Non-trainable params: \u001b[0m\u001b[38;5;34m0\u001b[0m (0.00 B)\n"
            ],
            "text/html": [
              "<pre style=\"white-space:pre;overflow-x:auto;line-height:normal;font-family:Menlo,'DejaVu Sans Mono',consolas,'Courier New',monospace\"><span style=\"font-weight: bold\"> Non-trainable params: </span><span style=\"color: #00af00; text-decoration-color: #00af00\">0</span> (0.00 B)\n",
              "</pre>\n"
            ]
          },
          "metadata": {}
        }
      ]
    },
    {
      "cell_type": "markdown",
      "source": [
        "### 1.5. Define the optimizer and compile:\n"
      ],
      "metadata": {
        "id": "MMd7svgq7Ign"
      }
    },
    {
      "cell_type": "code",
      "source": [],
      "metadata": {
        "id": "4Fn6OQqC7EKv"
      },
      "execution_count": null,
      "outputs": []
    }
  ],
  "metadata": {
    "kernelspec": {
      "display_name": "Python 3 (ipykernel)",
      "language": "python",
      "name": "python3"
    },
    "language_info": {
      "codemirror_mode": {
        "name": "ipython",
        "version": 3
      },
      "file_extension": ".py",
      "mimetype": "text/x-python",
      "name": "python",
      "nbconvert_exporter": "python",
      "pygments_lexer": "ipython3",
      "version": "3.10.11"
    },
    "colab": {
      "provenance": []
    }
  },
  "nbformat": 4,
  "nbformat_minor": 0
}