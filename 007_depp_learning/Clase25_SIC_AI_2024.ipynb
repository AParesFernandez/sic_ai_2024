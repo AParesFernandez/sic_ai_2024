{
 "cells": [
  {
   "cell_type": "markdown",
   "metadata": {},
   "source": [
    "# Clase 25: Deep Learning\n",
    "\n",
    "# Perceptrón Simple en Python\n",
    "\n",
    "Este notebook implementa un perceptrón simple para resolver operaciones lógicas **AND** y **OR**."
   ]
  },
  {
   "cell_type": "markdown",
   "metadata": {},
   "source": [
    "## 1. Importar Librerías Necesarias\n",
    "Vamos a usar **NumPy** para las operaciones matriciales."
   ]
  },
  {
   "cell_type": "code",
   "execution_count": null,
   "metadata": {},
   "outputs": [],
   "source": [
    "import numpy as np"
   ]
  },
  {
   "cell_type": "markdown",
   "metadata": {},
   "source": [
    "## 2. Definir el Perceptrón\n",
    "Este perceptrón toma dos entradas, aplica los pesos y el bias, y luego utiliza una función escalón para producir una salida."
   ]
  },
  {
   "cell_type": "code",
   "execution_count": null,
   "metadata": {},
   "outputs": [],
   "source": [
    "class Perceptron:\n",
    "    def __init__(self, pesos, bias):\n",
    "        self.pesos = pesos\n",
    "        self.bias = bias\n",
    "\n",
    "    def activacion(self, suma):\n",
    "        # Función escalón\n",
    "        return 1 if suma >= 0 else 0\n",
    "\n",
    "    def predecir(self, entradas):\n",
    "        # Calcular la suma ponderada\n",
    "        suma_ponderada = np.dot(entradas, self.pesos) + self.bias\n",
    "        # Aplicar la función de activación\n",
    "        return self.activacion(suma_ponderada)"
   ]
  },
  {
   "cell_type": "markdown",
   "metadata": {},
   "source": [
    "## 3. Entrenamiento del Perceptrón para Operaciones AND y OR\n",
    "Usaremos pesos y bias fijos para resolver las operaciones lógicas."
   ]
  },
  {
   "cell_type": "code",
   "execution_count": null,
   "metadata": {},
   "outputs": [],
   "source": [
    "# Definir los datos de entrada para las tablas de verdad\n",
    "entradas = np.array([\n",
    "    [0, 0],\n",
    "    [0, 1],\n",
    "    [1, 0],\n",
    "    [1, 1]\n",
    "])\n",
    "\n",
    "# Salidas deseadas para AND y OR\n",
    "salidas_and = np.array([0, 0, 0, 1])  # Tabla de verdad AND\n",
    "salidas_or = np.array([0, 1, 1, 1])   # Tabla de verdad OR\n",
    "\n",
    "# Perceptrón para AND (pesos y bias ajustados manualmente)\n",
    "perceptron_and = Perceptron(pesos=np.array([1, 1]), bias=-1.5)\n",
    "\n",
    "# Perceptrón para OR (pesos y bias ajustados manualmente)\n",
    "perceptron_or = Perceptron(pesos=np.array([1, 1]), bias=-0.5)"
   ]
  },
  {
   "cell_type": "markdown",
   "metadata": {},
   "source": [
    "## 4. Evaluar el Perceptrón en las Operaciones Lógicas AND y OR"
   ]
  },
  {
   "cell_type": "code",
   "execution_count": null,
   "metadata": {},
   "outputs": [],
   "source": [
    "print(\"Resultados del Perceptrón para la operación AND:\")\n",
    "for i, entrada in enumerate(entradas):\n",
    "    print(f\"Entrada: {entrada} -> Salida esperada: {salidas_and[i]} -> Salida perceptrón: {perceptron_and.predecir(entrada)}\")\n",
    "\n",
    "print(\"\\nResultados del Perceptrón para la operación OR:\")\n",
    "for i, entrada in enumerate(entradas):\n",
    "    print(f\"Entrada: {entrada} -> Salida esperada: {salidas_or[i]} -> Salida perceptrón: {perceptron_or.predecir(entrada)}\")"
   ]
  },
  {
   "cell_type": "markdown",
   "metadata": {},
   "source": [
    "## 5. Conclusión\n",
    "Este perceptrón puede resolver operaciones lógicas **AND** y **OR**, pero no puede resolver problemas como **XOR** debido a la falta de linealidad. Para resolver **XOR**, se necesita una red neuronal multicapa (MLP)."
   ]
  }
 ],
 "metadata": {
  "kernelspec": {
   "display_name": "Python 3",
   "language": "python",
   "name": "python3"
  },
  "language_info": {
   "codemirror_mode": {
    "name": "ipython",
    "version": 3
   },
   "file_extension": ".py",
   "mimetype": "text/x-python",
   "name": "python",
   "nbconvert_exporter": "python",
   "version": "3.9.12"
  }
 },
 "nbformat": 4,
 "nbformat_minor": 4
}
