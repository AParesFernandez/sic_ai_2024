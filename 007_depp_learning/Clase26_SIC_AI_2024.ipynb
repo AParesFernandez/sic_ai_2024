{
 "cells": [
  {
   "cell_type": "markdown",
   "metadata": {},
   "source": [
    "# Clase 26: Redes Neuronales y Deep Learning\n",
    "## Introducción a las Redes Neuronales y Deep Learning\n",
    "1. ¿Qué es una Red Neuronal?\n",
    "\n",
    "Una Red Neuronal Artificial (ANN) es un modelo inspirado en el cerebro humano, diseñado para reconocer patrones complejos en datos. Se compone de neuronas artificiales (también llamadas nodos o unidades) que están organizadas en capas:\n",
    "\n",
    "- Capa de entrada: Recibe los datos.\n",
    "- Capas ocultas: Procesan los datos mediante funciones matemáticas.\n",
    "- Capa de salida: Proporciona el resultado final del modelo.\n",
    "\n",
    "Cada neurona está conectada a otras, y las conexiones tienen pesos que ajustan cómo se transmiten los datos. El aprendizaje en una red neuronal implica ajustar estos pesos para que la red produzca resultados precisos."
   ]
  },
  {
   "cell_type": "markdown",
   "metadata": {},
   "source": [
    "## 2. ¿Qué es Deep Learning?\n",
    "Deep Learning es un subconjunto de machine learning que utiliza redes neuronales profundas, es decir, redes con muchas capas ocultas. Estas capas adicionales permiten que los modelos aprendan representaciones jerárquicas de los datos, lo que es útil para tareas complejas como la clasificación de imágenes o el procesamiento de lenguaje natural.\n",
    "\n",
    "## 3. ¿Cómo Funciona una Red Neuronal?\n",
    "Cada neurona realiza una operación matemática llamada combinación lineal sobre las entradas, multiplicándolas por un peso y sumando un sesgo (bias). El resultado pasa a través de una función de activación, que decide si la neurona debe activarse o no.\n",
    "\n",
    "Algunas funciones de activación comunes incluyen:\n",
    "\n",
    "- ReLU (Rectified Linear Unit): Activa solo valores positivos.\n",
    "- Sigmoid: Convierte valores en una probabilidad entre 0 y 1.\n",
    "- Tanh: Escala valores entre -1 y 1.\n",
    "\n",
    "El objetivo del entrenamiento es minimizar el error entre las predicciones de la red y los valores reales. Esto se logra mediante un proceso llamado backpropagation o retropropagación, que ajusta los pesos de la red a través de optimización, generalmente con el algoritmo de gradiente descendente."
   ]
  },
  {
   "cell_type": "markdown",
   "metadata": {},
   "source": [
    "## Introducción a TensorFlow\n",
    "TensorFlow es una de las bibliotecas más populares para construir y entrenar modelos de deep learning. Te permite definir redes neuronales de manera eficiente y aprovechar el hardware de aceleración como las GPUs.\n",
    "\n",
    "4. Instalación de TensorFlow\n",
    "Para usar TensorFlow, primero se debe instalar con:"
   ]
  },
  {
   "cell_type": "code",
   "execution_count": null,
   "metadata": {
    "vscode": {
     "languageId": "plaintext"
    }
   },
   "outputs": [],
   "source": [
    "!pip install tensorflow"
   ]
  },
  {
   "cell_type": "markdown",
   "metadata": {},
   "source": [
    "Si necesitas una versión específica, puedes usar:\n"
   ]
  },
  {
   "cell_type": "code",
   "execution_count": null,
   "metadata": {
    "vscode": {
     "languageId": "plaintext"
    }
   },
   "outputs": [],
   "source": [
    "!pip install tensorflow==[versión-deseada]\n"
   ]
  },
  {
   "cell_type": "markdown",
   "metadata": {},
   "source": [
    "### 5. Construcción de un Modelo en TensorFlow\n",
    "TensorFlow te permite definir redes neuronales de forma flexible. Aquí te muestro cómo definir una red neuronal simple usando la API de alto nivel Keras, que está integrada en TensorFlow."
   ]
  },
  {
   "cell_type": "code",
   "execution_count": null,
   "metadata": {
    "vscode": {
     "languageId": "plaintext"
    }
   },
   "outputs": [],
   "source": [
    "import tensorflow as tf\n",
    "from tensorflow.keras import layers, models\n",
    "\n",
    "# Definir un modelo secuencial\n",
    "model = models.Sequential()\n",
    "\n",
    "# Añadir una capa de entrada\n",
    "model.add(layers.Dense(64, activation='relu', input_shape=(100,)))\n",
    "\n",
    "# Añadir capas ocultas\n",
    "model.add(layers.Dense(64, activation='relu'))\n",
    "\n",
    "# Añadir la capa de salida\n",
    "model.add(layers.Dense(10, activation='softmax'))\n",
    "\n",
    "# Compilar el modelo\n",
    "model.compile(optimizer='adam', loss='categorical_crossentropy', metrics=['accuracy'])\n"
   ]
  },
  {
   "cell_type": "markdown",
   "metadata": {},
   "source": [
    "### 6. Entrenamiento del Modelo\n",
    "Una vez que el modelo está definido, se entrena usando un conjunto de datos. El siguiente código entrena el modelo con datos de entrenamiento:"
   ]
  },
  {
   "cell_type": "code",
   "execution_count": null,
   "metadata": {
    "vscode": {
     "languageId": "plaintext"
    }
   },
   "outputs": [],
   "source": [
    "# Asumiendo que tienes los datos de entrenamiento en X_train y y_train\n",
    "model.fit(X_train, y_train, epochs=10, batch_size=32)\n"
   ]
  },
  {
   "cell_type": "markdown",
   "metadata": {},
   "source": [
    "El modelo se entrena ajustando los pesos en cada iteración para minimizar la función de pérdida. Aquí, el modelo está usando la función de pérdida de categorical_crossentropy porque estamos clasificando en múltiples categorías.\n",
    "\n",
    "### 7. Evaluación del Modelo\n",
    "Después del entrenamiento, es importante evaluar el modelo con un conjunto de datos de prueba para ver su desempeño en datos no vistos:"
   ]
  },
  {
   "cell_type": "code",
   "execution_count": null,
   "metadata": {
    "vscode": {
     "languageId": "plaintext"
    }
   },
   "outputs": [],
   "source": [
    "# Evaluar el modelo\n",
    "loss, accuracy = model.evaluate(X_test, y_test)\n",
    "print(f\"Test accuracy: {accuracy}\")"
   ]
  }
 ],
 "metadata": {
  "language_info": {
   "name": "python"
  }
 },
 "nbformat": 4,
 "nbformat_minor": 2
}
