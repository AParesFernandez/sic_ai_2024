{
 "cells": [
  {
   "cell_type": "markdown",
   "metadata": {},
   "source": [
    "# Clase 26: Redes Neuronales y Deep Learning\n",
    "## Introducción a las Redes Neuronales y Deep Learning\n",
    "1. ¿Qué es una Red Neuronal?\n",
    "\n",
    "Una Red Neuronal Artificial (ANN) es un modelo inspirado en el cerebro humano, diseñado para reconocer patrones complejos en datos. Se compone de neuronas artificiales (también llamadas nodos o unidades) que están organizadas en capas:\n",
    "\n",
    "- Capa de entrada: Recibe los datos.\n",
    "- Capas ocultas: Procesan los datos mediante funciones matemáticas.\n",
    "- Capa de salida: Proporciona el resultado final del modelo.\n",
    "\n",
    "Cada neurona está conectada a otras, y las conexiones tienen pesos que ajustan cómo se transmiten los datos. El aprendizaje en una red neuronal implica ajustar estos pesos para que la red produzca resultados precisos."
   ]
  },
  {
   "cell_type": "markdown",
   "metadata": {},
   "source": [
    "## 2. ¿Qué es Deep Learning?\n",
    "Deep Learning es un subconjunto de machine learning que utiliza redes neuronales profundas, es decir, redes con muchas capas ocultas. Estas capas adicionales permiten que los modelos aprendan representaciones jerárquicas de los datos, lo que es útil para tareas complejas como la clasificación de imágenes o el procesamiento de lenguaje natural.\n",
    "\n",
    "## 3. ¿Cómo Funciona una Red Neuronal?\n",
    "Cada neurona realiza una operación matemática llamada combinación lineal sobre las entradas, multiplicándolas por un peso y sumando un sesgo (bias). El resultado pasa a través de una función de activación, que decide si la neurona debe activarse o no.\n",
    "\n",
    "Algunas funciones de activación comunes incluyen:\n",
    "\n",
    "- ReLU (Rectified Linear Unit): Activa solo valores positivos.\n",
    "- Sigmoid: Convierte valores en una probabilidad entre 0 y 1.\n",
    "- Tanh: Escala valores entre -1 y 1.\n",
    "\n",
    "El objetivo del entrenamiento es minimizar el error entre las predicciones de la red y los valores reales. Esto se logra mediante un proceso llamado backpropagation o retropropagación, que ajusta los pesos de la red a través de optimización, generalmente con el algoritmo de gradiente descendente."
   ]
  }
 ],
 "metadata": {
  "language_info": {
   "name": "python"
  }
 },
 "nbformat": 4,
 "nbformat_minor": 2
}
