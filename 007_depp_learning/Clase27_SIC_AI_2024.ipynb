{
 "cells": [
  {
   "cell_type": "markdown",
   "metadata": {},
   "source": [
    "# Clase27: Deep Learning cn TensorFlow"
   ]
  },
  {
   "cell_type": "markdown",
   "metadata": {},
   "source": [
    "### Diferencia entre TensorFlow y Keras\n",
    "\n",
    "Por ejemplo en este caso: [link](https://playground.tensorflow.org/#activation=tanh&batchSize=10&dataset=spiral&regDataset=reg-plane&learningRate=0.03&regularizationRate=0&noise=0&networkShape=4,2,2,2&seed=0.32536&showTestData=false&discretize=false&percTrainData=50&x=true&y=true&xTimesY=true&xSquared=true&ySquared=true&cosX=false&sinX=true&cosY=false&sinY=true&collectStats=false&problem=classification&initZero=false&hideText=false)"
   ]
  },
  {
   "cell_type": "markdown",
   "metadata": {},
   "source": [
    "#### TensorFlow Puro\n",
    "\n",
    "En TensorFlow sin Keras, tendrías que manejar más detalles de bajo nivel como la creación de variables, la construcción del gráfico computacional, y el manejo de sesiones para ejecutar los cálculos. Aquí un ejemplo de cómo podría ser:\n",
    "\n"
   ]
  },
  {
   "cell_type": "code",
   "execution_count": null,
   "metadata": {},
   "outputs": [],
   "source": [
    "import tensorflow as tf\n",
    "import numpy as np\n",
    "\n",
    "# Definir los datos de entrada y las etiquetas\n",
    "X = tf.placeholder(tf.float32, shape=[None, 2])\n",
    "y = tf.placeholder(tf.float32, shape=[None, 2])\n",
    "\n",
    "# Definir pesos y sesgos manualmente para cada capa\n",
    "def dense_layer(X, input_size, output_size, activation=None):\n",
    "    W = tf.Variable(tf.random_normal([input_size, output_size]), name=\"weights\")\n",
    "    b = tf.Variable(tf.zeros([output_size]), name=\"bias\")\n",
    "    z = tf.add(tf.matmul(X, W), b)\n",
    "    if activation:\n",
    "        z = activation(z)\n",
    "    return z\n",
    "\n",
    "# Crear la red neuronal con las capas ocultas\n",
    "layer_1 = dense_layer(X, 2, 4, activation=tf.nn.tanh)  # Primera capa oculta\n",
    "layer_2 = dense_layer(layer_1, 4, 2, activation=tf.nn.tanh)  # Segunda capa oculta\n",
    "layer_3 = dense_layer(layer_2, 2, 2, activation=tf.nn.tanh)  # Tercera capa oculta\n",
    "output = dense_layer(layer_3, 2, 2, activation=tf.nn.softmax)  # Capa de salida\n",
    "\n",
    "# Definir el coste y el optimizador\n",
    "loss = tf.reduce_mean(tf.nn.softmax_cross_entropy_with_logits_v2(labels=y, logits=output))\n",
    "optimizer = tf.train.AdamOptimizer(learning_rate=0.03).minimize(loss)\n",
    "\n",
    "# Inicializar variables y entrenar el modelo\n",
    "with tf.Session() as sess:\n",
    "    sess.run(tf.global_variables_initializer())\n",
    "    for epoch in range(1000):\n",
    "        # Alimentar los datos y entrenar aquí\n",
    "        # sess.run(optimizer, feed_dict={X: batch_X, y: batch_y})\n",
    "        pass\n"
   ]
  },
  {
   "cell_type": "markdown",
   "metadata": {},
   "source": [
    "#### Keras\n",
    "\n",
    "En Keras, todo este proceso se simplifica enormemente, ya que Keras maneja las capas y los detalles de la optimización por ti. El mismo modelo se puede definir y entrenar de forma mucho más intuitiva:\n",
    "\n"
   ]
  },
  {
   "cell_type": "code",
   "execution_count": null,
   "metadata": {},
   "outputs": [],
   "source": [
    "from tensorflow.keras.models import Sequential\n",
    "from tensorflow.keras.layers import Dense\n",
    "from tensorflow.keras.optimizers import Adam\n",
    "\n",
    "# Crear el modelo secuencial\n",
    "model = Sequential()\n",
    "\n",
    "# Añadir capas ocultas\n",
    "model.add(Dense(4, input_dim=2, activation='tanh'))  # Primera capa oculta\n",
    "model.add(Dense(2, activation='tanh'))  # Segunda capa oculta\n",
    "model.add(Dense(2, activation='tanh'))  # Tercera capa oculta\n",
    "\n",
    "# Capa de salida\n",
    "model.add(Dense(2, activation='softmax'))  # Capa de salida\n",
    "\n",
    "# Compilar el modelo\n",
    "model.compile(optimizer=Adam(learning_rate=0.03), loss='categorical_crossentropy')\n",
    "\n",
    "# Entrenar el modelo\n",
    "# model.fit(X_train, y_train, epochs=1000, batch_size=10)\n"
   ]
  }
 ],
 "metadata": {
  "kernelspec": {
   "display_name": ".venv",
   "language": "python",
   "name": "python3"
  },
  "language_info": {
   "name": "python",
   "version": "3.11.4"
  }
 },
 "nbformat": 4,
 "nbformat_minor": 2
}
