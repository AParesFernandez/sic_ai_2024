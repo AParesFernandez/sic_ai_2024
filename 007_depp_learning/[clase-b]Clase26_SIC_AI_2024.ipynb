{
  "cells": [
    {
      "cell_type": "markdown",
      "metadata": {
        "id": "RBWYtybQaNNp"
      },
      "source": [
        "# Clase 26: Redes Neuronales y Deep Learning\n",
        "## Introducción a las Redes Neuronales y Deep Learning\n",
        "1. ¿Qué es una Red Neuronal?\n",
        "\n",
        "Una Red Neuronal Artificial (ANN) es un modelo inspirado en el cerebro humano, diseñado para reconocer patrones complejos en datos. Se compone de neuronas artificiales (también llamadas nodos o unidades) que están organizadas en capas:\n",
        "\n",
        "- Capa de entrada: Recibe los datos.\n",
        "- Capas ocultas: Procesan los datos mediante funciones matemáticas.\n",
        "- Capa de salida: Proporciona el resultado final del modelo.\n",
        "\n",
        "Cada neurona está conectada a otras, y las conexiones tienen pesos que ajustan cómo se transmiten los datos. El aprendizaje en una red neuronal implica ajustar estos pesos para que la red produzca resultados precisos."
      ]
    },
    {
      "cell_type": "markdown",
      "metadata": {
        "id": "P54oh70WaNNr"
      },
      "source": [
        "## 2. ¿Qué es Deep Learning?\n",
        "Deep Learning es un subconjunto de machine learning que utiliza redes neuronales profundas, es decir, redes con muchas capas ocultas. Estas capas adicionales permiten que los modelos aprendan representaciones jerárquicas de los datos, lo que es útil para tareas complejas como la clasificación de imágenes o el procesamiento de lenguaje natural.\n",
        "\n",
        "## 3. ¿Cómo Funciona una Red Neuronal?\n",
        "Cada neurona realiza una operación matemática llamada combinación lineal sobre las entradas, multiplicándolas por un peso y sumando un sesgo (bias). El resultado pasa a través de una función de activación, que decide si la neurona debe activarse o no.\n",
        "\n",
        "Algunas funciones de activación comunes incluyen:\n",
        "\n",
        "- ReLU (Rectified Linear Unit): Activa solo valores positivos.\n",
        "- Sigmoid: Convierte valores en una probabilidad entre 0 y 1.\n",
        "- Tanh: Escala valores entre -1 y 1.\n",
        "\n",
        "El objetivo del entrenamiento es minimizar el error entre las predicciones de la red y los valores reales. Esto se logra mediante un proceso llamado backpropagation o retropropagación, que ajusta los pesos de la red a través de optimización, generalmente con el algoritmo de gradiente descendente."
      ]
    },
    {
      "cell_type": "markdown",
      "metadata": {
        "id": "2szf0ZYDaNNs"
      },
      "source": [
        "## Introducción a TensorFlow\n",
        "TensorFlow es una de las bibliotecas más populares para construir y entrenar modelos de deep learning. Te permite definir redes neuronales de manera eficiente y aprovechar el hardware de aceleración como las GPUs.\n",
        "\n",
        "4. Instalación de TensorFlow\n",
        "Para usar TensorFlow, primero se debe instalar con:"
      ]
    },
    {
      "cell_type": "code",
      "execution_count": 29,
      "metadata": {
        "vscode": {
          "languageId": "plaintext"
        },
        "id": "hcHRXF4DaNNs"
      },
      "outputs": [],
      "source": [
        "# !pip install tensorflow"
      ]
    },
    {
      "cell_type": "markdown",
      "metadata": {
        "id": "kBBs30yHaNNt"
      },
      "source": [
        "Si necesitas una versión específica, puedes usar:\n"
      ]
    },
    {
      "cell_type": "code",
      "execution_count": 30,
      "metadata": {
        "vscode": {
          "languageId": "plaintext"
        },
        "id": "z64W-Sq4aNNt"
      },
      "outputs": [],
      "source": [
        "# !pip install tensorflow==[versión-deseada]"
      ]
    },
    {
      "cell_type": "markdown",
      "source": [
        "# Ejercicios con TF"
      ],
      "metadata": {
        "id": "zS9F2H23fj5M"
      }
    },
    {
      "cell_type": "code",
      "source": [
        "# Importar TF\n",
        "import tensorflow as tf"
      ],
      "metadata": {
        "id": "OwcOVglKfl5-"
      },
      "execution_count": 31,
      "outputs": []
    },
    {
      "cell_type": "code",
      "source": [
        "tf.__version__"
      ],
      "metadata": {
        "id": "7vJkh9MVfyUo",
        "outputId": "ef7e8240-b2d1-4bdc-a102-43f2b9bddcb0",
        "colab": {
          "base_uri": "https://localhost:8080/",
          "height": 35
        }
      },
      "execution_count": 32,
      "outputs": [
        {
          "output_type": "execute_result",
          "data": {
            "text/plain": [
              "'2.17.0'"
            ],
            "application/vnd.google.colaboratory.intrinsic+json": {
              "type": "string"
            }
          },
          "metadata": {},
          "execution_count": 32
        }
      ]
    },
    {
      "cell_type": "markdown",
      "source": [
        "### Formas de crear un tensor"
      ],
      "metadata": {
        "id": "ZJygAqIjg9Hw"
      }
    },
    {
      "cell_type": "code",
      "source": [
        "# Primera estrategia para crear un tensor a través de un array de numpy\n",
        "\n",
        "# Importar numpy\n",
        "import numpy as np\n",
        "\n",
        "# Vamos a modificar de 8 por defecto a 3 los decimales impresos en numpy\n",
        "# Más información https://numpy.org/doc/stable/reference/generated/numpy.set_printoptions.html\n",
        "\n",
        "np.set_printoptions(precision=3)"
      ],
      "metadata": {
        "id": "gag6AQpsg_XC"
      },
      "execution_count": 33,
      "outputs": []
    },
    {
      "cell_type": "code",
      "source": [
        "# Vamos a crear dos tensores a base de un array de numpy y de una lista\n",
        "a = np.array([1, 2, 3], dtype=np.int32) # Array numpy\n",
        "b = [4, 5, 6] # Lista\n",
        "\n",
        "t_a = tf.convert_to_tensor(a)\n",
        "t_b = tf.convert_to_tensor(b)\n",
        "\n",
        "print(t_a)\n",
        "print(t_b)"
      ],
      "metadata": {
        "id": "5eQH7x_khzPu",
        "outputId": "8dcfd5e3-88f0-4c8a-fbaf-311682d2c7db",
        "colab": {
          "base_uri": "https://localhost:8080/"
        }
      },
      "execution_count": 34,
      "outputs": [
        {
          "output_type": "stream",
          "name": "stdout",
          "text": [
            "tf.Tensor([1 2 3], shape=(3,), dtype=int32)\n",
            "tf.Tensor([4 5 6], shape=(3,), dtype=int32)\n"
          ]
        }
      ]
    },
    {
      "cell_type": "code",
      "source": [
        "type(a)"
      ],
      "metadata": {
        "id": "MvOys9DbiH_W",
        "outputId": "cd4c7de3-3a6d-4a12-a5a9-ee63c61e9621",
        "colab": {
          "base_uri": "https://localhost:8080/"
        }
      },
      "execution_count": 35,
      "outputs": [
        {
          "output_type": "execute_result",
          "data": {
            "text/plain": [
              "numpy.ndarray"
            ]
          },
          "metadata": {},
          "execution_count": 35
        }
      ]
    },
    {
      "cell_type": "code",
      "source": [
        "type(t_a)"
      ],
      "metadata": {
        "id": "5GFvDZEeiK3W",
        "outputId": "e2f19898-e94d-4a5d-b47a-5a5d6bb0430b",
        "colab": {
          "base_uri": "https://localhost:8080/"
        }
      },
      "execution_count": 36,
      "outputs": [
        {
          "output_type": "execute_result",
          "data": {
            "text/plain": [
              "tensorflow.python.framework.ops.EagerTensor"
            ]
          },
          "metadata": {},
          "execution_count": 36
        }
      ]
    },
    {
      "cell_type": "code",
      "source": [
        "type(b)"
      ],
      "metadata": {
        "id": "OKqUX9rYiPCN",
        "outputId": "6e280a26-c344-41ae-b1ee-9ed2556105d3",
        "colab": {
          "base_uri": "https://localhost:8080/"
        }
      },
      "execution_count": 37,
      "outputs": [
        {
          "output_type": "execute_result",
          "data": {
            "text/plain": [
              "list"
            ]
          },
          "metadata": {},
          "execution_count": 37
        }
      ]
    },
    {
      "cell_type": "code",
      "source": [
        "type(t_b)"
      ],
      "metadata": {
        "id": "gY-PA_k8iQ8t",
        "outputId": "85ad3899-66bc-4d9e-88b9-c060a7a45be9",
        "colab": {
          "base_uri": "https://localhost:8080/"
        }
      },
      "execution_count": 38,
      "outputs": [
        {
          "output_type": "execute_result",
          "data": {
            "text/plain": [
              "tensorflow.python.framework.ops.EagerTensor"
            ]
          },
          "metadata": {},
          "execution_count": 38
        }
      ]
    },
    {
      "cell_type": "code",
      "source": [
        "# Verificar si el dato es un tensor\n",
        "tf.is_tensor(a), tf.is_tensor(t_a)"
      ],
      "metadata": {
        "id": "AOGreD2Cijqy",
        "outputId": "dd6c2995-5047-43c2-e2e2-23986dbbe66a",
        "colab": {
          "base_uri": "https://localhost:8080/"
        }
      },
      "execution_count": 39,
      "outputs": [
        {
          "output_type": "execute_result",
          "data": {
            "text/plain": [
              "(False, True)"
            ]
          },
          "metadata": {},
          "execution_count": 39
        }
      ]
    },
    {
      "cell_type": "code",
      "source": [
        "# Crear un tensor con unos en un shape\n",
        "t_ones = tf.ones((2, 3))\n",
        "\n",
        "t_ones.shape"
      ],
      "metadata": {
        "id": "gKYr8gcXioTP",
        "outputId": "f00daa31-9fac-4df5-fbad-8675a72b4f9e",
        "colab": {
          "base_uri": "https://localhost:8080/"
        }
      },
      "execution_count": 40,
      "outputs": [
        {
          "output_type": "execute_result",
          "data": {
            "text/plain": [
              "TensorShape([2, 3])"
            ]
          },
          "metadata": {},
          "execution_count": 40
        }
      ]
    },
    {
      "cell_type": "code",
      "source": [
        "t_ones"
      ],
      "metadata": {
        "id": "7EomhxSIi5bU",
        "outputId": "63db3e08-2477-41ff-d1c0-a6625eac3d72",
        "colab": {
          "base_uri": "https://localhost:8080/"
        }
      },
      "execution_count": 41,
      "outputs": [
        {
          "output_type": "execute_result",
          "data": {
            "text/plain": [
              "<tf.Tensor: shape=(2, 3), dtype=float32, numpy=\n",
              "array([[1., 1., 1.],\n",
              "       [1., 1., 1.]], dtype=float32)>"
            ]
          },
          "metadata": {},
          "execution_count": 41
        }
      ]
    },
    {
      "cell_type": "code",
      "source": [
        "t_ones.numpy()"
      ],
      "metadata": {
        "id": "mjcPnhUsjAAt",
        "outputId": "1334385c-def6-428e-cfba-2068e0fc8948",
        "colab": {
          "base_uri": "https://localhost:8080/"
        }
      },
      "execution_count": 42,
      "outputs": [
        {
          "output_type": "execute_result",
          "data": {
            "text/plain": [
              "array([[1., 1., 1.],\n",
              "       [1., 1., 1.]], dtype=float32)"
            ]
          },
          "metadata": {},
          "execution_count": 42
        }
      ]
    },
    {
      "cell_type": "code",
      "source": [
        "# Crear un tensor usando tf.constant\n",
        "const_tensor = tf.constant([1.2, 5, np.pi], dtype=tf.float32)\n",
        "\n",
        "print(const_tensor)"
      ],
      "metadata": {
        "id": "XwRdfQt-jfqo",
        "outputId": "9c343074-2efa-4a03-fefa-4214c7b25932",
        "colab": {
          "base_uri": "https://localhost:8080/"
        }
      },
      "execution_count": 43,
      "outputs": [
        {
          "output_type": "stream",
          "name": "stdout",
          "text": [
            "tf.Tensor([1.2   5.    3.142], shape=(3,), dtype=float32)\n"
          ]
        }
      ]
    },
    {
      "cell_type": "code",
      "source": [
        "# Crear tensor con tf.fill\n",
        "# El primer parámetro es el shape y el segundo es el escalar\n",
        "tf.fill((2, 3), 1)"
      ],
      "metadata": {
        "id": "TgNa_Tm5jv1A",
        "outputId": "93355caa-d114-40f1-c939-0b95480dd9eb",
        "colab": {
          "base_uri": "https://localhost:8080/"
        }
      },
      "execution_count": 44,
      "outputs": [
        {
          "output_type": "execute_result",
          "data": {
            "text/plain": [
              "<tf.Tensor: shape=(2, 3), dtype=int32, numpy=\n",
              "array([[1, 1, 1],\n",
              "       [1, 1, 1]], dtype=int32)>"
            ]
          },
          "metadata": {},
          "execution_count": 44
        }
      ]
    },
    {
      "cell_type": "code",
      "source": [
        "# Crear tensor one hot\n",
        "tf.one_hot([0, 1, 2], 4)"
      ],
      "metadata": {
        "id": "cquq6HPEkuSr",
        "outputId": "7ab3bfb8-c418-4cae-c3da-d40639702e08",
        "colab": {
          "base_uri": "https://localhost:8080/"
        }
      },
      "execution_count": 45,
      "outputs": [
        {
          "output_type": "execute_result",
          "data": {
            "text/plain": [
              "<tf.Tensor: shape=(3, 4), dtype=float32, numpy=\n",
              "array([[1., 0., 0., 0.],\n",
              "       [0., 1., 0., 0.],\n",
              "       [0., 0., 1., 0.]], dtype=float32)>"
            ]
          },
          "metadata": {},
          "execution_count": 45
        }
      ]
    },
    {
      "cell_type": "markdown",
      "source": [
        "### Modificación de forma y tipo de dato de un tensor"
      ],
      "metadata": {
        "id": "OKx0qzvSlAN9"
      }
    },
    {
      "cell_type": "code",
      "source": [
        "# Originalmente nuestro tensor t_a\n",
        "t_a"
      ],
      "metadata": {
        "id": "fEbKAhR6lL-r",
        "outputId": "2ffcc6f1-3a58-4ba0-b46e-da218b5bac40",
        "colab": {
          "base_uri": "https://localhost:8080/"
        }
      },
      "execution_count": 46,
      "outputs": [
        {
          "output_type": "execute_result",
          "data": {
            "text/plain": [
              "<tf.Tensor: shape=(3,), dtype=int32, numpy=array([1, 2, 3], dtype=int32)>"
            ]
          },
          "metadata": {},
          "execution_count": 46
        }
      ]
    },
    {
      "cell_type": "code",
      "source": [
        "# tf.cast cambiamos el tipo de dato del tensor\n",
        "t_a_new = tf.cast(t_a, tf.int64)\n",
        "\n",
        "print(t_a_new.dtype)"
      ],
      "metadata": {
        "id": "LobcHVdAk829",
        "outputId": "b055ba06-0f36-45c9-9e76-3980399c979c",
        "colab": {
          "base_uri": "https://localhost:8080/"
        }
      },
      "execution_count": 47,
      "outputs": [
        {
          "output_type": "stream",
          "name": "stdout",
          "text": [
            "<dtype: 'int64'>\n"
          ]
        }
      ]
    },
    {
      "cell_type": "code",
      "source": [
        "t_a_new"
      ],
      "metadata": {
        "id": "HneRsqMOlYZa",
        "outputId": "82e0eae3-e5b8-4393-f21c-7ae7432714f8",
        "colab": {
          "base_uri": "https://localhost:8080/"
        }
      },
      "execution_count": 48,
      "outputs": [
        {
          "output_type": "execute_result",
          "data": {
            "text/plain": [
              "<tf.Tensor: shape=(3,), dtype=int64, numpy=array([1, 2, 3])>"
            ]
          },
          "metadata": {},
          "execution_count": 48
        }
      ]
    },
    {
      "cell_type": "code",
      "source": [
        "# random.uniform entrega un conjunto de valores random con una distribución uniforme\n",
        "t = tf.random.uniform(shape=(3, 5))\n",
        "\n",
        "print(t)\n",
        "print(\"---\"*45)\n",
        "\n",
        "t_tr = tf.transpose(t)\n",
        "print(t.shape, ' --> ', t_tr.shape)"
      ],
      "metadata": {
        "id": "jKu2waGyllwT",
        "outputId": "4f970b1a-6b35-4c07-ba54-bb7e3921a1c3",
        "colab": {
          "base_uri": "https://localhost:8080/"
        }
      },
      "execution_count": 49,
      "outputs": [
        {
          "output_type": "stream",
          "name": "stdout",
          "text": [
            "tf.Tensor(\n",
            "[[0.929 0.477 0.292 0.304 0.995]\n",
            " [0.692 0.429 0.582 0.394 0.939]\n",
            " [0.638 0.152 0.296 0.726 0.141]], shape=(3, 5), dtype=float32)\n",
            "---------------------------------------------------------------------------------------------------------------------------------------\n",
            "(3, 5)  -->  (5, 3)\n"
          ]
        }
      ]
    },
    {
      "cell_type": "code",
      "source": [
        "t_tr"
      ],
      "metadata": {
        "id": "wj7-Vq0FmCsN",
        "outputId": "bfd209fd-5b78-4f25-d6d3-a8a4128fc2c7",
        "colab": {
          "base_uri": "https://localhost:8080/"
        }
      },
      "execution_count": 50,
      "outputs": [
        {
          "output_type": "execute_result",
          "data": {
            "text/plain": [
              "<tf.Tensor: shape=(5, 3), dtype=float32, numpy=\n",
              "array([[0.929, 0.692, 0.638],\n",
              "       [0.477, 0.429, 0.152],\n",
              "       [0.292, 0.582, 0.296],\n",
              "       [0.304, 0.394, 0.726],\n",
              "       [0.995, 0.939, 0.141]], dtype=float32)>"
            ]
          },
          "metadata": {},
          "execution_count": 50
        }
      ]
    },
    {
      "cell_type": "code",
      "source": [
        "# Reshape un tensor\n",
        "t = tf.zeros((30,)) #Creamos un tensor con ceros\n",
        "\n",
        "t_reshpae = tf.reshape(t, shape=(5, 6)) # Luego cambiamos la shape\n",
        "\n",
        "print(t_reshpae.shape)"
      ],
      "metadata": {
        "id": "-y8U_a9GnKFv",
        "outputId": "8c5989a9-b220-4436-94a1-9e42aba6ceca",
        "colab": {
          "base_uri": "https://localhost:8080/"
        }
      },
      "execution_count": 51,
      "outputs": [
        {
          "output_type": "stream",
          "name": "stdout",
          "text": [
            "(5, 6)\n"
          ]
        }
      ]
    },
    {
      "cell_type": "code",
      "source": [
        "# Tensor con ceros\n",
        "t"
      ],
      "metadata": {
        "id": "mtIHB2d1nT0Q",
        "outputId": "82c0c9fd-a2ca-4a24-e4e1-5a6d1d5027f4",
        "colab": {
          "base_uri": "https://localhost:8080/"
        }
      },
      "execution_count": 52,
      "outputs": [
        {
          "output_type": "execute_result",
          "data": {
            "text/plain": [
              "<tf.Tensor: shape=(30,), dtype=float32, numpy=\n",
              "array([0., 0., 0., 0., 0., 0., 0., 0., 0., 0., 0., 0., 0., 0., 0., 0., 0.,\n",
              "       0., 0., 0., 0., 0., 0., 0., 0., 0., 0., 0., 0., 0.], dtype=float32)>"
            ]
          },
          "metadata": {},
          "execution_count": 52
        }
      ]
    },
    {
      "cell_type": "code",
      "source": [
        "# El tensor con el nuevo shape\n",
        "t_reshpae"
      ],
      "metadata": {
        "id": "MG5zOWBcnZau",
        "outputId": "27f09670-9438-4170-a8b7-bd617221ef74",
        "colab": {
          "base_uri": "https://localhost:8080/"
        }
      },
      "execution_count": 53,
      "outputs": [
        {
          "output_type": "execute_result",
          "data": {
            "text/plain": [
              "<tf.Tensor: shape=(5, 6), dtype=float32, numpy=\n",
              "array([[0., 0., 0., 0., 0., 0.],\n",
              "       [0., 0., 0., 0., 0., 0.],\n",
              "       [0., 0., 0., 0., 0., 0.],\n",
              "       [0., 0., 0., 0., 0., 0.],\n",
              "       [0., 0., 0., 0., 0., 0.]], dtype=float32)>"
            ]
          },
          "metadata": {},
          "execution_count": 53
        }
      ]
    },
    {
      "cell_type": "code",
      "source": [
        "t = tf.zeros((1, 2, 1, 4, 1)) # Creamos un tensor con ceros"
      ],
      "metadata": {
        "id": "Dxtl3H6gnqOp"
      },
      "execution_count": 54,
      "outputs": []
    },
    {
      "cell_type": "code",
      "source": [
        "t"
      ],
      "metadata": {
        "id": "jbdLQ5vdn5DP",
        "outputId": "bc065df9-97f5-461f-9122-cdcbe24da0f0",
        "colab": {
          "base_uri": "https://localhost:8080/"
        }
      },
      "execution_count": 55,
      "outputs": [
        {
          "output_type": "execute_result",
          "data": {
            "text/plain": [
              "<tf.Tensor: shape=(1, 2, 1, 4, 1), dtype=float32, numpy=\n",
              "array([[[[[0.],\n",
              "          [0.],\n",
              "          [0.],\n",
              "          [0.]]],\n",
              "\n",
              "\n",
              "        [[[0.],\n",
              "          [0.],\n",
              "          [0.],\n",
              "          [0.]]]]], dtype=float32)>"
            ]
          },
          "metadata": {},
          "execution_count": 55
        }
      ]
    },
    {
      "cell_type": "code",
      "source": [
        "# Usamos squeeze para remover el shape\n",
        "t_sqz = tf.squeeze(t, axis=(2, 4))\n",
        "\n",
        "print(t.shape, ' --> ', t_sqz.shape)"
      ],
      "metadata": {
        "id": "j5No2mL4n1fd",
        "outputId": "9da60f8e-de4c-4ece-b845-ae70cb3ca37f",
        "colab": {
          "base_uri": "https://localhost:8080/"
        }
      },
      "execution_count": 56,
      "outputs": [
        {
          "output_type": "stream",
          "name": "stdout",
          "text": [
            "(1, 2, 1, 4, 1)  -->  (1, 2, 4)\n"
          ]
        }
      ]
    },
    {
      "cell_type": "code",
      "source": [
        "t_sqz"
      ],
      "metadata": {
        "id": "gKGBN0eCoG7G",
        "outputId": "a01a8e68-0d03-422d-94be-fd62981a7515",
        "colab": {
          "base_uri": "https://localhost:8080/"
        }
      },
      "execution_count": 57,
      "outputs": [
        {
          "output_type": "execute_result",
          "data": {
            "text/plain": [
              "<tf.Tensor: shape=(1, 2, 4), dtype=float32, numpy=\n",
              "array([[[0., 0., 0., 0.],\n",
              "        [0., 0., 0., 0.]]], dtype=float32)>"
            ]
          },
          "metadata": {},
          "execution_count": 57
        }
      ]
    },
    {
      "cell_type": "markdown",
      "source": [
        "#### Operaciones Aritméticas\n",
        "- Suma: `tf.add(x, y)` o el operador `+`\n",
        "- Resta: `tf.subtract(x, y)` o el operador `-`\n",
        "- Multiplicación: `tf.multiply(x, y)` o el operador `*`\n",
        "- División: `tf.divide(x, y)` o el operador `/`\n",
        "- Exponente: `tf.pow(x, y)` o el operador `**`\n",
        "- Módulo: `tf.math.mod(x, y)`\n",
        "#### Operaciones de Álgebra Lineal\n",
        "- Producto Punto (dot product): `tf.linalg.matmul(x, y)` o el operador `@`\n",
        "- Transposición: `tf.transpose(x)`\n",
        "- Inversa: `tf.linalg.inv(x)`\n",
        "- Determinante: `tf.linalg.det(x)`\n",
        "- Descomposición en valores singulares (SVD): `tf.linalg.svd(x)`\n",
        "#### Operaciones de Reducción\n",
        "- Suma a lo largo del eje: `tf.reduce_sum(x, axis)`\n",
        "- Promedio a lo largo del eje: `tf.reduce_mean(x, axis)`\n",
        "- Máximo a lo largo del eje: `tf.reduce_max(x, axis)`\n",
        "- Mínimo a lo largo del eje: `tf.reduce_min(x, axis)`\n",
        "#### Operaciones de Comparación\n",
        "- Igualdad: `tf.equal(x, y)`\n",
        "- Desigualdad: `tf.not_equal(x, y)`\n",
        "- Mayor que: `tf.greater(x, y)`\n",
        "- Menor que: `tf.less(x, y)`\n",
        "#### Operaciones Lógicas\n",
        "- AND lógico: `tf.logical_and(x, y)`\n",
        "- OR lógico: `tf.logical_or(x, y)`\n",
        "- NOT lógico: `tf.logical_not(x)`\n",
        "#### Operaciones de Activación\n",
        "- ReLU: `tf.nn.relu(x)`\n",
        "- Sigmoid: `tf.nn.sigmoid(x)`\n",
        "- Tanh: `tf.nn.tanh(x)`\n",
        "- Softmax: `tf.nn.softmax(x)`\n",
        "#### Operaciones de Manipulación de Tensores\n",
        "- Redimensionar: `tf.reshape(x, shape)`\n",
        "- Concatenar: `tf.concat([x, y], axis)`\n",
        "- Dividir: `tf.split(x, num_or_size_splits, axis)`\n",
        "#### Operaciones de Normalización\n",
        "- Normalización Batch: `tf.keras.layers.BatchNormalization(x)`\n",
        "- Normalización de Capa: `tf.keras.layers.LayerNormalization(x)`"
      ],
      "metadata": {
        "id": "vIrx3VW1oPSB"
      }
    },
    {
      "cell_type": "code",
      "source": [
        "tf.random.set_seed(1) # Semilla global\n",
        "\n",
        "t1 = tf.random.uniform(shape=(5, 2),\n",
        "                       minval=-1.0,\n",
        "                       maxval=1.0)\n",
        "\n",
        "t2 = tf.random.normal(shape=(5, 2),\n",
        "                      mean=0.0,\n",
        "                      stddev=1.0)"
      ],
      "metadata": {
        "id": "SjVyAmQmuXZ0"
      },
      "execution_count": 59,
      "outputs": []
    },
    {
      "cell_type": "code",
      "source": [
        "t1"
      ],
      "metadata": {
        "id": "pwWsIJ7HufGZ",
        "outputId": "13d3d780-cf86-489e-a4bd-4b07d8f7d0e2",
        "colab": {
          "base_uri": "https://localhost:8080/"
        }
      },
      "execution_count": 60,
      "outputs": [
        {
          "output_type": "execute_result",
          "data": {
            "text/plain": [
              "<tf.Tensor: shape=(5, 2), dtype=float32, numpy=\n",
              "array([[-0.67 ,  0.803],\n",
              "       [ 0.262, -0.131],\n",
              "       [-0.416,  0.285],\n",
              "       [ 0.952, -0.13 ],\n",
              "       [ 0.32 ,  0.21 ]], dtype=float32)>"
            ]
          },
          "metadata": {},
          "execution_count": 60
        }
      ]
    },
    {
      "cell_type": "code",
      "source": [
        "t2"
      ],
      "metadata": {
        "id": "F7rBuOzMugU8",
        "outputId": "261cc2f8-0eb6-4633-a87b-b6ef38df890b",
        "colab": {
          "base_uri": "https://localhost:8080/"
        }
      },
      "execution_count": 61,
      "outputs": [
        {
          "output_type": "execute_result",
          "data": {
            "text/plain": [
              "<tf.Tensor: shape=(5, 2), dtype=float32, numpy=\n",
              "array([[ 0.403, -1.088],\n",
              "       [-0.063,  1.337],\n",
              "       [ 0.712, -0.489],\n",
              "       [-0.764, -1.037],\n",
              "       [-1.252,  0.021]], dtype=float32)>"
            ]
          },
          "metadata": {},
          "execution_count": 61
        }
      ]
    },
    {
      "cell_type": "code",
      "source": [
        "# Multiplicación\n",
        "t3 = tf.multiply(t1, t2).numpy()\n",
        "print(t3)"
      ],
      "metadata": {
        "id": "a_vAV67-ocjv",
        "outputId": "48fabcda-1523-401d-af26-e5113c5d27cc",
        "colab": {
          "base_uri": "https://localhost:8080/"
        }
      },
      "execution_count": 62,
      "outputs": [
        {
          "output_type": "stream",
          "name": "stdout",
          "text": [
            "[[-0.27  -0.874]\n",
            " [-0.017 -0.175]\n",
            " [-0.296 -0.139]\n",
            " [-0.727  0.135]\n",
            " [-0.401  0.004]]\n"
          ]
        }
      ]
    },
    {
      "cell_type": "code",
      "source": [
        "t4 = tf.math.reduce_mean(t1, axis=0) # Computes the mean of elements across dimensions of a tensor\n",
        "\n",
        "print(t4)"
      ],
      "metadata": {
        "id": "Pg5TJn_8unf1",
        "outputId": "e9bb5076-09f5-487e-bb86-f476c4d11338",
        "colab": {
          "base_uri": "https://localhost:8080/"
        }
      },
      "execution_count": 63,
      "outputs": [
        {
          "output_type": "stream",
          "name": "stdout",
          "text": [
            "tf.Tensor([0.09  0.207], shape=(2,), dtype=float32)\n"
          ]
        }
      ]
    },
    {
      "cell_type": "code",
      "source": [
        "t5 = tf.linalg.matmul(t1, t2, transpose_b=True) # Multiplies matrix a by matrix b, producing a * b\n",
        "# If transpose_b is True, b is transposed before multiplication\n",
        "\n",
        "print(t5)"
      ],
      "metadata": {
        "id": "ONku1jh6uzCH",
        "outputId": "c5aec87b-19e7-4703-9278-36c87dc2aa0d",
        "colab": {
          "base_uri": "https://localhost:8080/"
        }
      },
      "execution_count": 64,
      "outputs": [
        {
          "output_type": "stream",
          "name": "stdout",
          "text": [
            "tf.Tensor(\n",
            "[[-1.144  1.115 -0.87  -0.321  0.856]\n",
            " [ 0.248 -0.191  0.25  -0.064 -0.331]\n",
            " [-0.478  0.407 -0.436  0.022  0.527]\n",
            " [ 0.525 -0.234  0.741 -0.593 -1.194]\n",
            " [-0.099  0.26   0.125 -0.462 -0.396]], shape=(5, 5), dtype=float32)\n"
          ]
        }
      ]
    },
    {
      "cell_type": "code",
      "source": [
        "t6 = tf.linalg.matmul(t1, t2, transpose_a=True)\n",
        "\n",
        "print(t6)"
      ],
      "metadata": {
        "id": "-uKzwJgTvWKC",
        "outputId": "e9c58f56-f5ff-4a31-b9bf-4cd99f6a8c2e",
        "colab": {
          "base_uri": "https://localhost:8080/"
        }
      },
      "execution_count": 65,
      "outputs": [
        {
          "output_type": "stream",
          "name": "stdout",
          "text": [
            "tf.Tensor(\n",
            "[[-1.711  0.302]\n",
            " [ 0.371 -1.049]], shape=(2, 2), dtype=float32)\n"
          ]
        }
      ]
    },
    {
      "cell_type": "code",
      "source": [
        "norm_t1 = tf.norm(t1, ord=2, axis=1).numpy() # Computes the norm of vectors, matrices, and tensors\n",
        "\n",
        "print(norm_t1)"
      ],
      "metadata": {
        "id": "-fsXh1tcvchd",
        "outputId": "f972d78c-3e1d-4e07-9b43-3d00aa62bd85",
        "colab": {
          "base_uri": "https://localhost:8080/"
        }
      },
      "execution_count": 66,
      "outputs": [
        {
          "output_type": "stream",
          "name": "stdout",
          "text": [
            "[1.046 0.293 0.504 0.96  0.383]\n"
          ]
        }
      ]
    },
    {
      "cell_type": "code",
      "source": [
        "# Podríamos hacer el mismo calculo anterior con numpy\n",
        "np.sqrt(np.sum(np.square(t1), axis=1))"
      ],
      "metadata": {
        "id": "kSQgiBv8vtGy",
        "outputId": "7c4af5bb-c457-432c-ea1f-e8a8a695e9d3",
        "colab": {
          "base_uri": "https://localhost:8080/"
        }
      },
      "execution_count": 67,
      "outputs": [
        {
          "output_type": "execute_result",
          "data": {
            "text/plain": [
              "array([1.046, 0.293, 0.504, 0.96 , 0.383], dtype=float32)"
            ]
          },
          "metadata": {},
          "execution_count": 67
        }
      ]
    },
    {
      "cell_type": "code",
      "source": [
        "# Podrmos usar @ para multiplicar tensores\n",
        "t1 @ tf.transpose(t2)"
      ],
      "metadata": {
        "id": "gLa-2yd5v8A5",
        "outputId": "2aec36ff-5356-4a02-b4a6-8e2e62bb3b7e",
        "colab": {
          "base_uri": "https://localhost:8080/"
        }
      },
      "execution_count": 68,
      "outputs": [
        {
          "output_type": "execute_result",
          "data": {
            "text/plain": [
              "<tf.Tensor: shape=(5, 5), dtype=float32, numpy=\n",
              "array([[-1.144,  1.115, -0.87 , -0.321,  0.856],\n",
              "       [ 0.248, -0.191,  0.25 , -0.064, -0.331],\n",
              "       [-0.478,  0.407, -0.436,  0.022,  0.527],\n",
              "       [ 0.525, -0.234,  0.741, -0.593, -1.194],\n",
              "       [-0.099,  0.26 ,  0.125, -0.462, -0.396]], dtype=float32)>"
            ]
          },
          "metadata": {},
          "execution_count": 68
        }
      ]
    },
    {
      "cell_type": "code",
      "source": [
        "# Split de tensores\n",
        "tf.random.set_seed(1)\n",
        "\n",
        "t = tf.random.uniform((6,))\n",
        "\n",
        "print(t.numpy())\n",
        "\n",
        "t_splits = tf.split(t, 3)\n",
        "\n",
        "[item.numpy() for item in t_splits]"
      ],
      "metadata": {
        "id": "eFDu-e6twNRp",
        "outputId": "4e30208e-beba-430c-977c-c233fa28f117",
        "colab": {
          "base_uri": "https://localhost:8080/"
        }
      },
      "execution_count": 69,
      "outputs": [
        {
          "output_type": "stream",
          "name": "stdout",
          "text": [
            "[0.165 0.901 0.631 0.435 0.292 0.643]\n"
          ]
        },
        {
          "output_type": "execute_result",
          "data": {
            "text/plain": [
              "[array([0.165, 0.901], dtype=float32),\n",
              " array([0.631, 0.435], dtype=float32),\n",
              " array([0.292, 0.643], dtype=float32)]"
            ]
          },
          "metadata": {},
          "execution_count": 69
        }
      ]
    },
    {
      "cell_type": "code",
      "source": [
        "# concatenar tensores\n",
        "A = tf.ones((3,))\n",
        "B = tf.zeros((2,))\n",
        "\n",
        "C = tf.concat([A, B], axis=0)\n",
        "print(C.numpy())"
      ],
      "metadata": {
        "id": "iISM_CRswh-N",
        "outputId": "2484735c-55e2-4b76-823c-d4866f76d462",
        "colab": {
          "base_uri": "https://localhost:8080/"
        }
      },
      "execution_count": 70,
      "outputs": [
        {
          "output_type": "stream",
          "name": "stdout",
          "text": [
            "[1. 1. 1. 0. 0.]\n"
          ]
        }
      ]
    },
    {
      "cell_type": "code",
      "source": [
        "A"
      ],
      "metadata": {
        "id": "HeTFMUvkwsmE",
        "outputId": "eb9cc6bf-f89a-477b-b9ab-bda539d48943",
        "colab": {
          "base_uri": "https://localhost:8080/"
        }
      },
      "execution_count": 71,
      "outputs": [
        {
          "output_type": "execute_result",
          "data": {
            "text/plain": [
              "<tf.Tensor: shape=(3,), dtype=float32, numpy=array([1., 1., 1.], dtype=float32)>"
            ]
          },
          "metadata": {},
          "execution_count": 71
        }
      ]
    },
    {
      "cell_type": "code",
      "source": [
        "B"
      ],
      "metadata": {
        "id": "646px_LewuQ5",
        "outputId": "44b634d7-b43c-4827-82fc-51afa3f07372",
        "colab": {
          "base_uri": "https://localhost:8080/"
        }
      },
      "execution_count": 72,
      "outputs": [
        {
          "output_type": "execute_result",
          "data": {
            "text/plain": [
              "<tf.Tensor: shape=(2,), dtype=float32, numpy=array([0., 0.], dtype=float32)>"
            ]
          },
          "metadata": {},
          "execution_count": 72
        }
      ]
    },
    {
      "cell_type": "code",
      "source": [
        "# Stacks a list of rank-R tensors into one rank-(R+1) tensor\n",
        "A = tf.ones((3,))\n",
        "B = tf.zeros((3,))\n",
        "\n",
        "S = tf.stack([A, B], axis=1)\n",
        "print(S.numpy())"
      ],
      "metadata": {
        "id": "0-PtdMQNwyi_",
        "outputId": "a50a5c02-e420-4bf2-e0ab-8bd4325f3a1c",
        "colab": {
          "base_uri": "https://localhost:8080/"
        }
      },
      "execution_count": 73,
      "outputs": [
        {
          "output_type": "stream",
          "name": "stdout",
          "text": [
            "[[1. 0.]\n",
            " [1. 0.]\n",
            " [1. 0.]]\n"
          ]
        }
      ]
    },
    {
      "cell_type": "markdown",
      "source": [
        "## Datasets con TensorFlow"
      ],
      "metadata": {
        "id": "ltzIn4q5xUUv"
      }
    },
    {
      "cell_type": "markdown",
      "source": [
        "#### Building TensorFlow dataset in a tensor\n"
      ],
      "metadata": {
        "id": "ZZoDlbzGyAWE"
      }
    },
    {
      "cell_type": "code",
      "source": [
        "a = [1.2, 3.4, 7.5, 4.1, 5.0, 1.0]\n",
        "\n",
        "ds = tf.data.Dataset.from_tensor_slices(a)\n",
        "\n",
        "print(ds)"
      ],
      "metadata": {
        "id": "L8tvgETyxWxc"
      },
      "execution_count": null,
      "outputs": []
    },
    {
      "cell_type": "markdown",
      "metadata": {
        "id": "V4VjyvsNaNNt"
      },
      "source": [
        "### 5. Construcción de un Modelo en TensorFlow\n",
        "TensorFlow te permite definir redes neuronales de forma flexible. Aquí te muestro cómo definir una red neuronal simple usando la API de alto nivel Keras, que está integrada en TensorFlow."
      ]
    },
    {
      "cell_type": "code",
      "execution_count": null,
      "metadata": {
        "vscode": {
          "languageId": "plaintext"
        },
        "id": "yL2idrNtaNNu"
      },
      "outputs": [],
      "source": [
        "import tensorflow as tf\n",
        "from tensorflow.keras import layers, models\n",
        "\n",
        "# Definir un modelo secuencial\n",
        "model = models.Sequential()\n",
        "\n",
        "# Añadir una capa de entrada\n",
        "model.add(layers.Dense(64, activation='relu', input_shape=(100,)))\n",
        "\n",
        "# Añadir capas ocultas\n",
        "model.add(layers.Dense(64, activation='relu'))\n",
        "\n",
        "# Añadir la capa de salida\n",
        "model.add(layers.Dense(10, activation='softmax'))\n",
        "\n",
        "# Compilar el modelo\n",
        "model.compile(optimizer='adam', loss='categorical_crossentropy', metrics=['accuracy'])\n"
      ]
    },
    {
      "cell_type": "markdown",
      "metadata": {
        "id": "qWKNFJoqaNNu"
      },
      "source": [
        "### 6. Entrenamiento del Modelo\n",
        "Una vez que el modelo está definido, se entrena usando un conjunto de datos. El siguiente código entrena el modelo con datos de entrenamiento:"
      ]
    },
    {
      "cell_type": "code",
      "execution_count": null,
      "metadata": {
        "vscode": {
          "languageId": "plaintext"
        },
        "id": "k65pkz9LaNNu"
      },
      "outputs": [],
      "source": [
        "# Asumiendo que tienes los datos de entrenamiento en X_train y y_train\n",
        "model.fit(X_train, y_train, epochs=10, batch_size=32)\n"
      ]
    },
    {
      "cell_type": "markdown",
      "metadata": {
        "id": "AjS-XLK0aNNv"
      },
      "source": [
        "El modelo se entrena ajustando los pesos en cada iteración para minimizar la función de pérdida. Aquí, el modelo está usando la función de pérdida de categorical_crossentropy porque estamos clasificando en múltiples categorías.\n",
        "\n",
        "### 7. Evaluación del Modelo\n",
        "Después del entrenamiento, es importante evaluar el modelo con un conjunto de datos de prueba para ver su desempeño en datos no vistos:"
      ]
    },
    {
      "cell_type": "code",
      "execution_count": null,
      "metadata": {
        "vscode": {
          "languageId": "plaintext"
        },
        "id": "glN9uT_waNNv"
      },
      "outputs": [],
      "source": [
        "# Evaluar el modelo\n",
        "loss, accuracy = model.evaluate(X_test, y_test)\n",
        "print(f\"Test accuracy: {accuracy}\")"
      ]
    }
  ],
  "metadata": {
    "language_info": {
      "name": "python"
    },
    "colab": {
      "provenance": [],
      "gpuType": "T4"
    },
    "accelerator": "GPU",
    "kernelspec": {
      "name": "python3",
      "display_name": "Python 3"
    }
  },
  "nbformat": 4,
  "nbformat_minor": 0
}