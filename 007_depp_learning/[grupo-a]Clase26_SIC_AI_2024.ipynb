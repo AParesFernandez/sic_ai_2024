{
  "cells": [
    {
      "cell_type": "markdown",
      "metadata": {
        "id": "kA-9EPZdQZ1_"
      },
      "source": [
        "# Clase 26: Redes Neuronales y Deep Learning\n",
        "## Introducción a las Redes Neuronales y Deep Learning\n",
        "1. ¿Qué es una Red Neuronal?\n",
        "\n",
        "Una Red Neuronal Artificial (ANN) es un modelo inspirado en el cerebro humano, diseñado para reconocer patrones complejos en datos. Se compone de neuronas artificiales (también llamadas nodos o unidades) que están organizadas en capas:\n",
        "\n",
        "- Capa de entrada: Recibe los datos.\n",
        "- Capas ocultas: Procesan los datos mediante funciones matemáticas.\n",
        "- Capa de salida: Proporciona el resultado final del modelo.\n",
        "\n",
        "Cada neurona está conectada a otras, y las conexiones tienen pesos que ajustan cómo se transmiten los datos. El aprendizaje en una red neuronal implica ajustar estos pesos para que la red produzca resultados precisos."
      ]
    },
    {
      "cell_type": "markdown",
      "metadata": {
        "id": "52Kq8DzBQZ2B"
      },
      "source": [
        "## 2. ¿Qué es Deep Learning?\n",
        "Deep Learning es un subconjunto de machine learning que utiliza redes neuronales profundas, es decir, redes con muchas capas ocultas. Estas capas adicionales permiten que los modelos aprendan representaciones jerárquicas de los datos, lo que es útil para tareas complejas como la clasificación de imágenes o el procesamiento de lenguaje natural.\n",
        "\n",
        "## 3. ¿Cómo Funciona una Red Neuronal?\n",
        "Cada neurona realiza una operación matemática llamada combinación lineal sobre las entradas, multiplicándolas por un peso y sumando un sesgo (bias). El resultado pasa a través de una función de activación, que decide si la neurona debe activarse o no.\n",
        "\n",
        "Algunas funciones de activación comunes incluyen:\n",
        "\n",
        "- ReLU (Rectified Linear Unit): Activa solo valores positivos.\n",
        "- Sigmoid: Convierte valores en una probabilidad entre 0 y 1.\n",
        "- Tanh: Escala valores entre -1 y 1.\n",
        "\n",
        "El objetivo del entrenamiento es minimizar el error entre las predicciones de la red y los valores reales. Esto se logra mediante un proceso llamado backpropagation o retropropagación, que ajusta los pesos de la red a través de optimización, generalmente con el algoritmo de gradiente descendente."
      ]
    },
    {
      "cell_type": "markdown",
      "metadata": {
        "id": "HTA5tHosQZ2B"
      },
      "source": [
        "## Introducción a TensorFlow\n",
        "TensorFlow es una de las bibliotecas más populares para construir y entrenar modelos de deep learning. Te permite definir redes neuronales de manera eficiente y aprovechar el hardware de aceleración como las GPUs.\n",
        "\n",
        "4. Instalación de TensorFlow\n",
        "Para usar TensorFlow, primero se debe instalar con:"
      ]
    },
    {
      "cell_type": "code",
      "execution_count": null,
      "metadata": {
        "vscode": {
          "languageId": "plaintext"
        },
        "id": "ZR0YfxYoQZ2C"
      },
      "outputs": [],
      "source": [
        "#!pip install tensorflow"
      ]
    },
    {
      "cell_type": "markdown",
      "metadata": {
        "id": "0UCEeoEYQZ2C"
      },
      "source": [
        "Si necesitas una versión específica, puedes usar:\n"
      ]
    },
    {
      "cell_type": "code",
      "execution_count": null,
      "metadata": {
        "vscode": {
          "languageId": "plaintext"
        },
        "id": "_oqySQlMQZ2D"
      },
      "outputs": [],
      "source": [
        "#!pip install tensorflow==[versión-deseada]"
      ]
    },
    {
      "cell_type": "markdown",
      "source": [
        "### Verificar versión instalada"
      ],
      "metadata": {
        "id": "j4AeLTPwUyG9"
      }
    },
    {
      "cell_type": "code",
      "source": [
        "import tensorflow as tf\n",
        "tf.__version__"
      ],
      "metadata": {
        "id": "7sc0YCleU1Ax",
        "outputId": "6e786312-1f4c-49f9-a1e7-7232a77cd190",
        "colab": {
          "base_uri": "https://localhost:8080/",
          "height": 35
        }
      },
      "execution_count": 2,
      "outputs": [
        {
          "output_type": "execute_result",
          "data": {
            "text/plain": [
              "'2.17.0'"
            ],
            "application/vnd.google.colaboratory.intrinsic+json": {
              "type": "string"
            }
          },
          "metadata": {},
          "execution_count": 2
        }
      ]
    },
    {
      "cell_type": "code",
      "source": [
        "import numpy as np"
      ],
      "metadata": {
        "id": "OJrpci3ZWZfg"
      },
      "execution_count": 3,
      "outputs": []
    },
    {
      "cell_type": "code",
      "source": [
        "np.set_printoptions(precision=3)"
      ],
      "metadata": {
        "id": "i1FeYB5HWfe3"
      },
      "execution_count": 4,
      "outputs": []
    },
    {
      "cell_type": "code",
      "source": [
        "a = np.array([1, 2, 3], dtype=np.int32)\n",
        "b = [4, 5, 6]\n",
        "\n",
        "t_a = tf.convert_to_tensor(a)\n",
        "t_b = tf.convert_to_tensor(b)\n",
        "\n",
        "print(t_a)\n",
        "print(t_b)"
      ],
      "metadata": {
        "id": "UjKFHK7gWvaP",
        "outputId": "4e879cc8-7d4d-4bd8-f9ac-af2705f44f36",
        "colab": {
          "base_uri": "https://localhost:8080/"
        }
      },
      "execution_count": 5,
      "outputs": [
        {
          "output_type": "stream",
          "name": "stdout",
          "text": [
            "tf.Tensor([1 2 3], shape=(3,), dtype=int32)\n",
            "tf.Tensor([4 5 6], shape=(3,), dtype=int32)\n"
          ]
        }
      ]
    },
    {
      "cell_type": "code",
      "source": [
        "tf.is_tensor(a), tf.is_tensor(t_a)"
      ],
      "metadata": {
        "id": "1g5etr4ZW308",
        "outputId": "c4d147b2-b59c-4ece-b3a9-8648182d1e33",
        "colab": {
          "base_uri": "https://localhost:8080/"
        }
      },
      "execution_count": 6,
      "outputs": [
        {
          "output_type": "execute_result",
          "data": {
            "text/plain": [
              "(False, True)"
            ]
          },
          "metadata": {},
          "execution_count": 6
        }
      ]
    },
    {
      "cell_type": "code",
      "source": [
        "type(a)"
      ],
      "metadata": {
        "id": "8w43hTN-W8Q8",
        "outputId": "03d087e7-20b7-4e0c-ac8b-4239b5ef562e",
        "colab": {
          "base_uri": "https://localhost:8080/"
        }
      },
      "execution_count": 7,
      "outputs": [
        {
          "output_type": "execute_result",
          "data": {
            "text/plain": [
              "numpy.ndarray"
            ]
          },
          "metadata": {},
          "execution_count": 7
        }
      ]
    },
    {
      "cell_type": "code",
      "source": [
        "type(t_a)"
      ],
      "metadata": {
        "id": "B0qQucYOW-7i",
        "outputId": "c972f03c-592c-41c8-fc7c-f65a77910bbd",
        "colab": {
          "base_uri": "https://localhost:8080/"
        }
      },
      "execution_count": 8,
      "outputs": [
        {
          "output_type": "execute_result",
          "data": {
            "text/plain": [
              "tensorflow.python.framework.ops.EagerTensor"
            ]
          },
          "metadata": {},
          "execution_count": 8
        }
      ]
    },
    {
      "cell_type": "code",
      "source": [
        "t_ones = tf.ones((2, 3))\n",
        "\n",
        "t_ones.shape"
      ],
      "metadata": {
        "id": "p5A6iZMCXIW_",
        "outputId": "7620107a-4c8c-4fda-9636-7def87e8a83c",
        "colab": {
          "base_uri": "https://localhost:8080/"
        }
      },
      "execution_count": 9,
      "outputs": [
        {
          "output_type": "execute_result",
          "data": {
            "text/plain": [
              "TensorShape([2, 3])"
            ]
          },
          "metadata": {},
          "execution_count": 9
        }
      ]
    },
    {
      "cell_type": "code",
      "source": [
        "t_ones"
      ],
      "metadata": {
        "id": "bJVo7rxPXSPM",
        "outputId": "3f6c4c32-a542-4f56-9ac6-7d9623a763d3",
        "colab": {
          "base_uri": "https://localhost:8080/"
        }
      },
      "execution_count": 10,
      "outputs": [
        {
          "output_type": "execute_result",
          "data": {
            "text/plain": [
              "<tf.Tensor: shape=(2, 3), dtype=float32, numpy=\n",
              "array([[1., 1., 1.],\n",
              "       [1., 1., 1.]], dtype=float32)>"
            ]
          },
          "metadata": {},
          "execution_count": 10
        }
      ]
    },
    {
      "cell_type": "code",
      "source": [
        "t_ones.numpy()"
      ],
      "metadata": {
        "id": "NqYLpvyGXaGS",
        "outputId": "15a219d1-54cf-49f7-a856-dbfd304e1329",
        "colab": {
          "base_uri": "https://localhost:8080/"
        }
      },
      "execution_count": 11,
      "outputs": [
        {
          "output_type": "execute_result",
          "data": {
            "text/plain": [
              "array([[1., 1., 1.],\n",
              "       [1., 1., 1.]], dtype=float32)"
            ]
          },
          "metadata": {},
          "execution_count": 11
        }
      ]
    },
    {
      "cell_type": "code",
      "source": [
        "const_tensor = tf.constant([1.2, 5, np.pi], dtype=tf.float32)\n",
        "\n",
        "print(const_tensor)"
      ],
      "metadata": {
        "id": "Lg0o-yFRXllM",
        "outputId": "7f6c8e2d-c261-455b-f283-f88345d7aadc",
        "colab": {
          "base_uri": "https://localhost:8080/"
        }
      },
      "execution_count": 12,
      "outputs": [
        {
          "output_type": "stream",
          "name": "stdout",
          "text": [
            "tf.Tensor([1.2   5.    3.142], shape=(3,), dtype=float32)\n"
          ]
        }
      ]
    },
    {
      "cell_type": "code",
      "source": [
        "tf.fill((2, 3), 1)"
      ],
      "metadata": {
        "id": "JwQMC3OgXyhp",
        "outputId": "0baa688d-2d89-45c1-9ff6-44782b7279e2",
        "colab": {
          "base_uri": "https://localhost:8080/"
        }
      },
      "execution_count": 13,
      "outputs": [
        {
          "output_type": "execute_result",
          "data": {
            "text/plain": [
              "<tf.Tensor: shape=(2, 3), dtype=int32, numpy=\n",
              "array([[1, 1, 1],\n",
              "       [1, 1, 1]], dtype=int32)>"
            ]
          },
          "metadata": {},
          "execution_count": 13
        }
      ]
    },
    {
      "cell_type": "code",
      "source": [
        "tf.one_hot([0, 1, 2], 4)"
      ],
      "metadata": {
        "id": "7rSUOE-MYHmd",
        "outputId": "cdd9140f-4c3b-45a4-8a19-7ff2094752fc",
        "colab": {
          "base_uri": "https://localhost:8080/"
        }
      },
      "execution_count": 14,
      "outputs": [
        {
          "output_type": "execute_result",
          "data": {
            "text/plain": [
              "<tf.Tensor: shape=(3, 4), dtype=float32, numpy=\n",
              "array([[1., 0., 0., 0.],\n",
              "       [0., 1., 0., 0.],\n",
              "       [0., 0., 1., 0.]], dtype=float32)>"
            ]
          },
          "metadata": {},
          "execution_count": 14
        }
      ]
    },
    {
      "cell_type": "code",
      "source": [
        "t_a"
      ],
      "metadata": {
        "id": "E5z3MR-yYYP1",
        "outputId": "c6e68985-53d5-47ac-eaaf-df9886f3c502",
        "colab": {
          "base_uri": "https://localhost:8080/"
        }
      },
      "execution_count": 15,
      "outputs": [
        {
          "output_type": "execute_result",
          "data": {
            "text/plain": [
              "<tf.Tensor: shape=(3,), dtype=int32, numpy=array([1, 2, 3], dtype=int32)>"
            ]
          },
          "metadata": {},
          "execution_count": 15
        }
      ]
    },
    {
      "cell_type": "code",
      "source": [
        "t_a_new = tf.cast(t_a, tf.int64)\n",
        "\n",
        "print(t_a_new.dtype)"
      ],
      "metadata": {
        "id": "AgU8URHaYXFR",
        "outputId": "6de44151-ff1c-402a-c75d-27c61be5c2eb",
        "colab": {
          "base_uri": "https://localhost:8080/"
        }
      },
      "execution_count": 16,
      "outputs": [
        {
          "output_type": "stream",
          "name": "stdout",
          "text": [
            "<dtype: 'int64'>\n"
          ]
        }
      ]
    },
    {
      "cell_type": "code",
      "source": [
        "t_a_new"
      ],
      "metadata": {
        "id": "opQeG3nBYe36",
        "outputId": "18034494-f934-4e84-8922-b2ce814d667f",
        "colab": {
          "base_uri": "https://localhost:8080/"
        }
      },
      "execution_count": 17,
      "outputs": [
        {
          "output_type": "execute_result",
          "data": {
            "text/plain": [
              "<tf.Tensor: shape=(3,), dtype=int64, numpy=array([1, 2, 3])>"
            ]
          },
          "metadata": {},
          "execution_count": 17
        }
      ]
    },
    {
      "cell_type": "code",
      "source": [
        "t = tf.random.uniform(shape=(3, 5))\n",
        "\n",
        "print(t)"
      ],
      "metadata": {
        "id": "6to8VZHxY0Q8",
        "outputId": "950fb4ac-8856-4087-9d83-e6aa1fe5723d",
        "colab": {
          "base_uri": "https://localhost:8080/"
        }
      },
      "execution_count": 18,
      "outputs": [
        {
          "output_type": "stream",
          "name": "stdout",
          "text": [
            "tf.Tensor(\n",
            "[[0.148 0.656 0.954 0.519 0.293]\n",
            " [0.602 0.228 0.693 0.08  0.928]\n",
            " [0.485 0.828 0.469 0.312 0.604]], shape=(3, 5), dtype=float32)\n"
          ]
        }
      ]
    },
    {
      "cell_type": "code",
      "source": [
        "t_tr = tf.transpose(t)\n",
        "print(t.shape, ' --> ', t_tr.shape)"
      ],
      "metadata": {
        "id": "0RGaJozPY8HF",
        "outputId": "87f83c45-bbc2-4585-d84e-3ae5e702fe24",
        "colab": {
          "base_uri": "https://localhost:8080/"
        }
      },
      "execution_count": 19,
      "outputs": [
        {
          "output_type": "stream",
          "name": "stdout",
          "text": [
            "(3, 5)  -->  (5, 3)\n"
          ]
        }
      ]
    },
    {
      "cell_type": "code",
      "source": [
        "t_tr"
      ],
      "metadata": {
        "id": "5L_DmYAZZIYZ",
        "outputId": "10240e21-7052-43dd-a47d-5ff1d6334de6",
        "colab": {
          "base_uri": "https://localhost:8080/"
        }
      },
      "execution_count": 20,
      "outputs": [
        {
          "output_type": "execute_result",
          "data": {
            "text/plain": [
              "<tf.Tensor: shape=(5, 3), dtype=float32, numpy=\n",
              "array([[0.148, 0.602, 0.485],\n",
              "       [0.656, 0.228, 0.828],\n",
              "       [0.954, 0.693, 0.469],\n",
              "       [0.519, 0.08 , 0.312],\n",
              "       [0.293, 0.928, 0.604]], dtype=float32)>"
            ]
          },
          "metadata": {},
          "execution_count": 20
        }
      ]
    },
    {
      "cell_type": "code",
      "source": [
        "t = tf.zeros((30,))\n",
        "\n",
        "print(t)"
      ],
      "metadata": {
        "id": "fRBQ8VzfZQTB",
        "outputId": "db46f345-3e03-4552-d14c-f13ae90aa44c",
        "colab": {
          "base_uri": "https://localhost:8080/"
        }
      },
      "execution_count": 21,
      "outputs": [
        {
          "output_type": "stream",
          "name": "stdout",
          "text": [
            "tf.Tensor(\n",
            "[0. 0. 0. 0. 0. 0. 0. 0. 0. 0. 0. 0. 0. 0. 0. 0. 0. 0. 0. 0. 0. 0. 0. 0.\n",
            " 0. 0. 0. 0. 0. 0.], shape=(30,), dtype=float32)\n"
          ]
        }
      ]
    },
    {
      "cell_type": "code",
      "source": [
        "t_reshpae = tf.reshape(t, shape=(5, 6))"
      ],
      "metadata": {
        "id": "PVVfvHBAZdq6"
      },
      "execution_count": 22,
      "outputs": []
    },
    {
      "cell_type": "code",
      "source": [
        "print(t_reshpae)"
      ],
      "metadata": {
        "id": "y1Lj72EiZhxo",
        "outputId": "b8e52f58-f733-4a43-c688-73860736f45b",
        "colab": {
          "base_uri": "https://localhost:8080/"
        }
      },
      "execution_count": 23,
      "outputs": [
        {
          "output_type": "stream",
          "name": "stdout",
          "text": [
            "tf.Tensor(\n",
            "[[0. 0. 0. 0. 0. 0.]\n",
            " [0. 0. 0. 0. 0. 0.]\n",
            " [0. 0. 0. 0. 0. 0.]\n",
            " [0. 0. 0. 0. 0. 0.]\n",
            " [0. 0. 0. 0. 0. 0.]], shape=(5, 6), dtype=float32)\n"
          ]
        }
      ]
    },
    {
      "cell_type": "code",
      "source": [
        "print(t_reshpae.shape)"
      ],
      "metadata": {
        "id": "FI7Ncvn0ZlkV",
        "outputId": "6aaf08e7-84fd-4725-ef7d-f84eb37dc89a",
        "colab": {
          "base_uri": "https://localhost:8080/"
        }
      },
      "execution_count": 24,
      "outputs": [
        {
          "output_type": "stream",
          "name": "stdout",
          "text": [
            "(5, 6)\n"
          ]
        }
      ]
    },
    {
      "cell_type": "code",
      "source": [
        "t = tf.zeros((1, 2, 1, 4, 1))\n",
        "print(t.shape)\n",
        "print(\"----\"*5)\n",
        "print(t)"
      ],
      "metadata": {
        "id": "YeJnULO1Z3OH",
        "outputId": "9c2598db-8628-4895-9fe2-f5f233246822",
        "colab": {
          "base_uri": "https://localhost:8080/"
        }
      },
      "execution_count": 28,
      "outputs": [
        {
          "output_type": "stream",
          "name": "stdout",
          "text": [
            "(1, 2, 1, 4, 1)\n",
            "--------------------\n",
            "tf.Tensor(\n",
            "[[[[[0.]\n",
            "    [0.]\n",
            "    [0.]\n",
            "    [0.]]]\n",
            "\n",
            "\n",
            "  [[[0.]\n",
            "    [0.]\n",
            "    [0.]\n",
            "    [0.]]]]], shape=(1, 2, 1, 4, 1), dtype=float32)\n"
          ]
        }
      ]
    },
    {
      "cell_type": "code",
      "source": [
        "t_sqz = tf.squeeze(t, axis=(2, 4))\n",
        "\n",
        "print(t.shape, ' --> ', t_sqz.shape)"
      ],
      "metadata": {
        "id": "-wGseqg-Z0_2",
        "outputId": "877599be-2f5a-4cb9-f8ad-69a9eefc3ce0",
        "colab": {
          "base_uri": "https://localhost:8080/"
        }
      },
      "execution_count": 29,
      "outputs": [
        {
          "output_type": "stream",
          "name": "stdout",
          "text": [
            "(1, 2, 1, 4, 1)  -->  (1, 2, 4)\n"
          ]
        }
      ]
    },
    {
      "cell_type": "code",
      "source": [
        "t_sqz"
      ],
      "metadata": {
        "id": "KFIatkGUaU_W",
        "outputId": "6f733895-c8f6-4340-a2b2-1833bda05f01",
        "colab": {
          "base_uri": "https://localhost:8080/"
        }
      },
      "execution_count": 30,
      "outputs": [
        {
          "output_type": "execute_result",
          "data": {
            "text/plain": [
              "<tf.Tensor: shape=(1, 2, 4), dtype=float32, numpy=\n",
              "array([[[0., 0., 0., 0.],\n",
              "        [0., 0., 0., 0.]]], dtype=float32)>"
            ]
          },
          "metadata": {},
          "execution_count": 30
        }
      ]
    },
    {
      "cell_type": "code",
      "source": [
        "tf.random.set_seed(1)\n",
        "\n",
        "t1 = tf.random.uniform(shape=(5, 2),\n",
        "                       minval=-1.0,\n",
        "                       maxval=1.0)\n",
        "\n",
        "t2 = tf.random.normal(shape=(5, 2),\n",
        "                      mean=0.0,\n",
        "                      stddev=1.0)"
      ],
      "metadata": {
        "id": "xY6bToAladqe"
      },
      "execution_count": 31,
      "outputs": []
    },
    {
      "cell_type": "code",
      "source": [
        "t1"
      ],
      "metadata": {
        "id": "Mlx1zzqUatk5",
        "outputId": "735b0d22-d903-4230-8c85-ccfdceb72117",
        "colab": {
          "base_uri": "https://localhost:8080/"
        }
      },
      "execution_count": 32,
      "outputs": [
        {
          "output_type": "execute_result",
          "data": {
            "text/plain": [
              "<tf.Tensor: shape=(5, 2), dtype=float32, numpy=\n",
              "array([[-0.67 ,  0.803],\n",
              "       [ 0.262, -0.131],\n",
              "       [-0.416,  0.285],\n",
              "       [ 0.952, -0.13 ],\n",
              "       [ 0.32 ,  0.21 ]], dtype=float32)>"
            ]
          },
          "metadata": {},
          "execution_count": 32
        }
      ]
    },
    {
      "cell_type": "code",
      "source": [
        "t2"
      ],
      "metadata": {
        "id": "8_OdP1m6aw5y",
        "outputId": "9a67b85c-dad4-43e4-d742-fd42ef9605e8",
        "colab": {
          "base_uri": "https://localhost:8080/"
        }
      },
      "execution_count": 33,
      "outputs": [
        {
          "output_type": "execute_result",
          "data": {
            "text/plain": [
              "<tf.Tensor: shape=(5, 2), dtype=float32, numpy=\n",
              "array([[ 0.403, -1.088],\n",
              "       [-0.063,  1.337],\n",
              "       [ 0.712, -0.489],\n",
              "       [-0.764, -1.037],\n",
              "       [-1.252,  0.021]], dtype=float32)>"
            ]
          },
          "metadata": {},
          "execution_count": 33
        }
      ]
    },
    {
      "cell_type": "code",
      "source": [
        "t3 = tf.multiply(t1, t2).numpy()\n",
        "print(t3)"
      ],
      "metadata": {
        "id": "iFLgvBFTa5sh",
        "outputId": "a3a112ff-19a4-4454-b0c7-6aef9b3587b4",
        "colab": {
          "base_uri": "https://localhost:8080/"
        }
      },
      "execution_count": 34,
      "outputs": [
        {
          "output_type": "stream",
          "name": "stdout",
          "text": [
            "[[-0.27  -0.874]\n",
            " [-0.017 -0.175]\n",
            " [-0.296 -0.139]\n",
            " [-0.727  0.135]\n",
            " [-0.401  0.004]]\n"
          ]
        }
      ]
    },
    {
      "cell_type": "code",
      "source": [
        "t4 = tf.math.reduce_mean(t1, axis=0)\n",
        "\n",
        "print(t4)"
      ],
      "metadata": {
        "id": "2NaOI-gibKeI"
      },
      "execution_count": null,
      "outputs": []
    },
    {
      "cell_type": "markdown",
      "metadata": {
        "id": "8Xo9nk9PQZ2D"
      },
      "source": [
        "### 5. Construcción de un Modelo en TensorFlow\n",
        "TensorFlow te permite definir redes neuronales de forma flexible. Aquí te muestro cómo definir una red neuronal simple usando la API de alto nivel Keras, que está integrada en TensorFlow."
      ]
    },
    {
      "cell_type": "code",
      "execution_count": null,
      "metadata": {
        "vscode": {
          "languageId": "plaintext"
        },
        "id": "aFZ4a5a1QZ2D"
      },
      "outputs": [],
      "source": [
        "import tensorflow as tf\n",
        "from tensorflow.keras import layers, models\n",
        "\n",
        "# Definir un modelo secuencial\n",
        "model = models.Sequential()\n",
        "\n",
        "# Añadir una capa de entrada\n",
        "model.add(layers.Dense(64, activation='relu', input_shape=(100,)))\n",
        "\n",
        "# Añadir capas ocultas\n",
        "model.add(layers.Dense(64, activation='relu'))\n",
        "\n",
        "# Añadir la capa de salida\n",
        "model.add(layers.Dense(10, activation='softmax'))\n",
        "\n",
        "# Compilar el modelo\n",
        "model.compile(optimizer='adam', loss='categorical_crossentropy', metrics=['accuracy'])\n"
      ]
    },
    {
      "cell_type": "markdown",
      "metadata": {
        "id": "vbuj2aaIQZ2E"
      },
      "source": [
        "### 6. Entrenamiento del Modelo\n",
        "Una vez que el modelo está definido, se entrena usando un conjunto de datos. El siguiente código entrena el modelo con datos de entrenamiento:"
      ]
    },
    {
      "cell_type": "code",
      "execution_count": null,
      "metadata": {
        "vscode": {
          "languageId": "plaintext"
        },
        "id": "hXKihqRNQZ2E"
      },
      "outputs": [],
      "source": [
        "# Asumiendo que tienes los datos de entrenamiento en X_train y y_train\n",
        "model.fit(X_train, y_train, epochs=10, batch_size=32)\n"
      ]
    },
    {
      "cell_type": "markdown",
      "metadata": {
        "id": "VGl3r74jQZ2E"
      },
      "source": [
        "El modelo se entrena ajustando los pesos en cada iteración para minimizar la función de pérdida. Aquí, el modelo está usando la función de pérdida de categorical_crossentropy porque estamos clasificando en múltiples categorías.\n",
        "\n",
        "### 7. Evaluación del Modelo\n",
        "Después del entrenamiento, es importante evaluar el modelo con un conjunto de datos de prueba para ver su desempeño en datos no vistos:"
      ]
    },
    {
      "cell_type": "code",
      "execution_count": null,
      "metadata": {
        "vscode": {
          "languageId": "plaintext"
        },
        "id": "YJfR6qCOQZ2E"
      },
      "outputs": [],
      "source": [
        "# Evaluar el modelo\n",
        "loss, accuracy = model.evaluate(X_test, y_test)\n",
        "print(f\"Test accuracy: {accuracy}\")"
      ]
    }
  ],
  "metadata": {
    "language_info": {
      "name": "python"
    },
    "colab": {
      "provenance": [],
      "gpuType": "T4"
    },
    "kernelspec": {
      "name": "python3",
      "display_name": "Python 3"
    },
    "accelerator": "GPU"
  },
  "nbformat": 4,
  "nbformat_minor": 0
}