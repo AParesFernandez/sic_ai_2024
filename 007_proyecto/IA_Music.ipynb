{
  "nbformat": 4,
  "nbformat_minor": 0,
  "metadata": {
    "colab": {
      "provenance": [],
      "include_colab_link": true
    },
    "kernelspec": {
      "name": "python3",
      "display_name": "Python 3"
    },
    "language_info": {
      "name": "python"
    },
    "widgets": {
      "application/vnd.jupyter.widget-state+json": {
        "7d42a2d579be4f4095147ff0f6af5c67": {
          "model_module": "@jupyter-widgets/controls",
          "model_name": "HBoxModel",
          "model_module_version": "1.5.0",
          "state": {
            "_dom_classes": [],
            "_model_module": "@jupyter-widgets/controls",
            "_model_module_version": "1.5.0",
            "_model_name": "HBoxModel",
            "_view_count": null,
            "_view_module": "@jupyter-widgets/controls",
            "_view_module_version": "1.5.0",
            "_view_name": "HBoxView",
            "box_style": "",
            "children": [
              "IPY_MODEL_f9d236cddf8d4752ae68ee95599baff0",
              "IPY_MODEL_91e0cf90df994ff6bccd5a7c4dd52bde",
              "IPY_MODEL_4a763a116c324b31a9b5f83bfb4aa9b8"
            ],
            "layout": "IPY_MODEL_563913b4f3284c3f89a26f44e2c34397"
          }
        },
        "f9d236cddf8d4752ae68ee95599baff0": {
          "model_module": "@jupyter-widgets/controls",
          "model_name": "HTMLModel",
          "model_module_version": "1.5.0",
          "state": {
            "_dom_classes": [],
            "_model_module": "@jupyter-widgets/controls",
            "_model_module_version": "1.5.0",
            "_model_name": "HTMLModel",
            "_view_count": null,
            "_view_module": "@jupyter-widgets/controls",
            "_view_module_version": "1.5.0",
            "_view_name": "HTMLView",
            "description": "",
            "description_tooltip": null,
            "layout": "IPY_MODEL_a6e42c02dbe04c4ebea2bff053beac28",
            "placeholder": "​",
            "style": "IPY_MODEL_30d22d10b866468987e2da3e60d6b8ab",
            "value": "100%"
          }
        },
        "91e0cf90df994ff6bccd5a7c4dd52bde": {
          "model_module": "@jupyter-widgets/controls",
          "model_name": "FloatProgressModel",
          "model_module_version": "1.5.0",
          "state": {
            "_dom_classes": [],
            "_model_module": "@jupyter-widgets/controls",
            "_model_module_version": "1.5.0",
            "_model_name": "FloatProgressModel",
            "_view_count": null,
            "_view_module": "@jupyter-widgets/controls",
            "_view_module_version": "1.5.0",
            "_view_name": "ProgressView",
            "bar_style": "success",
            "description": "",
            "description_tooltip": null,
            "layout": "IPY_MODEL_6d47352a8f0e40c39e70f496e56053f3",
            "max": 15,
            "min": 0,
            "orientation": "horizontal",
            "style": "IPY_MODEL_32e403dd96cc4c3d98f69265bdf7c3e2",
            "value": 15
          }
        },
        "4a763a116c324b31a9b5f83bfb4aa9b8": {
          "model_module": "@jupyter-widgets/controls",
          "model_name": "HTMLModel",
          "model_module_version": "1.5.0",
          "state": {
            "_dom_classes": [],
            "_model_module": "@jupyter-widgets/controls",
            "_model_module_version": "1.5.0",
            "_model_name": "HTMLModel",
            "_view_count": null,
            "_view_module": "@jupyter-widgets/controls",
            "_view_module_version": "1.5.0",
            "_view_name": "HTMLView",
            "description": "",
            "description_tooltip": null,
            "layout": "IPY_MODEL_b42063f60e094537b8dc80eff1469769",
            "placeholder": "​",
            "style": "IPY_MODEL_10798f698bab44db9102c2affd12aaba",
            "value": " 15/15 [00:00&lt;00:00, 279.97it/s]"
          }
        },
        "563913b4f3284c3f89a26f44e2c34397": {
          "model_module": "@jupyter-widgets/base",
          "model_name": "LayoutModel",
          "model_module_version": "1.2.0",
          "state": {
            "_model_module": "@jupyter-widgets/base",
            "_model_module_version": "1.2.0",
            "_model_name": "LayoutModel",
            "_view_count": null,
            "_view_module": "@jupyter-widgets/base",
            "_view_module_version": "1.2.0",
            "_view_name": "LayoutView",
            "align_content": null,
            "align_items": null,
            "align_self": null,
            "border": null,
            "bottom": null,
            "display": null,
            "flex": null,
            "flex_flow": null,
            "grid_area": null,
            "grid_auto_columns": null,
            "grid_auto_flow": null,
            "grid_auto_rows": null,
            "grid_column": null,
            "grid_gap": null,
            "grid_row": null,
            "grid_template_areas": null,
            "grid_template_columns": null,
            "grid_template_rows": null,
            "height": null,
            "justify_content": null,
            "justify_items": null,
            "left": null,
            "margin": null,
            "max_height": null,
            "max_width": null,
            "min_height": null,
            "min_width": null,
            "object_fit": null,
            "object_position": null,
            "order": null,
            "overflow": null,
            "overflow_x": null,
            "overflow_y": null,
            "padding": null,
            "right": null,
            "top": null,
            "visibility": null,
            "width": null
          }
        },
        "a6e42c02dbe04c4ebea2bff053beac28": {
          "model_module": "@jupyter-widgets/base",
          "model_name": "LayoutModel",
          "model_module_version": "1.2.0",
          "state": {
            "_model_module": "@jupyter-widgets/base",
            "_model_module_version": "1.2.0",
            "_model_name": "LayoutModel",
            "_view_count": null,
            "_view_module": "@jupyter-widgets/base",
            "_view_module_version": "1.2.0",
            "_view_name": "LayoutView",
            "align_content": null,
            "align_items": null,
            "align_self": null,
            "border": null,
            "bottom": null,
            "display": null,
            "flex": null,
            "flex_flow": null,
            "grid_area": null,
            "grid_auto_columns": null,
            "grid_auto_flow": null,
            "grid_auto_rows": null,
            "grid_column": null,
            "grid_gap": null,
            "grid_row": null,
            "grid_template_areas": null,
            "grid_template_columns": null,
            "grid_template_rows": null,
            "height": null,
            "justify_content": null,
            "justify_items": null,
            "left": null,
            "margin": null,
            "max_height": null,
            "max_width": null,
            "min_height": null,
            "min_width": null,
            "object_fit": null,
            "object_position": null,
            "order": null,
            "overflow": null,
            "overflow_x": null,
            "overflow_y": null,
            "padding": null,
            "right": null,
            "top": null,
            "visibility": null,
            "width": null
          }
        },
        "30d22d10b866468987e2da3e60d6b8ab": {
          "model_module": "@jupyter-widgets/controls",
          "model_name": "DescriptionStyleModel",
          "model_module_version": "1.5.0",
          "state": {
            "_model_module": "@jupyter-widgets/controls",
            "_model_module_version": "1.5.0",
            "_model_name": "DescriptionStyleModel",
            "_view_count": null,
            "_view_module": "@jupyter-widgets/base",
            "_view_module_version": "1.2.0",
            "_view_name": "StyleView",
            "description_width": ""
          }
        },
        "6d47352a8f0e40c39e70f496e56053f3": {
          "model_module": "@jupyter-widgets/base",
          "model_name": "LayoutModel",
          "model_module_version": "1.2.0",
          "state": {
            "_model_module": "@jupyter-widgets/base",
            "_model_module_version": "1.2.0",
            "_model_name": "LayoutModel",
            "_view_count": null,
            "_view_module": "@jupyter-widgets/base",
            "_view_module_version": "1.2.0",
            "_view_name": "LayoutView",
            "align_content": null,
            "align_items": null,
            "align_self": null,
            "border": null,
            "bottom": null,
            "display": null,
            "flex": null,
            "flex_flow": null,
            "grid_area": null,
            "grid_auto_columns": null,
            "grid_auto_flow": null,
            "grid_auto_rows": null,
            "grid_column": null,
            "grid_gap": null,
            "grid_row": null,
            "grid_template_areas": null,
            "grid_template_columns": null,
            "grid_template_rows": null,
            "height": null,
            "justify_content": null,
            "justify_items": null,
            "left": null,
            "margin": null,
            "max_height": null,
            "max_width": null,
            "min_height": null,
            "min_width": null,
            "object_fit": null,
            "object_position": null,
            "order": null,
            "overflow": null,
            "overflow_x": null,
            "overflow_y": null,
            "padding": null,
            "right": null,
            "top": null,
            "visibility": null,
            "width": null
          }
        },
        "32e403dd96cc4c3d98f69265bdf7c3e2": {
          "model_module": "@jupyter-widgets/controls",
          "model_name": "ProgressStyleModel",
          "model_module_version": "1.5.0",
          "state": {
            "_model_module": "@jupyter-widgets/controls",
            "_model_module_version": "1.5.0",
            "_model_name": "ProgressStyleModel",
            "_view_count": null,
            "_view_module": "@jupyter-widgets/base",
            "_view_module_version": "1.2.0",
            "_view_name": "StyleView",
            "bar_color": null,
            "description_width": ""
          }
        },
        "b42063f60e094537b8dc80eff1469769": {
          "model_module": "@jupyter-widgets/base",
          "model_name": "LayoutModel",
          "model_module_version": "1.2.0",
          "state": {
            "_model_module": "@jupyter-widgets/base",
            "_model_module_version": "1.2.0",
            "_model_name": "LayoutModel",
            "_view_count": null,
            "_view_module": "@jupyter-widgets/base",
            "_view_module_version": "1.2.0",
            "_view_name": "LayoutView",
            "align_content": null,
            "align_items": null,
            "align_self": null,
            "border": null,
            "bottom": null,
            "display": null,
            "flex": null,
            "flex_flow": null,
            "grid_area": null,
            "grid_auto_columns": null,
            "grid_auto_flow": null,
            "grid_auto_rows": null,
            "grid_column": null,
            "grid_gap": null,
            "grid_row": null,
            "grid_template_areas": null,
            "grid_template_columns": null,
            "grid_template_rows": null,
            "height": null,
            "justify_content": null,
            "justify_items": null,
            "left": null,
            "margin": null,
            "max_height": null,
            "max_width": null,
            "min_height": null,
            "min_width": null,
            "object_fit": null,
            "object_position": null,
            "order": null,
            "overflow": null,
            "overflow_x": null,
            "overflow_y": null,
            "padding": null,
            "right": null,
            "top": null,
            "visibility": null,
            "width": null
          }
        },
        "10798f698bab44db9102c2affd12aaba": {
          "model_module": "@jupyter-widgets/controls",
          "model_name": "DescriptionStyleModel",
          "model_module_version": "1.5.0",
          "state": {
            "_model_module": "@jupyter-widgets/controls",
            "_model_module_version": "1.5.0",
            "_model_name": "DescriptionStyleModel",
            "_view_count": null,
            "_view_module": "@jupyter-widgets/base",
            "_view_module_version": "1.2.0",
            "_view_name": "StyleView",
            "description_width": ""
          }
        },
        "4450b5e2b9d044b29c70fa0005c61551": {
          "model_module": "@jupyter-widgets/controls",
          "model_name": "HBoxModel",
          "model_module_version": "1.5.0",
          "state": {
            "_dom_classes": [],
            "_model_module": "@jupyter-widgets/controls",
            "_model_module_version": "1.5.0",
            "_model_name": "HBoxModel",
            "_view_count": null,
            "_view_module": "@jupyter-widgets/controls",
            "_view_module_version": "1.5.0",
            "_view_name": "HBoxView",
            "box_style": "",
            "children": [
              "IPY_MODEL_5c566555c98e4412a50f3d234a853232",
              "IPY_MODEL_a154bab707ce4f24b8d44f3a219f9cd0",
              "IPY_MODEL_e817ce4a12d74d568a4c48f680a19b35"
            ],
            "layout": "IPY_MODEL_845e85549d5f4419b0a77540278fea70"
          }
        },
        "5c566555c98e4412a50f3d234a853232": {
          "model_module": "@jupyter-widgets/controls",
          "model_name": "HTMLModel",
          "model_module_version": "1.5.0",
          "state": {
            "_dom_classes": [],
            "_model_module": "@jupyter-widgets/controls",
            "_model_module_version": "1.5.0",
            "_model_name": "HTMLModel",
            "_view_count": null,
            "_view_module": "@jupyter-widgets/controls",
            "_view_module_version": "1.5.0",
            "_view_name": "HTMLView",
            "description": "",
            "description_tooltip": null,
            "layout": "IPY_MODEL_d2665839a38647db8162a297a773f330",
            "placeholder": "​",
            "style": "IPY_MODEL_3ca0b2458d904d78ac66d9df121bc2fd",
            "value": "100%"
          }
        },
        "a154bab707ce4f24b8d44f3a219f9cd0": {
          "model_module": "@jupyter-widgets/controls",
          "model_name": "FloatProgressModel",
          "model_module_version": "1.5.0",
          "state": {
            "_dom_classes": [],
            "_model_module": "@jupyter-widgets/controls",
            "_model_module_version": "1.5.0",
            "_model_name": "FloatProgressModel",
            "_view_count": null,
            "_view_module": "@jupyter-widgets/controls",
            "_view_module_version": "1.5.0",
            "_view_name": "ProgressView",
            "bar_style": "success",
            "description": "",
            "description_tooltip": null,
            "layout": "IPY_MODEL_9aa3ceec1c2e40199500cdc23eac26c1",
            "max": 15,
            "min": 0,
            "orientation": "horizontal",
            "style": "IPY_MODEL_365b037ca92040f88292c5d44a5cd4f1",
            "value": 15
          }
        },
        "e817ce4a12d74d568a4c48f680a19b35": {
          "model_module": "@jupyter-widgets/controls",
          "model_name": "HTMLModel",
          "model_module_version": "1.5.0",
          "state": {
            "_dom_classes": [],
            "_model_module": "@jupyter-widgets/controls",
            "_model_module_version": "1.5.0",
            "_model_name": "HTMLModel",
            "_view_count": null,
            "_view_module": "@jupyter-widgets/controls",
            "_view_module_version": "1.5.0",
            "_view_name": "HTMLView",
            "description": "",
            "description_tooltip": null,
            "layout": "IPY_MODEL_be37108b52f74f0e9275262c6c91b90a",
            "placeholder": "​",
            "style": "IPY_MODEL_13d397247d9b4a3a93c9ac55364ddb04",
            "value": " 15/15 [00:03&lt;00:00,  3.04it/s]"
          }
        },
        "845e85549d5f4419b0a77540278fea70": {
          "model_module": "@jupyter-widgets/base",
          "model_name": "LayoutModel",
          "model_module_version": "1.2.0",
          "state": {
            "_model_module": "@jupyter-widgets/base",
            "_model_module_version": "1.2.0",
            "_model_name": "LayoutModel",
            "_view_count": null,
            "_view_module": "@jupyter-widgets/base",
            "_view_module_version": "1.2.0",
            "_view_name": "LayoutView",
            "align_content": null,
            "align_items": null,
            "align_self": null,
            "border": null,
            "bottom": null,
            "display": null,
            "flex": null,
            "flex_flow": null,
            "grid_area": null,
            "grid_auto_columns": null,
            "grid_auto_flow": null,
            "grid_auto_rows": null,
            "grid_column": null,
            "grid_gap": null,
            "grid_row": null,
            "grid_template_areas": null,
            "grid_template_columns": null,
            "grid_template_rows": null,
            "height": null,
            "justify_content": null,
            "justify_items": null,
            "left": null,
            "margin": null,
            "max_height": null,
            "max_width": null,
            "min_height": null,
            "min_width": null,
            "object_fit": null,
            "object_position": null,
            "order": null,
            "overflow": null,
            "overflow_x": null,
            "overflow_y": null,
            "padding": null,
            "right": null,
            "top": null,
            "visibility": null,
            "width": null
          }
        },
        "d2665839a38647db8162a297a773f330": {
          "model_module": "@jupyter-widgets/base",
          "model_name": "LayoutModel",
          "model_module_version": "1.2.0",
          "state": {
            "_model_module": "@jupyter-widgets/base",
            "_model_module_version": "1.2.0",
            "_model_name": "LayoutModel",
            "_view_count": null,
            "_view_module": "@jupyter-widgets/base",
            "_view_module_version": "1.2.0",
            "_view_name": "LayoutView",
            "align_content": null,
            "align_items": null,
            "align_self": null,
            "border": null,
            "bottom": null,
            "display": null,
            "flex": null,
            "flex_flow": null,
            "grid_area": null,
            "grid_auto_columns": null,
            "grid_auto_flow": null,
            "grid_auto_rows": null,
            "grid_column": null,
            "grid_gap": null,
            "grid_row": null,
            "grid_template_areas": null,
            "grid_template_columns": null,
            "grid_template_rows": null,
            "height": null,
            "justify_content": null,
            "justify_items": null,
            "left": null,
            "margin": null,
            "max_height": null,
            "max_width": null,
            "min_height": null,
            "min_width": null,
            "object_fit": null,
            "object_position": null,
            "order": null,
            "overflow": null,
            "overflow_x": null,
            "overflow_y": null,
            "padding": null,
            "right": null,
            "top": null,
            "visibility": null,
            "width": null
          }
        },
        "3ca0b2458d904d78ac66d9df121bc2fd": {
          "model_module": "@jupyter-widgets/controls",
          "model_name": "DescriptionStyleModel",
          "model_module_version": "1.5.0",
          "state": {
            "_model_module": "@jupyter-widgets/controls",
            "_model_module_version": "1.5.0",
            "_model_name": "DescriptionStyleModel",
            "_view_count": null,
            "_view_module": "@jupyter-widgets/base",
            "_view_module_version": "1.2.0",
            "_view_name": "StyleView",
            "description_width": ""
          }
        },
        "9aa3ceec1c2e40199500cdc23eac26c1": {
          "model_module": "@jupyter-widgets/base",
          "model_name": "LayoutModel",
          "model_module_version": "1.2.0",
          "state": {
            "_model_module": "@jupyter-widgets/base",
            "_model_module_version": "1.2.0",
            "_model_name": "LayoutModel",
            "_view_count": null,
            "_view_module": "@jupyter-widgets/base",
            "_view_module_version": "1.2.0",
            "_view_name": "LayoutView",
            "align_content": null,
            "align_items": null,
            "align_self": null,
            "border": null,
            "bottom": null,
            "display": null,
            "flex": null,
            "flex_flow": null,
            "grid_area": null,
            "grid_auto_columns": null,
            "grid_auto_flow": null,
            "grid_auto_rows": null,
            "grid_column": null,
            "grid_gap": null,
            "grid_row": null,
            "grid_template_areas": null,
            "grid_template_columns": null,
            "grid_template_rows": null,
            "height": null,
            "justify_content": null,
            "justify_items": null,
            "left": null,
            "margin": null,
            "max_height": null,
            "max_width": null,
            "min_height": null,
            "min_width": null,
            "object_fit": null,
            "object_position": null,
            "order": null,
            "overflow": null,
            "overflow_x": null,
            "overflow_y": null,
            "padding": null,
            "right": null,
            "top": null,
            "visibility": null,
            "width": null
          }
        },
        "365b037ca92040f88292c5d44a5cd4f1": {
          "model_module": "@jupyter-widgets/controls",
          "model_name": "ProgressStyleModel",
          "model_module_version": "1.5.0",
          "state": {
            "_model_module": "@jupyter-widgets/controls",
            "_model_module_version": "1.5.0",
            "_model_name": "ProgressStyleModel",
            "_view_count": null,
            "_view_module": "@jupyter-widgets/base",
            "_view_module_version": "1.2.0",
            "_view_name": "StyleView",
            "bar_color": null,
            "description_width": ""
          }
        },
        "be37108b52f74f0e9275262c6c91b90a": {
          "model_module": "@jupyter-widgets/base",
          "model_name": "LayoutModel",
          "model_module_version": "1.2.0",
          "state": {
            "_model_module": "@jupyter-widgets/base",
            "_model_module_version": "1.2.0",
            "_model_name": "LayoutModel",
            "_view_count": null,
            "_view_module": "@jupyter-widgets/base",
            "_view_module_version": "1.2.0",
            "_view_name": "LayoutView",
            "align_content": null,
            "align_items": null,
            "align_self": null,
            "border": null,
            "bottom": null,
            "display": null,
            "flex": null,
            "flex_flow": null,
            "grid_area": null,
            "grid_auto_columns": null,
            "grid_auto_flow": null,
            "grid_auto_rows": null,
            "grid_column": null,
            "grid_gap": null,
            "grid_row": null,
            "grid_template_areas": null,
            "grid_template_columns": null,
            "grid_template_rows": null,
            "height": null,
            "justify_content": null,
            "justify_items": null,
            "left": null,
            "margin": null,
            "max_height": null,
            "max_width": null,
            "min_height": null,
            "min_width": null,
            "object_fit": null,
            "object_position": null,
            "order": null,
            "overflow": null,
            "overflow_x": null,
            "overflow_y": null,
            "padding": null,
            "right": null,
            "top": null,
            "visibility": null,
            "width": null
          }
        },
        "13d397247d9b4a3a93c9ac55364ddb04": {
          "model_module": "@jupyter-widgets/controls",
          "model_name": "DescriptionStyleModel",
          "model_module_version": "1.5.0",
          "state": {
            "_model_module": "@jupyter-widgets/controls",
            "_model_module_version": "1.5.0",
            "_model_name": "DescriptionStyleModel",
            "_view_count": null,
            "_view_module": "@jupyter-widgets/base",
            "_view_module_version": "1.2.0",
            "_view_name": "StyleView",
            "description_width": ""
          }
        },
        "ec345fa60d7c480783d352aba784c029": {
          "model_module": "@jupyter-widgets/controls",
          "model_name": "HBoxModel",
          "model_module_version": "1.5.0",
          "state": {
            "_dom_classes": [],
            "_model_module": "@jupyter-widgets/controls",
            "_model_module_version": "1.5.0",
            "_model_name": "HBoxModel",
            "_view_count": null,
            "_view_module": "@jupyter-widgets/controls",
            "_view_module_version": "1.5.0",
            "_view_name": "HBoxView",
            "box_style": "",
            "children": [
              "IPY_MODEL_7a5a5e22acb64f3881ae13bb5daa4295",
              "IPY_MODEL_035462e25c8f4aab88c59a4f7fb4dca0",
              "IPY_MODEL_6a7c0fc89fd64af1a831221c9177eddd"
            ],
            "layout": "IPY_MODEL_8ac3029100fd4a11b7d387dd2ed5aa95"
          }
        },
        "7a5a5e22acb64f3881ae13bb5daa4295": {
          "model_module": "@jupyter-widgets/controls",
          "model_name": "HTMLModel",
          "model_module_version": "1.5.0",
          "state": {
            "_dom_classes": [],
            "_model_module": "@jupyter-widgets/controls",
            "_model_module_version": "1.5.0",
            "_model_name": "HTMLModel",
            "_view_count": null,
            "_view_module": "@jupyter-widgets/controls",
            "_view_module_version": "1.5.0",
            "_view_name": "HTMLView",
            "description": "",
            "description_tooltip": null,
            "layout": "IPY_MODEL_1061ff3ecf4f4c74a80728214a0c7b70",
            "placeholder": "​",
            "style": "IPY_MODEL_4a1d6f764b47430f8f964291fcd621f9",
            "value": "100%"
          }
        },
        "035462e25c8f4aab88c59a4f7fb4dca0": {
          "model_module": "@jupyter-widgets/controls",
          "model_name": "FloatProgressModel",
          "model_module_version": "1.5.0",
          "state": {
            "_dom_classes": [],
            "_model_module": "@jupyter-widgets/controls",
            "_model_module_version": "1.5.0",
            "_model_name": "FloatProgressModel",
            "_view_count": null,
            "_view_module": "@jupyter-widgets/controls",
            "_view_module_version": "1.5.0",
            "_view_name": "ProgressView",
            "bar_style": "success",
            "description": "",
            "description_tooltip": null,
            "layout": "IPY_MODEL_bf5ef2a831634f2b993e82a49a91fa47",
            "max": 10,
            "min": 0,
            "orientation": "horizontal",
            "style": "IPY_MODEL_f9c76880a09346ed804c1e6401b77000",
            "value": 10
          }
        },
        "6a7c0fc89fd64af1a831221c9177eddd": {
          "model_module": "@jupyter-widgets/controls",
          "model_name": "HTMLModel",
          "model_module_version": "1.5.0",
          "state": {
            "_dom_classes": [],
            "_model_module": "@jupyter-widgets/controls",
            "_model_module_version": "1.5.0",
            "_model_name": "HTMLModel",
            "_view_count": null,
            "_view_module": "@jupyter-widgets/controls",
            "_view_module_version": "1.5.0",
            "_view_name": "HTMLView",
            "description": "",
            "description_tooltip": null,
            "layout": "IPY_MODEL_f6a1b5c98ab5408eb25c0c67bd6f48c4",
            "placeholder": "​",
            "style": "IPY_MODEL_28d52f55888d4f8d86f15c7f23b41f42",
            "value": " 10/10 [00:02&lt;00:00,  4.80it/s]"
          }
        },
        "8ac3029100fd4a11b7d387dd2ed5aa95": {
          "model_module": "@jupyter-widgets/base",
          "model_name": "LayoutModel",
          "model_module_version": "1.2.0",
          "state": {
            "_model_module": "@jupyter-widgets/base",
            "_model_module_version": "1.2.0",
            "_model_name": "LayoutModel",
            "_view_count": null,
            "_view_module": "@jupyter-widgets/base",
            "_view_module_version": "1.2.0",
            "_view_name": "LayoutView",
            "align_content": null,
            "align_items": null,
            "align_self": null,
            "border": null,
            "bottom": null,
            "display": null,
            "flex": null,
            "flex_flow": null,
            "grid_area": null,
            "grid_auto_columns": null,
            "grid_auto_flow": null,
            "grid_auto_rows": null,
            "grid_column": null,
            "grid_gap": null,
            "grid_row": null,
            "grid_template_areas": null,
            "grid_template_columns": null,
            "grid_template_rows": null,
            "height": null,
            "justify_content": null,
            "justify_items": null,
            "left": null,
            "margin": null,
            "max_height": null,
            "max_width": null,
            "min_height": null,
            "min_width": null,
            "object_fit": null,
            "object_position": null,
            "order": null,
            "overflow": null,
            "overflow_x": null,
            "overflow_y": null,
            "padding": null,
            "right": null,
            "top": null,
            "visibility": null,
            "width": null
          }
        },
        "1061ff3ecf4f4c74a80728214a0c7b70": {
          "model_module": "@jupyter-widgets/base",
          "model_name": "LayoutModel",
          "model_module_version": "1.2.0",
          "state": {
            "_model_module": "@jupyter-widgets/base",
            "_model_module_version": "1.2.0",
            "_model_name": "LayoutModel",
            "_view_count": null,
            "_view_module": "@jupyter-widgets/base",
            "_view_module_version": "1.2.0",
            "_view_name": "LayoutView",
            "align_content": null,
            "align_items": null,
            "align_self": null,
            "border": null,
            "bottom": null,
            "display": null,
            "flex": null,
            "flex_flow": null,
            "grid_area": null,
            "grid_auto_columns": null,
            "grid_auto_flow": null,
            "grid_auto_rows": null,
            "grid_column": null,
            "grid_gap": null,
            "grid_row": null,
            "grid_template_areas": null,
            "grid_template_columns": null,
            "grid_template_rows": null,
            "height": null,
            "justify_content": null,
            "justify_items": null,
            "left": null,
            "margin": null,
            "max_height": null,
            "max_width": null,
            "min_height": null,
            "min_width": null,
            "object_fit": null,
            "object_position": null,
            "order": null,
            "overflow": null,
            "overflow_x": null,
            "overflow_y": null,
            "padding": null,
            "right": null,
            "top": null,
            "visibility": null,
            "width": null
          }
        },
        "4a1d6f764b47430f8f964291fcd621f9": {
          "model_module": "@jupyter-widgets/controls",
          "model_name": "DescriptionStyleModel",
          "model_module_version": "1.5.0",
          "state": {
            "_model_module": "@jupyter-widgets/controls",
            "_model_module_version": "1.5.0",
            "_model_name": "DescriptionStyleModel",
            "_view_count": null,
            "_view_module": "@jupyter-widgets/base",
            "_view_module_version": "1.2.0",
            "_view_name": "StyleView",
            "description_width": ""
          }
        },
        "bf5ef2a831634f2b993e82a49a91fa47": {
          "model_module": "@jupyter-widgets/base",
          "model_name": "LayoutModel",
          "model_module_version": "1.2.0",
          "state": {
            "_model_module": "@jupyter-widgets/base",
            "_model_module_version": "1.2.0",
            "_model_name": "LayoutModel",
            "_view_count": null,
            "_view_module": "@jupyter-widgets/base",
            "_view_module_version": "1.2.0",
            "_view_name": "LayoutView",
            "align_content": null,
            "align_items": null,
            "align_self": null,
            "border": null,
            "bottom": null,
            "display": null,
            "flex": null,
            "flex_flow": null,
            "grid_area": null,
            "grid_auto_columns": null,
            "grid_auto_flow": null,
            "grid_auto_rows": null,
            "grid_column": null,
            "grid_gap": null,
            "grid_row": null,
            "grid_template_areas": null,
            "grid_template_columns": null,
            "grid_template_rows": null,
            "height": null,
            "justify_content": null,
            "justify_items": null,
            "left": null,
            "margin": null,
            "max_height": null,
            "max_width": null,
            "min_height": null,
            "min_width": null,
            "object_fit": null,
            "object_position": null,
            "order": null,
            "overflow": null,
            "overflow_x": null,
            "overflow_y": null,
            "padding": null,
            "right": null,
            "top": null,
            "visibility": null,
            "width": null
          }
        },
        "f9c76880a09346ed804c1e6401b77000": {
          "model_module": "@jupyter-widgets/controls",
          "model_name": "ProgressStyleModel",
          "model_module_version": "1.5.0",
          "state": {
            "_model_module": "@jupyter-widgets/controls",
            "_model_module_version": "1.5.0",
            "_model_name": "ProgressStyleModel",
            "_view_count": null,
            "_view_module": "@jupyter-widgets/base",
            "_view_module_version": "1.2.0",
            "_view_name": "StyleView",
            "bar_color": null,
            "description_width": ""
          }
        },
        "f6a1b5c98ab5408eb25c0c67bd6f48c4": {
          "model_module": "@jupyter-widgets/base",
          "model_name": "LayoutModel",
          "model_module_version": "1.2.0",
          "state": {
            "_model_module": "@jupyter-widgets/base",
            "_model_module_version": "1.2.0",
            "_model_name": "LayoutModel",
            "_view_count": null,
            "_view_module": "@jupyter-widgets/base",
            "_view_module_version": "1.2.0",
            "_view_name": "LayoutView",
            "align_content": null,
            "align_items": null,
            "align_self": null,
            "border": null,
            "bottom": null,
            "display": null,
            "flex": null,
            "flex_flow": null,
            "grid_area": null,
            "grid_auto_columns": null,
            "grid_auto_flow": null,
            "grid_auto_rows": null,
            "grid_column": null,
            "grid_gap": null,
            "grid_row": null,
            "grid_template_areas": null,
            "grid_template_columns": null,
            "grid_template_rows": null,
            "height": null,
            "justify_content": null,
            "justify_items": null,
            "left": null,
            "margin": null,
            "max_height": null,
            "max_width": null,
            "min_height": null,
            "min_width": null,
            "object_fit": null,
            "object_position": null,
            "order": null,
            "overflow": null,
            "overflow_x": null,
            "overflow_y": null,
            "padding": null,
            "right": null,
            "top": null,
            "visibility": null,
            "width": null
          }
        },
        "28d52f55888d4f8d86f15c7f23b41f42": {
          "model_module": "@jupyter-widgets/controls",
          "model_name": "DescriptionStyleModel",
          "model_module_version": "1.5.0",
          "state": {
            "_model_module": "@jupyter-widgets/controls",
            "_model_module_version": "1.5.0",
            "_model_name": "DescriptionStyleModel",
            "_view_count": null,
            "_view_module": "@jupyter-widgets/base",
            "_view_module_version": "1.2.0",
            "_view_name": "StyleView",
            "description_width": ""
          }
        }
      }
    }
  },
  "cells": [
    {
      "cell_type": "markdown",
      "metadata": {
        "id": "view-in-github",
        "colab_type": "text"
      },
      "source": [
        "<a href=\"https://colab.research.google.com/github/davidlealo/sic_ai_2024/blob/main/007_proyecto/IA_Music.ipynb\" target=\"_parent\"><img src=\"https://colab.research.google.com/assets/colab-badge.svg\" alt=\"Open In Colab\"/></a>"
      ]
    },
    {
      "cell_type": "code",
      "execution_count": 1,
      "metadata": {
        "id": "3nCTdotxkwez"
      },
      "outputs": [],
      "source": [
        "import data"
      ]
    },
    {
      "cell_type": "code",
      "source": [
        "!pip install implicit"
      ],
      "metadata": {
        "colab": {
          "base_uri": "https://localhost:8080/"
        },
        "id": "wgGjhk9ByLjF",
        "outputId": "6983e7e1-4fce-43a7-d7e4-af2c90b32a7d"
      },
      "execution_count": 3,
      "outputs": [
        {
          "output_type": "stream",
          "name": "stdout",
          "text": [
            "Collecting implicit\n",
            "  Downloading implicit-0.7.2-cp310-cp310-manylinux2014_x86_64.whl.metadata (6.1 kB)\n",
            "Requirement already satisfied: numpy>=1.17.0 in /usr/local/lib/python3.10/dist-packages (from implicit) (1.26.4)\n",
            "Requirement already satisfied: scipy>=0.16 in /usr/local/lib/python3.10/dist-packages (from implicit) (1.13.1)\n",
            "Requirement already satisfied: tqdm>=4.27 in /usr/local/lib/python3.10/dist-packages (from implicit) (4.66.5)\n",
            "Requirement already satisfied: threadpoolctl in /usr/local/lib/python3.10/dist-packages (from implicit) (3.5.0)\n",
            "Downloading implicit-0.7.2-cp310-cp310-manylinux2014_x86_64.whl (8.9 MB)\n",
            "\u001b[2K   \u001b[90m━━━━━━━━━━━━━━━━━━━━━━━━━━━━━━━━━━━━━━━━\u001b[0m \u001b[32m8.9/8.9 MB\u001b[0m \u001b[31m86.2 MB/s\u001b[0m eta \u001b[36m0:00:00\u001b[0m\n",
            "\u001b[?25hInstalling collected packages: implicit\n",
            "Successfully installed implicit-0.7.2\n"
          ]
        }
      ]
    },
    {
      "cell_type": "code",
      "source": [
        "!pip install scipy"
      ],
      "metadata": {
        "colab": {
          "base_uri": "https://localhost:8080/"
        },
        "id": "kakuOdBDzOAK",
        "outputId": "e80a5a8f-8cba-418d-8a3d-c1bdd9d1bde0"
      },
      "execution_count": 5,
      "outputs": [
        {
          "output_type": "stream",
          "name": "stdout",
          "text": [
            "Requirement already satisfied: scipy in /usr/local/lib/python3.10/dist-packages (1.13.1)\n",
            "Requirement already satisfied: numpy<2.3,>=1.22.4 in /usr/local/lib/python3.10/dist-packages (from scipy) (1.26.4)\n"
          ]
        }
      ]
    },
    {
      "cell_type": "code",
      "source": [
        "import project"
      ],
      "metadata": {
        "id": "VC9GzN2QzS3G"
      },
      "execution_count": 6,
      "outputs": []
    },
    {
      "cell_type": "code",
      "source": [
        "from project.recommender import ImplicitRecommender\n",
        "from implicit.als import AlternatingLeastSquares\n",
        "import scipy.sparse\n",
        "\n",
        "# Simulación de datos de ejemplo\n",
        "artist_retriever = \"metal\"  # Aquí iría tu clase ArtistRetriever\n",
        "implicit_model = AlternatingLeastSquares(factors=50)\n",
        "\n",
        "# Crear instancia del recomendador\n",
        "recommender = ImplicitRecommender(artist_retriever, implicit_model)\n",
        "\n",
        "# Simular una matriz de usuarios-artistas\n",
        "user_artists_matrix = scipy.sparse.csr_matrix([[1, 0], [0, 1]])  # Reemplazar con datos reales\n",
        "recommender.fit(user_artists_matrix)\n",
        "\n",
        "# Obtener recomendaciones\n",
        "recomendaciones = recommender.recommend(user_id=0, N=5)\n",
        "print(recomendaciones)\n"
      ],
      "metadata": {
        "colab": {
          "base_uri": "https://localhost:8080/",
          "height": 230,
          "referenced_widgets": [
            "7d42a2d579be4f4095147ff0f6af5c67",
            "f9d236cddf8d4752ae68ee95599baff0",
            "91e0cf90df994ff6bccd5a7c4dd52bde",
            "4a763a116c324b31a9b5f83bfb4aa9b8",
            "563913b4f3284c3f89a26f44e2c34397",
            "a6e42c02dbe04c4ebea2bff053beac28",
            "30d22d10b866468987e2da3e60d6b8ab",
            "6d47352a8f0e40c39e70f496e56053f3",
            "32e403dd96cc4c3d98f69265bdf7c3e2",
            "b42063f60e094537b8dc80eff1469769",
            "10798f698bab44db9102c2affd12aaba"
          ]
        },
        "id": "5-31bNVf0Grp",
        "outputId": "24c591a8-8492-4ef4-c09a-2a4d1b40da02"
      },
      "execution_count": 14,
      "outputs": [
        {
          "output_type": "display_data",
          "data": {
            "text/plain": [
              "  0%|          | 0/15 [00:00<?, ?it/s]"
            ],
            "application/vnd.jupyter.widget-view+json": {
              "version_major": 2,
              "version_minor": 0,
              "model_id": "7d42a2d579be4f4095147ff0f6af5c67"
            }
          },
          "metadata": {}
        },
        {
          "output_type": "error",
          "ename": "TypeError",
          "evalue": "ImplicitRecommender.recommend() got an unexpected keyword argument 'N'",
          "traceback": [
            "\u001b[0;31m---------------------------------------------------------------------------\u001b[0m",
            "\u001b[0;31mTypeError\u001b[0m                                 Traceback (most recent call last)",
            "\u001b[0;32m<ipython-input-14-c3e608ba1eac>\u001b[0m in \u001b[0;36m<cell line: 17>\u001b[0;34m()\u001b[0m\n\u001b[1;32m     15\u001b[0m \u001b[0;34m\u001b[0m\u001b[0m\n\u001b[1;32m     16\u001b[0m \u001b[0;31m# Obtener recomendaciones\u001b[0m\u001b[0;34m\u001b[0m\u001b[0;34m\u001b[0m\u001b[0m\n\u001b[0;32m---> 17\u001b[0;31m \u001b[0mrecomendaciones\u001b[0m \u001b[0;34m=\u001b[0m \u001b[0mrecommender\u001b[0m\u001b[0;34m.\u001b[0m\u001b[0mrecommend\u001b[0m\u001b[0;34m(\u001b[0m\u001b[0muser_id\u001b[0m\u001b[0;34m=\u001b[0m\u001b[0;36m0\u001b[0m\u001b[0;34m,\u001b[0m \u001b[0mN\u001b[0m\u001b[0;34m=\u001b[0m\u001b[0;36m5\u001b[0m\u001b[0;34m)\u001b[0m\u001b[0;34m\u001b[0m\u001b[0;34m\u001b[0m\u001b[0m\n\u001b[0m\u001b[1;32m     18\u001b[0m \u001b[0mprint\u001b[0m\u001b[0;34m(\u001b[0m\u001b[0mrecomendaciones\u001b[0m\u001b[0;34m)\u001b[0m\u001b[0;34m\u001b[0m\u001b[0;34m\u001b[0m\u001b[0m\n",
            "\u001b[0;31mTypeError\u001b[0m: ImplicitRecommender.recommend() got an unexpected keyword argument 'N'"
          ]
        }
      ]
    },
    {
      "cell_type": "code",
      "source": [
        "from pathlib import Path\n",
        "from project.data import load_user_artists, ArtistRetriever\n",
        "\n",
        "# Cargar la matriz de usuarios-artistas\n",
        "user_artists_file = Path(\"lastfmdata/user_artists.dat\")\n",
        "user_artists_matrix = load_user_artists(user_artists_file)\n",
        "\n",
        "# Cargar los nombres de los artistas\n",
        "artist_retriever = ArtistRetriever()\n",
        "artists_file = Path(\"lastfmdata/artists.dat\")\n",
        "artist_retriever.load_artists(artists_file)\n"
      ],
      "metadata": {
        "id": "voCtogcg2bvp"
      },
      "execution_count": 15,
      "outputs": []
    },
    {
      "cell_type": "code",
      "source": [
        "from implicit.als import AlternatingLeastSquares\n",
        "\n",
        "# Configura y entrena el modelo\n",
        "model = AlternatingLeastSquares(factors=50)\n",
        "model.fit(user_artists_matrix)\n"
      ],
      "metadata": {
        "colab": {
          "base_uri": "https://localhost:8080/",
          "height": 49,
          "referenced_widgets": [
            "4450b5e2b9d044b29c70fa0005c61551",
            "5c566555c98e4412a50f3d234a853232",
            "a154bab707ce4f24b8d44f3a219f9cd0",
            "e817ce4a12d74d568a4c48f680a19b35",
            "845e85549d5f4419b0a77540278fea70",
            "d2665839a38647db8162a297a773f330",
            "3ca0b2458d904d78ac66d9df121bc2fd",
            "9aa3ceec1c2e40199500cdc23eac26c1",
            "365b037ca92040f88292c5d44a5cd4f1",
            "be37108b52f74f0e9275262c6c91b90a",
            "13d397247d9b4a3a93c9ac55364ddb04"
          ]
        },
        "id": "oNMUMX3l2iH5",
        "outputId": "7ea6c095-c511-4bf7-c706-cb541dfe7c2f"
      },
      "execution_count": 16,
      "outputs": [
        {
          "output_type": "display_data",
          "data": {
            "text/plain": [
              "  0%|          | 0/15 [00:00<?, ?it/s]"
            ],
            "application/vnd.jupyter.widget-view+json": {
              "version_major": 2,
              "version_minor": 0,
              "model_id": "4450b5e2b9d044b29c70fa0005c61551"
            }
          },
          "metadata": {}
        }
      ]
    },
    {
      "cell_type": "code",
      "source": [
        "# Encuentra los artistas similares a un artista dado (ej: artist_id=1)\n",
        "artist_id = 1\n",
        "similar_artists = model.similar_items(artist_id, N=5)\n",
        "\n",
        "# Obtener nombres de los artistas recomendados\n",
        "for similar_artist_id, score in similar_artists:\n",
        "    artist_name = artist_retriever.get_artist_name_from_id(similar_artist_id)\n",
        "    print(f\"Artista recomendado: {artist_name}, score: {score}\")\n"
      ],
      "metadata": {
        "colab": {
          "base_uri": "https://localhost:8080/",
          "height": 216
        },
        "id": "XJlIw1TX2lql",
        "outputId": "22bef335-aee7-4ebe-c685-26a67df61db3"
      },
      "execution_count": 18,
      "outputs": [
        {
          "output_type": "error",
          "ename": "ValueError",
          "evalue": "too many values to unpack (expected 2)",
          "traceback": [
            "\u001b[0;31m---------------------------------------------------------------------------\u001b[0m",
            "\u001b[0;31mValueError\u001b[0m                                Traceback (most recent call last)",
            "\u001b[0;32m<ipython-input-18-877a280a759a>\u001b[0m in \u001b[0;36m<cell line: 6>\u001b[0;34m()\u001b[0m\n\u001b[1;32m      4\u001b[0m \u001b[0;34m\u001b[0m\u001b[0m\n\u001b[1;32m      5\u001b[0m \u001b[0;31m# Obtener nombres de los artistas recomendados\u001b[0m\u001b[0;34m\u001b[0m\u001b[0;34m\u001b[0m\u001b[0m\n\u001b[0;32m----> 6\u001b[0;31m \u001b[0;32mfor\u001b[0m \u001b[0msimilar_artist_id\u001b[0m\u001b[0;34m,\u001b[0m \u001b[0mscore\u001b[0m \u001b[0;32min\u001b[0m \u001b[0msimilar_artists\u001b[0m\u001b[0;34m:\u001b[0m\u001b[0;34m\u001b[0m\u001b[0;34m\u001b[0m\u001b[0m\n\u001b[0m\u001b[1;32m      7\u001b[0m     \u001b[0martist_name\u001b[0m \u001b[0;34m=\u001b[0m \u001b[0martist_retriever\u001b[0m\u001b[0;34m.\u001b[0m\u001b[0mget_artist_name_from_id\u001b[0m\u001b[0;34m(\u001b[0m\u001b[0msimilar_artist_id\u001b[0m\u001b[0;34m)\u001b[0m\u001b[0;34m\u001b[0m\u001b[0;34m\u001b[0m\u001b[0m\n\u001b[1;32m      8\u001b[0m     \u001b[0mprint\u001b[0m\u001b[0;34m(\u001b[0m\u001b[0;34mf\"Artista recomendado: {artist_name}, score: {score}\"\u001b[0m\u001b[0;34m)\u001b[0m\u001b[0;34m\u001b[0m\u001b[0;34m\u001b[0m\u001b[0m\n",
            "\u001b[0;31mValueError\u001b[0m: too many values to unpack (expected 2)"
          ]
        }
      ]
    },
    {
      "cell_type": "code",
      "source": [
        "# Encuentra los artistas similares a un artista dado (ej: artist_id=1)\n",
        "artist_id = 1\n",
        "similar_artists = model.similar_items(artist_id, N=5)\n",
        "\n",
        "# Imprime la estructura de similar_artists para inspeccionar su contenido\n",
        "print(similar_artists)\n",
        "\n",
        "# Ajusta el bucle según la estructura observada\n",
        "for item in similar_artists:\n",
        "    print(item)  # Ver lo que contiene cada item\n"
      ],
      "metadata": {
        "colab": {
          "base_uri": "https://localhost:8080/"
        },
        "id": "_rMGYlPa24ao",
        "outputId": "5a80c2a4-30e7-42ef-acea-d48742c8df5b"
      },
      "execution_count": 19,
      "outputs": [
        {
          "output_type": "stream",
          "name": "stdout",
          "text": [
            "(array([   1,  390,  397, 1157, 1165], dtype=int32), array([1.        , 0.85786426, 0.8161579 , 0.8016621 , 0.80119467],\n",
            "      dtype=float32))\n",
            "[   1  390  397 1157 1165]\n",
            "[1.         0.85786426 0.8161579  0.8016621  0.80119467]\n"
          ]
        }
      ]
    },
    {
      "cell_type": "code",
      "source": [
        "# Encuentra los artistas similares a un artista dado (ej: artist_id=1)\n",
        "artist_id = 51\n",
        "similar_artists = model.similar_items(artist_id, N=5)\n",
        "\n",
        "# Imprime la estructura de similar_artists para inspeccionar su contenido\n",
        "print(similar_artists)\n",
        "\n",
        "# Ajusta el bucle según la estructura observada\n",
        "for item in similar_artists:\n",
        "    print(item)  # Ver lo que contiene cada item\n"
      ],
      "metadata": {
        "colab": {
          "base_uri": "https://localhost:8080/"
        },
        "id": "n2fSEv3k3GLC",
        "outputId": "0927a174-250c-4f7b-8dee-b5edbf587aec"
      },
      "execution_count": 20,
      "outputs": [
        {
          "output_type": "stream",
          "name": "stdout",
          "text": [
            "(array([   51,    72,   187, 13900, 13901], dtype=int32), array([1.0000001 , 0.7945075 , 0.78980654, 0.7349233 , 0.7130281 ],\n",
            "      dtype=float32))\n",
            "[   51    72   187 13900 13901]\n",
            "[1.0000001  0.7945075  0.78980654 0.7349233  0.7130281 ]\n"
          ]
        }
      ]
    },
    {
      "cell_type": "code",
      "source": [
        "# Encuentra los artistas similares a un artista dado (ej: artist_id=51)\n",
        "artist_id = 51\n",
        "similar_artists, scores = model.similar_items(artist_id, N=5)\n",
        "\n",
        "# Iterar sobre ambos arrays (IDs de los artistas y puntajes)\n",
        "for similar_artist_id, score in zip(similar_artists, scores):\n",
        "    artist_name = artist_retriever.get_artist_name_from_id(similar_artist_id)\n",
        "    print(f\"Artista recomendado: {artist_name}, score: {score}\")\n"
      ],
      "metadata": {
        "colab": {
          "base_uri": "https://localhost:8080/"
        },
        "id": "o_2knL043utf",
        "outputId": "1ecf777d-974d-4cb1-f732-6c7208065b53"
      },
      "execution_count": 21,
      "outputs": [
        {
          "output_type": "stream",
          "name": "stdout",
          "text": [
            "Artista recomendado: Duran Duran, score: 1.0000001192092896\n",
            "Artista recomendado: Depeche Mode, score: 0.7945075035095215\n",
            "Artista recomendado: a-ha, score: 0.7898065447807312\n",
            "Artista recomendado: Real Life, score: 0.7349233031272888\n",
            "Artista recomendado: Timbuk 3, score: 0.713028073310852\n"
          ]
        }
      ]
    },
    {
      "cell_type": "code",
      "source": [
        "# Encuentra los artistas similares a un artista dado (ej: artist_id=51)\n",
        "artist_id = 7\n",
        "similar_artists, scores = model.similar_items(artist_id, N=5)\n",
        "\n",
        "# Iterar sobre ambos arrays (IDs de los artistas y puntajes)\n",
        "for similar_artist_id, score in zip(similar_artists, scores):\n",
        "    artist_name = artist_retriever.get_artist_name_from_id(similar_artist_id)\n",
        "    print(f\"Artista recomendado: {artist_name}, score: {score}\")\n"
      ],
      "metadata": {
        "colab": {
          "base_uri": "https://localhost:8080/"
        },
        "id": "HzbsywWw39vY",
        "outputId": "504df783-20e1-45a3-ca47-c0eed89bb8bb"
      },
      "execution_count": 22,
      "outputs": [
        {
          "output_type": "stream",
          "name": "stdout",
          "text": [
            "Artista recomendado: Marilyn Manson, score: 0.9999998807907104\n",
            "Artista recomendado: Muse, score: 0.7421699166297913\n",
            "Artista recomendado: Korn, score: 0.7247135043144226\n",
            "Artista recomendado: Linkin Park, score: 0.7176734209060669\n",
            "Artista recomendado: My Chemical Romance, score: 0.7123848795890808\n"
          ]
        }
      ]
    },
    {
      "cell_type": "code",
      "source": [
        "# Encuentra los artistas similares a un artista dado (ej: artist_id=51)\n",
        "artist_id = 154\n",
        "similar_artists, scores = model.similar_items(artist_id, N=5)\n",
        "\n",
        "# Iterar sobre ambos arrays (IDs de los artistas y puntajes)\n",
        "for similar_artist_id, score in zip(similar_artists, scores):\n",
        "    artist_name = artist_retriever.get_artist_name_from_id(similar_artist_id)\n",
        "    print(f\"Artista recomendado: {artist_name}, score: {score}\")\n"
      ],
      "metadata": {
        "colab": {
          "base_uri": "https://localhost:8080/"
        },
        "id": "jXRYkVEy4IZc",
        "outputId": "73ca0702-b6c8-45f0-dab3-be4e73ae2541"
      },
      "execution_count": 23,
      "outputs": [
        {
          "output_type": "stream",
          "name": "stdout",
          "text": [
            "Artista recomendado: Radiohead, score: 1.0\n",
            "Artista recomendado: Kings of Leon, score: 0.8594444394111633\n",
            "Artista recomendado: Arctic Monkeys, score: 0.8227877020835876\n",
            "Artista recomendado: Placebo, score: 0.8220125436782837\n",
            "Artista recomendado: U2, score: 0.8153684735298157\n"
          ]
        }
      ]
    },
    {
      "cell_type": "code",
      "source": [
        "from IPython.display import Javascript, display\n",
        "from google.colab.output import eval_js\n",
        "\n",
        "# Función para crear botones\n",
        "def create_buttons(artist_name):\n",
        "    display(Javascript('''\n",
        "        var div = document.createElement('div');\n",
        "        var btn1 = document.createElement('button');\n",
        "        btn1.innerHTML = 'Me gusta: {artist_name}';\n",
        "        btn1.onclick = function() {{\n",
        "          google.colab.kernel.invokeFunction('notebook.callback', ['Me gusta', '{artist_name}'], {});\n",
        "        }};\n",
        "\n",
        "        var btn2 = document.createElement('button');\n",
        "        btn2.innerHTML = 'No me gusta: {artist_name}';\n",
        "        btn2.onclick = function() {{\n",
        "          google.colab.kernel.invokeFunction('notebook.callback', ['No me gusta', '{artist_name}'], {});\n",
        "        }};\n",
        "\n",
        "        div.appendChild(btn1);\n",
        "        div.appendChild(btn2);\n",
        "        document.body.appendChild(div);\n",
        "    '''))\n",
        "\n",
        "# Función para manejar la elección\n",
        "def handle_choice(choice, artist_name):\n",
        "    print(f'Has elegido: {choice} para {artist_name}')\n",
        "\n",
        "# Registrar la función en Google Colab\n",
        "from google.colab import output\n",
        "output.register_callback('notebook.callback', handle_choice)\n",
        "\n",
        "# Encuentra los artistas similares a un artista dado (ej: artist_id=51)\n",
        "artist_id = 51  # Cambia este ID según el artista que desees\n",
        "similar_artists, scores = model.similar_items(artist_id, N=5)\n",
        "\n",
        "# Iterar sobre ambos arrays (IDs de los artistas y puntajes) y mostrar botones para el primer artista recomendado\n",
        "for similar_artist_id, score in zip(similar_artists, scores):\n",
        "    artist_name = artist_retriever.get_artist_name_from_id(similar_artist_id)\n",
        "    print(f\"Artista recomendado: {artist_name}, score: {score}\")\n",
        "\n",
        "    # Mostrar los botones para el primer artista recomendado\n",
        "    create_buttons(artist_name)\n",
        "    break  # Solo mostramos botones para el primer artista, puedes quitar este break si deseas mostrar para todos\n"
      ],
      "metadata": {
        "colab": {
          "base_uri": "https://localhost:8080/",
          "height": 110
        },
        "id": "14FXWOtf4k3i",
        "outputId": "29ee8c20-c7de-4df8-edb6-94ef7c370b47"
      },
      "execution_count": 25,
      "outputs": [
        {
          "output_type": "stream",
          "name": "stdout",
          "text": [
            "Artista recomendado: Duran Duran, score: 1.0000001192092896\n"
          ]
        },
        {
          "output_type": "display_data",
          "data": {
            "text/plain": [
              "<IPython.core.display.Javascript object>"
            ],
            "application/javascript": [
              "\n",
              "        var div = document.createElement('div');\n",
              "        var btn1 = document.createElement('button');\n",
              "        btn1.innerHTML = 'Me gusta: {artist_name}';\n",
              "        btn1.onclick = function() {{ \n",
              "          google.colab.kernel.invokeFunction('notebook.callback', ['Me gusta', '{artist_name}'], {}); \n",
              "        }};\n",
              "        \n",
              "        var btn2 = document.createElement('button');\n",
              "        btn2.innerHTML = 'No me gusta: {artist_name}';\n",
              "        btn2.onclick = function() {{ \n",
              "          google.colab.kernel.invokeFunction('notebook.callback', ['No me gusta', '{artist_name}'], {}); \n",
              "        }};\n",
              "\n",
              "        div.appendChild(btn1);\n",
              "        div.appendChild(btn2);\n",
              "        document.body.appendChild(div);\n",
              "    "
            ]
          },
          "metadata": {}
        },
        {
          "output_type": "stream",
          "name": "stdout",
          "text": [
            "Has elegido: Me gusta para {artist_name}\n",
            "Has elegido: No me gusta para {artist_name}\n",
            "Has elegido: Me gusta para {artist_name}\n"
          ]
        }
      ]
    },
    {
      "cell_type": "code",
      "source": [
        "from IPython.display import Javascript, display\n",
        "from google.colab.output import eval_js\n",
        "\n",
        "# Función para crear botones\n",
        "def create_buttons(artist_name):\n",
        "    display(Javascript('''\n",
        "        var div = document.createElement('div');\n",
        "        var btn1 = document.createElement('button');\n",
        "        btn1.innerHTML = 'Me gusta: {artist_name}';\n",
        "        btn1.onclick = function() {{\n",
        "          google.colab.kernel.invokeFunction('notebook.callback', ['Me gusta', '{artist_name}'], {});\n",
        "        }};\n",
        "\n",
        "        var btn2 = document.createElement('button');\n",
        "        btn2.innerHTML = 'No me gusta: {artist_name}';\n",
        "        btn2.onclick = function() {{\n",
        "          google.colab.kernel.invokeFunction('notebook.callback', ['No me gusta', '{artist_name}'], {});\n",
        "        }};\n",
        "\n",
        "        div.appendChild(btn1);\n",
        "        div.appendChild(btn2);\n",
        "        document.body.appendChild(div);\n",
        "    '''))\n",
        "\n",
        "# Función para manejar la elección\n",
        "def handle_choice(choice, artist_name):\n",
        "    print(f'Has elegido: {choice} para {artist_name}')\n",
        "\n",
        "# Registrar la función en Google Colab\n",
        "from google.colab import output\n",
        "output.register_callback('notebook.callback', handle_choice)\n",
        "\n",
        "# Encuentra los artistas similares a un artista dado (ej: artist_id=51)\n",
        "artist_id = 51  # Cambia este ID según el artista que desees\n",
        "similar_artists, scores = model.similar_items(artist_id, N=5)\n",
        "\n",
        "# Iterar sobre los artistas similares y mostrar botones para cada uno, excepto el artista original\n",
        "for similar_artist_id, score in zip(similar_artists, scores):\n",
        "    if similar_artist_id != artist_id:  # Verificar que no sea el mismo artista\n",
        "        artist_name = artist_retriever.get_artist_name_from_id(similar_artist_id)\n",
        "        print(f\"Artista recomendado: {artist_name}, score: {score}\")\n",
        "\n",
        "        # Mostrar los botones para el artista recomendado\n",
        "        create_buttons(artist_name)\n",
        "        break  # Muestra botones solo para el primer artista recomendado diferente\n"
      ],
      "metadata": {
        "colab": {
          "base_uri": "https://localhost:8080/",
          "height": 74
        },
        "id": "dvTgxaVy5CPd",
        "outputId": "66850ad8-8883-4e57-cfe2-d48160728edc"
      },
      "execution_count": 27,
      "outputs": [
        {
          "output_type": "stream",
          "name": "stdout",
          "text": [
            "Artista recomendado: Depeche Mode, score: 0.7945075035095215\n"
          ]
        },
        {
          "output_type": "display_data",
          "data": {
            "text/plain": [
              "<IPython.core.display.Javascript object>"
            ],
            "application/javascript": [
              "\n",
              "        var div = document.createElement('div');\n",
              "        var btn1 = document.createElement('button');\n",
              "        btn1.innerHTML = 'Me gusta: {artist_name}';\n",
              "        btn1.onclick = function() {{ \n",
              "          google.colab.kernel.invokeFunction('notebook.callback', ['Me gusta', '{artist_name}'], {}); \n",
              "        }};\n",
              "        \n",
              "        var btn2 = document.createElement('button');\n",
              "        btn2.innerHTML = 'No me gusta: {artist_name}';\n",
              "        btn2.onclick = function() {{ \n",
              "          google.colab.kernel.invokeFunction('notebook.callback', ['No me gusta', '{artist_name}'], {}); \n",
              "        }};\n",
              "\n",
              "        div.appendChild(btn1);\n",
              "        div.appendChild(btn2);\n",
              "        document.body.appendChild(div);\n",
              "    "
            ]
          },
          "metadata": {}
        },
        {
          "output_type": "stream",
          "name": "stdout",
          "text": [
            "Has elegido: Me gusta para {artist_name}\n"
          ]
        }
      ]
    },
    {
      "cell_type": "code",
      "source": [
        "from IPython.display import Javascript, display\n",
        "from google.colab.output import eval_js\n",
        "\n",
        "# Función para crear botones\n",
        "def create_buttons(artist_name):\n",
        "    display(Javascript('''\n",
        "        var div = document.createElement('div');\n",
        "        var btn1 = document.createElement('button');\n",
        "        btn1.innerHTML = `Me gusta: {artist_name}`;\n",
        "        btn1.onclick = function() {{\n",
        "          google.colab.kernel.invokeFunction('notebook.callback', ['Me gusta', '{artist_name}'], {});\n",
        "        }};\n",
        "\n",
        "        var btn2 = document.createElement('button');\n",
        "        btn2.innerHTML = `No me gusta: {artist_name}`;\n",
        "        btn2.onclick = function() {{\n",
        "          google.colab.kernel.invokeFunction('notebook.callback', ['No me gusta', '{artist_name}'], {});\n",
        "        }};\n",
        "\n",
        "        div.appendChild(btn1);\n",
        "        div.appendChild(btn2);\n",
        "        document.body.appendChild(div);\n",
        "    '''))\n",
        "\n",
        "# Función para manejar la elección\n",
        "def handle_choice(choice, artist_name):\n",
        "    print(f'Has elegido: {choice} para {artist_name}')\n",
        "\n",
        "# Registrar la función en Google Colab\n",
        "from google.colab import output\n",
        "output.register_callback('notebook.callback', handle_choice)\n",
        "\n",
        "# Encuentra los artistas similares a un artista dado (ej: artist_id=51)\n",
        "artist_id = 51  # Cambia este ID según el artista que desees\n",
        "similar_artists, scores = model.similar_items(artist_id, N=5)\n",
        "\n",
        "# Iterar sobre los artistas similares y mostrar botones para cada uno, excepto el artista original\n",
        "for similar_artist_id, score in zip(similar_artists, scores):\n",
        "    if similar_artist_id != artist_id:  # Verificar que no sea el mismo artista\n",
        "        artist_name = artist_retriever.get_artist_name_from_id(similar_artist_id)\n",
        "        print(f\"Artista recomendado: {artist_name}, score: {score}\")\n",
        "\n",
        "        # Mostrar los botones para el artista recomendado\n",
        "        create_buttons(artist_name)\n",
        "        break  # Muestra botones solo para el primer artista recomendado diferente\n"
      ],
      "metadata": {
        "colab": {
          "base_uri": "https://localhost:8080/",
          "height": 74
        },
        "id": "WPIrOFXv5WST",
        "outputId": "19a003dc-c46e-4202-f999-a0240a54962e"
      },
      "execution_count": 34,
      "outputs": [
        {
          "output_type": "stream",
          "name": "stdout",
          "text": [
            "Artista recomendado: Depeche Mode, score: 0.7945075035095215\n"
          ]
        },
        {
          "output_type": "display_data",
          "data": {
            "text/plain": [
              "<IPython.core.display.Javascript object>"
            ],
            "application/javascript": [
              "\n",
              "        var div = document.createElement('div');\n",
              "        var btn1 = document.createElement('button');\n",
              "        btn1.innerHTML = `Me gusta: {artist_name}`;\n",
              "        btn1.onclick = function() {{ \n",
              "          google.colab.kernel.invokeFunction('notebook.callback', ['Me gusta', '{artist_name}'], {}); \n",
              "        }};\n",
              "        \n",
              "        var btn2 = document.createElement('button');\n",
              "        btn2.innerHTML = `No me gusta: {artist_name}`;\n",
              "        btn2.onclick = function() {{ \n",
              "          google.colab.kernel.invokeFunction('notebook.callback', ['No me gusta', '{artist_name}'], {}); \n",
              "        }};\n",
              "\n",
              "        div.appendChild(btn1);\n",
              "        div.appendChild(btn2);\n",
              "        document.body.appendChild(div);\n",
              "    "
            ]
          },
          "metadata": {}
        },
        {
          "output_type": "stream",
          "name": "stdout",
          "text": [
            "Has elegido: Me gusta para {artist_name}\n"
          ]
        }
      ]
    },
    {
      "cell_type": "code",
      "source": [
        "from IPython.display import Javascript, display\n",
        "from google.colab.output import eval_js\n",
        "\n",
        "# Función para crear botones\n",
        "def create_buttons(artist_name):\n",
        "    # Escapar el nombre del artista para evitar problemas en JavaScript\n",
        "    artist_name_escaped = artist_name.replace(\"'\", \"\\\\'\")  # Escapar comillas simples\n",
        "    artist_name_escaped = artist_name_escaped.replace('\"', '\\\\\"')  # Escapar comillas dobles\n",
        "\n",
        "    display(Javascript(f'''\n",
        "        var div = document.createElement('div');\n",
        "        var btn1 = document.createElement('button');\n",
        "        btn1.innerHTML = 'Me gusta: {artist_name_escaped}';\n",
        "        btn1.onclick = function() {{\n",
        "          google.colab.kernel.invokeFunction('notebook.callback', ['Me gusta', '{artist_name_escaped}'], {{}});\n",
        "        }};\n",
        "\n",
        "        var btn2 = document.createElement('button');\n",
        "        btn2.innerHTML = 'No me gusta: {artist_name_escaped}';\n",
        "        btn2.onclick = function() {{\n",
        "          google.colab.kernel.invokeFunction('notebook.callback', ['No me gusta', '{artist_name_escaped}'], {{}});\n",
        "        }};\n",
        "\n",
        "        div.appendChild(btn1);\n",
        "        div.appendChild(btn2);\n",
        "        document.body.appendChild(div);\n",
        "    '''))\n",
        "\n",
        "# Función para manejar la elección\n",
        "def handle_choice(choice, artist_name):\n",
        "    print(f'Has elegido: {choice} para {artist_name}')\n",
        "\n",
        "# Registrar la función en Google Colab\n",
        "from google.colab import output\n",
        "output.register_callback('notebook.callback', handle_choice)\n",
        "\n",
        "# Encuentra los artistas similares a un artista dado (ej: artist_id=51)\n",
        "artist_id = 51  # Cambia este ID según el artista que desees\n",
        "similar_artists, scores = model.similar_items(artist_id, N=5)\n",
        "\n",
        "# Iterar sobre los artistas similares y mostrar botones para cada uno, excepto el artista original\n",
        "for similar_artist_id, score in zip(similar_artists, scores):\n",
        "    if similar_artist_id != artist_id:  # Verificar que no sea el mismo artista\n",
        "        artist_name = artist_retriever.get_artist_name_from_id(similar_artist_id)\n",
        "        print(f\"Artista recomendado: {artist_name}, score: {score}\")\n",
        "\n",
        "        # Mostrar los botones para el artista recomendado\n",
        "        create_buttons(artist_name)\n",
        "        break  # Muestra botones solo para el primer artista recomendado diferente\n"
      ],
      "metadata": {
        "colab": {
          "base_uri": "https://localhost:8080/",
          "height": 110
        },
        "id": "cyebF5to7XVe",
        "outputId": "20524c39-565d-4b94-9a6c-292e23114423"
      },
      "execution_count": 35,
      "outputs": [
        {
          "output_type": "stream",
          "name": "stdout",
          "text": [
            "Artista recomendado: Depeche Mode, score: 0.7945075035095215\n"
          ]
        },
        {
          "output_type": "display_data",
          "data": {
            "text/plain": [
              "<IPython.core.display.Javascript object>"
            ],
            "application/javascript": [
              "\n",
              "        var div = document.createElement('div');\n",
              "        var btn1 = document.createElement('button');\n",
              "        btn1.innerHTML = 'Me gusta: Depeche Mode';\n",
              "        btn1.onclick = function() { \n",
              "          google.colab.kernel.invokeFunction('notebook.callback', ['Me gusta', 'Depeche Mode'], {}); \n",
              "        };\n",
              "        \n",
              "        var btn2 = document.createElement('button');\n",
              "        btn2.innerHTML = 'No me gusta: Depeche Mode';\n",
              "        btn2.onclick = function() { \n",
              "          google.colab.kernel.invokeFunction('notebook.callback', ['No me gusta', 'Depeche Mode'], {}); \n",
              "        };\n",
              "\n",
              "        div.appendChild(btn1);\n",
              "        div.appendChild(btn2);\n",
              "        document.body.appendChild(div);\n",
              "    "
            ]
          },
          "metadata": {}
        },
        {
          "output_type": "stream",
          "name": "stdout",
          "text": [
            "Has elegido: Me gusta para Depeche Mode\n",
            "Has elegido: No me gusta para Depeche Mode\n",
            "Has elegido: Me gusta para Depeche Mode\n"
          ]
        }
      ]
    },
    {
      "cell_type": "code",
      "source": [
        "from IPython.display import Javascript, display\n",
        "from google.colab.output import eval_js\n",
        "\n",
        "# Inicializar lista de artistas similares\n",
        "artist_id = 51  # Cambia este ID según el artista que desees\n",
        "similar_artists, scores = model.similar_items(artist_id, N=5)\n",
        "\n",
        "# Variable para controlar el índice de las recomendaciones\n",
        "current_index = 0\n",
        "\n",
        "# Función para crear botones\n",
        "def create_buttons(artist_name):\n",
        "    artist_name_escaped = artist_name.replace(\"'\", \"\\\\'\").replace('\"', '\\\\\"')  # Escapar caracteres\n",
        "    display(Javascript(f'''\n",
        "        var div = document.createElement('div');\n",
        "        var btn1 = document.createElement('button');\n",
        "        btn1.innerHTML = 'Me gusta: {artist_name_escaped}';\n",
        "        btn1.onclick = function() {{\n",
        "          google.colab.kernel.invokeFunction('notebook.callback', ['Me gusta', '{artist_name_escaped}'], {{}});\n",
        "        }};\n",
        "\n",
        "        var btn2 = document.createElement('button');\n",
        "        btn2.innerHTML = 'No me gusta: {artist_name_escaped}';\n",
        "        btn2.onclick = function() {{\n",
        "          google.colab.kernel.invokeFunction('notebook.callback', ['No me gusta', '{artist_name_escaped}'], {{}});\n",
        "        }};\n",
        "\n",
        "        div.appendChild(btn1);\n",
        "        div.appendChild(btn2);\n",
        "        document.body.appendChild(div);\n",
        "    '''))\n",
        "\n",
        "# Función para manejar la elección\n",
        "def handle_choice(choice, artist_name):\n",
        "    print(f'Has elegido: {choice} para {artist_name}')\n",
        "\n",
        "    # Avanzar al siguiente artista\n",
        "    global current_index\n",
        "    current_index += 1\n",
        "\n",
        "    # Verificar si hay más artistas por recomendar\n",
        "    if current_index < len(similar_artists):\n",
        "        next_artist_id = similar_artists[current_index]\n",
        "        next_artist_name = artist_retriever.get_artist_name_from_id(next_artist_id)\n",
        "        next_score = scores[current_index]\n",
        "\n",
        "        print(f\"Artista recomendado: {next_artist_name}, score: {next_score}\")\n",
        "        create_buttons(next_artist_name)  # Mostrar botones para el siguiente artista\n",
        "    else:\n",
        "        print(\"No hay más artistas para recomendar.\")\n",
        "\n",
        "# Registrar la función en Google Colab\n",
        "from google.colab import output\n",
        "output.register_callback('notebook.callback', handle_choice)\n",
        "\n",
        "# Mostrar el primer artista recomendado\n",
        "artist_name = artist_retriever.get_artist_name_from_id(similar_artists[current_index])\n",
        "print(f\"Artista recomendado: {artist_name}, score: {scores[current_index]}\")\n",
        "create_buttons(artist_name)  # Mostrar botones para el primer artista\n"
      ],
      "metadata": {
        "colab": {
          "base_uri": "https://localhost:8080/",
          "height": 321
        },
        "id": "fkKpv99W75Ky",
        "outputId": "bbe59d74-6785-4204-b434-13119f67319d"
      },
      "execution_count": 36,
      "outputs": [
        {
          "output_type": "stream",
          "name": "stdout",
          "text": [
            "Artista recomendado: Duran Duran, score: 1.0000001192092896\n"
          ]
        },
        {
          "output_type": "display_data",
          "data": {
            "text/plain": [
              "<IPython.core.display.Javascript object>"
            ],
            "application/javascript": [
              "\n",
              "        var div = document.createElement('div');\n",
              "        var btn1 = document.createElement('button');\n",
              "        btn1.innerHTML = 'Me gusta: Duran Duran';\n",
              "        btn1.onclick = function() { \n",
              "          google.colab.kernel.invokeFunction('notebook.callback', ['Me gusta', 'Duran Duran'], {}); \n",
              "        };\n",
              "        \n",
              "        var btn2 = document.createElement('button');\n",
              "        btn2.innerHTML = 'No me gusta: Duran Duran';\n",
              "        btn2.onclick = function() { \n",
              "          google.colab.kernel.invokeFunction('notebook.callback', ['No me gusta', 'Duran Duran'], {}); \n",
              "        };\n",
              "\n",
              "        div.appendChild(btn1);\n",
              "        div.appendChild(btn2);\n",
              "        document.body.appendChild(div);\n",
              "    "
            ]
          },
          "metadata": {}
        },
        {
          "output_type": "stream",
          "name": "stdout",
          "text": [
            "Has elegido: Me gusta para Duran Duran\n",
            "Artista recomendado: Depeche Mode, score: 0.7945075035095215\n"
          ]
        },
        {
          "output_type": "display_data",
          "data": {
            "text/plain": [
              "<IPython.core.display.Javascript object>"
            ],
            "application/javascript": [
              "\n",
              "        var div = document.createElement('div');\n",
              "        var btn1 = document.createElement('button');\n",
              "        btn1.innerHTML = 'Me gusta: Depeche Mode';\n",
              "        btn1.onclick = function() { \n",
              "          google.colab.kernel.invokeFunction('notebook.callback', ['Me gusta', 'Depeche Mode'], {}); \n",
              "        };\n",
              "        \n",
              "        var btn2 = document.createElement('button');\n",
              "        btn2.innerHTML = 'No me gusta: Depeche Mode';\n",
              "        btn2.onclick = function() { \n",
              "          google.colab.kernel.invokeFunction('notebook.callback', ['No me gusta', 'Depeche Mode'], {}); \n",
              "        };\n",
              "\n",
              "        div.appendChild(btn1);\n",
              "        div.appendChild(btn2);\n",
              "        document.body.appendChild(div);\n",
              "    "
            ]
          },
          "metadata": {}
        },
        {
          "output_type": "stream",
          "name": "stdout",
          "text": [
            "Has elegido: Me gusta para Depeche Mode\n",
            "Artista recomendado: a-ha, score: 0.7898065447807312\n"
          ]
        },
        {
          "output_type": "display_data",
          "data": {
            "text/plain": [
              "<IPython.core.display.Javascript object>"
            ],
            "application/javascript": [
              "\n",
              "        var div = document.createElement('div');\n",
              "        var btn1 = document.createElement('button');\n",
              "        btn1.innerHTML = 'Me gusta: a-ha';\n",
              "        btn1.onclick = function() { \n",
              "          google.colab.kernel.invokeFunction('notebook.callback', ['Me gusta', 'a-ha'], {}); \n",
              "        };\n",
              "        \n",
              "        var btn2 = document.createElement('button');\n",
              "        btn2.innerHTML = 'No me gusta: a-ha';\n",
              "        btn2.onclick = function() { \n",
              "          google.colab.kernel.invokeFunction('notebook.callback', ['No me gusta', 'a-ha'], {}); \n",
              "        };\n",
              "\n",
              "        div.appendChild(btn1);\n",
              "        div.appendChild(btn2);\n",
              "        document.body.appendChild(div);\n",
              "    "
            ]
          },
          "metadata": {}
        },
        {
          "output_type": "stream",
          "name": "stdout",
          "text": [
            "Has elegido: Me gusta para a-ha\n",
            "Artista recomendado: Real Life, score: 0.7349233031272888\n"
          ]
        },
        {
          "output_type": "display_data",
          "data": {
            "text/plain": [
              "<IPython.core.display.Javascript object>"
            ],
            "application/javascript": [
              "\n",
              "        var div = document.createElement('div');\n",
              "        var btn1 = document.createElement('button');\n",
              "        btn1.innerHTML = 'Me gusta: Real Life';\n",
              "        btn1.onclick = function() { \n",
              "          google.colab.kernel.invokeFunction('notebook.callback', ['Me gusta', 'Real Life'], {}); \n",
              "        };\n",
              "        \n",
              "        var btn2 = document.createElement('button');\n",
              "        btn2.innerHTML = 'No me gusta: Real Life';\n",
              "        btn2.onclick = function() { \n",
              "          google.colab.kernel.invokeFunction('notebook.callback', ['No me gusta', 'Real Life'], {}); \n",
              "        };\n",
              "\n",
              "        div.appendChild(btn1);\n",
              "        div.appendChild(btn2);\n",
              "        document.body.appendChild(div);\n",
              "    "
            ]
          },
          "metadata": {}
        },
        {
          "output_type": "stream",
          "name": "stdout",
          "text": [
            "Has elegido: No me gusta para Real Life\n",
            "Artista recomendado: Timbuk 3, score: 0.713028073310852\n"
          ]
        },
        {
          "output_type": "display_data",
          "data": {
            "text/plain": [
              "<IPython.core.display.Javascript object>"
            ],
            "application/javascript": [
              "\n",
              "        var div = document.createElement('div');\n",
              "        var btn1 = document.createElement('button');\n",
              "        btn1.innerHTML = 'Me gusta: Timbuk 3';\n",
              "        btn1.onclick = function() { \n",
              "          google.colab.kernel.invokeFunction('notebook.callback', ['Me gusta', 'Timbuk 3'], {}); \n",
              "        };\n",
              "        \n",
              "        var btn2 = document.createElement('button');\n",
              "        btn2.innerHTML = 'No me gusta: Timbuk 3';\n",
              "        btn2.onclick = function() { \n",
              "          google.colab.kernel.invokeFunction('notebook.callback', ['No me gusta', 'Timbuk 3'], {}); \n",
              "        };\n",
              "\n",
              "        div.appendChild(btn1);\n",
              "        div.appendChild(btn2);\n",
              "        document.body.appendChild(div);\n",
              "    "
            ]
          },
          "metadata": {}
        },
        {
          "output_type": "stream",
          "name": "stdout",
          "text": [
            "Has elegido: No me gusta para Timbuk 3\n",
            "No hay más artistas para recomendar.\n"
          ]
        }
      ]
    },
    {
      "cell_type": "code",
      "source": [
        "# ID menor y mayor de lastfmdata/artists.dat\n",
        "import pandas as pd\n",
        "\n",
        "artists = pd.read_csv('lastfmdata/artists.dat', sep='\\t')\n",
        "print(artists['id'].min())\n",
        "print(artists['id'].max())"
      ],
      "metadata": {
        "colab": {
          "base_uri": "https://localhost:8080/"
        },
        "id": "xGu-xnoA8X-W",
        "outputId": "7261b89c-6d70-42fe-8090-ca7983f6bf70"
      },
      "execution_count": 39,
      "outputs": [
        {
          "output_type": "stream",
          "name": "stdout",
          "text": [
            "1\n",
            "18745\n"
          ]
        }
      ]
    },
    {
      "cell_type": "code",
      "source": [
        "import random\n",
        "from IPython.display import Javascript, display\n",
        "from google.colab.output import eval_js\n",
        "import pandas as pd\n",
        "\n",
        "# importar base de artistas\n",
        "artists = pd.read_csv('lastfmdata/artists.dat', sep='\\t')\n",
        "\n",
        "min_id_artist = artists['id'].min()\n",
        "max_id_artist = artists['id'].max()\n",
        "\n",
        "# Inicializar lista de artistas similares\n",
        "artist_id = random.randint(min_id_artist, max_id_artist)  # Seleccionar un artista al azar\n",
        "similar_artists, scores = model.similar_items(artist_id, N=5)\n",
        "\n",
        "# Variable para controlar el índice de las recomendaciones\n",
        "current_index = 0\n",
        "\n",
        "# Función para crear botones\n",
        "def create_buttons(artist_name):\n",
        "    artist_name_escaped = artist_name.replace(\"'\", \"\\\\'\").replace('\"', '\\\\\"')  # Escapar caracteres\n",
        "    display(Javascript(f'''\n",
        "        var div = document.createElement('div');\n",
        "        var btn1 = document.createElement('button');\n",
        "        btn1.innerHTML = 'Me gusta: {artist_name_escaped}';\n",
        "        btn1.onclick = function() {{\n",
        "          google.colab.kernel.invokeFunction('notebook.callback', ['Me gusta', '{artist_name_escaped}'], {{}});\n",
        "        }};\n",
        "\n",
        "        var btn2 = document.createElement('button');\n",
        "        btn2.innerHTML = 'No me gusta: {artist_name_escaped}';\n",
        "        btn2.onclick = function() {{\n",
        "          google.colab.kernel.invokeFunction('notebook.callback', ['No me gusta', '{artist_name_escaped}'], {{}});\n",
        "        }};\n",
        "\n",
        "        div.appendChild(btn1);\n",
        "        div.appendChild(btn2);\n",
        "        document.body.appendChild(div);\n",
        "    '''))\n",
        "\n",
        "# Función para manejar la elección\n",
        "def handle_choice(choice, artist_name):\n",
        "    global artist_id, similar_artists, current_index\n",
        "\n",
        "    print(f'Has elegido: {choice} para {artist_name}')\n",
        "\n",
        "    if choice == 'Me gusta':\n",
        "        # Avanzar al siguiente artista en la lista\n",
        "        current_index += 1\n",
        "        if current_index < len(similar_artists):\n",
        "            next_artist_id = similar_artists[current_index]\n",
        "            next_artist_name = artist_retriever.get_artist_name_from_id(next_artist_id)\n",
        "            next_score = scores[current_index]\n",
        "            print(f\"Artista recomendado: {next_artist_name}, score: {next_score}\")\n",
        "            create_buttons(next_artist_name)  # Mostrar botones para el siguiente artista\n",
        "        else:\n",
        "            print(\"No hay más artistas en la lista de recomendaciones.\")\n",
        "    else:\n",
        "        # Cambiar el artista por uno al azar\n",
        "        artist_id = random.randint(min_id_artist, max_id_artist)\n",
        "        similar_artists, scores = model.similar_items(artist_id, N=5)\n",
        "        current_index = 0  # Reiniciar el índice\n",
        "        next_artist_id = similar_artists[current_index]\n",
        "        next_artist_name = artist_retriever.get_artist_name_from_id(next_artist_id)\n",
        "        next_score = scores[current_index]\n",
        "        print(f\"Artista recomendado: {next_artist_name}, score: {next_score}\")\n",
        "        create_buttons(next_artist_name)  # Mostrar botones para el nuevo artista\n",
        "\n",
        "# Registrar la función en Google Colab\n",
        "from google.colab import output\n",
        "output.register_callback('notebook.callback', handle_choice)\n",
        "\n",
        "# Mostrar el primer artista recomendado\n",
        "artist_name = artist_retriever.get_artist_name_from_id(similar_artists[current_index])\n",
        "print(f\"Artista recomendado: {artist_name}, score: {scores[current_index]}\")\n",
        "create_buttons(artist_name)  # Mostrar botones para el primer artista\n"
      ],
      "metadata": {
        "colab": {
          "base_uri": "https://localhost:8080/",
          "height": 167
        },
        "id": "_yNO7YHr88Cf",
        "outputId": "71b52765-1a66-4b54-ddbb-88c14bcb0873"
      },
      "execution_count": 54,
      "outputs": [
        {
          "output_type": "stream",
          "name": "stdout",
          "text": [
            "Artista recomendado: Big Dipper, score: 0.9999998807907104\n"
          ]
        },
        {
          "output_type": "display_data",
          "data": {
            "text/plain": [
              "<IPython.core.display.Javascript object>"
            ],
            "application/javascript": [
              "\n",
              "        var div = document.createElement('div');\n",
              "        var btn1 = document.createElement('button');\n",
              "        btn1.innerHTML = 'Me gusta: Big Dipper';\n",
              "        btn1.onclick = function() { \n",
              "          google.colab.kernel.invokeFunction('notebook.callback', ['Me gusta', 'Big Dipper'], {}); \n",
              "        };\n",
              "        \n",
              "        var btn2 = document.createElement('button');\n",
              "        btn2.innerHTML = 'No me gusta: Big Dipper';\n",
              "        btn2.onclick = function() { \n",
              "          google.colab.kernel.invokeFunction('notebook.callback', ['No me gusta', 'Big Dipper'], {}); \n",
              "        };\n",
              "\n",
              "        div.appendChild(btn1);\n",
              "        div.appendChild(btn2);\n",
              "        document.body.appendChild(div);\n",
              "    "
            ]
          },
          "metadata": {}
        },
        {
          "output_type": "stream",
          "name": "stdout",
          "text": [
            "Has elegido: Me gusta para Big Dipper\n",
            "Has elegido: Me gusta para Big Dipper\n",
            "Has elegido: No me gusta para Big Dipper\n",
            "Artista recomendado: Happoradio, score: 1.0\n"
          ]
        },
        {
          "output_type": "display_data",
          "data": {
            "text/plain": [
              "<IPython.core.display.Javascript object>"
            ],
            "application/javascript": [
              "\n",
              "        var div = document.createElement('div');\n",
              "        var btn1 = document.createElement('button');\n",
              "        btn1.innerHTML = 'Me gusta: Happoradio';\n",
              "        btn1.onclick = function() { \n",
              "          google.colab.kernel.invokeFunction('notebook.callback', ['Me gusta', 'Happoradio'], {}); \n",
              "        };\n",
              "        \n",
              "        var btn2 = document.createElement('button');\n",
              "        btn2.innerHTML = 'No me gusta: Happoradio';\n",
              "        btn2.onclick = function() { \n",
              "          google.colab.kernel.invokeFunction('notebook.callback', ['No me gusta', 'Happoradio'], {}); \n",
              "        };\n",
              "\n",
              "        div.appendChild(btn1);\n",
              "        div.appendChild(btn2);\n",
              "        document.body.appendChild(div);\n",
              "    "
            ]
          },
          "metadata": {}
        },
        {
          "output_type": "stream",
          "name": "stdout",
          "text": [
            "Has elegido: Me gusta para Happoradio\n"
          ]
        }
      ]
    },
    {
      "cell_type": "code",
      "source": [
        "import random\n",
        "from IPython.display import Javascript, display\n",
        "from google.colab.output import eval_js\n",
        "from pathlib import Path\n",
        "import implicit\n",
        "import scipy\n",
        "from project.data import load_user_artists, ArtistRetriever\n",
        "from project.recommender import ImplicitRecommender  # Asegúrate de que esta importación sea correcta\n",
        "\n",
        "# Cargar la matriz de usuarios y artistas\n",
        "user_artists = load_user_artists(Path(\"./lastfmdata/user_artists.dat\"))\n",
        "\n",
        "# Instanciar el recuperador de artistas\n",
        "artist_retriever = ArtistRetriever()\n",
        "artist_retriever.load_artists(Path(\"./lastfmdata/artists.dat\"))\n",
        "\n",
        "# Instanciar el modelo ALS usando implicit\n",
        "implicit_model = implicit.als.AlternatingLeastSquares(factors=50, iterations=10, regularization=0.01)\n",
        "\n",
        "# Instanciar el recomendador, ajustar y recomendar\n",
        "recommender = ImplicitRecommender(artist_retriever, implicit_model)\n",
        "recommender.fit(user_artists)\n",
        "\n",
        "# Inicializar variables\n",
        "liked_artist_id = None  # Almacenar el ID del artista que le gusta al usuario\n",
        "artist_id = random.randint(1, 18745)  # Seleccionar un artista al azar\n",
        "\n",
        "# Función para crear botones\n",
        "def create_buttons(artist_name):\n",
        "    artist_name_escaped = artist_name.replace(\"'\", \"\\\\'\").replace('\"', '\\\\\"')  # Escapar caracteres\n",
        "    display(Javascript(f'''\n",
        "        var div = document.createElement('div');\n",
        "        var btn1 = document.createElement('button');\n",
        "        btn1.innerHTML = 'Me gusta: {artist_name_escaped}';\n",
        "        btn1.onclick = function() {{\n",
        "          google.colab.kernel.invokeFunction('notebook.callback', ['Me gusta', '{artist_name_escaped}'], {{}});\n",
        "        }};\n",
        "\n",
        "        var btn2 = document.createElement('button');\n",
        "        btn2.innerHTML = 'No me gusta: {artist_name_escaped}';\n",
        "        btn2.onclick = function() {{\n",
        "          google.colab.kernel.invokeFunction('notebook.callback', ['No me gusta', '{artist_name_escaped}'], {{}});\n",
        "        }};\n",
        "\n",
        "        div.appendChild(btn1);\n",
        "        div.appendChild(btn2);\n",
        "        document.body.appendChild(div);\n",
        "    '''))\n",
        "\n",
        "# Función para manejar la elección\n",
        "def handle_choice(choice, artist_name):\n",
        "    global artist_id, liked_artist_id\n",
        "\n",
        "    if choice == 'Me gusta':\n",
        "        if liked_artist_id is None:\n",
        "            liked_artist_id = artist_id\n",
        "\n",
        "        user_id = 2  # Cambia esto al ID del usuario correspondiente\n",
        "        similar_artists, scores = recommender.recommend(user_id, user_artists, n=5)\n",
        "\n",
        "        # Mostrar el primer artista similar, pero asegurándote de usar el ID\n",
        "        next_artist_id = similar_artists[0]\n",
        "        next_artist_name = artist_retriever.get_artist_name_from_id(next_artist_id)\n",
        "        next_score = scores[0]\n",
        "        print(f\"Artista recomendado: {next_artist_name}, score: {next_score}\")\n",
        "        create_buttons(next_artist_name)  # Mostrar botones para el siguiente artista similar\n",
        "\n",
        "    else:  # Si elige \"No me gusta\"\n",
        "        # Cambiar el artista por uno al azar\n",
        "        artist_id = random.randint(1, 18745)\n",
        "        similar_artists, scores = recommender.recommend(user_id, user_artists, n=5)\n",
        "\n",
        "        # Asegúrate de obtener el ID de un artista similar\n",
        "        next_artist_id = similar_artists[0]\n",
        "        next_artist_name = artist_retriever.get_artist_name_from_id(next_artist_id)\n",
        "        next_score = scores[0]\n",
        "        print(f\"Artista recomendado: {next_artist_name}, score: {next_score}\")\n",
        "        create_buttons(next_artist_name)  # Mostrar botones para el nuevo artista\n",
        "\n",
        "# Registrar la función en Google Colab\n",
        "from google.colab import output\n",
        "output.register_callback('notebook.callback', handle_choice)\n",
        "\n",
        "# Mostrar el primer artista recomendado\n",
        "initial_artists, initial_scores = recommender.recommend(2, user_artists, n=5)\n",
        "initial_artist_name = initial_artists[0]\n",
        "print(f\"Artista recomendado: {initial_artist_name}, score: {initial_scores[0]}\")\n",
        "create_buttons(initial_artist_name)  # Mostrar botones para el primer artista\n"
      ],
      "metadata": {
        "colab": {
          "base_uri": "https://localhost:8080/",
          "height": 876,
          "referenced_widgets": [
            "ec345fa60d7c480783d352aba784c029",
            "7a5a5e22acb64f3881ae13bb5daa4295",
            "035462e25c8f4aab88c59a4f7fb4dca0",
            "6a7c0fc89fd64af1a831221c9177eddd",
            "8ac3029100fd4a11b7d387dd2ed5aa95",
            "1061ff3ecf4f4c74a80728214a0c7b70",
            "4a1d6f764b47430f8f964291fcd621f9",
            "bf5ef2a831634f2b993e82a49a91fa47",
            "f9c76880a09346ed804c1e6401b77000",
            "f6a1b5c98ab5408eb25c0c67bd6f48c4",
            "28d52f55888d4f8d86f15c7f23b41f42"
          ]
        },
        "id": "95XGsuwo-GIo",
        "outputId": "6d00ee1c-fd83-426a-d17e-bad43a7e16be"
      },
      "execution_count": 47,
      "outputs": [
        {
          "output_type": "display_data",
          "data": {
            "text/plain": [
              "  0%|          | 0/10 [00:00<?, ?it/s]"
            ],
            "application/vnd.jupyter.widget-view+json": {
              "version_major": 2,
              "version_minor": 0,
              "model_id": "ec345fa60d7c480783d352aba784c029"
            }
          },
          "metadata": {}
        },
        {
          "output_type": "stream",
          "name": "stdout",
          "text": [
            "Artista recomendado: Garbage, score: 1.4257937669754028\n"
          ]
        },
        {
          "output_type": "display_data",
          "data": {
            "text/plain": [
              "<IPython.core.display.Javascript object>"
            ],
            "application/javascript": [
              "\n",
              "        var div = document.createElement('div');\n",
              "        var btn1 = document.createElement('button');\n",
              "        btn1.innerHTML = 'Me gusta: Garbage';\n",
              "        btn1.onclick = function() { \n",
              "          google.colab.kernel.invokeFunction('notebook.callback', ['Me gusta', 'Garbage'], {}); \n",
              "        };\n",
              "        \n",
              "        var btn2 = document.createElement('button');\n",
              "        btn2.innerHTML = 'No me gusta: Garbage';\n",
              "        btn2.onclick = function() { \n",
              "          google.colab.kernel.invokeFunction('notebook.callback', ['No me gusta', 'Garbage'], {}); \n",
              "        };\n",
              "\n",
              "        div.appendChild(btn1);\n",
              "        div.appendChild(btn2);\n",
              "        document.body.appendChild(div);\n",
              "    "
            ]
          },
          "metadata": {}
        },
        {
          "output_type": "stream",
          "name": "stderr",
          "text": [
            "ERROR:root:Internal Python error in the inspect module.\n",
            "Below is the traceback from this internal error.\n",
            "\n"
          ]
        },
        {
          "output_type": "stream",
          "name": "stdout",
          "text": [
            "Traceback (most recent call last):\n",
            "  File \"/usr/local/lib/python3.10/dist-packages/pandas/core/indexes/base.py\", line 3791, in get_loc\n",
            "    return self._engine.get_loc(casted_key)\n",
            "  File \"index.pyx\", line 152, in pandas._libs.index.IndexEngine.get_loc\n",
            "  File \"index.pyx\", line 160, in pandas._libs.index.IndexEngine.get_loc\n",
            "  File \"pandas/_libs/index_class_helper.pxi\", line 70, in pandas._libs.index.Int64Engine._check_type\n",
            "KeyError: 'Garbage'\n",
            "\n",
            "The above exception was the direct cause of the following exception:\n",
            "\n",
            "Traceback (most recent call last):\n",
            "  File \"/usr/local/lib/python3.10/dist-packages/IPython/core/interactiveshell.py\", line 2764, in user_expressions\n",
            "    value = self._format_user_obj(eval(expr, global_ns, user_ns))\n",
            "  File \"<string>\", line 1, in <module>\n",
            "  File \"/usr/local/lib/python3.10/dist-packages/google/colab/output/_js.py\", line 114, in _invoke_function\n",
            "    return callback(*args, **kwargs)\n",
            "  File \"<ipython-input-47-31deab4dad8b>\", line 63, in handle_choice\n",
            "    next_artist_name = artist_retriever.get_artist_name_from_id(next_artist_id)\n",
            "  File \"/content/project/data.py\", line 37, in get_artist_name_from_id\n",
            "    return self._artists_df.loc[artist_id, \"name\"]\n",
            "  File \"/usr/local/lib/python3.10/dist-packages/pandas/core/indexing.py\", line 1146, in __getitem__\n",
            "    return self.obj._get_value(*key, takeable=self._takeable)\n",
            "  File \"/usr/local/lib/python3.10/dist-packages/pandas/core/frame.py\", line 4012, in _get_value\n",
            "    row = self.index.get_loc(index)\n",
            "  File \"/usr/local/lib/python3.10/dist-packages/pandas/core/indexes/base.py\", line 3798, in get_loc\n",
            "    raise KeyError(key) from err\n",
            "KeyError: 'Garbage'\n",
            "\n",
            "During handling of the above exception, another exception occurred:\n",
            "\n",
            "Traceback (most recent call last):\n",
            "  File \"/usr/local/lib/python3.10/dist-packages/IPython/core/ultratb.py\", line 1101, in get_records\n",
            "    return _fixed_getinnerframes(etb, number_of_lines_of_context, tb_offset)\n",
            "  File \"/usr/local/lib/python3.10/dist-packages/IPython/core/ultratb.py\", line 248, in wrapped\n",
            "    return f(*args, **kwargs)\n",
            "  File \"/usr/local/lib/python3.10/dist-packages/IPython/core/ultratb.py\", line 281, in _fixed_getinnerframes\n",
            "    records = fix_frame_records_filenames(inspect.getinnerframes(etb, context))\n",
            "  File \"/usr/lib/python3.10/inspect.py\", line 1662, in getinnerframes\n",
            "    frameinfo = (tb.tb_frame,) + getframeinfo(tb, context)\n",
            "AttributeError: 'tuple' object has no attribute 'tb_frame'\n"
          ]
        }
      ]
    },
    {
      "cell_type": "code",
      "source": [
        "# Función para manejar la elección\n",
        "def handle_choice(choice, artist_name):\n",
        "    global artist_id, similar_artists, scores, current_index\n",
        "\n",
        "    print(f'Has elegido: {choice} para {artist_name}')\n",
        "\n",
        "    if choice == 'Me gusta':\n",
        "        # Avanzar al siguiente artista en la lista\n",
        "        current_index += 1\n",
        "        if current_index < len(similar_artists):\n",
        "            next_artist_id = similar_artists[current_index]\n",
        "            next_artist_name = artist_retriever.get_artist_name_from_id(next_artist_id)\n",
        "            next_score = scores[current_index]\n",
        "            print(f\"Artista recomendado: {next_artist_name}, score: {next_score}\")\n",
        "            create_buttons(next_artist_name)  # Mostrar botones para el siguiente artista\n",
        "        else:\n",
        "            print(\"No hay más artistas en la lista de recomendaciones. Reiniciando la lista.\")\n",
        "            # Reiniciar el índice y volver a cargar artistas similares\n",
        "            current_index = 0\n",
        "            artist_id = random.randint(min_id_artist, max_id_artist)  # Cambiar a un artista al azar\n",
        "            similar_artists, scores = model.similar_items(artist_id, N=5)\n",
        "            next_artist_id = similar_artists[current_index]\n",
        "            next_artist_name = artist_retriever.get_artist_name_from_id(next_artist_id)\n",
        "            next_score = scores[current_index]\n",
        "            print(f\"Artista recomendado: {next_artist_name}, score: {next_score}\")\n",
        "            create_buttons(next_artist_name)  # Mostrar botones para el nuevo artista\n",
        "    else:\n",
        "        # Cambiar el artista por uno al azar\n",
        "        artist_id = random.randint(min_id_artist, max_id_artist)\n",
        "        similar_artists, scores = model.similar_items(artist_id, N=5)\n",
        "        current_index = 0  # Reiniciar el índice\n",
        "        next_artist_id = similar_artists[current_index]\n",
        "        next_artist_name = artist_retriever.get_artist_name_from_id(next_artist_id)\n",
        "        next_score = scores[current_index]\n",
        "        print(f\"Artista recomendado: {next_artist_name}, score: {next_score}\")\n",
        "        create_buttons(next_artist_name)  # Mostrar botones para el nuevo artista\n",
        "\n",
        "# Mostrar el primer artista recomendado\n",
        "artist_name = artist_retriever.get_artist_name_from_id(similar_artists[current_index])\n",
        "print(f\"Artista recomendado: {artist_name}, score: {scores[current_index]}\")\n",
        "create_buttons(artist_name)  # Mostrar botones para el primer artista\n"
      ],
      "metadata": {
        "colab": {
          "base_uri": "https://localhost:8080/",
          "height": 92
        },
        "id": "_80nCJ3oC_nL",
        "outputId": "77b83065-f5a1-4312-aed6-4dabcb56641f"
      },
      "execution_count": 55,
      "outputs": [
        {
          "output_type": "stream",
          "name": "stdout",
          "text": [
            "Artista recomendado: Jon Peafield, score: 0.9999621510505676\n"
          ]
        },
        {
          "output_type": "display_data",
          "data": {
            "text/plain": [
              "<IPython.core.display.Javascript object>"
            ],
            "application/javascript": [
              "\n",
              "        var div = document.createElement('div');\n",
              "        var btn1 = document.createElement('button');\n",
              "        btn1.innerHTML = 'Me gusta: Jon Peafield';\n",
              "        btn1.onclick = function() { \n",
              "          google.colab.kernel.invokeFunction('notebook.callback', ['Me gusta', 'Jon Peafield'], {}); \n",
              "        };\n",
              "        \n",
              "        var btn2 = document.createElement('button');\n",
              "        btn2.innerHTML = 'No me gusta: Jon Peafield';\n",
              "        btn2.onclick = function() { \n",
              "          google.colab.kernel.invokeFunction('notebook.callback', ['No me gusta', 'Jon Peafield'], {}); \n",
              "        };\n",
              "\n",
              "        div.appendChild(btn1);\n",
              "        div.appendChild(btn2);\n",
              "        document.body.appendChild(div);\n",
              "    "
            ]
          },
          "metadata": {}
        },
        {
          "output_type": "stream",
          "name": "stdout",
          "text": [
            "Has elegido: Me gusta para Jon Peafield\n",
            "Has elegido: Me gusta para Jon Peafield\n"
          ]
        }
      ]
    },
    {
      "cell_type": "code",
      "source": [
        "# Función para manejar la elección\n",
        "def handle_choice(choice, artist_name):\n",
        "    global artist_id, similar_artists, scores, current_index\n",
        "\n",
        "    print(f'Has elegido: {choice} para {artist_name}')\n",
        "\n",
        "    if choice == 'Me gusta':\n",
        "        # Avanzar al siguiente artista en la lista\n",
        "        current_index += 1\n",
        "        if current_index < len(similar_artists):\n",
        "            next_artist_id = similar_artists[current_index]\n",
        "            next_artist_name = artist_retriever.get_artist_name_from_id(next_artist_id)\n",
        "            next_score = scores[current_index]\n",
        "            print(f\"Artista recomendado: {next_artist_name}, score: {next_score}\")\n",
        "            create_buttons(next_artist_name)  # Mostrar botones para el siguiente artista\n",
        "        else:\n",
        "            print(\"No hay más artistas en la lista de recomendaciones. Reiniciando la lista.\")\n",
        "            # Reiniciar el índice y volver a cargar artistas similares\n",
        "            current_index = 0\n",
        "            artist_id = random.randint(min_id_artist, max_id_artist)  # Cambiar a un artista al azar\n",
        "            similar_artists, scores = model.similar_items(artist_id, N=5)\n",
        "            next_artist_id = similar_artists[current_index]\n",
        "            next_artist_name = artist_retriever.get_artist_name_from_id(next_artist_id)\n",
        "            next_score = scores[current_index]\n",
        "            print(f\"Artista recomendado: {next_artist_name}, score: {next_score}\")\n",
        "            create_buttons(next_artist_name)  # Mostrar botones para el nuevo artista\n",
        "    else:\n",
        "        # Cambiar el artista por uno al azar\n",
        "        artist_id = random.randint(min_id_artist, max_id_artist)\n",
        "        similar_artists, scores = model.similar_items(artist_id, N=5)\n",
        "        current_index = 0  # Reiniciar el índice\n",
        "        next_artist_id = similar_artists[current_index]\n",
        "        next_artist_name = artist_retriever.get_artist_name_from_id(next_artist_id)\n",
        "        next_score = scores[current_index]\n",
        "        print(f\"Artista recomendado: {next_artist_name}, score: {next_score}\")\n",
        "        create_buttons(next_artist_name)  # Mostrar botones para el nuevo artista\n",
        "\n",
        "# Mostrar el primer artista recomendado\n",
        "artist_name = artist_retriever.get_artist_name_from_id(similar_artists[current_index])\n",
        "print(f\"Artista recomendado: {artist_name}, score: {scores[current_index]}\")\n",
        "create_buttons(artist_name)  # Mostrar botones para el primer artista\n"
      ],
      "metadata": {
        "colab": {
          "base_uri": "https://localhost:8080/",
          "height": 110
        },
        "id": "RXeE31-hDLqH",
        "outputId": "5bbe45ca-d95a-47a5-fc64-0c5447b43aa0"
      },
      "execution_count": 56,
      "outputs": [
        {
          "output_type": "stream",
          "name": "stdout",
          "text": [
            "Artista recomendado: Anthony Stewart Head, score: 0.9985620975494385\n"
          ]
        },
        {
          "output_type": "display_data",
          "data": {
            "text/plain": [
              "<IPython.core.display.Javascript object>"
            ],
            "application/javascript": [
              "\n",
              "        var div = document.createElement('div');\n",
              "        var btn1 = document.createElement('button');\n",
              "        btn1.innerHTML = 'Me gusta: Anthony Stewart Head';\n",
              "        btn1.onclick = function() { \n",
              "          google.colab.kernel.invokeFunction('notebook.callback', ['Me gusta', 'Anthony Stewart Head'], {}); \n",
              "        };\n",
              "        \n",
              "        var btn2 = document.createElement('button');\n",
              "        btn2.innerHTML = 'No me gusta: Anthony Stewart Head';\n",
              "        btn2.onclick = function() { \n",
              "          google.colab.kernel.invokeFunction('notebook.callback', ['No me gusta', 'Anthony Stewart Head'], {}); \n",
              "        };\n",
              "\n",
              "        div.appendChild(btn1);\n",
              "        div.appendChild(btn2);\n",
              "        document.body.appendChild(div);\n",
              "    "
            ]
          },
          "metadata": {}
        },
        {
          "output_type": "stream",
          "name": "stdout",
          "text": [
            "Has elegido: Me gusta para Anthony Stewart Head\n",
            "Has elegido: Me gusta para Anthony Stewart Head\n",
            "No hay más artistas en la lista de recomendaciones.\n"
          ]
        }
      ]
    },
    {
      "cell_type": "code",
      "source": [
        "import random\n",
        "from IPython.display import Javascript, display\n",
        "from google.colab.output import eval_js\n",
        "import pandas as pd\n",
        "\n",
        "# Importar base de artistas\n",
        "artists = pd.read_csv('lastfmdata/artists.dat', sep='\\t')\n",
        "\n",
        "min_id_artist = artists['id'].min()\n",
        "max_id_artist = artists['id'].max()\n",
        "\n",
        "# Inicializar lista de artistas similares\n",
        "artist_id = random.randint(min_id_artist, max_id_artist)  # Seleccionar un artista al azar\n",
        "similar_artists, scores = model.similar_items(artist_id, N=5)\n",
        "\n",
        "# Variable para controlar el índice de las recomendaciones\n",
        "current_index = 0\n",
        "\n",
        "# Función para crear botones\n",
        "def create_buttons(artist_name):\n",
        "    artist_name_escaped = artist_name.replace(\"'\", \"\\\\'\").replace('\"', '\\\\\"')  # Escapar caracteres\n",
        "    display(Javascript(f'''\n",
        "        var div = document.createElement('div');\n",
        "        var btn1 = document.createElement('button');\n",
        "        btn1.innerHTML = 'Me gusta: {artist_name_escaped}';\n",
        "        btn1.onclick = function() {{\n",
        "          google.colab.kernel.invokeFunction('notebook.callback', ['Me gusta', '{artist_name_escaped}'], {{}});\n",
        "        }};\n",
        "\n",
        "        var btn2 = document.createElement('button');\n",
        "        btn2.innerHTML = 'No me gusta: {artist_name_escaped}';\n",
        "        btn2.onclick = function() {{\n",
        "          google.colab.kernel.invokeFunction('notebook.callback', ['No me gusta', '{artist_name_escaped}'], {{}});\n",
        "        }};\n",
        "\n",
        "        div.appendChild(btn1);\n",
        "        div.appendChild(btn2);\n",
        "        document.body.appendChild(div);\n",
        "    '''))\n",
        "\n",
        "# Función para manejar la elección\n",
        "def handle_choice(choice, artist_name):\n",
        "    global artist_id, similar_artists, scores, current_index\n",
        "\n",
        "    print(f'Has elegido: {choice} para {artist_name}')\n",
        "\n",
        "    if choice == 'Me gusta':\n",
        "        # Avanzar al siguiente artista en la lista\n",
        "        current_index += 1\n",
        "        if current_index < len(similar_artists):\n",
        "            next_artist_id = similar_artists[current_index]\n",
        "            next_artist_name = artist_retriever.get_artist_name_from_id(next_artist_id)\n",
        "            next_score = scores[current_index]\n",
        "            print(f\"Artista recomendado: {next_artist_name}, score: {next_score}\")\n",
        "            create_buttons(next_artist_name)  # Mostrar botones para el siguiente artista\n",
        "        else:\n",
        "            print(\"No hay más artistas en la lista de recomendaciones. Seleccionando un nuevo artista.\")\n",
        "            # Reiniciar el índice y volver a cargar artistas similares\n",
        "            artist_id = random.randint(min_id_artist, max_id_artist)  # Cambiar a un artista al azar\n",
        "            similar_artists, scores = model.similar_items(artist_id, N=5)\n",
        "            current_index = 0  # Reiniciar el índice\n",
        "            next_artist_id = similar_artists[current_index]\n",
        "            next_artist_name = artist_retriever.get_artist_name_from_id(next_artist_id)\n",
        "            next_score = scores[current_index]\n",
        "            print(f\"Artista recomendado: {next_artist_name}, score: {next_score}\")\n",
        "            create_buttons(next_artist_name)  # Mostrar botones para el nuevo artista\n",
        "    else:\n",
        "        # Cambiar el artista por uno al azar\n",
        "        artist_id = random.randint(min_id_artist, max_id_artist)\n",
        "        similar_artists, scores = model.similar_items(artist_id, N=5)\n",
        "        current_index = 0  # Reiniciar el índice\n",
        "        next_artist_id = similar_artists[current_index]\n",
        "        next_artist_name = artist_retriever.get_artist_name_from_id(next_artist_id)\n",
        "        next_score = scores[current_index]\n",
        "        print(f\"Artista recomendado: {next_artist_name}, score: {next_score}\")\n",
        "        create_buttons(next_artist_name)  # Mostrar botones para el nuevo artista\n",
        "\n",
        "# Registrar la función en Google Colab\n",
        "from google.colab import output\n",
        "output.register_callback('notebook.callback', handle_choice)\n",
        "\n",
        "# Mostrar el primer artista recomendado\n",
        "artist_name = artist_retriever.get_artist_name_from_id(similar_artists[current_index])\n",
        "print(f\"Artista recomendado: {artist_name}, score: {scores[current_index]}\")\n",
        "create_buttons(artist_name)  # Mostrar botones para el primer artista\n"
      ],
      "metadata": {
        "colab": {
          "base_uri": "https://localhost:8080/",
          "height": 1000
        },
        "id": "1z3ijf2-DdLd",
        "outputId": "1691a1a1-850b-4029-cd3f-f0da476b2f51"
      },
      "execution_count": 58,
      "outputs": [
        {
          "output_type": "stream",
          "name": "stdout",
          "text": [
            "Artista recomendado: Dionne Warwick, score: 1.0000001192092896\n"
          ]
        },
        {
          "output_type": "display_data",
          "data": {
            "text/plain": [
              "<IPython.core.display.Javascript object>"
            ],
            "application/javascript": [
              "\n",
              "        var div = document.createElement('div');\n",
              "        var btn1 = document.createElement('button');\n",
              "        btn1.innerHTML = 'Me gusta: Dionne Warwick';\n",
              "        btn1.onclick = function() { \n",
              "          google.colab.kernel.invokeFunction('notebook.callback', ['Me gusta', 'Dionne Warwick'], {}); \n",
              "        };\n",
              "        \n",
              "        var btn2 = document.createElement('button');\n",
              "        btn2.innerHTML = 'No me gusta: Dionne Warwick';\n",
              "        btn2.onclick = function() { \n",
              "          google.colab.kernel.invokeFunction('notebook.callback', ['No me gusta', 'Dionne Warwick'], {}); \n",
              "        };\n",
              "\n",
              "        div.appendChild(btn1);\n",
              "        div.appendChild(btn2);\n",
              "        document.body.appendChild(div);\n",
              "    "
            ]
          },
          "metadata": {}
        },
        {
          "output_type": "stream",
          "name": "stdout",
          "text": [
            "Has elegido: No me gusta para Dionne Warwick\n",
            "Artista recomendado: Lisa Loeb, score: 1.0000001192092896\n"
          ]
        },
        {
          "output_type": "display_data",
          "data": {
            "text/plain": [
              "<IPython.core.display.Javascript object>"
            ],
            "application/javascript": [
              "\n",
              "        var div = document.createElement('div');\n",
              "        var btn1 = document.createElement('button');\n",
              "        btn1.innerHTML = 'Me gusta: Lisa Loeb';\n",
              "        btn1.onclick = function() { \n",
              "          google.colab.kernel.invokeFunction('notebook.callback', ['Me gusta', 'Lisa Loeb'], {}); \n",
              "        };\n",
              "        \n",
              "        var btn2 = document.createElement('button');\n",
              "        btn2.innerHTML = 'No me gusta: Lisa Loeb';\n",
              "        btn2.onclick = function() { \n",
              "          google.colab.kernel.invokeFunction('notebook.callback', ['No me gusta', 'Lisa Loeb'], {}); \n",
              "        };\n",
              "\n",
              "        div.appendChild(btn1);\n",
              "        div.appendChild(btn2);\n",
              "        document.body.appendChild(div);\n",
              "    "
            ]
          },
          "metadata": {}
        },
        {
          "output_type": "stream",
          "name": "stdout",
          "text": [
            "Has elegido: Me gusta para Lisa Loeb\n",
            "Artista recomendado: 福原美穂, score: 0.9097512364387512\n"
          ]
        },
        {
          "output_type": "display_data",
          "data": {
            "text/plain": [
              "<IPython.core.display.Javascript object>"
            ],
            "application/javascript": [
              "\n",
              "        var div = document.createElement('div');\n",
              "        var btn1 = document.createElement('button');\n",
              "        btn1.innerHTML = 'Me gusta: 福原美穂';\n",
              "        btn1.onclick = function() { \n",
              "          google.colab.kernel.invokeFunction('notebook.callback', ['Me gusta', '福原美穂'], {}); \n",
              "        };\n",
              "        \n",
              "        var btn2 = document.createElement('button');\n",
              "        btn2.innerHTML = 'No me gusta: 福原美穂';\n",
              "        btn2.onclick = function() { \n",
              "          google.colab.kernel.invokeFunction('notebook.callback', ['No me gusta', '福原美穂'], {}); \n",
              "        };\n",
              "\n",
              "        div.appendChild(btn1);\n",
              "        div.appendChild(btn2);\n",
              "        document.body.appendChild(div);\n",
              "    "
            ]
          },
          "metadata": {}
        },
        {
          "output_type": "stream",
          "name": "stdout",
          "text": [
            "Has elegido: No me gusta para 福原美穂\n",
            "Artista recomendado: Moi dix Mois, score: 0.0\n"
          ]
        },
        {
          "output_type": "display_data",
          "data": {
            "text/plain": [
              "<IPython.core.display.Javascript object>"
            ],
            "application/javascript": [
              "\n",
              "        var div = document.createElement('div');\n",
              "        var btn1 = document.createElement('button');\n",
              "        btn1.innerHTML = 'Me gusta: Moi dix Mois';\n",
              "        btn1.onclick = function() { \n",
              "          google.colab.kernel.invokeFunction('notebook.callback', ['Me gusta', 'Moi dix Mois'], {}); \n",
              "        };\n",
              "        \n",
              "        var btn2 = document.createElement('button');\n",
              "        btn2.innerHTML = 'No me gusta: Moi dix Mois';\n",
              "        btn2.onclick = function() { \n",
              "          google.colab.kernel.invokeFunction('notebook.callback', ['No me gusta', 'Moi dix Mois'], {}); \n",
              "        };\n",
              "\n",
              "        div.appendChild(btn1);\n",
              "        div.appendChild(btn2);\n",
              "        document.body.appendChild(div);\n",
              "    "
            ]
          },
          "metadata": {}
        },
        {
          "output_type": "stream",
          "name": "stdout",
          "text": [
            "Has elegido: Me gusta para Moi dix Mois\n",
            "Artista recomendado: Carpathian Forest, score: 0.0\n"
          ]
        },
        {
          "output_type": "display_data",
          "data": {
            "text/plain": [
              "<IPython.core.display.Javascript object>"
            ],
            "application/javascript": [
              "\n",
              "        var div = document.createElement('div');\n",
              "        var btn1 = document.createElement('button');\n",
              "        btn1.innerHTML = 'Me gusta: Carpathian Forest';\n",
              "        btn1.onclick = function() { \n",
              "          google.colab.kernel.invokeFunction('notebook.callback', ['Me gusta', 'Carpathian Forest'], {}); \n",
              "        };\n",
              "        \n",
              "        var btn2 = document.createElement('button');\n",
              "        btn2.innerHTML = 'No me gusta: Carpathian Forest';\n",
              "        btn2.onclick = function() { \n",
              "          google.colab.kernel.invokeFunction('notebook.callback', ['No me gusta', 'Carpathian Forest'], {}); \n",
              "        };\n",
              "\n",
              "        div.appendChild(btn1);\n",
              "        div.appendChild(btn2);\n",
              "        document.body.appendChild(div);\n",
              "    "
            ]
          },
          "metadata": {}
        },
        {
          "output_type": "stream",
          "name": "stdout",
          "text": [
            "Has elegido: Me gusta para Carpathian Forest\n",
            "Artista recomendado: Diary of Dreams, score: 0.0\n"
          ]
        },
        {
          "output_type": "display_data",
          "data": {
            "text/plain": [
              "<IPython.core.display.Javascript object>"
            ],
            "application/javascript": [
              "\n",
              "        var div = document.createElement('div');\n",
              "        var btn1 = document.createElement('button');\n",
              "        btn1.innerHTML = 'Me gusta: Diary of Dreams';\n",
              "        btn1.onclick = function() { \n",
              "          google.colab.kernel.invokeFunction('notebook.callback', ['Me gusta', 'Diary of Dreams'], {}); \n",
              "        };\n",
              "        \n",
              "        var btn2 = document.createElement('button');\n",
              "        btn2.innerHTML = 'No me gusta: Diary of Dreams';\n",
              "        btn2.onclick = function() { \n",
              "          google.colab.kernel.invokeFunction('notebook.callback', ['No me gusta', 'Diary of Dreams'], {}); \n",
              "        };\n",
              "\n",
              "        div.appendChild(btn1);\n",
              "        div.appendChild(btn2);\n",
              "        document.body.appendChild(div);\n",
              "    "
            ]
          },
          "metadata": {}
        },
        {
          "output_type": "stream",
          "name": "stdout",
          "text": [
            "Has elegido: Me gusta para Diary of Dreams\n",
            "Artista recomendado: MALICE MIZER, score: 0.0\n"
          ]
        },
        {
          "output_type": "display_data",
          "data": {
            "text/plain": [
              "<IPython.core.display.Javascript object>"
            ],
            "application/javascript": [
              "\n",
              "        var div = document.createElement('div');\n",
              "        var btn1 = document.createElement('button');\n",
              "        btn1.innerHTML = 'Me gusta: MALICE MIZER';\n",
              "        btn1.onclick = function() { \n",
              "          google.colab.kernel.invokeFunction('notebook.callback', ['Me gusta', 'MALICE MIZER'], {}); \n",
              "        };\n",
              "        \n",
              "        var btn2 = document.createElement('button');\n",
              "        btn2.innerHTML = 'No me gusta: MALICE MIZER';\n",
              "        btn2.onclick = function() { \n",
              "          google.colab.kernel.invokeFunction('notebook.callback', ['No me gusta', 'MALICE MIZER'], {}); \n",
              "        };\n",
              "\n",
              "        div.appendChild(btn1);\n",
              "        div.appendChild(btn2);\n",
              "        document.body.appendChild(div);\n",
              "    "
            ]
          },
          "metadata": {}
        },
        {
          "output_type": "stream",
          "name": "stderr",
          "text": [
            "ERROR:root:Internal Python error in the inspect module.\n",
            "Below is the traceback from this internal error.\n",
            "\n"
          ]
        },
        {
          "output_type": "stream",
          "name": "stdout",
          "text": [
            "Has elegido: Me gusta para MALICE MIZER\n",
            "Traceback (most recent call last):\n",
            "  File \"/usr/local/lib/python3.10/dist-packages/pandas/core/indexes/base.py\", line 3791, in get_loc\n",
            "    return self._engine.get_loc(casted_key)\n",
            "  File \"index.pyx\", line 152, in pandas._libs.index.IndexEngine.get_loc\n",
            "  File \"index.pyx\", line 181, in pandas._libs.index.IndexEngine.get_loc\n",
            "  File \"pandas/_libs/hashtable_class_helper.pxi\", line 2606, in pandas._libs.hashtable.Int64HashTable.get_item\n",
            "  File \"pandas/_libs/hashtable_class_helper.pxi\", line 2630, in pandas._libs.hashtable.Int64HashTable.get_item\n",
            "KeyError: 0\n",
            "\n",
            "The above exception was the direct cause of the following exception:\n",
            "\n",
            "Traceback (most recent call last):\n",
            "  File \"/usr/local/lib/python3.10/dist-packages/IPython/core/interactiveshell.py\", line 2764, in user_expressions\n",
            "    value = self._format_user_obj(eval(expr, global_ns, user_ns))\n",
            "  File \"<string>\", line 1, in <module>\n",
            "  File \"/usr/local/lib/python3.10/dist-packages/google/colab/output/_js.py\", line 114, in _invoke_function\n",
            "    return callback(*args, **kwargs)\n",
            "  File \"<ipython-input-58-9bbf07ddb0b4>\", line 52, in handle_choice\n",
            "    next_artist_name = artist_retriever.get_artist_name_from_id(next_artist_id)\n",
            "  File \"/content/project/data.py\", line 37, in get_artist_name_from_id\n",
            "    return self._artists_df.loc[artist_id, \"name\"]\n",
            "  File \"/usr/local/lib/python3.10/dist-packages/pandas/core/indexing.py\", line 1146, in __getitem__\n",
            "    return self.obj._get_value(*key, takeable=self._takeable)\n",
            "  File \"/usr/local/lib/python3.10/dist-packages/pandas/core/frame.py\", line 4012, in _get_value\n",
            "    row = self.index.get_loc(index)\n",
            "  File \"/usr/local/lib/python3.10/dist-packages/pandas/core/indexes/base.py\", line 3798, in get_loc\n",
            "    raise KeyError(key) from err\n",
            "KeyError: 0\n",
            "\n",
            "During handling of the above exception, another exception occurred:\n",
            "\n",
            "Traceback (most recent call last):\n",
            "  File \"/usr/local/lib/python3.10/dist-packages/IPython/core/ultratb.py\", line 1101, in get_records\n",
            "    return _fixed_getinnerframes(etb, number_of_lines_of_context, tb_offset)\n",
            "  File \"/usr/local/lib/python3.10/dist-packages/IPython/core/ultratb.py\", line 248, in wrapped\n",
            "    return f(*args, **kwargs)\n",
            "  File \"/usr/local/lib/python3.10/dist-packages/IPython/core/ultratb.py\", line 281, in _fixed_getinnerframes\n",
            "    records = fix_frame_records_filenames(inspect.getinnerframes(etb, context))\n",
            "  File \"/usr/lib/python3.10/inspect.py\", line 1662, in getinnerframes\n",
            "    frameinfo = (tb.tb_frame,) + getframeinfo(tb, context)\n",
            "AttributeError: 'tuple' object has no attribute 'tb_frame'\n"
          ]
        }
      ]
    }
  ]
}