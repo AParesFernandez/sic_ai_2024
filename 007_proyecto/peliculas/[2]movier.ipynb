{
  "cells": [
    {
      "cell_type": "markdown",
      "metadata": {
        "id": "view-in-github",
        "colab_type": "text"
      },
      "source": [
        "<a href=\"https://colab.research.google.com/github/davidlealo/sic_ai_2024/blob/main/007_proyecto/peliculas/%5B2%5Dmovier.ipynb\" target=\"_parent\"><img src=\"https://colab.research.google.com/assets/colab-badge.svg\" alt=\"Open In Colab\"/></a>"
      ]
    },
    {
      "cell_type": "markdown",
      "metadata": {
        "id": "-IIvjHaAz7YV"
      },
      "source": [
        "Hola profe no si es esto a lo que se refería pero aquí tengo algunos csv y los uní JSJSJ"
      ]
    },
    {
      "cell_type": "code",
      "execution_count": null,
      "metadata": {
        "id": "4dxxlPrpvXEU"
      },
      "outputs": [],
      "source": [
        "import numpy as np\n",
        "import pandas as pd"
      ]
    },
    {
      "cell_type": "code",
      "execution_count": null,
      "metadata": {
        "colab": {
          "base_uri": "https://localhost:8080/"
        },
        "id": "ILHnHGFG5TMT",
        "outputId": "40db2c9b-df74-404c-9280-3e8d4bccc29a"
      },
      "outputs": [
        {
          "output_type": "stream",
          "name": "stdout",
          "text": [
            "Collecting scikit-surprise\n",
            "  Downloading scikit_surprise-1.1.4.tar.gz (154 kB)\n",
            "\u001b[?25l     \u001b[90m━━━━━━━━━━━━━━━━━━━━━━━━━━━━━━━━━━━━━━━━\u001b[0m \u001b[32m0.0/154.4 kB\u001b[0m \u001b[31m?\u001b[0m eta \u001b[36m-:--:--\u001b[0m\r\u001b[2K     \u001b[91m━━━━━━━━━━━━━━━━━━━━━━━━━━━━━━━━━━\u001b[0m\u001b[90m╺\u001b[0m\u001b[90m━━━━━\u001b[0m \u001b[32m133.1/154.4 kB\u001b[0m \u001b[31m4.7 MB/s\u001b[0m eta \u001b[36m0:00:01\u001b[0m\r\u001b[2K     \u001b[90m━━━━━━━━━━━━━━━━━━━━━━━━━━━━━━━━━━━━━━━━\u001b[0m \u001b[32m154.4/154.4 kB\u001b[0m \u001b[31m3.1 MB/s\u001b[0m eta \u001b[36m0:00:00\u001b[0m\n",
            "\u001b[?25h  Installing build dependencies ... \u001b[?25l\u001b[?25hdone\n",
            "  Getting requirements to build wheel ... \u001b[?25l\u001b[?25hdone\n",
            "  Preparing metadata (pyproject.toml) ... \u001b[?25l\u001b[?25hdone\n",
            "Requirement already satisfied: joblib>=1.2.0 in /usr/local/lib/python3.10/dist-packages (from scikit-surprise) (1.4.2)\n",
            "Requirement already satisfied: numpy>=1.19.5 in /usr/local/lib/python3.10/dist-packages (from scikit-surprise) (1.26.4)\n",
            "Requirement already satisfied: scipy>=1.6.0 in /usr/local/lib/python3.10/dist-packages (from scikit-surprise) (1.13.1)\n",
            "Building wheels for collected packages: scikit-surprise\n",
            "  Building wheel for scikit-surprise (pyproject.toml) ... \u001b[?25l\u001b[?25hdone\n",
            "  Created wheel for scikit-surprise: filename=scikit_surprise-1.1.4-cp310-cp310-linux_x86_64.whl size=2357272 sha256=d07e1c06f9e3c150fd1a0016326c6583b02cdccbd653100cbbf318edcdc76215\n",
            "  Stored in directory: /root/.cache/pip/wheels/4b/3f/df/6acbf0a40397d9bf3ff97f582cc22fb9ce66adde75bc71fd54\n",
            "Successfully built scikit-surprise\n",
            "Installing collected packages: scikit-surprise\n",
            "Successfully installed scikit-surprise-1.1.4\n"
          ]
        }
      ],
      "source": [
        "!pip install scikit-surprise"
      ]
    },
    {
      "cell_type": "code",
      "source": [
        "import os\n",
        "import urllib.request\n",
        "import zipfile\n",
        "from surprise import KNNBasic, Dataset, Reader\n",
        "from surprise import accuracy\n",
        "from surprise.model_selection import train_test_split\n",
        "from collections import defaultdict\n",
        "import pandas as pd"
      ],
      "metadata": {
        "id": "XFUJIYjX0UBu"
      },
      "execution_count": null,
      "outputs": []
    },
    {
      "cell_type": "code",
      "source": [
        "df_muestra = pd.read_csv(\"df_muestra.csv\")\n",
        "df_muestra"
      ],
      "metadata": {
        "id": "xZtObGUXzHKD"
      },
      "execution_count": null,
      "outputs": []
    },
    {
      "cell_type": "code",
      "source": [
        "# Crear un diccionario para mapear id de película a título\n",
        "movie_id_to_title = dict(zip(df_muestra['movieId'], df_muestra['title']))"
      ],
      "metadata": {
        "id": "VhbVk8U20YMu"
      },
      "execution_count": null,
      "outputs": []
    },
    {
      "cell_type": "code",
      "execution_count": null,
      "metadata": {
        "id": "LkphNIBS41rD"
      },
      "outputs": [],
      "source": [
        "\n",
        "\n",
        "reader = Reader(rating_scale=(0.5, 5))  # Ajusta el rango de calificación si es diferente\n",
        "data = Dataset.load_from_df(df_muestra[['userId', 'title', 'rating']], reader)\n",
        "\n",
        "# Dividir el dataset en conjunto de entrenamiento y prueba\n",
        "trainset, testset = train_test_split(data, test_size=.25)\n",
        "\n",
        "# Crear el algoritmo KNNBasic\n",
        "modelo = KNNBasic(k=40, sim_options={'name': 'cosine', 'user_based': True})\n",
        "\n",
        "# Entrenar el algoritmo con el conjunto de entrenamiento\n",
        "modelo.fit(trainset)\n",
        "\n",
        "# Hacer predicciones en el conjunto de prueba\n",
        "predictions = modelo.test(testset)\n",
        "\n",
        "# Calcular el RMSE (Root Mean Squared Error)\n",
        "rmse = accuracy.rmse(predictions)\n",
        "print(f\"RMSE: {rmse}\")\n",
        "\n",
        "# Función para obtener las top N recomendaciones\n",
        "def get_top_n(predictions, n=5):\n",
        "    top_n = defaultdict(list)\n",
        "    for uid, iid, true_r, est, _ in predictions:\n",
        "        top_n[uid].append((iid, est))\n",
        "\n",
        "    # Ordenar las predicciones para cada usuario y obtener las top n\n",
        "    for uid, user_ratings in top_n.items():\n",
        "        user_ratings.sort(key=lambda x: x[1], reverse=True)\n",
        "        top_n[uid] = user_ratings[:n]\n",
        "\n",
        "    return dict(top_n)\n",
        "\n",
        "# Obtener las top 5 recomendaciones para todos los usuarios\n",
        "top_n = get_top_n(predictions, n=5)\n",
        "\n",
        "# Mostrar las top 5 recomendaciones para el usuario 1\n",
        "print(\"\\nTop 5 recomendaciones para el usuario 1:\")\n",
        "for iid, rating in top_n['1']:\n",
        "    print(f\"Película: {movie_id_to_title[int(iid)]}, Calificación estimada: {rating:.2f}\")\n",
        "\n",
        "# Mostrar todas las predicciones para el usuario 1\n",
        "print(\"\\nTodas las predicciones para el usuario 1:\")\n",
        "user_1_predictions = [pred for pred in predictions if pred.uid == '1']\n",
        "for prediction in sorted(user_1_predictions, key=lambda x: x.est, reverse=True)[:10]:\n",
        "    print(f\"Película: {movie_id_to_title[int(prediction.iid)]}, \"\n",
        "          f\"Calificación estimada: {prediction.est:.2f}\")"
      ]
    }
  ],
  "metadata": {
    "colab": {
      "provenance": [],
      "include_colab_link": true
    },
    "kernelspec": {
      "display_name": "Python 3",
      "name": "python3"
    },
    "language_info": {
      "codemirror_mode": {
        "name": "ipython",
        "version": 3
      },
      "file_extension": ".py",
      "mimetype": "text/x-python",
      "name": "python",
      "nbconvert_exporter": "python",
      "pygments_lexer": "ipython3",
      "version": "3.11.4"
    }
  },
  "nbformat": 4,
  "nbformat_minor": 0
}