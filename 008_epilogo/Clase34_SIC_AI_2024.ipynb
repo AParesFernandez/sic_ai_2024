{
 "cells": [
  {
   "cell_type": "markdown",
   "metadata": {},
   "source": [
    "# Clase 34: Introducción a Git y GitHub\n",
    "\n",
    "## 1. ¿Qué es Git?\n",
    "Git es un **sistema de control de versiones distribuido** que permite a múltiples personas colaborar en el desarrollo de proyectos. \n",
    "Con Git, puedes **rastrear los cambios** en tu código, revertir versiones anteriores y trabajar en **paralelo con otros** sin sobrescribir el trabajo de los demás.\n",
    "\n",
    "### ¿Por qué usar Git?\n",
    "- Facilita la colaboración entre múltiples desarrolladores.\n",
    "- Permite tener un historial detallado de cambios.\n",
    "- Ayuda a gestionar diferentes versiones de un proyecto.\n",
    "\n",
    "## 2. ¿Qué es GitHub?\n",
    "GitHub es una **plataforma de alojamiento de repositorios Git en la nube**. Proporciona una interfaz web que facilita el trabajo colaborativo en proyectos y añade características adicionales como issues, pull requests, y wikis.\n",
    "\n",
    "### Diferencias entre Git y GitHub:\n",
    "- **Git**: Herramienta de control de versiones (se ejecuta localmente).\n",
    "- **GitHub**: Servicio de alojamiento basado en Git para proyectos remotos.\n",
    "\n",
    "---\n",
    "\n",
    "## 3. Instalación de Git\n",
    "\n",
    "### Windows\n",
    "Descarga Git desde: [https://git-scm.com](https://git-scm.com) y sigue los pasos de instalación.\n",
    "\n",
    "### macOS\n",
    "Abre una terminal y ejecuta:\n",
    "```bash\n",
    "brew install git\n"
   ]
  },
  {
   "cell_type": "markdown",
   "metadata": {},
   "source": [
    "### Linux (Ubuntu)\n",
    "\n",
    "```bash\n",
    "sudo apt update\n",
    "sudo apt install git\n"
   ]
  },
  {
   "cell_type": "markdown",
   "metadata": {},
   "source": [
    "## 4. Configuración Inicial de Git\n",
    "Antes de empezar a usar Git, debes configurarlo con tu nombre y correo electrónico:\n",
    "\n",
    "```bash\n",
    "git config --global user.name \"Tu Nombre\"\n",
    "git config --global user.email \"tuemail@example.com\"\n"
   ]
  },
  {
   "cell_type": "markdown",
   "metadata": {},
   "source": [
    "Para verificar la configuración:\n",
    "\n",
    "```bash\n",
    "git config --list\n",
    "\n",
    "\n"
   ]
  },
  {
   "cell_type": "markdown",
   "metadata": {},
   "source": [
    "## 5. Flujo Básico de Git\n",
    "\n",
    "### 5.1. Crear un repositorio\n",
    "Puedes inicializar un repositorio Git en cualquier carpeta:"
   ]
  },
  {
   "cell_type": "markdown",
   "metadata": {},
   "source": [
    "```bash\n",
    "git init\n"
   ]
  },
  {
   "cell_type": "markdown",
   "metadata": {},
   "source": [
    "## 5.2. Ver el estado del repositorio\n",
    "El comando git status muestra el estado de los archivos en tu repositorio:\n",
    "\n",
    "```bash\n",
    "git status"
   ]
  },
  {
   "cell_type": "markdown",
   "metadata": {},
   "source": [
    "## 5.3. Añadir archivos al área de preparación\n",
    "Antes de confirmar los cambios, debes añadir los archivos al área de preparación (staging area):\n",
    "\n",
    "```bash\n",
    "git add archivo.txt\n"
   ]
  },
  {
   "cell_type": "markdown",
   "metadata": {},
   "source": [
    "Para añadir todos los archivos modificados:\n",
    "```bash\n",
    "git add .\n"
   ]
  },
  {
   "cell_type": "markdown",
   "metadata": {},
   "source": [
    "## 5.4. Confirmar cambios (commit)\n",
    "Una vez los archivos están en el área de preparación, se pueden confirmar con un mensaje que describa los cambios:\n",
    "```bash\n",
    "git commit -m \"Mensaje de commit\"\n"
   ]
  },
  {
   "cell_type": "markdown",
   "metadata": {},
   "source": [
    "## 5.5. Ver el historial de commits\n",
    "Puedes ver todos los commits hechos en el repositorio con:\n",
    "\n",
    "```bash\n",
    "git log\n"
   ]
  }
 ],
 "metadata": {
  "language_info": {
   "name": "python"
  }
 },
 "nbformat": 4,
 "nbformat_minor": 2
}
