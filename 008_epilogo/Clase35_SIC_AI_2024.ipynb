{
  "cells": [
    {
      "cell_type": "markdown",
      "metadata": {
        "id": "view-in-github",
        "colab_type": "text"
      },
      "source": [
        "<a href=\"https://colab.research.google.com/github/davidlealo/sic_ai_2024/blob/main/008_epilogo/Clase35_SIC_AI_2024.ipynb\" target=\"_parent\"><img src=\"https://colab.research.google.com/assets/colab-badge.svg\" alt=\"Open In Colab\"/></a>"
      ]
    },
    {
      "cell_type": "markdown",
      "metadata": {
        "id": "CM6hft-ATxOV"
      },
      "source": [
        "# Clase 35: SIC AI Chapter 2 Quiz\n",
        "\n",
        "# AI Course\n",
        "\n",
        "## Chapter 2. Quiz\n",
        "\n",
        "\n",
        "1. Create examples of zero vector, one vector, square matrix, diagonal matrix, identity matrix, and symmetric matrix one by one, and represent vectors and matrices with NumPy.\n",
        "\n",
        "2. The shares of three companies A, B, and C are 1 million won, 800,000 won, and 500,000 won, respectively. We want to find the amount required to purchase 3, 4, and 5 shares of these stocks, respectively.\n",
        "\n",
        "   1) Express the stocks' price and quantity as p vector and n vector, respectively and coded with NumPy.\n",
        "\n",
        "   2) The amount required to purchase stocks is expressed by multiplication, and the value is calculated by Numpy operation.\n",
        "\n",
        "3. When the following code is executed, all data of the MNIST numeric image is converted into vectors to create a single NumPy matrix X. Use this matrix to solve the following problem.\n",
        "\n",
        "   ```python\n",
        "   from sklearn.datasets import load_digits\n",
        "   X=load_digits().data\n",
        "   ```\n",
        "\n",
        "   1) Find the similarity between the first image and the tenth image using dot product.\n",
        "\n",
        "   2) Find the similarity for a combination of all images using the dot product, how would it be efficient to implement it (hint: using matrices and multiplication of matrices)\n",
        "\n",
        "4. Calculate the following inverse matrix.\n",
        "\n",
        "   $$\\begin{bmatrix}\n",
        "   2 & 0 \\\\\n",
        "   0 & 1\n",
        "   \\end{bmatrix}^{- 1}$$\n",
        "\n",
        "5. The Boston house price problem is a problem of predicting the housing price of each town in Boston, USA using features such as the crime rate and air pollution in the area. It can be imported from the load_boston function. Find the weight vector x when the Boston house price problem is solved with the linear prediction model Ax=$\\widehat{b}$. Matrix and vector data can be obtained as follows.\n",
        "\n",
        "   Here, to simplify the problem, we limited the input data to crime rate (CRIM), air quality (NOX), number of rooms (RM), and age (AGE), and only four data were used.\n",
        "\n",
        "   Run the code below to check whether the magnitude or sign of the weight vector obtained from running the program is consistent the common notion. In order to find it, interpret the printed output for all the factors: CRIM, NOX, RM and AGE.\n",
        "   ※ Write the interpreted output like *\"the house price is in inverse proportion to the crime rate (CRIM).\"*\n",
        "\n",
        "   ```python\n",
        "   import pandas as pd\n",
        "   import numpy as np\n",
        "   \n",
        "   def load_boston():\n",
        "       data_url = \"http://lib.stat.cmu.edu/datasets/boston\"\n",
        "       raw_df = pd.read_csv(data_url, sep=\"\\s+\", skiprows=22, header=None)\n",
        "       data = np.hstack([raw_df.values[::2, :], raw_df.values[1::2, :2]])\n",
        "       target = raw_df.values[1::2, 2]\n",
        "       return {'data': data, 'target': target}\n",
        "   \n",
        "   boston=load_boston()\n",
        "   X=boston['data']\n",
        "   y=boston['target']\n",
        "   A=X[:4, [0,4,5,6]] # 'CRIM','NOX','RM','AGE'\n",
        "   b=y[:4]\n",
        "   ```\n",
        "\n",
        "6. Find the weight vector w when the Boston house price problem is solved with the linear prediction model X_w = y ̂ by the least-squares method. Matrix and vector data can be obtained as follows.\n",
        "\n",
        "   ※ This question is related to Question 5.\n",
        "\n",
        "   ```python\n",
        "   import pandas as pd\n",
        "   import numpy as np\n",
        "   \n",
        "   def load_boston():\n",
        "       data_url = \"http://lib.stat.cmu.edu/datasets/boston\"\n",
        "       raw_df = pd.read_csv(data_url, sep=\"\\s+\", skiprows=22, header=None)\n",
        "       data = np.hstack([raw_df.values[::2, :], raw_df.values[1::2, :2]])\n",
        "       target = raw_df.values[1::2, 2]\n",
        "       return {'data': data, 'target': target}\n",
        "   \n",
        "   boston=load_boston()\n",
        "   X=boston['data']\n",
        "   y=boston['target']\n",
        "   ```\n",
        "\n",
        "   The meaning of each column of matrix X is as follows.\n",
        "\n",
        "   - CRIM: crime rate\n",
        "   - INDUS: Non-retail commercial area ratio\n",
        "   - NOX: Nitric Oxide Concentration\n",
        "   - RM: Number of rooms per house\n",
        "   - LSTAT: Proportion of the lower class of the population\n",
        "   - B: Proportion of black people in the population\n",
        "   - PTRATIO: Student/Teacher Ratio\n",
        "   - ZN: Percentage of residential areas exceeding 25,000 square feet\n",
        "   - CHAS: 1 if located on the Charles River border, 0 otherwise\n",
        "   - AGE: Percentage of houses built before 1940\n",
        "   - RAD: Distance to radial highway\n",
        "   - DIS: Weighted average distance to 5 Boston Job Centers\n",
        "   - TAX: property tax rate\n",
        "\n",
        "   1) Run the program above to check whether the magnitude or sign of the weight vector obtained from running the program is consistent the common notion. In order to find it, interpret the printed output for all the factors suggested above.\n",
        "\n",
        "   ※ Write the interpreted output like *\"the house price is in inverse proportion to the crime rate (CRIM)\".*\n",
        "\n",
        "   2) Explain how the result differs from the value obtained in Question 5.\n",
        "\n",
        "7. The ratings given by three users a, b, and c to 4 movies are expressed as vectors as follows.\n",
        "\n",
        "   a = $\\begin{pmatrix}\n",
        "   4 \\\\\n",
        "   5 \\\\\n",
        "   \\begin{matrix}\n",
        "   2 \\\\\n",
        "   2\n",
        "   \\end{matrix}\n",
        "   \\end{pmatrix},\\ b$ = $\\begin{pmatrix}\n",
        "   4 \\\\\n",
        "   0 \\\\\n",
        "   \\begin{matrix}\n",
        "   2 \\\\\n",
        "   0\n",
        "   \\end{matrix}\n",
        "   \\end{pmatrix}$, c = $\\begin{pmatrix}\n",
        "   2 \\\\\n",
        "   2 \\\\\n",
        "   \\begin{matrix}\n",
        "   0 \\\\\n",
        "   1\n",
        "   \\end{matrix}\n",
        "   \\end{pmatrix}$\n",
        "\n",
        "   1) Find the Euclidean distance between a, b, and c. Which two users are the closest? And which two users are farthest apart?\n",
        "\n",
        "   2) Find the cosine distance between a, b, and c. Which two users are the closest? And which two users are farthest apart?\n",
        "\n",
        "8. Find the eigenvalues of the following matrix using the characteristic equation.\n",
        "\n",
        "   D=$\\begin{bmatrix}\n",
        "   2 & 1 \\\\\n",
        "   1 & 2\n",
        "   \\end{bmatrix}$\n",
        "\n",
        "9. The $\\log 2$ value is about 0.69, and the $\\log 3$ value is about 1.10. At this time, find the $\\log 12$ value.\n",
        "\n",
        "10. Find the inverse function of the logistic function.\n",
        "\n",
        "    y = $\\sigma(x)$ = $\\frac{1}{1 + exp( - x)}$\n",
        "\n",
        "11. Differentiate the following functions. In this equation, k, a, and b are constants, not variables.\n",
        "\n",
        "    A. f(x) = $x^{3} - 1$\n",
        "\n",
        "    B. f(x) = $\\log\\left( x^{2} - 3k \\right)$\n",
        "\n",
        "    C. f(x) =exp(${ax}^{b})$\n",
        "\n",
        "12. Find the first/second partial derivatives $f_{x},\\ f_{y},\\ f_{xx},\\ f_{xy},\\ f_{yx},\\ f_{yy}$ for the following function.\n",
        "\n",
        "    f(x,y) = exp($x^{2} + 2\\ y^{2})$\n",
        "\n",
        "13. Find the derivative that differentiates the following function using SymPy. In this expression, k, a, and b are constants, not variables.\n",
        "\n",
        "    A. f(x) = $x^{3} - 1$\n",
        "\n",
        "    B. f(x) = $\\log\\left( x^{2} - 3k \\right)$\n",
        "\n",
        "    C. f(x) =exp(${ax}^{b})$\n",
        "\n",
        "14. Find the first/second partial derivatives $f_{x},\\ f_{y},\\ f_{xx},\\ f_{xy},\\ f_{yx},\\ f_{yy}$ for the following function using SymPy.\n",
        "\n",
        "    f(x,y) = exp($x^{2} + 2\\ y^{2})$\n"
      ]
    },
    {
      "cell_type": "code",
      "source": [
        "'''\n",
        "Instrucciones de la clase:\n",
        "\n",
        "1) Realizar el ejercicio en conjunto\n",
        "2) Compartir respuestas\n",
        "3) Enviar ejercicio resuelto a david@innovacien.org\n",
        "\n",
        "'''"
      ],
      "metadata": {
        "id": "P6EfXvlFYC3l"
      },
      "execution_count": null,
      "outputs": []
    },
    {
      "cell_type": "markdown",
      "source": [
        "### Pregunta 1\n",
        "Create examples of zero vector, one vector, square matrix, diagonal matrix, identity matrix, and symmetric matrix one by one, and represent vectors and matrices with NumPy.\n"
      ],
      "metadata": {
        "id": "jKykqfidXhWh"
      }
    },
    {
      "cell_type": "code",
      "source": [
        "# Importar numpy\n",
        "import numpy as np"
      ],
      "metadata": {
        "id": "6_s8hqFlXyes"
      },
      "execution_count": 1,
      "outputs": []
    },
    {
      "cell_type": "markdown",
      "source": [
        "- [X] Zero vector\n",
        "- [X] One vector\n",
        "- [X] Square matrix\n",
        "- [X] Diagonal matrix\n",
        "- [X] Identity matrix\n",
        "- [ ] Symmetric matrix"
      ],
      "metadata": {
        "id": "E1U_jQpGYw1L"
      }
    },
    {
      "cell_type": "code",
      "source": [
        "np.zeros(10) # Ejemplo de zero vector"
      ],
      "metadata": {
        "colab": {
          "base_uri": "https://localhost:8080/"
        },
        "id": "l0heCHT6YZYi",
        "outputId": "ef2cd92c-ef9b-4f98-915e-f8f2f21554b7"
      },
      "execution_count": 2,
      "outputs": [
        {
          "output_type": "execute_result",
          "data": {
            "text/plain": [
              "array([0., 0., 0., 0., 0., 0., 0., 0., 0., 0.])"
            ]
          },
          "metadata": {},
          "execution_count": 2
        }
      ]
    },
    {
      "cell_type": "code",
      "source": [
        "np.ones(3) # Ejemplo de one vector"
      ],
      "metadata": {
        "colab": {
          "base_uri": "https://localhost:8080/"
        },
        "id": "O8uyFpK2ZG3m",
        "outputId": "26c3fe7f-9bba-487d-8279-a02824ac0773"
      },
      "execution_count": 4,
      "outputs": [
        {
          "output_type": "execute_result",
          "data": {
            "text/plain": [
              "array([1., 1., 1.])"
            ]
          },
          "metadata": {},
          "execution_count": 4
        }
      ]
    },
    {
      "cell_type": "code",
      "source": [
        "np.zeros((2,2)) # Ejemplo de Square matrix"
      ],
      "metadata": {
        "colab": {
          "base_uri": "https://localhost:8080/"
        },
        "id": "Vjz_OQcpZIuw",
        "outputId": "a71fe1ee-2e8f-4041-92c3-1269f2601e08"
      },
      "execution_count": 6,
      "outputs": [
        {
          "output_type": "execute_result",
          "data": {
            "text/plain": [
              "array([[0., 0.],\n",
              "       [0., 0.]])"
            ]
          },
          "metadata": {},
          "execution_count": 6
        }
      ]
    },
    {
      "cell_type": "code",
      "source": [
        "squareMatrix = np.arange(9).reshape(3,3)\n",
        "squareMatrix # Ejemplo de Square matrix"
      ],
      "metadata": {
        "id": "opCw7_BHd0zp",
        "outputId": "7d77780b-822b-473a-8254-9ba67a725f5c",
        "colab": {
          "base_uri": "https://localhost:8080/"
        }
      },
      "execution_count": 9,
      "outputs": [
        {
          "output_type": "execute_result",
          "data": {
            "text/plain": [
              "array([[0, 1, 2],\n",
              "       [3, 4, 5],\n",
              "       [6, 7, 8]])"
            ]
          },
          "metadata": {},
          "execution_count": 9
        }
      ]
    },
    {
      "cell_type": "code",
      "source": [
        "np.ones((2,1))*np.ones((1,2)) # Ejemplo de Square matrix"
      ],
      "metadata": {
        "id": "yIioxi_HeQQ4",
        "outputId": "c75ce153-01ed-44fd-df5b-86ae47e6c7ad",
        "colab": {
          "base_uri": "https://localhost:8080/"
        }
      },
      "execution_count": 10,
      "outputs": [
        {
          "output_type": "execute_result",
          "data": {
            "text/plain": [
              "array([[1., 1.],\n",
              "       [1., 1.]])"
            ]
          },
          "metadata": {},
          "execution_count": 10
        }
      ]
    },
    {
      "cell_type": "code",
      "source": [
        "# Ejemplo de Diagonal matrix\n",
        "np.diag(np.diag(np.arange(9).reshape((3,3)))) ''' Ejemplo de la documentación\n",
        "https://numpy.org/doc/2.0/reference/generated/numpy.diag.html\n",
        "'''"
      ],
      "metadata": {
        "id": "QMbBMGA0eesk",
        "outputId": "50a2dd82-3c04-45b8-c692-ac08fe2f3a3f",
        "colab": {
          "base_uri": "https://localhost:8080/"
        }
      },
      "execution_count": 15,
      "outputs": [
        {
          "output_type": "execute_result",
          "data": {
            "text/plain": [
              "array([[0, 0, 0],\n",
              "       [0, 4, 0],\n",
              "       [0, 0, 8]])"
            ]
          },
          "metadata": {},
          "execution_count": 15
        }
      ]
    },
    {
      "cell_type": "code",
      "source": [
        "m_2 = 3 * np.eye(3) # Ejemplo de Diagonal matrix\n",
        "m_2"
      ],
      "metadata": {
        "id": "i7E54SrMesAd",
        "outputId": "ab3268ec-df53-46c9-c909-2e44c250af73",
        "colab": {
          "base_uri": "https://localhost:8080/"
        }
      },
      "execution_count": 16,
      "outputs": [
        {
          "output_type": "execute_result",
          "data": {
            "text/plain": [
              "array([[3., 0., 0.],\n",
              "       [0., 3., 0.],\n",
              "       [0., 0., 3.]])"
            ]
          },
          "metadata": {},
          "execution_count": 16
        }
      ]
    },
    {
      "cell_type": "code",
      "source": [
        "np.diag([1,2,3]) # Ejemplo de Diagonal matrix"
      ],
      "metadata": {
        "id": "RRMm6NCPfrz2",
        "outputId": "f58e474c-fa70-4165-8c4d-df07c59dcb39",
        "colab": {
          "base_uri": "https://localhost:8080/"
        }
      },
      "execution_count": 17,
      "outputs": [
        {
          "output_type": "execute_result",
          "data": {
            "text/plain": [
              "array([[1, 0, 0],\n",
              "       [0, 2, 0],\n",
              "       [0, 0, 3]])"
            ]
          },
          "metadata": {},
          "execution_count": 17
        }
      ]
    },
    {
      "cell_type": "code",
      "source": [
        "np.identity(4) # Ejemplo de Identity matrix"
      ],
      "metadata": {
        "id": "YIl7p1QLdIaC",
        "outputId": "760e1a1d-0018-4bd5-8f29-6cba27b2f40f",
        "colab": {
          "base_uri": "https://localhost:8080/"
        }
      },
      "execution_count": 11,
      "outputs": [
        {
          "output_type": "execute_result",
          "data": {
            "text/plain": [
              "array([[1., 0., 0., 0.],\n",
              "       [0., 1., 0., 0.],\n",
              "       [0., 0., 1., 0.],\n",
              "       [0., 0., 0., 1.]])"
            ]
          },
          "metadata": {},
          "execution_count": 11
        }
      ]
    },
    {
      "cell_type": "code",
      "source": [
        "# Ejemplo de Symmetric matrix"
      ],
      "metadata": {
        "id": "7s35M8WQehSj"
      },
      "execution_count": null,
      "outputs": []
    }
  ],
  "metadata": {
    "colab": {
      "provenance": [],
      "include_colab_link": true
    },
    "language_info": {
      "name": "python"
    },
    "kernelspec": {
      "name": "python3",
      "display_name": "Python 3"
    }
  },
  "nbformat": 4,
  "nbformat_minor": 0
}