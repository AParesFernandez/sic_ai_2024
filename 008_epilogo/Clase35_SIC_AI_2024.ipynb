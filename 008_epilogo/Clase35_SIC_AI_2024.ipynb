{
  "cells": [
    {
      "cell_type": "markdown",
      "metadata": {
        "id": "view-in-github",
        "colab_type": "text"
      },
      "source": [
        "<a href=\"https://colab.research.google.com/github/davidlealo/sic_ai_2024/blob/main/008_epilogo/Clase35_SIC_AI_2024.ipynb\" target=\"_parent\"><img src=\"https://colab.research.google.com/assets/colab-badge.svg\" alt=\"Open In Colab\"/></a>"
      ]
    },
    {
      "cell_type": "markdown",
      "metadata": {
        "id": "CM6hft-ATxOV"
      },
      "source": [
        "# Clase 34: Introducción a Git y GitHub\n",
        "\n",
        "## 1. ¿Qué es Git?\n",
        "Git es un **sistema de control de versiones distribuido** que permite a múltiples personas colaborar en el desarrollo de proyectos.\n",
        "Con Git, puedes **rastrear los cambios** en tu código, revertir versiones anteriores y trabajar en **paralelo con otros** sin sobrescribir el trabajo de los demás.\n",
        "\n",
        "### ¿Por qué usar Git?\n",
        "- Facilita la colaboración entre múltiples desarrolladores.\n",
        "- Permite tener un historial detallado de cambios.\n",
        "- Ayuda a gestionar diferentes versiones de un proyecto.\n",
        "\n",
        "## 2. ¿Qué es GitHub?\n",
        "GitHub es una **plataforma de alojamiento de repositorios Git en la nube**. Proporciona una interfaz web que facilita el trabajo colaborativo en proyectos y añade características adicionales como issues, pull requests, y wikis.\n",
        "\n",
        "### Diferencias entre Git y GitHub:\n",
        "- **Git**: Herramienta de control de versiones (se ejecuta localmente).\n",
        "- **GitHub**: Servicio de alojamiento basado en Git para proyectos remotos.\n",
        "\n",
        "---\n",
        "\n",
        "## 3. Instalación de Git\n",
        "\n",
        "### Windows\n",
        "Descarga Git desde: [https://git-scm.com](https://git-scm.com) y sigue los pasos de instalación.\n",
        "\n",
        "### macOS\n",
        "Abre una terminal y ejecuta:\n",
        "```bash\n",
        "brew install git\n"
      ]
    },
    {
      "cell_type": "markdown",
      "metadata": {
        "id": "abFWberMTxOX"
      },
      "source": [
        "### Linux (Ubuntu)\n",
        "\n",
        "```bash\n",
        "sudo apt update\n",
        "sudo apt install git\n"
      ]
    },
    {
      "cell_type": "markdown",
      "metadata": {
        "id": "s-xGbS-aTxOX"
      },
      "source": [
        "## 4. Configuración Inicial de Git\n",
        "Antes de empezar a usar Git, debes configurarlo con tu nombre y correo electrónico:\n",
        "\n",
        "```bash\n",
        "git config --global user.name \"Tu Nombre\"\n",
        "git config --global user.email \"tuemail@example.com\"\n"
      ]
    },
    {
      "cell_type": "markdown",
      "metadata": {
        "id": "gksi-1lQTxOY"
      },
      "source": [
        "Para verificar la configuración:\n",
        "\n",
        "```bash\n",
        "git config --list\n",
        "\n",
        "\n"
      ]
    },
    {
      "cell_type": "markdown",
      "metadata": {
        "id": "3XM9PvnATxOY"
      },
      "source": [
        "## 5. Flujo Básico de Git\n",
        "\n",
        "### 5.1. Crear un repositorio\n",
        "Puedes inicializar un repositorio Git en cualquier carpeta:"
      ]
    },
    {
      "cell_type": "markdown",
      "metadata": {
        "id": "hwIeG_e7TxOa"
      },
      "source": [
        "```bash\n",
        "git init\n"
      ]
    },
    {
      "cell_type": "markdown",
      "metadata": {
        "id": "UjOt0cZ1TxOa"
      },
      "source": [
        "## 5.2. Ver el estado del repositorio\n",
        "El comando git status muestra el estado de los archivos en tu repositorio:\n",
        "\n",
        "```bash\n",
        "git status"
      ]
    },
    {
      "cell_type": "markdown",
      "metadata": {
        "id": "UCh7oKtWTxOb"
      },
      "source": [
        "## 5.3. Añadir archivos al área de preparación\n",
        "Antes de confirmar los cambios, debes añadir los archivos al área de preparación (staging area):\n",
        "\n",
        "```bash\n",
        "git add archivo.txt\n"
      ]
    },
    {
      "cell_type": "markdown",
      "metadata": {
        "id": "KZFUU_n5TxOb"
      },
      "source": [
        "Para añadir todos los archivos modificados:\n",
        "```bash\n",
        "git add .\n"
      ]
    },
    {
      "cell_type": "markdown",
      "metadata": {
        "id": "uCLM1MgqTxOb"
      },
      "source": [
        "## 5.4. Confirmar cambios (commit)\n",
        "Una vez los archivos están en el área de preparación, se pueden confirmar con un mensaje que describa los cambios:\n",
        "```bash\n",
        "git commit -m \"Mensaje de commit\"\n"
      ]
    },
    {
      "cell_type": "markdown",
      "metadata": {
        "id": "kSd_sm6OTxOb"
      },
      "source": [
        "## 5.5. Ver el historial de commits\n",
        "Puedes ver todos los commits hechos en el repositorio con:\n",
        "\n",
        "```bash\n",
        "git log\n"
      ]
    },
    {
      "cell_type": "markdown",
      "metadata": {
        "id": "hgi0Oij1TxOc"
      },
      "source": [
        "## 6. Conectarse a GitHub\n",
        "\n",
        "### 6.1. Crear un repositorio en GitHub\n",
        "1. Ve a [GitHub](https://github.com) y crea una cuenta si aún no tienes una.\n",
        "2. Haz clic en \"New Repository\" y asigna un nombre a tu repositorio.\n",
        "3. Decide si quieres que el repositorio sea público o privado.\n",
        "\n",
        "### 6.2. Enlazar un repositorio local con GitHub\n",
        "Para enlazar tu repositorio local a GitHub, debes añadir la URL remota del repositorio:\n",
        "\n",
        "```bash\n",
        "git remote add origin https://github.com/tuusuario/tu-repo.git\n"
      ]
    },
    {
      "cell_type": "markdown",
      "metadata": {
        "id": "fEa9FVdSTxOc"
      },
      "source": [
        "### 6.3. Subir cambios al repositorio remoto (push)\n",
        "Después de hacer commits localmente, puedes subirlos a GitHub usando:\n",
        "\n",
        "```bash\n",
        "git push origin main\n"
      ]
    },
    {
      "cell_type": "markdown",
      "metadata": {
        "id": "EWt2R6-ATxOc"
      },
      "source": [
        "> Nota: Antes de **Git 2.28**, la rama por defecto era `master`, ahora es `main`.\n",
        "\n",
        "---\n",
        "\n",
        "## 7. Trabajo colaborativo con GitHub\n",
        "\n",
        "### 7.1. Clonar un repositorio\n",
        "Para colaborar en un proyecto existente, primero debes clonar el repositorio:\n",
        "\n",
        "```bash\n",
        "git clone https://github.com/usuario/repositorio.git\n"
      ]
    },
    {
      "cell_type": "markdown",
      "metadata": {
        "id": "EF3WuC4ATxOc"
      },
      "source": [
        "### 7.2. Crear una nueva rama\n",
        "El trabajo en equipo en Git se facilita mediante ramas. Crear una nueva rama es útil para desarrollar nuevas características sin afectar el código principal:\n",
        "\n",
        "```bash\n",
        "git checkout -b nombre-de-la-rama\n"
      ]
    },
    {
      "cell_type": "markdown",
      "metadata": {
        "id": "Ji7WBwVwTxOc"
      },
      "source": [
        "### 7.3. Fusionar ramas (merge)\n",
        "\n",
        "Una vez que los cambios están listos, puedes fusionar tu rama con la rama principal:\n",
        "\n",
        "1. Cambia a la rama principal (main):\n",
        "```bash\n",
        "git checkout main\n"
      ]
    },
    {
      "cell_type": "markdown",
      "metadata": {
        "id": "uauInmsiTxOd"
      },
      "source": [
        "2. Fusiona los cambios:\n",
        "```bash\n",
        "git merge nombre-de-la-rama\n"
      ]
    },
    {
      "cell_type": "markdown",
      "metadata": {
        "id": "nxQRAcUGTxOd"
      },
      "source": [
        "### 7.4. Pull Requests\n",
        "GitHub permite realizar pull requests, que son solicitudes para fusionar cambios en el repositorio principal. Es una excelente forma de que otros revisen tu código antes de fusionarlo.\n"
      ]
    },
    {
      "cell_type": "markdown",
      "metadata": {
        "id": "wNFlA2cvTxOd"
      },
      "source": [
        "---\n",
        "## 8. Comandos Útiles de Git\n",
        "\n",
        "### Deshacer cambios no confirmados\n",
        "```bash\n",
        "git restore archivo.txt\n"
      ]
    },
    {
      "cell_type": "markdown",
      "metadata": {
        "id": "3zM2eqvGTxOd"
      },
      "source": [
        "### Ver diferencias entre archivos\n",
        "```bash\n",
        "git diff\n"
      ]
    },
    {
      "cell_type": "markdown",
      "metadata": {
        "id": "Yj7bt-PGTxOd"
      },
      "source": [
        "### Descargar cambios del repositorio remoto (pull)\n",
        "```bash\n",
        "git pull origin main\n"
      ]
    },
    {
      "cell_type": "markdown",
      "metadata": {
        "id": "AMYtkufKTxOd"
      },
      "source": [
        "---"
      ]
    },
    {
      "cell_type": "markdown",
      "metadata": {
        "id": "lEc-dhjRTxOd"
      },
      "source": [
        "## 9. Buenas prácticas con Git y GitHub\n",
        "\n",
        "- Haz **commits pequeños** y con mensajes claros.\n",
        "- Usa **ramas** para desarrollar nuevas características.\n",
        "- **Revisa los pull requests** antes de fusionar código.\n",
        "- Mantén tu repositorio limpio y actualizado.\n",
        "\n",
        "---\n",
        "\n",
        "## 10. Recursos adicionales\n",
        "\n",
        "- [Documentación oficial de Git](https://git-scm.com/doc)\n",
        "- [Curso interactivo de Git](https://learngitbranching.js.org)\n",
        "- [Documentación de GitHub](https://docs.github.com/en)\n"
      ]
    },
    {
      "cell_type": "code",
      "execution_count": null,
      "metadata": {
        "id": "c7jpuSZIT3VA"
      },
      "outputs": [],
      "source": [
        "# Hicimos demostraciones en:\n",
        "\n",
        "# https://github.com/davidlealo/demostracion\n",
        "\n",
        "\n",
        "# https://github.com/cataevans/demostracion"
      ]
    }
  ],
  "metadata": {
    "colab": {
      "provenance": [],
      "include_colab_link": true
    },
    "language_info": {
      "name": "python"
    }
  },
  "nbformat": 4,
  "nbformat_minor": 0
}