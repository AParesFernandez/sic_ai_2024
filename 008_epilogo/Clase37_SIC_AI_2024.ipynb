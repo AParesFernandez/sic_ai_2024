{
  "cells": [
    {
      "cell_type": "markdown",
      "metadata": {
        "id": "view-in-github",
        "colab_type": "text"
      },
      "source": [
        "<a href=\"https://colab.research.google.com/github/davidlealo/sic_ai_2024/blob/main/008_epilogo/Clase37_SIC_AI_2024.ipynb\" target=\"_parent\"><img src=\"https://colab.research.google.com/assets/colab-badge.svg\" alt=\"Open In Colab\"/></a>"
      ]
    },
    {
      "cell_type": "markdown",
      "metadata": {
        "id": "QznElUGSNsBm"
      },
      "source": [
        "# Clase 37 SIC AI Chapter 2 Quiz\n",
        "\n",
        "# AI Course\n",
        "\n",
        "## Chapter 2. Quiz\n",
        "\n",
        "\n",
        "1. Create examples of zero vector, one vector, square matrix, diagonal matrix, identity matrix, and symmetric matrix one by one, and represent vectors and matrices with NumPy.\n",
        "\n",
        "2. The shares of three companies A, B, and C are 1 million won, 800,000 won, and 500,000 won, respectively. We want to find the amount required to purchase 3, 4, and 5 shares of these stocks, respectively.\n",
        "\n",
        "   1) Express the stocks' price and quantity as p vector and n vector, respectively and coded with NumPy.\n",
        "\n",
        "   2) The amount required to purchase stocks is expressed by multiplication, and the value is calculated by Numpy operation.\n",
        "\n",
        "3. When the following code is executed, all data of the MNIST numeric image is converted into vectors to create a single NumPy matrix X. Use this matrix to solve the following problem.\n",
        "\n",
        "   ```python\n",
        "   from sklearn.datasets import load_digits\n",
        "   X=load_digits().data\n",
        "   ```\n",
        "\n",
        "   1) Find the similarity between the first image and the tenth image using dot product.\n",
        "\n",
        "   2) Find the similarity for a combination of all images using the dot product, how would it be efficient to implement it (hint: using matrices and multiplication of matrices)\n",
        "\n",
        "4. Calculate the following inverse matrix.\n",
        "\n",
        "   $$\\begin{bmatrix}\n",
        "   2 & 0 \\\\\n",
        "   0 & 1\n",
        "   \\end{bmatrix}^{- 1}$$\n",
        "\n",
        "5. The Boston house price problem is a problem of predicting the housing price of each town in Boston, USA using features such as the crime rate and air pollution in the area. It can be imported from the load_boston function. Find the weight vector x when the Boston house price problem is solved with the linear prediction model Ax=$\\widehat{b}$. Matrix and vector data can be obtained as follows.\n",
        "\n",
        "   Here, to simplify the problem, we limited the input data to crime rate (CRIM), air quality (NOX), number of rooms (RM), and age (AGE), and only four data were used.\n",
        "\n",
        "   Run the code below to check whether the magnitude or sign of the weight vector obtained from running the program is consistent the common notion. In order to find it, interpret the printed output for all the factors: CRIM, NOX, RM and AGE.\n",
        "   ※ Write the interpreted output like *\"the house price is in inverse proportion to the crime rate (CRIM).\"*\n",
        "\n",
        "   ```python\n",
        "   import pandas as pd\n",
        "   import numpy as np\n",
        "   \n",
        "   def load_boston():\n",
        "       data_url = \"http://lib.stat.cmu.edu/datasets/boston\"\n",
        "       raw_df = pd.read_csv(data_url, sep=\"\\s+\", skiprows=22, header=None)\n",
        "       data = np.hstack([raw_df.values[::2, :], raw_df.values[1::2, :2]])\n",
        "       target = raw_df.values[1::2, 2]\n",
        "       return {'data': data, 'target': target}\n",
        "   \n",
        "   boston=load_boston()\n",
        "   X=boston['data']\n",
        "   y=boston['target']\n",
        "   A=X[:4, [0,4,5,6]] # 'CRIM','NOX','RM','AGE'\n",
        "   b=y[:4]\n",
        "   ```\n",
        "\n",
        "6. Find the weight vector w when the Boston house price problem is solved with the linear prediction model X_w = y ̂ by the least-squares method. Matrix and vector data can be obtained as follows.\n",
        "\n",
        "   ※ This question is related to Question 5.\n",
        "\n",
        "   ```python\n",
        "   import pandas as pd\n",
        "   import numpy as np\n",
        "   \n",
        "   def load_boston():\n",
        "       data_url = \"http://lib.stat.cmu.edu/datasets/boston\"\n",
        "       raw_df = pd.read_csv(data_url, sep=\"\\s+\", skiprows=22, header=None)\n",
        "       data = np.hstack([raw_df.values[::2, :], raw_df.values[1::2, :2]])\n",
        "       target = raw_df.values[1::2, 2]\n",
        "       return {'data': data, 'target': target}\n",
        "   \n",
        "   boston=load_boston()\n",
        "   X=boston['data']\n",
        "   y=boston['target']\n",
        "   ```\n",
        "\n",
        "   The meaning of each column of matrix X is as follows.\n",
        "\n",
        "   - CRIM: crime rate\n",
        "   - INDUS: Non-retail commercial area ratio\n",
        "   - NOX: Nitric Oxide Concentration\n",
        "   - RM: Number of rooms per house\n",
        "   - LSTAT: Proportion of the lower class of the population\n",
        "   - B: Proportion of black people in the population\n",
        "   - PTRATIO: Student/Teacher Ratio\n",
        "   - ZN: Percentage of residential areas exceeding 25,000 square feet\n",
        "   - CHAS: 1 if located on the Charles River border, 0 otherwise\n",
        "   - AGE: Percentage of houses built before 1940\n",
        "   - RAD: Distance to radial highway\n",
        "   - DIS: Weighted average distance to 5 Boston Job Centers\n",
        "   - TAX: property tax rate\n",
        "\n",
        "   1) Run the program above to check whether the magnitude or sign of the weight vector obtained from running the program is consistent the common notion. In order to find it, interpret the printed output for all the factors suggested above.\n",
        "\n",
        "   ※ Write the interpreted output like *\"the house price is in inverse proportion to the crime rate (CRIM)\".*\n",
        "\n",
        "   2) Explain how the result differs from the value obtained in Question 5.\n",
        "\n",
        "7. The ratings given by three users a, b, and c to 4 movies are expressed as vectors as follows.\n",
        "\n",
        "   a = $\\begin{pmatrix}\n",
        "   4 \\\\\n",
        "   5 \\\\\n",
        "   \\begin{matrix}\n",
        "   2 \\\\\n",
        "   2\n",
        "   \\end{matrix}\n",
        "   \\end{pmatrix},\\ b$ = $\\begin{pmatrix}\n",
        "   4 \\\\\n",
        "   0 \\\\\n",
        "   \\begin{matrix}\n",
        "   2 \\\\\n",
        "   0\n",
        "   \\end{matrix}\n",
        "   \\end{pmatrix}$, c = $\\begin{pmatrix}\n",
        "   2 \\\\\n",
        "   2 \\\\\n",
        "   \\begin{matrix}\n",
        "   0 \\\\\n",
        "   1\n",
        "   \\end{matrix}\n",
        "   \\end{pmatrix}$\n",
        "\n",
        "   1) Find the Euclidean distance between a, b, and c. Which two users are the closest? And which two users are farthest apart?\n",
        "\n",
        "   2) Find the cosine distance between a, b, and c. Which two users are the closest? And which two users are farthest apart?\n",
        "\n",
        "8. Find the eigenvalues of the following matrix using the characteristic equation.\n",
        "\n",
        "   D=$\\begin{bmatrix}\n",
        "   2 & 1 \\\\\n",
        "   1 & 2\n",
        "   \\end{bmatrix}$\n",
        "\n",
        "9. The $\\log 2$ value is about 0.69, and the $\\log 3$ value is about 1.10. At this time, find the $\\log 12$ value.\n",
        "\n",
        "10. Find the inverse function of the logistic function.\n",
        "\n",
        "    y = $\\sigma(x)$ = $\\frac{1}{1 + exp( - x)}$\n",
        "\n",
        "11. Differentiate the following functions. In this equation, k, a, and b are constants, not variables.\n",
        "\n",
        "    A. f(x) = $x^{3} - 1$\n",
        "\n",
        "    B. f(x) = $\\log\\left( x^{2} - 3k \\right)$\n",
        "\n",
        "    C. f(x) =exp(${ax}^{b})$\n",
        "\n",
        "12. Find the first/second partial derivatives $f_{x},\\ f_{y},\\ f_{xx},\\ f_{xy},\\ f_{yx},\\ f_{yy}$ for the following function.\n",
        "\n",
        "    f(x,y) = exp($x^{2} + 2\\ y^{2})$\n",
        "\n",
        "13. Find the derivative that differentiates the following function using SymPy. In this expression, k, a, and b are constants, not variables.\n",
        "\n",
        "    A. f(x) = $x^{3} - 1$\n",
        "\n",
        "    B. f(x) = $\\log\\left( x^{2} - 3k \\right)$\n",
        "\n",
        "    C. f(x) =exp(${ax}^{b})$\n",
        "\n",
        "14. Find the first/second partial derivatives $f_{x},\\ f_{y},\\ f_{xx},\\ f_{xy},\\ f_{yx},\\ f_{yy}$ for the following function using SymPy.\n",
        "\n",
        "    f(x,y) = exp($x^{2} + 2\\ y^{2})$\n"
      ]
    },
    {
      "cell_type": "markdown",
      "source": [
        "### Respuestas\n",
        "\n",
        "4. Calculate the following inverse matrix.\n",
        "\n",
        "   $$\\begin{bmatrix}\n",
        "   2 & 0 \\\\\n",
        "   0 & 1\n",
        "   \\end{bmatrix}^{- 1}$$"
      ],
      "metadata": {
        "id": "aXjspEAEN2mL"
      }
    },
    {
      "cell_type": "code",
      "source": [
        "import numpy as np"
      ],
      "metadata": {
        "id": "dbdUmW6zN5Hu"
      },
      "execution_count": 1,
      "outputs": []
    },
    {
      "cell_type": "code",
      "source": [
        "matriz = np.array([[2, 0],\n",
        "              [0, 1]])"
      ],
      "metadata": {
        "id": "Psf-52T_OUfK"
      },
      "execution_count": 2,
      "outputs": []
    },
    {
      "cell_type": "code",
      "source": [
        "np.linalg.inv(matriz)"
      ],
      "metadata": {
        "colab": {
          "base_uri": "https://localhost:8080/"
        },
        "id": "GER8-jmrOZm5",
        "outputId": "96917465-51b0-44d5-ac02-c4a48959ab32"
      },
      "execution_count": 3,
      "outputs": [
        {
          "output_type": "execute_result",
          "data": {
            "text/plain": [
              "array([[0.5, 0. ],\n",
              "       [0. , 1. ]])"
            ]
          },
          "metadata": {},
          "execution_count": 3
        }
      ]
    },
    {
      "cell_type": "markdown",
      "source": [
        "5. The Boston house price problem is a problem of predicting the housing price of each town in Boston, USA using features such as the crime rate and air pollution in the area. It can be imported from the load_boston function. Find the weight vector x when the Boston house price problem is solved with the linear prediction model Ax=$\\widehat{b}$. Matrix and vector data can be obtained as follows.\n",
        "\n",
        "   Here, to simplify the problem, we limited the input data to crime rate (CRIM), air quality (NOX), number of rooms (RM), and age (AGE), and only four data were used.\n",
        "\n",
        "   Run the code below to check whether the magnitude or sign of the weight vector obtained from running the program is consistent the common notion. In order to find it, interpret the printed output for all the factors: CRIM, NOX, RM and AGE.\n",
        "   ※ Write the interpreted output like *\"the house price is in inverse proportion to the crime rate (CRIM).\"*\n",
        "\n",
        "   ```python\n",
        "   import pandas as pd\n",
        "   import numpy as np\n",
        "   \n",
        "   def load_boston():\n",
        "       data_url = \"http://lib.stat.cmu.edu/datasets/boston\"\n",
        "       raw_df = pd.read_csv(data_url, sep=\"\\s+\", skiprows=22, header=None)\n",
        "       data = np.hstack([raw_df.values[::2, :], raw_df.values[1::2, :2]])\n",
        "       target = raw_df.values[1::2, 2]\n",
        "       return {'data': data, 'target': target}\n",
        "   \n",
        "   boston=load_boston()\n",
        "   X=boston['data']\n",
        "   y=boston['target']\n",
        "   A=X[:4, [0,4,5,6]] # 'CRIM','NOX','RM','AGE'\n",
        "   b=y[:4]\n",
        "   ```"
      ],
      "metadata": {
        "id": "DRjLAb_FOmNk"
      }
    },
    {
      "cell_type": "markdown",
      "source": [
        "#### Traducción de Google\n",
        "\n",
        "El problema del precio de la vivienda en Boston es un problema de predicción del precio de la vivienda en cada ciudad de Boston, EE. UU., utilizando características como la tasa de criminalidad y la contaminación del aire en el área. Se puede importar desde la función load_boston. Encuentre el vector de peso x cuando el problema del precio de la vivienda en Boston se resuelve con el modelo de predicción lineal Ax= 𝑏ˆ . Los datos de matriz y vector se pueden obtener de la siguiente manera.\n",
        "\n",
        "Aquí, para simplificar el problema, limitamos los datos de entrada a la tasa de criminalidad (CRIM), la calidad del aire (NOX), la cantidad de habitaciones (RM) y la edad (AGE), y solo se utilizaron cuatro datos.\n",
        "\n",
        "Ejecute el código a continuación para verificar si la magnitud o el signo del vector de peso obtenido al ejecutar el programa es consistente con la noción común. Para encontrarlo, interprete la salida impresa para todos los factores: CRIM, NOX, RM y AGE. ※ Escriba la salida interpretada como *\"el precio de la vivienda es inversamente proporcional a la tasa de criminalidad (CRIM)\".*"
      ],
      "metadata": {
        "id": "9UJfSSduOsiy"
      }
    },
    {
      "cell_type": "code",
      "source": [
        "import pandas as pd\n",
        "import numpy as np\n",
        "\n",
        "def load_boston():\n",
        "    data_url = \"http://lib.stat.cmu.edu/datasets/boston\"\n",
        "    raw_df = pd.read_csv(data_url, sep=\"\\s+\", skiprows=22, header=None)\n",
        "    data = np.hstack([raw_df.values[::2, :], raw_df.values[1::2, :2]])\n",
        "    target = raw_df.values[1::2, 2]\n",
        "    return {'data': data, 'target': target}\n",
        "\n",
        "boston=load_boston()\n",
        "X=boston['data']\n",
        "y=boston['target']\n",
        "A=X[:4, [0,4,5,6]] # 'CRIM','NOX','RM','AGE'\n",
        "b=y[:4]"
      ],
      "metadata": {
        "id": "a4fCPYzTOnFC"
      },
      "execution_count": 6,
      "outputs": []
    },
    {
      "cell_type": "code",
      "source": [
        "A"
      ],
      "metadata": {
        "colab": {
          "base_uri": "https://localhost:8080/"
        },
        "id": "HrAKIR-eQXvR",
        "outputId": "b8dc97e0-48e8-4416-edea-c91641875f30"
      },
      "execution_count": 7,
      "outputs": [
        {
          "output_type": "execute_result",
          "data": {
            "text/plain": [
              "array([[6.320e-03, 5.380e-01, 6.575e+00, 6.520e+01],\n",
              "       [2.731e-02, 4.690e-01, 6.421e+00, 7.890e+01],\n",
              "       [2.729e-02, 4.690e-01, 7.185e+00, 6.110e+01],\n",
              "       [3.237e-02, 4.580e-01, 6.998e+00, 4.580e+01]])"
            ]
          },
          "metadata": {},
          "execution_count": 7
        }
      ]
    },
    {
      "cell_type": "code",
      "source": [
        "b"
      ],
      "metadata": {
        "colab": {
          "base_uri": "https://localhost:8080/"
        },
        "id": "3ivegL6IQ3ND",
        "outputId": "fa1f8365-892b-469f-9949-d5d6bc2cb221"
      },
      "execution_count": 8,
      "outputs": [
        {
          "output_type": "execute_result",
          "data": {
            "text/plain": [
              "array([24. , 21.6, 34.7, 33.4])"
            ]
          },
          "metadata": {},
          "execution_count": 8
        }
      ]
    }
  ],
  "metadata": {
    "language_info": {
      "name": "python"
    },
    "colab": {
      "provenance": [],
      "include_colab_link": true
    },
    "kernelspec": {
      "name": "python3",
      "display_name": "Python 3"
    }
  },
  "nbformat": 4,
  "nbformat_minor": 0
}