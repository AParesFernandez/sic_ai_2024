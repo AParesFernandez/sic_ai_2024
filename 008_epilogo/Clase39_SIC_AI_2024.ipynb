{
  "cells": [
    {
      "cell_type": "markdown",
      "metadata": {
        "id": "view-in-github",
        "colab_type": "text"
      },
      "source": [
        "<a href=\"https://colab.research.google.com/github/davidlealo/sic_ai_2024/blob/main/008_epilogo/Clase39_SIC_AI_2024.ipynb\" target=\"_parent\"><img src=\"https://colab.research.google.com/assets/colab-badge.svg\" alt=\"Open In Colab\"/></a>"
      ]
    },
    {
      "cell_type": "markdown",
      "metadata": {
        "id": "vhpPgI-MgDDD"
      },
      "source": [
        "# Clase 39\n",
        "\n",
        "\n",
        "Revisando el proyecto de Picaduras.\n",
        "\n",
        "Este es un proyecto que usa Roboflow para entrenar un sistema que pueda procesar imágenes de picaduras y comunicar al cliente el tipo de pícadura correspondiente"
      ]
    },
    {
      "cell_type": "code",
      "source": [
        "!pip install inference_sdk"
      ],
      "metadata": {
        "id": "8IDeLSkdzB0f",
        "outputId": "b25edc51-16de-417d-de3e-fc42a19fcd2f",
        "colab": {
          "base_uri": "https://localhost:8080/"
        }
      },
      "execution_count": 25,
      "outputs": [
        {
          "output_type": "stream",
          "name": "stdout",
          "text": [
            "Requirement already satisfied: inference_sdk in /usr/local/lib/python3.10/dist-packages (0.23.0)\n",
            "Requirement already satisfied: requests>=2.0.0 in /usr/local/lib/python3.10/dist-packages (from inference_sdk) (2.31.0)\n",
            "Requirement already satisfied: dataclasses-json>=0.6.0 in /usr/local/lib/python3.10/dist-packages (from inference_sdk) (0.6.7)\n",
            "Requirement already satisfied: opencv-python<=4.10.0.84,>=4.8.1.78 in /usr/local/lib/python3.10/dist-packages (from inference_sdk) (4.10.0.84)\n",
            "Requirement already satisfied: pillow>=9.0.0 in /usr/local/lib/python3.10/dist-packages (from inference_sdk) (10.4.0)\n",
            "Requirement already satisfied: supervision<1.0.0,>=0.20.0 in /usr/local/lib/python3.10/dist-packages (from inference_sdk) (0.22.0)\n",
            "Requirement already satisfied: numpy<=1.26.4 in /usr/local/lib/python3.10/dist-packages (from inference_sdk) (1.26.4)\n",
            "Requirement already satisfied: aiohttp>=3.9.0 in /usr/local/lib/python3.10/dist-packages (from inference_sdk) (3.10.10)\n",
            "Requirement already satisfied: backoff>=2.2.0 in /usr/local/lib/python3.10/dist-packages (from inference_sdk) (2.2.1)\n",
            "Requirement already satisfied: aioresponses>=0.7.6 in /usr/local/lib/python3.10/dist-packages (from inference_sdk) (0.7.6)\n",
            "Requirement already satisfied: py-cpuinfo>=9.0.0 in /usr/local/lib/python3.10/dist-packages (from inference_sdk) (9.0.0)\n",
            "Requirement already satisfied: aiohappyeyeballs>=2.3.0 in /usr/local/lib/python3.10/dist-packages (from aiohttp>=3.9.0->inference_sdk) (2.4.3)\n",
            "Requirement already satisfied: aiosignal>=1.1.2 in /usr/local/lib/python3.10/dist-packages (from aiohttp>=3.9.0->inference_sdk) (1.3.1)\n",
            "Requirement already satisfied: attrs>=17.3.0 in /usr/local/lib/python3.10/dist-packages (from aiohttp>=3.9.0->inference_sdk) (24.2.0)\n",
            "Requirement already satisfied: frozenlist>=1.1.1 in /usr/local/lib/python3.10/dist-packages (from aiohttp>=3.9.0->inference_sdk) (1.4.1)\n",
            "Requirement already satisfied: multidict<7.0,>=4.5 in /usr/local/lib/python3.10/dist-packages (from aiohttp>=3.9.0->inference_sdk) (6.1.0)\n",
            "Requirement already satisfied: yarl<2.0,>=1.12.0 in /usr/local/lib/python3.10/dist-packages (from aiohttp>=3.9.0->inference_sdk) (1.14.0)\n",
            "Requirement already satisfied: async-timeout<5.0,>=4.0 in /usr/local/lib/python3.10/dist-packages (from aiohttp>=3.9.0->inference_sdk) (4.0.3)\n",
            "Requirement already satisfied: marshmallow<4.0.0,>=3.18.0 in /usr/local/lib/python3.10/dist-packages (from dataclasses-json>=0.6.0->inference_sdk) (3.23.0)\n",
            "Requirement already satisfied: typing-inspect<1,>=0.4.0 in /usr/local/lib/python3.10/dist-packages (from dataclasses-json>=0.6.0->inference_sdk) (0.9.0)\n",
            "Requirement already satisfied: charset-normalizer<4,>=2 in /usr/local/lib/python3.10/dist-packages (from requests>=2.0.0->inference_sdk) (3.4.0)\n",
            "Requirement already satisfied: idna<4,>=2.5 in /usr/local/lib/python3.10/dist-packages (from requests>=2.0.0->inference_sdk) (3.10)\n",
            "Requirement already satisfied: urllib3<3,>=1.21.1 in /usr/local/lib/python3.10/dist-packages (from requests>=2.0.0->inference_sdk) (1.26.20)\n",
            "Requirement already satisfied: certifi>=2017.4.17 in /usr/local/lib/python3.10/dist-packages (from requests>=2.0.0->inference_sdk) (2024.8.30)\n",
            "Requirement already satisfied: defusedxml<0.8.0,>=0.7.1 in /usr/local/lib/python3.10/dist-packages (from supervision<1.0.0,>=0.20.0->inference_sdk) (0.7.1)\n",
            "Requirement already satisfied: matplotlib>=3.6.0 in /usr/local/lib/python3.10/dist-packages (from supervision<1.0.0,>=0.20.0->inference_sdk) (3.7.1)\n",
            "Requirement already satisfied: opencv-python-headless>=4.5.5.64 in /usr/local/lib/python3.10/dist-packages (from supervision<1.0.0,>=0.20.0->inference_sdk) (4.10.0.84)\n",
            "Requirement already satisfied: pyyaml>=5.3 in /usr/local/lib/python3.10/dist-packages (from supervision<1.0.0,>=0.20.0->inference_sdk) (6.0.2)\n",
            "Requirement already satisfied: scipy<2.0.0,>=1.10.0 in /usr/local/lib/python3.10/dist-packages (from supervision<1.0.0,>=0.20.0->inference_sdk) (1.13.1)\n",
            "Requirement already satisfied: packaging>=17.0 in /usr/local/lib/python3.10/dist-packages (from marshmallow<4.0.0,>=3.18.0->dataclasses-json>=0.6.0->inference_sdk) (24.1)\n",
            "Requirement already satisfied: contourpy>=1.0.1 in /usr/local/lib/python3.10/dist-packages (from matplotlib>=3.6.0->supervision<1.0.0,>=0.20.0->inference_sdk) (1.3.0)\n",
            "Requirement already satisfied: cycler>=0.10 in /usr/local/lib/python3.10/dist-packages (from matplotlib>=3.6.0->supervision<1.0.0,>=0.20.0->inference_sdk) (0.12.1)\n",
            "Requirement already satisfied: fonttools>=4.22.0 in /usr/local/lib/python3.10/dist-packages (from matplotlib>=3.6.0->supervision<1.0.0,>=0.20.0->inference_sdk) (4.54.1)\n",
            "Requirement already satisfied: kiwisolver>=1.0.1 in /usr/local/lib/python3.10/dist-packages (from matplotlib>=3.6.0->supervision<1.0.0,>=0.20.0->inference_sdk) (1.4.7)\n",
            "Requirement already satisfied: pyparsing>=2.3.1 in /usr/local/lib/python3.10/dist-packages (from matplotlib>=3.6.0->supervision<1.0.0,>=0.20.0->inference_sdk) (3.1.4)\n",
            "Requirement already satisfied: python-dateutil>=2.7 in /usr/local/lib/python3.10/dist-packages (from matplotlib>=3.6.0->supervision<1.0.0,>=0.20.0->inference_sdk) (2.8.2)\n",
            "Requirement already satisfied: typing-extensions>=4.1.0 in /usr/local/lib/python3.10/dist-packages (from multidict<7.0,>=4.5->aiohttp>=3.9.0->inference_sdk) (4.12.2)\n",
            "Requirement already satisfied: mypy-extensions>=0.3.0 in /usr/local/lib/python3.10/dist-packages (from typing-inspect<1,>=0.4.0->dataclasses-json>=0.6.0->inference_sdk) (1.0.0)\n",
            "Requirement already satisfied: propcache>=0.2.0 in /usr/local/lib/python3.10/dist-packages (from yarl<2.0,>=1.12.0->aiohttp>=3.9.0->inference_sdk) (0.2.0)\n",
            "Requirement already satisfied: six>=1.5 in /usr/local/lib/python3.10/dist-packages (from python-dateutil>=2.7->matplotlib>=3.6.0->supervision<1.0.0,>=0.20.0->inference_sdk) (1.16.0)\n"
          ]
        }
      ]
    },
    {
      "cell_type": "code",
      "source": [
        "from inference_sdk import InferenceHTTPClient\n",
        "\n",
        "client = InferenceHTTPClient(\n",
        "    api_url=\"https://detect.roboflow.com\",\n",
        "    api_key=\"api_key\"\n",
        ")\n",
        "\n",
        "result = client.run_workflow(\n",
        "    workspace_name=\"deteccion-h92uo\",\n",
        "    workflow_id=\"custom-workflow-6iv\",\n",
        "    images={\n",
        "        \"image\": \"image.jpg\"\n",
        "    }\n",
        ")\n"
      ],
      "metadata": {
        "id": "lBxwThiey-XS"
      },
      "execution_count": 15,
      "outputs": []
    },
    {
      "cell_type": "code",
      "source": [
        "result"
      ],
      "metadata": {
        "id": "l_CW4XlazaEc",
        "outputId": "3b9f0949-9a01-417d-80b4-99b523fe70e8",
        "colab": {
          "base_uri": "https://localhost:8080/"
        }
      },
      "execution_count": 16,
      "outputs": [
        {
          "output_type": "execute_result",
          "data": {
            "text/plain": [
              "[{'output': {'inference_id': 'c564bea9-fbee-48ab-84e5-ba5e6e7b46ac',\n",
              "   'predictions': {'image': {'width': 1040, 'height': 520},\n",
              "    'predictions': [{'width': 1040.0,\n",
              "      'height': 520.0,\n",
              "      'x': 520.0,\n",
              "      'y': 260.0,\n",
              "      'confidence': 0.9534838795661926,\n",
              "      'class_id': 6,\n",
              "      'class': 'car_car_accident',\n",
              "      'detection_id': '28d0ea0e-2526-4409-821b-7c706dd1bdd4',\n",
              "      'parent_id': 'image'},\n",
              "     {'width': 95.0,\n",
              "      'height': 80.0,\n",
              "      'x': 992.5,\n",
              "      'y': 182.0,\n",
              "      'confidence': 0.4330303370952606,\n",
              "      'class_id': 4,\n",
              "      'class': 'car',\n",
              "      'detection_id': '8f6bf0ba-f995-4a39-837c-ad7d664967d5',\n",
              "      'parent_id': 'image'},\n",
              "     {'width': 127.0,\n",
              "      'height': 192.0,\n",
              "      'x': 442.5,\n",
              "      'y': 424.0,\n",
              "      'confidence': 0.26204541325569153,\n",
              "      'class_id': 4,\n",
              "      'class': 'car',\n",
              "      'detection_id': '183bdaa8-23e3-43e1-85be-45eef31a9d0d',\n",
              "      'parent_id': 'image'},\n",
              "     {'width': 121.0,\n",
              "      'height': 129.0,\n",
              "      'x': 213.5,\n",
              "      'y': 74.5,\n",
              "      'confidence': 0.21540424227714539,\n",
              "      'class_id': 0,\n",
              "      'class': 'bike',\n",
              "      'detection_id': 'c3a076b2-2c01-4bfd-b040-39b2fd6cec93',\n",
              "      'parent_id': 'image'}]}},\n",
              "  'predictions': {'image': {'width': 1040, 'height': 520},\n",
              "   'predictions': [{'width': 1040.0,\n",
              "     'height': 520.0,\n",
              "     'x': 520.0,\n",
              "     'y': 260.0,\n",
              "     'confidence': 0.9534838795661926,\n",
              "     'class_id': 6,\n",
              "     'class': 'car_car_accident',\n",
              "     'detection_id': '28d0ea0e-2526-4409-821b-7c706dd1bdd4',\n",
              "     'parent_id': 'image'},\n",
              "    {'width': 95.0,\n",
              "     'height': 80.0,\n",
              "     'x': 992.5,\n",
              "     'y': 182.0,\n",
              "     'confidence': 0.4330303370952606,\n",
              "     'class_id': 4,\n",
              "     'class': 'car',\n",
              "     'detection_id': '8f6bf0ba-f995-4a39-837c-ad7d664967d5',\n",
              "     'parent_id': 'image'},\n",
              "    {'width': 127.0,\n",
              "     'height': 192.0,\n",
              "     'x': 442.5,\n",
              "     'y': 424.0,\n",
              "     'confidence': 0.26204541325569153,\n",
              "     'class_id': 4,\n",
              "     'class': 'car',\n",
              "     'detection_id': '183bdaa8-23e3-43e1-85be-45eef31a9d0d',\n",
              "     'parent_id': 'image'},\n",
              "    {'width': 121.0,\n",
              "     'height': 129.0,\n",
              "     'x': 213.5,\n",
              "     'y': 74.5,\n",
              "     'confidence': 0.21540424227714539,\n",
              "     'class_id': 0,\n",
              "     'class': 'bike',\n",
              "     'detection_id': 'c3a076b2-2c01-4bfd-b040-39b2fd6cec93',\n",
              "     'parent_id': 'image'}]}}]"
            ]
          },
          "metadata": {},
          "execution_count": 16
        }
      ]
    },
    {
      "cell_type": "code",
      "source": [
        "# import the inference-sdk\n",
        "from inference_sdk import InferenceHTTPClient\n",
        "\n",
        "# initialize the client\n",
        "CLIENT = InferenceHTTPClient(\n",
        "    api_url=\"https://detect.roboflow.com\",\n",
        "    api_key=\"api_key\"\n",
        ")\n",
        "\n",
        "# infer on a local image\n",
        "result = CLIENT.infer(\"image.jpg\", model_id=\"deteccion_accidentes/2\")\n",
        "\n"
      ],
      "metadata": {
        "id": "UZ_Cox7q4CZ9"
      },
      "execution_count": 26,
      "outputs": []
    },
    {
      "cell_type": "code",
      "source": [
        "result"
      ],
      "metadata": {
        "id": "8U_qOtnT4GPp",
        "outputId": "25975039-4d65-4edb-8a5e-e124292ef6e0",
        "colab": {
          "base_uri": "https://localhost:8080/"
        }
      },
      "execution_count": 27,
      "outputs": [
        {
          "output_type": "execute_result",
          "data": {
            "text/plain": [
              "{'inference_id': 'cc2839b1-deaf-499a-b891-eb45adc2db82',\n",
              " 'time': 0.08852242399962051,\n",
              " 'image': {'width': 1040, 'height': 520},\n",
              " 'predictions': [{'x': 520.0,\n",
              "   'y': 260.0,\n",
              "   'width': 1040.0,\n",
              "   'height': 520.0,\n",
              "   'confidence': 0.9530655145645142,\n",
              "   'class': 'car_car_accident',\n",
              "   'class_id': 6,\n",
              "   'detection_id': 'cfe3e320-d7d7-4823-9255-8bb4cd315128'},\n",
              "  {'x': 992.5,\n",
              "   'y': 181.5,\n",
              "   'width': 95.0,\n",
              "   'height': 81.0,\n",
              "   'confidence': 0.43625617027282715,\n",
              "   'class': 'car',\n",
              "   'class_id': 4,\n",
              "   'detection_id': '5151b6bd-a3e4-40bf-84ba-3625b621aeeb'}]}"
            ]
          },
          "metadata": {},
          "execution_count": 27
        }
      ]
    },
    {
      "cell_type": "code",
      "source": [
        "result['image']"
      ],
      "metadata": {
        "id": "rj6w1lhJ5DGx",
        "outputId": "a01ba9dc-8053-4383-90d3-c04673d7c077",
        "colab": {
          "base_uri": "https://localhost:8080/"
        }
      },
      "execution_count": 31,
      "outputs": [
        {
          "output_type": "execute_result",
          "data": {
            "text/plain": [
              "{'width': 1040, 'height': 520}"
            ]
          },
          "metadata": {},
          "execution_count": 31
        }
      ]
    }
  ],
  "metadata": {
    "language_info": {
      "name": "python"
    },
    "colab": {
      "provenance": [],
      "include_colab_link": true
    },
    "kernelspec": {
      "name": "python3",
      "display_name": "Python 3"
    }
  },
  "nbformat": 4,
  "nbformat_minor": 0
}