{
  "cells": [
    {
      "cell_type": "markdown",
      "metadata": {
        "id": "view-in-github",
        "colab_type": "text"
      },
      "source": [
        "<a href=\"https://colab.research.google.com/github/davidlealo/sic_ai_2024/blob/main/%5Btrabajo-picaduras%5Dclase40_sic_ai_2024.ipynb\" target=\"_parent\"><img src=\"https://colab.research.google.com/assets/colab-badge.svg\" alt=\"Open In Colab\"/></a>"
      ]
    },
    {
      "cell_type": "markdown",
      "metadata": {
        "id": "PcRvTh3QHnIg"
      },
      "source": [
        "# Clase 40: Análisis de projectos"
      ]
    },
    {
      "cell_type": "markdown",
      "source": [
        "\n",
        "### Análisis de clases de datasets de picaduras\n",
        "- Ant 178\n",
        "- Bed bug 28\n",
        "- Chinggers 28\n",
        "- Fleas 273\n",
        "- Goosebumps 140\n",
        "- Moskito 195\n",
        "- None 17\n",
        "- Null 20 (unknown)\n",
        "- Reupload 81\n",
        "- Spider 270\n",
        "- Tick 282\n",
        "\n"
      ],
      "metadata": {
        "id": "Ln5mnoSbIfkr"
      }
    },
    {
      "cell_type": "code",
      "source": [],
      "metadata": {
        "id": "AbsItFQZOz2b"
      },
      "execution_count": null,
      "outputs": []
    }
  ],
  "metadata": {
    "language_info": {
      "name": "python"
    },
    "colab": {
      "provenance": [],
      "include_colab_link": true
    }
  },
  "nbformat": 4,
  "nbformat_minor": 0
}