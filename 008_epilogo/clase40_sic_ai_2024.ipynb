{
  "cells": [
    {
      "cell_type": "markdown",
      "metadata": {
        "colab_type": "text",
        "id": "view-in-github"
      },
      "source": [
        "<a href=\"https://colab.research.google.com/github/davidlealo/sic_ai_2024/blob/main/%5Btrabajo-picaduras%5Dclase40_sic_ai_2024.ipynb\" target=\"_parent\"><img src=\"https://colab.research.google.com/assets/colab-badge.svg\" alt=\"Open In Colab\"/></a>"
      ]
    },
    {
      "cell_type": "markdown",
      "metadata": {
        "id": "PcRvTh3QHnIg"
      },
      "source": [
        "# Clase 40: Análisis de projectos"
      ]
    },
    {
      "cell_type": "markdown",
      "metadata": {
        "id": "Ln5mnoSbIfkr"
      },
      "source": [
        "\n",
        "### Análisis de clases de datasets de picaduras\n",
        "- Ant 178\n",
        "- Bed bug 28\n",
        "- Chinggers 28\n",
        "- Fleas 273\n",
        "- Goosebumps 140\n",
        "- Moskito 195\n",
        "- None 17\n",
        "- Null 20 (unknown)\n",
        "- Reupload 81\n",
        "- Spider 270\n",
        "- Tick 282\n",
        "\n"
      ]
    },
    {
      "cell_type": "code",
      "execution_count": 1,
      "metadata": {
        "id": "AbsItFQZOz2b"
      },
      "outputs": [],
      "source": [
        "# Prueba de cambios "
      ]
    }
  ],
  "metadata": {
    "colab": {
      "include_colab_link": true,
      "provenance": []
    },
    "kernelspec": {
      "display_name": ".venv",
      "language": "python",
      "name": "python3"
    },
    "language_info": {
      "codemirror_mode": {
        "name": "ipython",
        "version": 3
      },
      "file_extension": ".py",
      "mimetype": "text/x-python",
      "name": "python",
      "nbconvert_exporter": "python",
      "pygments_lexer": "ipython3",
      "version": "3.11.4"
    }
  },
  "nbformat": 4,
  "nbformat_minor": 0
}
