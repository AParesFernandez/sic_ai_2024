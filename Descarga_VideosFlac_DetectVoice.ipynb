{
  "cells": [
    {
      "cell_type": "markdown",
      "metadata": {
        "id": "view-in-github",
        "colab_type": "text"
      },
      "source": [
        "<a href=\"https://colab.research.google.com/github/ethan1213/sic_ai_2024/blob/main/Descarga_VideosFlac_DetectVoice.ipynb\" target=\"_parent\"><img src=\"https://colab.research.google.com/assets/colab-badge.svg\" alt=\"Open In Colab\"/></a>"
      ]
    },
    {
      "cell_type": "markdown",
      "source": [
        "Varios cambios en el momento flojo. ahora vamos a hacerlo mas random en los clips y en flac para que se guarde de mejor manera y no pierda calidad de audio."
      ],
      "metadata": {
        "id": "5Y2TEQHqGtLQ"
      }
    },
    {
      "cell_type": "code",
      "source": [
        "# Importamos las librerías necesarias\n",
        "from google.colab import drive\n",
        "from pydub import AudioSegment\n",
        "import os\n",
        "import random\n",
        "import uuid"
      ],
      "metadata": {
        "id": "BHGaFzDTG4zP"
      },
      "execution_count": 8,
      "outputs": []
    },
    {
      "cell_type": "code",
      "source": [
        "# Función para montar Google Drive\n",
        "def montar_drive():\n",
        "    drive.mount('/content/drive')\n",
        "    print(\"Google Drive montado correctamente.\")"
      ],
      "metadata": {
        "id": "oBB5QrnvG9Yz"
      },
      "execution_count": 9,
      "outputs": []
    },
    {
      "cell_type": "code",
      "source": [
        "# Función para descargar el video de YouTube como FLAC\n",
        "def descargar_audio_youtube(url, output_folder):\n",
        "    os.makedirs(output_folder, exist_ok=True)  # Crear carpeta si no existe\n",
        "    print(f\"Descargando audio desde {url}...\")\n",
        "    # Descarga el audio en formato FLAC en la carpeta especificada\n",
        "    !yt-dlp -x --audio-format flac -o \"{output_folder}/%(title)s.%(ext)s\" {url}\n",
        "    print(\"Descarga completa.\")"
      ],
      "metadata": {
        "id": "MrcFk_XcHI3C"
      },
      "execution_count": 10,
      "outputs": []
    },
    {
      "cell_type": "code",
      "source": [
        "# Función para dividir el archivo de audio en clips con duración y nombre aleatorios\n",
        "def dividir_audio_en_clips(audio_file, min_duration_sec, max_duration_sec, output_folder_clips):\n",
        "    # Carga el archivo de audio en formato FLAC\n",
        "    audio = AudioSegment.from_file(audio_file, format=\"flac\")\n",
        "\n",
        "    # Crea la carpeta de clips si no existe\n",
        "    os.makedirs(output_folder_clips, exist_ok=True)\n",
        "\n",
        "    # Inicializamos la posición inicial\n",
        "    start_time = 0\n",
        "\n",
        "    # Divide el archivo en clips de duración aleatoria entre min_duration_sec y max_duration_sec\n",
        "    while start_time < len(audio):\n",
        "        # Genera una duración aleatoria para el clip dentro del rango especificado\n",
        "        clip_duration_ms = random.randint(min_duration_sec * 1000, max_duration_sec * 1000)\n",
        "        end_time = min(start_time + clip_duration_ms, len(audio))  # Evita pasar la duración del audio\n",
        "\n",
        "        # Extrae el clip y le asigna un nombre único aleatorio\n",
        "        clip = audio[start_time:end_time]\n",
        "        clip_name = f\"clip_{uuid.uuid4()}.flac\"  # Nombre aleatorio único\n",
        "        clip.export(os.path.join(output_folder_clips, clip_name), format=\"flac\")\n",
        "        print(f\"Guardado: {clip_name} (Duración: {clip_duration_ms / 1000} segundos)\")\n",
        "\n",
        "        # Avanzamos al siguiente segmento\n",
        "        start_time = end_time\n",
        "\n",
        "    print(f\"Proceso completo. Los clips se guardaron en {output_folder_clips}\")\n"
      ],
      "metadata": {
        "id": "JdI6SQzTHLb7"
      },
      "execution_count": 11,
      "outputs": []
    },
    {
      "cell_type": "code",
      "source": [
        "# Función principal que combina todos los pasos\n",
        "def procesar_video_youtube(url, min_duration_sec, max_duration_sec, folder_descargas, folder_clips):\n",
        "    # Montamos Google Drive\n",
        "    montar_drive()\n",
        "\n",
        "    # Descargamos el video desde YouTube y lo convertimos a FLAC\n",
        "    descargar_audio_youtube(url, folder_descargas)\n",
        "\n",
        "    # Obtener el archivo de audio descargado (último archivo en la carpeta)\n",
        "    audio_files = [f for f in os.listdir(folder_descargas) if f.endswith('.flac')]\n",
        "\n",
        "    if not audio_files:\n",
        "        print(\"No se encontró ningún archivo de audio en la carpeta de descargas.\")\n",
        "        return\n",
        "\n",
        "    audio_file = max([os.path.join(folder_descargas, f) for f in audio_files], key=os.path.getctime)\n",
        "\n",
        "    # Dividimos el audio en clips con duración aleatoria y nombre único\n",
        "    dividir_audio_en_clips(audio_file, min_duration_sec, max_duration_sec, folder_clips)\n"
      ],
      "metadata": {
        "id": "4WKI_jQ1HMEJ"
      },
      "execution_count": 12,
      "outputs": []
    },
    {
      "cell_type": "code",
      "source": [
        "# Configuración de los parámetros y ejecución del flujo completo\n",
        "url_video = \"https://youtu.be/6rq_wS3EFD0?si=xSNXpkTthJHi4bNl\"  # URL del video de YouTube\n",
        "\n",
        "# Rutas en Google Drive\n",
        "carpeta_descargas = \"/content/drive/MyDrive/Proyecto SIC/videos_Audio_Pruebas\"\n",
        "carpeta_clips_IA = \"/content/drive/MyDrive/Proyecto SIC/Voces IA\"\n",
        "carpeta_clips_Real = \"/content/drive/MyDrive/Proyecto SIC/Voces reales\"\n",
        "\n",
        "# Definimos el rango de duración aleatoria para los clips\n",
        "duracion_clip_min = 10  # Duración mínima en segundos\n",
        "duracion_clip_max = 50  # Duración máxima en segundos"
      ],
      "metadata": {
        "id": "MIhGvzuvHQ1J"
      },
      "execution_count": null,
      "outputs": []
    },
    {
      "cell_type": "code",
      "source": [
        "# Ejecutamos el flujo completo en las carpetas de voces IA\n",
        "procesar_video_youtube(url_video, duracion_clip_min, duracion_clip_max, carpeta_descargas, carpeta_clips_IA)"
      ],
      "metadata": {
        "colab": {
          "base_uri": "https://localhost:8080/"
        },
        "id": "eC6-Hg9aHUWk",
        "outputId": "b181cb76-8c36-4938-ece7-796cdba84806"
      },
      "execution_count": null,
      "outputs": [
        {
          "output_type": "stream",
          "name": "stdout",
          "text": [
            "Drive already mounted at /content/drive; to attempt to forcibly remount, call drive.mount(\"/content/drive\", force_remount=True).\n",
            "Google Drive montado correctamente.\n",
            "Descargando audio desde https://youtu.be/6rq_wS3EFD0?si=xSNXpkTthJHi4bNl...\n",
            "[youtube] Extracting URL: https://youtu.be/6rq_wS3EFD0?si=xSNXpkTthJHi4bNl\n",
            "[youtube] 6rq_wS3EFD0: Downloading webpage\n",
            "[youtube] 6rq_wS3EFD0: Downloading ios player API JSON\n",
            "[youtube] 6rq_wS3EFD0: Downloading mweb player API JSON\n",
            "[youtube] 6rq_wS3EFD0: Downloading m3u8 information\n",
            "[info] 6rq_wS3EFD0: Downloading 1 format(s): 251\n",
            "[download] Destination: /content/drive/MyDrive/Proyecto SIC/videos_Audio_Pruebas/Doblajes Inteligencia Artificial Amazon Prime Recopilacion.webm\n",
            "\u001b[K[download] 100% of    2.68MiB in \u001b[1;37m00:00:00\u001b[0m at \u001b[0;32m5.11MiB/s\u001b[0m\n",
            "[ExtractAudio] Destination: /content/drive/MyDrive/Proyecto SIC/videos_Audio_Pruebas/Doblajes Inteligencia Artificial Amazon Prime Recopilacion.flac\n",
            "Deleting original file /content/drive/MyDrive/Proyecto SIC/videos_Audio_Pruebas/Doblajes Inteligencia Artificial Amazon Prime Recopilacion.webm (pass -k to keep)\n",
            "Descarga completa.\n",
            "Guardado: clip_74149555-cd70-4156-9696-f6659cba8a37.flac (Duración: 40.344 segundos)\n",
            "Guardado: clip_633d8ea4-34d3-4465-b481-b31e0f2cb4e0.flac (Duración: 25.078 segundos)\n",
            "Guardado: clip_e0651a68-25d7-43ca-853f-f5cde3edba4b.flac (Duración: 49.075 segundos)\n",
            "Guardado: clip_5f6a8dfb-381d-41a6-b6e6-c8fda919ceb1.flac (Duración: 24.151 segundos)\n",
            "Guardado: clip_700a1be3-8a0c-41fe-b34d-e48a8f56492e.flac (Duración: 11.609 segundos)\n",
            "Guardado: clip_b37e7deb-4b86-4a3a-8ce3-c2b156766387.flac (Duración: 32.753 segundos)\n",
            "Guardado: clip_e1a0ce68-3878-4b1a-a582-24e1370f6750.flac (Duración: 36.506 segundos)\n",
            "Proceso completo. Los clips se guardaron en /content/drive/MyDrive/Proyecto SIC/Voces IA\n"
          ]
        }
      ]
    },
    {
      "cell_type": "code",
      "source": [
        "# Ejecutamos el flujo completo en las carpetas de voces reales\n",
        "procesar_video_youtube(url_video, duracion_clip_min, duracion_clip_max, carpeta_descargas, carpeta_clips_Real)"
      ],
      "metadata": {
        "colab": {
          "base_uri": "https://localhost:8080/"
        },
        "id": "T_w82XtCHYCo",
        "outputId": "e57b5440-be7d-4763-bec5-475e4a584753"
      },
      "execution_count": null,
      "outputs": [
        {
          "output_type": "stream",
          "name": "stdout",
          "text": [
            "Drive already mounted at /content/drive; to attempt to forcibly remount, call drive.mount(\"/content/drive\", force_remount=True).\n",
            "Google Drive montado correctamente.\n",
            "Descargando audio desde https://youtu.be/gr2YhEbzWmc?si=VmDS44V9tO8hxBi1...\n",
            "[youtube] Extracting URL: https://youtu.be/gr2YhEbzWmc?si=VmDS44V9tO8hxBi1\n",
            "[youtube] gr2YhEbzWmc: Downloading webpage\n",
            "[youtube] gr2YhEbzWmc: Downloading ios player API JSON\n",
            "[youtube] gr2YhEbzWmc: Downloading mweb player API JSON\n",
            "[youtube] gr2YhEbzWmc: Downloading m3u8 information\n",
            "[info] gr2YhEbzWmc: Downloading 1 format(s): 251\n",
            "[download] Destination: /content/drive/MyDrive/Proyecto SIC/videos_Audio_Pruebas/Modulo 6 ELIMINADO EMOCIONES NEGATIVAS.webm\n",
            "\u001b[K[download] 100% of   22.87MiB in \u001b[1;37m00:00:00\u001b[0m at \u001b[0;32m38.68MiB/s\u001b[0m\n",
            "[ExtractAudio] Destination: /content/drive/MyDrive/Proyecto SIC/videos_Audio_Pruebas/Modulo 6 ELIMINADO EMOCIONES NEGATIVAS.flac\n",
            "Deleting original file /content/drive/MyDrive/Proyecto SIC/videos_Audio_Pruebas/Modulo 6 ELIMINADO EMOCIONES NEGATIVAS.webm (pass -k to keep)\n",
            "Descarga completa.\n",
            "Guardado: clip_194e8db9-d228-4e6f-9799-96d6f33419af.flac (Duración: 20.978 segundos)\n",
            "Guardado: clip_1922a5e3-9232-4bf9-ac10-4b66b66bb41d.flac (Duración: 15.228 segundos)\n",
            "Guardado: clip_cffb6e95-fc6d-47ef-9e51-4e2d15397274.flac (Duración: 34.616 segundos)\n",
            "Guardado: clip_58a0ce6e-9fd3-436b-9138-0c6d37f7cfb4.flac (Duración: 29.603 segundos)\n",
            "Guardado: clip_163f80dd-894c-4acd-b1b9-bdf7abd65dc4.flac (Duración: 49.606 segundos)\n",
            "Guardado: clip_998b12fc-7da0-4536-9f0a-bb5382109e1f.flac (Duración: 44.293 segundos)\n",
            "Guardado: clip_9217071c-5115-4c45-9918-1eebbb578274.flac (Duración: 28.654 segundos)\n",
            "Guardado: clip_a27f2f1c-6660-4ce1-8630-f36671a5ea46.flac (Duración: 40.29 segundos)\n",
            "Guardado: clip_00d8889c-0089-4178-88de-e5d635354555.flac (Duración: 32.432 segundos)\n",
            "Guardado: clip_acd0bb41-b312-4336-a6fe-d909c3e3d288.flac (Duración: 26.688 segundos)\n",
            "Guardado: clip_9bf4d095-df41-440d-81d4-75433f4386d8.flac (Duración: 44.157 segundos)\n",
            "Guardado: clip_f01cf034-6810-48c1-b845-92fa79028eec.flac (Duración: 19.717 segundos)\n",
            "Guardado: clip_a06807ed-ad98-4b09-966a-207218df73fe.flac (Duración: 40.105 segundos)\n",
            "Guardado: clip_99d80056-5792-416f-b272-be597770f2e5.flac (Duración: 32.65 segundos)\n",
            "Guardado: clip_83865fa7-6ace-4387-99c7-99a11e24f3cf.flac (Duración: 18.988 segundos)\n",
            "Guardado: clip_3fda069f-0375-4c1c-b57c-3dd250c6e51b.flac (Duración: 42.247 segundos)\n",
            "Guardado: clip_601259b4-b0b3-4fe5-a513-ec6ae77c7c7b.flac (Duración: 17.479 segundos)\n",
            "Guardado: clip_cb914558-5b23-4444-beef-7b547a8e3409.flac (Duración: 49.196 segundos)\n",
            "Guardado: clip_6177d1e0-6caa-4bab-84c0-cff276abd5f9.flac (Duración: 31.555 segundos)\n",
            "Guardado: clip_00cf4473-d373-422f-8ee8-3f1557d0097d.flac (Duración: 43.304 segundos)\n",
            "Guardado: clip_79285334-2969-4bd7-a8b7-a9f348f1cc13.flac (Duración: 33.017 segundos)\n",
            "Guardado: clip_f7bfcd19-a689-48fd-a4ff-793b2dde5b1c.flac (Duración: 25.599 segundos)\n",
            "Guardado: clip_82875e27-a42b-4272-a2e0-859dc6dc541e.flac (Duración: 33.608 segundos)\n",
            "Guardado: clip_1ea0437b-0a8c-49a2-a529-1a912899e15e.flac (Duración: 19.974 segundos)\n",
            "Guardado: clip_8b90a1af-1643-45fb-9825-7d6db7f27f0a.flac (Duración: 34.661 segundos)\n",
            "Guardado: clip_08c18e0c-2058-4d0d-9904-3f0f1dfb11c0.flac (Duración: 36.45 segundos)\n",
            "Guardado: clip_f22153fc-139c-4ff5-960e-2ea59c65e25f.flac (Duración: 41.781 segundos)\n",
            "Guardado: clip_c03ed780-5f6c-4636-af65-e30dbd823796.flac (Duración: 14.99 segundos)\n",
            "Guardado: clip_72103017-4b1b-4c87-937e-b046d92b090d.flac (Duración: 48.251 segundos)\n",
            "Guardado: clip_de1e5246-13e3-48bb-bfd9-9745ba61dbfc.flac (Duración: 46.077 segundos)\n",
            "Guardado: clip_e80b6d62-eccf-4280-92a7-b0537f1db6e5.flac (Duración: 13.908 segundos)\n",
            "Guardado: clip_37ef7a10-c660-4890-9369-2c6dc12e0e41.flac (Duración: 35.144 segundos)\n",
            "Guardado: clip_bfe6bde0-276b-40e0-8ab7-5e42654647f8.flac (Duración: 25.35 segundos)\n",
            "Guardado: clip_5720bea6-0f38-4f4a-93f7-9b9357d1fef0.flac (Duración: 28.937 segundos)\n",
            "Guardado: clip_5d0d3bb7-eb3a-4268-a77b-8499376e6f8d.flac (Duración: 21.207 segundos)\n",
            "Guardado: clip_5d750c0f-07f4-4f96-9064-2d3f552a8923.flac (Duración: 14.781 segundos)\n",
            "Guardado: clip_320e40ee-bb36-4b18-9ca7-e108fa68ed12.flac (Duración: 27.318 segundos)\n",
            "Guardado: clip_b9cbf3d4-aed9-4245-bc0e-1cee669f266a.flac (Duración: 36.085 segundos)\n",
            "Guardado: clip_8e62e353-8afd-47e9-8141-f6d6e215103a.flac (Duración: 31.632 segundos)\n",
            "Guardado: clip_6aaf7b87-8e22-4b33-bddf-c05a5572ad94.flac (Duración: 14.198 segundos)\n",
            "Guardado: clip_83ff3525-bfc3-4081-9cb9-d3a6861992c4.flac (Duración: 37.967 segundos)\n",
            "Guardado: clip_0c0e1ebc-ef5f-4084-bc0b-1fdeabecd338.flac (Duración: 45.42 segundos)\n",
            "Guardado: clip_3461f5a4-4105-4d8f-ae78-580dd4ef738f.flac (Duración: 39.173 segundos)\n",
            "Guardado: clip_9aac9cd9-aab7-4fe2-9186-68e0250a03f4.flac (Duración: 41.443 segundos)\n",
            "Guardado: clip_9ef95612-e05d-41d3-b06a-7dda9e33d32e.flac (Duración: 48.604 segundos)\n",
            "Guardado: clip_0a6658a7-c4c2-4c59-b0f8-a7a6f7a34b90.flac (Duración: 49.795 segundos)\n",
            "Guardado: clip_e30f948b-8c4a-40e3-959e-893d2a90546d.flac (Duración: 14.891 segundos)\n",
            "Guardado: clip_cb1bc5bb-6f4d-415a-8716-6cea9b0a4067.flac (Duración: 18.348 segundos)\n",
            "Guardado: clip_ec3b3ac5-ea75-4b3c-9499-17fd7a65aa81.flac (Duración: 23.174 segundos)\n",
            "Guardado: clip_8f3610d7-559b-4295-ae15-a9b065894f44.flac (Duración: 19.964 segundos)\n",
            "Guardado: clip_a4ca0cba-9aec-405b-bf94-bd8e5fd13d15.flac (Duración: 37.312 segundos)\n",
            "Guardado: clip_a352acb9-64a1-4de6-9c02-512f2a357901.flac (Duración: 13.942 segundos)\n",
            "Guardado: clip_7dcbd0d2-70a0-45c7-93eb-900d2fd595bf.flac (Duración: 17.212 segundos)\n",
            "Guardado: clip_11922994-2533-4afa-806f-f9160af9290d.flac (Duración: 21.527 segundos)\n",
            "Guardado: clip_3fe17a24-4a9a-4b86-8075-aa9063216f17.flac (Duración: 40.306 segundos)\n",
            "Guardado: clip_f9dc58da-ef39-403b-81ab-17fa02f81a3a.flac (Duración: 49.306 segundos)\n",
            "Guardado: clip_a12e04f5-3890-4d6a-8480-02400f9b1b29.flac (Duración: 17.238 segundos)\n",
            "Guardado: clip_debc3b0c-a37d-4d7d-a09d-5639d2b41a79.flac (Duración: 47.699 segundos)\n",
            "Proceso completo. Los clips se guardaron en /content/drive/MyDrive/Proyecto SIC/Voces reales\n"
          ]
        }
      ]
    }
  ],
  "metadata": {
    "colab": {
      "provenance": [],
      "include_colab_link": true
    },
    "kernelspec": {
      "display_name": "Python 3",
      "name": "python3"
    },
    "language_info": {
      "name": "python"
    }
  },
  "nbformat": 4,
  "nbformat_minor": 0
}